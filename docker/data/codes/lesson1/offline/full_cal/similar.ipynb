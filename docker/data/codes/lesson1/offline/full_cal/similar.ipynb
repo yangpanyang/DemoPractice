{
 "cells": [
  {
   "cell_type": "code",
   "execution_count": 1,
   "metadata": {},
   "outputs": [],
   "source": [
    "%config ZMQInteractiveShell.ast_node_interactivity='all'"
   ]
  },
  {
   "cell_type": "code",
   "execution_count": 2,
   "metadata": {},
   "outputs": [
    {
     "output_type": "stream",
     "name": "stdout",
     "text": [
      "True (('spark.app.name', 'Word2Vec'), ('spark.executor.memory', '16g'), ('spark.executor.cores', 6), ('spark.executor.instances', 6), ('hive.metastore.uris', 'thrift://172.18.0.2:9083'))\n"
     ]
    }
   ],
   "source": [
    "import os\n",
    "import sys\n",
    "# 如果当前代码文件运行测试需要加入修改路径，避免出现后导包问题\n",
    "BASE_DIR = \"/opt/codes/lesson1\"\n",
    "BASE_DIR = os.path.dirname(os.path.dirname(os.getcwd()))\n",
    "sys.path.insert(0, os.path.join(BASE_DIR))\n",
    "\n",
    "PYSPARK_PYTHON = \"/usr/bin/python3.6\"\n",
    "# 当存在多个版本时，不指定很可能会导致出错\n",
    "os.environ[\"PYSPARK_PYTHON\"] = PYSPARK_PYTHON\n",
    "os.environ[\"PYSPARK_DRIVER_PYTHON\"] = PYSPARK_PYTHON\n",
    "os.environ[\"JAVA_HOME\"] = '/usr/lib/jvm/java-8-openjdk-amd64'\n",
    "\n",
    "from offline import SparkSessionBase\n",
    "from setting.default import CHANNEL_INFO\n",
    "from pyspark.ml.feature import Word2Vec\n",
    "\n",
    "class TrainWord2VecModel(SparkSessionBase):\n",
    "\n",
    "    SPARK_APP_NAME = \"Word2Vec\"\n",
    "    SPARK_URL = \"yarn\"\n",
    "    \n",
    "    ENABLE_HIVE_SUPPORT = True\n",
    "\n",
    "    def __init__(self):\n",
    "        self.spark = self._create_spark_session()\n",
    "\n",
    "w2v = TrainWord2VecModel()"
   ]
  },
  {
   "cell_type": "code",
   "execution_count": 3,
   "metadata": {},
   "outputs": [
    {
     "output_type": "execute_result",
     "data": {
      "text/plain": [
       "DataFrame[]"
      ]
     },
     "metadata": {},
     "execution_count": 3
    },
    {
     "output_type": "execute_result",
     "data": {
      "text/plain": [
       "1"
      ]
     },
     "metadata": {},
     "execution_count": 3
    },
    {
     "output_type": "stream",
     "name": "stdout",
     "text": [
      "+----------+----------+------------+--------------------------+----------------------------+----------------------------+\n|article_id|channel_id|channel_name|                     title|                     content|                    sentence|\n+----------+----------+------------+--------------------------+----------------------------+----------------------------+\n|        18|        17|        前端|从零开始搭建webpack+rea...|<h2>环境主要依赖版本</h2>...|前端,从零开始搭建webpack+...|\n+----------+----------+------------+--------------------------+----------------------------+----------------------------+\n\n"
     ]
    },
    {
     "output_type": "execute_result",
     "data": {
      "text/plain": [
       "Row(article_id=18, channel_id=17, channel_name='前端', title='从零开始搭建webpack+react开发环境原荐', content='<h2>环境主要依赖版本</h2><ul><li><a href=\"mailto:webpack@4.8.1\">webpack@4.8.1</a></li><li><a href=\"mailto:webpack-cli@2.1.3\">webpack-cli@2.1.3</a></li><li><a href=\"mailto:webpack-dev-server@3.1.4\">webpack-dev-server@3.1.4</a></li><li><a href=\"mailto:react@16.3.2\">react@16.3.2</a></li><li><a href=\"mailto:babel-core@6.26.3\">babel-core@6.26.3</a></li><li><a href=\"mailto:babel-preset-env@1.6.1\">babel-preset-env@1.6.1</a></li><li><a href=\"mailto:bable-preset-react@6.24.1\">bable-preset-react@6.24.1</a></li></ul><h2>webpack安装及配置</h2><h3>1. 起步</h3><p>新建项目目录，初始化npm，新建开发源目录</p><pre><code>mkdir webpack-react &amp;&amp; cd webpack-reactnpm init -ymkdir src</code></pre><h3>2.webpack-cli</h3><blockquote><p>webpack从4.x版本开始，需要同时安装webpack，webpack-cli(此工具用于在命令行中运行webpack)。</p></blockquote><pre><code>npm install webpack webpack-cli --save-dev</code></pre><h3>3.wepback配置文件</h3><p>在项目根目录新建webpack.config.js文件，此文件为webpack运行核心文件。</p><h4>webpack.config.js 基本配置</h4><pre><code>// webpack.config.jsconst path = require(\\'path\\');module.exports = {    entry: \\'./src/index.js\\',                           // 入口文件    output: {                                             // webpack打包后出口文件        filename: \\'app.js\\',                             // 打包后js文件名称        path: path.resolve(__dirname, \\'dist\\')    // 打包后自动输出目录    }}</code></pre><p>package.json 文件 scripts配置</p><pre><code>\"scripts\": {    \"build\": \"webpack\"}</code></pre><p>此时在命令行运行npm run build，就能执行webpack了，webpack会自动去找项目根目录里的webpack.config.js文件，执行打包。</p><pre><code>npm run build// webpack打包后的项目├── dist│\\xa0\\xa0 └── app.js             // 打包后的app.js├── package.json├── src│\\xa0\\xa0 └── index.js           // 源目录入口文件└── webpack.config.js</code></pre><h4>webpack.config.js module相关配置</h4><p>webpack 视所有文件都为模块，图片，css文件，字体等静态资源都会打包进js文件，所以会需要用到loader文件，更多Loaders可以查询<a href=\"href=&quot;https://www.webpackjs.com/loaders/&quot;\">网址</a>，接下来我们安装一些必要的Loader文件。</p><pre><code>npm install style-loader css-loader url-loader --save-dev</code></pre><p>webpack.config.js加入module模块</p><pre><code>module.exports = {\\tentry: \\'./src/index.js\\',\\toutput: {\\t\\tfilename: \\'app.js\\',\\t\\tpath: path.resolve(__dirname, \\'dist\\')\\t},\\tmodule: {\\t\\trules: [\\t\\t\\t{\\t\\t\\t\\ttest: /\\\\.css$/,\\t\\t\\t\\tuse: [\\'style-loader\\', \\'css-loader\\']\\t\\t\\t},\\t\\t\\t{\\t\\t\\t\\ttest: /\\\\.(png|svg|jpg|gif)$/,\\t\\t\\t\\tuse: [\\'url-loader\\']\\t\\t\\t},\\t\\t\\t{\\t\\t\\t\\ttest: /\\\\.(woff|woff2|eot|ttf|otf)$/,\\t\\t\\t\\tuse: [\\'url-loader\\']\\t\\t\\t}\\t\\t]\\t}}</code></pre><p>引入loader后，就可以在你的src/index.js文件import你想引入的css文件或者其他静态资源。</p><pre><code>cd src &amp;&amp; touch main.css</code></pre><p>src/index.js 文件引入css</p><pre><code>import \"./main.css\";</code></pre><h4>webpack.config.js plugins配置</h4><p>主要的js文件和静态文件都能成功打包成一个js文件后，我们需要把这个js文件放到html文件里，webpack插件***html-webpack-plugin***就是干这个事儿的，它能自动生成一个html文件并把我们打包好的js文件放入html。</p><pre><code>npm install html-webpack-plugin --save-dev</code></pre><p>webpack.config.js 配置plugins</p><pre><code>const path = require(\\'path\\');const HtmlWebpackPlugin = require(\\'html-webpack-plugin\\'); // 引入插件module.exports = {\\tentry: \\'./src/index.js\\',\\toutput: {\\t\\tfilename: \\'app.js\\',\\t\\tpath: path.resolve(__dirname, \\'dist\\')\\t},\\tmodule: {\\t\\trules: [\\t\\t\\t{\\t\\t\\t\\ttest: /\\\\.css$/,\\t\\t\\t\\tuse: [\\'style-loader\\', \\'css-loader\\']\\t\\t\\t},\\t\\t\\t{\\t\\t\\t\\ttest: /\\\\.(png|svg|jpg|gif)$/,\\t\\t\\t\\tuse: [\\'url-loader\\']\\t\\t\\t},\\t\\t\\t{\\t\\t\\t\\ttest: /\\\\.(woff|woff2|eot|ttf|otf)$/,\\t\\t\\t\\tuse: [\\'url-loader\\']\\t\\t\\t}\\t\\t]\\t},\\tplugins: [\\t\\tnew HtmlWebpackPlugin({title: \\'production\\'})\\t\\t// 配置plugin\\t]};</code></pre><p>执行npm run build后，我们可以看到dist目录多出一个index.html文件。</p><pre><code>&lt;!DOCTYPE html&gt;&lt;html&gt;  &lt;head&gt;    &lt;meta charset=\"UTF-8\"&gt;    &lt;title&gt;name&lt;/title&gt;  &lt;/head&gt;  &lt;body&gt; // 打包后的app.js已经被自动插入了html文件  &lt;script type=\"text/javascript\" src=\"app.js\"&gt;&lt;/script&gt;&lt;/body&gt;&lt;/html&gt;</code></pre><p>到这里，webpack最简单最基本的需求已经配置完毕。此时项目结构为：</p><pre><code>├── dist                        // 生产目录│\\xa0\\xa0 ├── app.js│\\xa0\\xa0 └── index.html├── package.json├── src                        // 源目录│\\xa0\\xa0 ├── index.js│\\xa0\\xa0 └── main.css└── webpack.config.js</code></pre><h2>React 的webpack配置</h2><h4>安装react</h4><pre><code>npm install react react-dom --save</code></pre><h4>安装react，wepback转换依赖</h4><p>React组件由JSX组成，浏览器无法识别JSX，需要babel进行转换。</p><ul><li>babel-croe 为babel核心文件</li><li>babel-preset-env 将ES6转义成ES5</li><li>babel-preset-react 将JSX转义成js</li><li>babel-loader webpack的babe转换</li></ul><pre><code>npm install babel-core babel-preset-env babel-preset-react babel-loader --save-dev</code></pre><h4>.babelrc配置文件</h4><p>在项目根目录下新建.babelrc文件，此文件为bable核心配置，babel会自动在项目根目录下识别。</p><pre><code>// .babelrc{\\t\"presets\": [\"env\", \"react\"]}</code></pre><h4>webpack babel-loader 配置</h4><pre><code>// 在webpack.config.js 的modules.rules中加入此配置{\\ttest: /\\\\.(js|jsx)$/,\\texclude: /node_modules/,\\tuse: {\\t\\tloader: \\'babel-loader\\'\\t}}\\t\\t\\t\\t    </code></pre><h4>html-webpack-plugin 模板配置</h4><p>我们知道react需要获取页面一个根元素，然后render才会生效，我们可以新建一个html文件，让html-webpack-plugin插件基于这个文件来进项打包。</p><p>所以我们在根目录下新建一个html文件，以此文件作模板。</p><pre><code>// index.html&lt;!DOCTYPE html&gt;&lt;html lang=\"en\"&gt;&lt;head&gt;\\t&lt;meta charset=\"UTF-8\"&gt;\\t&lt;title&gt;Document&lt;/title&gt;&lt;/head&gt;&lt;body&gt;        // react需要的渲染根元素\\t&lt;div id=\"root\"&gt;&lt;/div&gt;&lt;/body&gt;&lt;/html&gt;</code></pre><p>此时webpack.config.js配置:</p><pre><code>const path = require(\\'path\\');const HtmlWebpackPlugin = require(\\'html-webpack-plugin\\');module.exports = {\\tentry: \\'./src/index.js\\',\\toutput: {\\t\\tfilename: \\'app.js\\',\\t\\tpath: path.resolve(__dirname, \\'dist\\')\\t},\\tmodule: {\\t\\trules: [\\t\\t\\t{\\t\\t\\t\\ttest: /\\\\.(js|jsx)$/,\\t\\t\\t\\texclude: /node_modules/,\\t\\t\\t\\tuse: {\\t\\t\\t\\t\\tloader: \\'babel-loader\\'\\t\\t\\t\\t}\\t\\t\\t},\\t\\t\\t{\\t\\t\\t\\ttest: /\\\\.css$/,\\t\\t\\t\\tuse: [\\'style-loader\\', \\'css-loader\\']\\t\\t\\t},\\t\\t\\t{\\t\\t\\t\\ttest: /\\\\.(png|svg|jpg|gif)$/,\\t\\t\\t\\tuse: [\\'url-loader\\']\\t\\t\\t},\\t\\t\\t{\\t\\t\\t\\ttest: /\\\\.(woff|woff2|eot|ttf|otf)$/,\\t\\t\\t\\tuse: [\\'url-loader\\']\\t\\t\\t}\\t\\t]\\t},\\tplugins: [\\t\\tnew HtmlWebpackPlugin({\\t\\t\\ttitle: \\'production\\',\\t\\t\\ttemplate: \\'./index.html\\'    // 模板文件位置\\t\\t})\\t\\t\\t]};</code></pre><h4>书写React，运行webpack</h4><pre><code>// src/index.jsimport React from \\'react\\';import ReactDom from \\'react-dom\\';import \\'./main.css\\'ReactDom.render(\\t&lt;h1&gt;hello world&lt;/h1&gt;,\\tdocument.getElementById(\\'root\\'));</code></pre><p>运行npm run build，生成dist目录，打开dist目录中的index.html文件，可以发现浏览器已正常渲染\"hello world\"。</p><h2>dev环境热更新配置</h2><p>react的wepack完成以后，是不是发现每修改一次代码，想看到效果，得重新打包一次才行。webpack-dev-server配置可以帮助我们实现热更新，在开发环境解放我们的生产力。</p><h4>安装webpack-dev-server</h4><pre><code>npm install webpack-dev-server  --save-dev</code></pre><h4>webpack.config.js 配置</h4><pre><code>const path = require(\\'path\\');const HtmlWebpackPlugin = require(\\'html-webpack-plugin\\');const webpack = require(\\'webpack\\');module.exports = {\\tentry: \\'./src/index.js\\',\\toutput: {\\t\\tfilename: \\'app.js\\',\\t\\tpath: path.resolve(__dirname, \\'dist\\')\\t},\\tmodule: {\\t\\trules: [\\t\\t\\t{\\t\\t\\t\\ttest: /\\\\.(js|jsx)$/,\\t\\t\\t\\texclude: /node_modules/,\\t\\t\\t\\tuse: {\\t\\t\\t\\t\\tloader: \\'babel-loader\\'\\t\\t\\t\\t}\\t\\t\\t},\\t\\t\\t{\\t\\t\\t\\ttest: /\\\\.css$/,\\t\\t\\t\\tuse: [\\'style-loader\\', \\'css-loader\\']\\t\\t\\t},\\t\\t\\t{\\t\\t\\t\\ttest: /\\\\.(png|svg|jpg|gif)$/,\\t\\t\\t\\tuse: [\\'url-loader\\']\\t\\t\\t},\\t\\t\\t{\\t\\t\\t\\ttest: /\\\\.(woff|woff2|eot|ttf|otf)$/,\\t\\t\\t\\tuse: [\\'url-loader\\']\\t\\t\\t}\\t\\t]\\t},\\tplugins: [\\t\\tnew HtmlWebpackPlugin({\\t\\t\\ttitle: \\'production\\',\\t\\t\\ttemplate: \\'./index.html\\'    \\t\\t}),\\t\\t// hot 检测文件改动替换plugin\\t\\tnew webpack.NamedModulesPlugin(),      \\t\\tnew webpack.HotModuleReplacementPlugin()\\t\\t\\t],       // webpack-dev-server 配置\\tdevServer: {\\t\\tcontentBase: \\'./dist\\',\\t\\thot: true\\t},};</code></pre><h4>运行webpack-dev-server</h4><p>在 package.json 文件 加入 scripts 配置：</p><pre><code>\"scripts\": {  \"build\": \"webpack\",  \"dev\": \"webpack-dev-server --open --mode development\"  // webpack-dev-server},</code></pre><p>命令行运行 npm run dev</p><p>可以在浏览器中输入localhost:8080 内容即为dist目录下的index.html内容。修改src/index.js中的内容或者依赖，即实时在浏览器热更新看到。</p><p>至此，react的webpack的基础开发环境已全部配置完毕。</p>', sentence='前端,从零开始搭建webpack+react开发环境原荐,<h2>环境主要依赖版本</h2><ul><li><a href=\"mailto:webpack@4.8.1\">webpack@4.8.1</a></li><li><a href=\"mailto:webpack-cli@2.1.3\">webpack-cli@2.1.3</a></li><li><a href=\"mailto:webpack-dev-server@3.1.4\">webpack-dev-server@3.1.4</a></li><li><a href=\"mailto:react@16.3.2\">react@16.3.2</a></li><li><a href=\"mailto:babel-core@6.26.3\">babel-core@6.26.3</a></li><li><a href=\"mailto:babel-preset-env@1.6.1\">babel-preset-env@1.6.1</a></li><li><a href=\"mailto:bable-preset-react@6.24.1\">bable-preset-react@6.24.1</a></li></ul><h2>webpack安装及配置</h2><h3>1. 起步</h3><p>新建项目目录，初始化npm，新建开发源目录</p><pre><code>mkdir webpack-react &amp;&amp; cd webpack-reactnpm init -ymkdir src</code></pre><h3>2.webpack-cli</h3><blockquote><p>webpack从4.x版本开始，需要同时安装webpack，webpack-cli(此工具用于在命令行中运行webpack)。</p></blockquote><pre><code>npm install webpack webpack-cli --save-dev</code></pre><h3>3.wepback配置文件</h3><p>在项目根目录新建webpack.config.js文件，此文件为webpack运行核心文件。</p><h4>webpack.config.js 基本配置</h4><pre><code>// webpack.config.jsconst path = require(\\'path\\');module.exports = {    entry: \\'./src/index.js\\',                           // 入口文件    output: {                                             // webpack打包后出口文件        filename: \\'app.js\\',                             // 打包后js文件名称        path: path.resolve(__dirname, \\'dist\\')    // 打包后自动输出目录    }}</code></pre><p>package.json 文件 scripts配置</p><pre><code>\"scripts\": {    \"build\": \"webpack\"}</code></pre><p>此时在命令行运行npm run build，就能执行webpack了，webpack会自动去找项目根目录里的webpack.config.js文件，执行打包。</p><pre><code>npm run build// webpack打包后的项目├── dist│\\xa0\\xa0 └── app.js             // 打包后的app.js├── package.json├── src│\\xa0\\xa0 └── index.js           // 源目录入口文件└── webpack.config.js</code></pre><h4>webpack.config.js module相关配置</h4><p>webpack 视所有文件都为模块，图片，css文件，字体等静态资源都会打包进js文件，所以会需要用到loader文件，更多Loaders可以查询<a href=\"href=&quot;https://www.webpackjs.com/loaders/&quot;\">网址</a>，接下来我们安装一些必要的Loader文件。</p><pre><code>npm install style-loader css-loader url-loader --save-dev</code></pre><p>webpack.config.js加入module模块</p><pre><code>module.exports = {\\tentry: \\'./src/index.js\\',\\toutput: {\\t\\tfilename: \\'app.js\\',\\t\\tpath: path.resolve(__dirname, \\'dist\\')\\t},\\tmodule: {\\t\\trules: [\\t\\t\\t{\\t\\t\\t\\ttest: /\\\\.css$/,\\t\\t\\t\\tuse: [\\'style-loader\\', \\'css-loader\\']\\t\\t\\t},\\t\\t\\t{\\t\\t\\t\\ttest: /\\\\.(png|svg|jpg|gif)$/,\\t\\t\\t\\tuse: [\\'url-loader\\']\\t\\t\\t},\\t\\t\\t{\\t\\t\\t\\ttest: /\\\\.(woff|woff2|eot|ttf|otf)$/,\\t\\t\\t\\tuse: [\\'url-loader\\']\\t\\t\\t}\\t\\t]\\t}}</code></pre><p>引入loader后，就可以在你的src/index.js文件import你想引入的css文件或者其他静态资源。</p><pre><code>cd src &amp;&amp; touch main.css</code></pre><p>src/index.js 文件引入css</p><pre><code>import \"./main.css\";</code></pre><h4>webpack.config.js plugins配置</h4><p>主要的js文件和静态文件都能成功打包成一个js文件后，我们需要把这个js文件放到html文件里，webpack插件***html-webpack-plugin***就是干这个事儿的，它能自动生成一个html文件并把我们打包好的js文件放入html。</p><pre><code>npm install html-webpack-plugin --save-dev</code></pre><p>webpack.config.js 配置plugins</p><pre><code>const path = require(\\'path\\');const HtmlWebpackPlugin = require(\\'html-webpack-plugin\\'); // 引入插件module.exports = {\\tentry: \\'./src/index.js\\',\\toutput: {\\t\\tfilename: \\'app.js\\',\\t\\tpath: path.resolve(__dirname, \\'dist\\')\\t},\\tmodule: {\\t\\trules: [\\t\\t\\t{\\t\\t\\t\\ttest: /\\\\.css$/,\\t\\t\\t\\tuse: [\\'style-loader\\', \\'css-loader\\']\\t\\t\\t},\\t\\t\\t{\\t\\t\\t\\ttest: /\\\\.(png|svg|jpg|gif)$/,\\t\\t\\t\\tuse: [\\'url-loader\\']\\t\\t\\t},\\t\\t\\t{\\t\\t\\t\\ttest: /\\\\.(woff|woff2|eot|ttf|otf)$/,\\t\\t\\t\\tuse: [\\'url-loader\\']\\t\\t\\t}\\t\\t]\\t},\\tplugins: [\\t\\tnew HtmlWebpackPlugin({title: \\'production\\'})\\t\\t// 配置plugin\\t]};</code></pre><p>执行npm run build后，我们可以看到dist目录多出一个index.html文件。</p><pre><code>&lt;!DOCTYPE html&gt;&lt;html&gt;  &lt;head&gt;    &lt;meta charset=\"UTF-8\"&gt;    &lt;title&gt;name&lt;/title&gt;  &lt;/head&gt;  &lt;body&gt; // 打包后的app.js已经被自动插入了html文件  &lt;script type=\"text/javascript\" src=\"app.js\"&gt;&lt;/script&gt;&lt;/body&gt;&lt;/html&gt;</code></pre><p>到这里，webpack最简单最基本的需求已经配置完毕。此时项目结构为：</p><pre><code>├── dist                        // 生产目录│\\xa0\\xa0 ├── app.js│\\xa0\\xa0 └── index.html├── package.json├── src                        // 源目录│\\xa0\\xa0 ├── index.js│\\xa0\\xa0 └── main.css└── webpack.config.js</code></pre><h2>React 的webpack配置</h2><h4>安装react</h4><pre><code>npm install react react-dom --save</code></pre><h4>安装react，wepback转换依赖</h4><p>React组件由JSX组成，浏览器无法识别JSX，需要babel进行转换。</p><ul><li>babel-croe 为babel核心文件</li><li>babel-preset-env 将ES6转义成ES5</li><li>babel-preset-react 将JSX转义成js</li><li>babel-loader webpack的babe转换</li></ul><pre><code>npm install babel-core babel-preset-env babel-preset-react babel-loader --save-dev</code></pre><h4>.babelrc配置文件</h4><p>在项目根目录下新建.babelrc文件，此文件为bable核心配置，babel会自动在项目根目录下识别。</p><pre><code>// .babelrc{\\t\"presets\": [\"env\", \"react\"]}</code></pre><h4>webpack babel-loader 配置</h4><pre><code>// 在webpack.config.js 的modules.rules中加入此配置{\\ttest: /\\\\.(js|jsx)$/,\\texclude: /node_modules/,\\tuse: {\\t\\tloader: \\'babel-loader\\'\\t}}\\t\\t\\t\\t    </code></pre><h4>html-webpack-plugin 模板配置</h4><p>我们知道react需要获取页面一个根元素，然后render才会生效，我们可以新建一个html文件，让html-webpack-plugin插件基于这个文件来进项打包。</p><p>所以我们在根目录下新建一个html文件，以此文件作模板。</p><pre><code>// index.html&lt;!DOCTYPE html&gt;&lt;html lang=\"en\"&gt;&lt;head&gt;\\t&lt;meta charset=\"UTF-8\"&gt;\\t&lt;title&gt;Document&lt;/title&gt;&lt;/head&gt;&lt;body&gt;        // react需要的渲染根元素\\t&lt;div id=\"root\"&gt;&lt;/div&gt;&lt;/body&gt;&lt;/html&gt;</code></pre><p>此时webpack.config.js配置:</p><pre><code>const path = require(\\'path\\');const HtmlWebpackPlugin = require(\\'html-webpack-plugin\\');module.exports = {\\tentry: \\'./src/index.js\\',\\toutput: {\\t\\tfilename: \\'app.js\\',\\t\\tpath: path.resolve(__dirname, \\'dist\\')\\t},\\tmodule: {\\t\\trules: [\\t\\t\\t{\\t\\t\\t\\ttest: /\\\\.(js|jsx)$/,\\t\\t\\t\\texclude: /node_modules/,\\t\\t\\t\\tuse: {\\t\\t\\t\\t\\tloader: \\'babel-loader\\'\\t\\t\\t\\t}\\t\\t\\t},\\t\\t\\t{\\t\\t\\t\\ttest: /\\\\.css$/,\\t\\t\\t\\tuse: [\\'style-loader\\', \\'css-loader\\']\\t\\t\\t},\\t\\t\\t{\\t\\t\\t\\ttest: /\\\\.(png|svg|jpg|gif)$/,\\t\\t\\t\\tuse: [\\'url-loader\\']\\t\\t\\t},\\t\\t\\t{\\t\\t\\t\\ttest: /\\\\.(woff|woff2|eot|ttf|otf)$/,\\t\\t\\t\\tuse: [\\'url-loader\\']\\t\\t\\t}\\t\\t]\\t},\\tplugins: [\\t\\tnew HtmlWebpackPlugin({\\t\\t\\ttitle: \\'production\\',\\t\\t\\ttemplate: \\'./index.html\\'    // 模板文件位置\\t\\t})\\t\\t\\t]};</code></pre><h4>书写React，运行webpack</h4><pre><code>// src/index.jsimport React from \\'react\\';import ReactDom from \\'react-dom\\';import \\'./main.css\\'ReactDom.render(\\t&lt;h1&gt;hello world&lt;/h1&gt;,\\tdocument.getElementById(\\'root\\'));</code></pre><p>运行npm run build，生成dist目录，打开dist目录中的index.html文件，可以发现浏览器已正常渲染\"hello world\"。</p><h2>dev环境热更新配置</h2><p>react的wepack完成以后，是不是发现每修改一次代码，想看到效果，得重新打包一次才行。webpack-dev-server配置可以帮助我们实现热更新，在开发环境解放我们的生产力。</p><h4>安装webpack-dev-server</h4><pre><code>npm install webpack-dev-server  --save-dev</code></pre><h4>webpack.config.js 配置</h4><pre><code>const path = require(\\'path\\');const HtmlWebpackPlugin = require(\\'html-webpack-plugin\\');const webpack = require(\\'webpack\\');module.exports = {\\tentry: \\'./src/index.js\\',\\toutput: {\\t\\tfilename: \\'app.js\\',\\t\\tpath: path.resolve(__dirname, \\'dist\\')\\t},\\tmodule: {\\t\\trules: [\\t\\t\\t{\\t\\t\\t\\ttest: /\\\\.(js|jsx)$/,\\t\\t\\t\\texclude: /node_modules/,\\t\\t\\t\\tuse: {\\t\\t\\t\\t\\tloader: \\'babel-loader\\'\\t\\t\\t\\t}\\t\\t\\t},\\t\\t\\t{\\t\\t\\t\\ttest: /\\\\.css$/,\\t\\t\\t\\tuse: [\\'style-loader\\', \\'css-loader\\']\\t\\t\\t},\\t\\t\\t{\\t\\t\\t\\ttest: /\\\\.(png|svg|jpg|gif)$/,\\t\\t\\t\\tuse: [\\'url-loader\\']\\t\\t\\t},\\t\\t\\t{\\t\\t\\t\\ttest: /\\\\.(woff|woff2|eot|ttf|otf)$/,\\t\\t\\t\\tuse: [\\'url-loader\\']\\t\\t\\t}\\t\\t]\\t},\\tplugins: [\\t\\tnew HtmlWebpackPlugin({\\t\\t\\ttitle: \\'production\\',\\t\\t\\ttemplate: \\'./index.html\\'    \\t\\t}),\\t\\t// hot 检测文件改动替换plugin\\t\\tnew webpack.NamedModulesPlugin(),      \\t\\tnew webpack.HotModuleReplacementPlugin()\\t\\t\\t],       // webpack-dev-server 配置\\tdevServer: {\\t\\tcontentBase: \\'./dist\\',\\t\\thot: true\\t},};</code></pre><h4>运行webpack-dev-server</h4><p>在 package.json 文件 加入 scripts 配置：</p><pre><code>\"scripts\": {  \"build\": \"webpack\",  \"dev\": \"webpack-dev-server --open --mode development\"  // webpack-dev-server},</code></pre><p>命令行运行 npm run dev</p><p>可以在浏览器中输入localhost:8080 内容即为dist目录下的index.html内容。修改src/index.js中的内容或者依赖，即实时在浏览器热更新看到。</p><p>至此，react的webpack的基础开发环境已全部配置完毕。</p>')"
      ]
     },
     "metadata": {},
     "execution_count": 3
    }
   ],
   "source": [
    "# 训练一个频道的模型\n",
    "w2v.spark.sql(\"use article\")\n",
    "\n",
    "article_data = w2v.spark.sql(\"select * from article_data where article_id=18\")\n",
    "\n",
    "article_data.count()\n",
    "article_data.show()\n",
    "article_data.head()"
   ]
  },
  {
   "cell_type": "code",
   "execution_count": 4,
   "metadata": {},
   "outputs": [],
   "source": [
    "# 文章数据进行分词处理,得到分词结果\n",
    "# 分词\n",
    "def segmentation(partition):\n",
    "    import os\n",
    "    import re\n",
    "\n",
    "    import jieba\n",
    "    import jieba.analyse\n",
    "    import jieba.posseg as pseg\n",
    "    import codecs\n",
    "\n",
    "    abspath = \"/opt/words\"\n",
    "\n",
    "    # 结巴加载用户词典\n",
    "    userDict_path = os.path.join(abspath, \"ITKeywords.txt\")\n",
    "    jieba.load_userdict(userDict_path)\n",
    "\n",
    "    # 停用词文本\n",
    "    stopwords_path = os.path.join(abspath, \"stopwords.txt\")\n",
    "\n",
    "    def get_stopwords_list():\n",
    "        \"\"\"返回stopwords列表\"\"\"\n",
    "        stopwords_list = [i.strip()\n",
    "                          for i in codecs.open(stopwords_path, encoding='utf-8').readlines()]\n",
    "        return stopwords_list\n",
    "\n",
    "    # 所有的停用词列表\n",
    "    stopwords_list = get_stopwords_list()\n",
    "\n",
    "    # 分词\n",
    "    def cut_sentence(sentence):\n",
    "        \"\"\"对切割之后的词语进行过滤，去除停用词，保留名词，英文和自定义词库中的词，长度大于2的词\"\"\"\n",
    "        # print(sentence,\"*\"*100)\n",
    "        # eg:[pair('今天', 't'), pair('有', 'd'), pair('雾', 'n'), pair('霾', 'g')]\n",
    "        seg_list = pseg.lcut(sentence)\n",
    "        seg_list = [i for i in seg_list if i.flag not in stopwords_list]\n",
    "        filtered_words_list = []\n",
    "        for seg in seg_list:\n",
    "            # print(seg)\n",
    "            if len(seg.word) <= 1:\n",
    "                continue\n",
    "            elif seg.flag == \"eng\":\n",
    "                if len(seg.word) <= 2:\n",
    "                    continue\n",
    "                else:\n",
    "                    filtered_words_list.append(seg.word)\n",
    "            elif seg.flag.startswith(\"n\"):\n",
    "                filtered_words_list.append(seg.word)\n",
    "            elif seg.flag in [\"x\", \"eng\"]:  # 是自定一个词语或者是英文单词\n",
    "                filtered_words_list.append(seg.word)\n",
    "        return filtered_words_list\n",
    "\n",
    "    for row in partition:\n",
    "        sentence = re.sub(\"<.*?>\", \"\", row.sentence)    # 替换掉标签数据\n",
    "        words = cut_sentence(sentence)\n",
    "        yield row.article_id, row.channel_id, words"
   ]
  },
  {
   "cell_type": "code",
   "execution_count": 5,
   "metadata": {},
   "outputs": [],
   "source": [
    "words_df = article_data.rdd.mapPartitions(segmentation).toDF(['article_id', 'channel_id', 'words'])"
   ]
  },
  {
   "cell_type": "code",
   "execution_count": 5,
   "metadata": {},
   "outputs": [
    {
     "output_type": "stream",
     "name": "stdout",
     "text": [
      "+----------+----------+--------------------+\n|article_id|channel_id|               words|\n+----------+----------+--------------------+\n|        18|        17|[web, pa, react, ...|\n+----------+----------+--------------------+\n\n"
     ]
    }
   ],
   "source": [
    "words_df.show()"
   ]
  },
  {
   "cell_type": "code",
   "execution_count": 6,
   "metadata": {},
   "outputs": [],
   "source": [
    "# 直接调用word2vec训练\n",
    "w2v_model = Word2Vec(vectorSize=100, inputCol='words', outputCol='model', minCount=3)"
   ]
  },
  {
   "cell_type": "code",
   "execution_count": 7,
   "metadata": {},
   "outputs": [],
   "source": [
    "model = w2v_model.fit(words_df)\n",
    "model.write().overwrite().save(\"hdfs://hadoop-master:9000/headlines/models/word2vec_model/channel_18_python.word2vec\")"
   ]
  },
  {
   "cell_type": "code",
   "execution_count": 8,
   "metadata": {},
   "outputs": [],
   "source": [
    "# 1、加载某个频道模型，得到每个词的向量\n",
    "from pyspark.ml.feature import Word2VecModel\n",
    "wv = Word2VecModel.load(\"hdfs://hadoop-master:9000/headlines/models/word2vec_model/channel_18_python.word2vec\")\n",
    "vectors = wv.getVectors()\n"
   ]
  },
  {
   "cell_type": "code",
   "execution_count": 10,
   "metadata": {},
   "outputs": [
    {
     "output_type": "stream",
     "name": "stdout",
     "text": [
      "+----------+--------------------+\n|      word|              vector|\n+----------+--------------------+\n|    plugin|[0.00120834761764...|\n|    preset|[-6.0988147743046...|\n|        __|[-0.0020910326857...|\n|      test|[-6.8908928369637...|\n|production|[-0.0033000609837...|\n|      body|[-0.0029396014288...|\n|       jpg|[0.00549136288464...|\n|       svg|[-0.0011241460451...|\n|   require|[0.00287217041477...|\n|       png|[0.00199300050735...|\n|   plugins|[0.00186492933426...|\n|       ttf|[-0.0022360032889...|\n|  开发环境|[0.00267201638780...|\n|    server|[5.27077063452452...|\n|   babelrc|[-0.0016424764180...|\n|       css|[0.00480731157585...|\n|       jsx|[0.00467150565236...|\n|   dirname|[0.00223056948743...|\n|       mod|[-0.0014713848941...|\n|    根目录|[-0.0028706465382...|\n+----------+--------------------+\nonly showing top 20 rows\n\n"
     ]
    }
   ],
   "source": [
    "vectors.show()"
   ]
  },
  {
   "cell_type": "code",
   "execution_count": 12,
   "metadata": {},
   "outputs": [
    {
     "output_type": "stream",
     "name": "stdout",
     "text": [
      "+----------+----------+----------+-------------------+\n|article_id|channel_id|   keyword|             weight|\n+----------+----------+----------+-------------------+\n|     13098|        18|       pre| 0.6040228544713039|\n|     13098|        18|        __| 2.5402128657950813|\n|     13098|        18|      定义|0.15578462141575192|\n|     13098|        18|       def| 0.5063617263587876|\n|     13098|        18|     slots|0.08082260936617185|\n|     13098|        18|     class|0.28893470393859555|\n|     13098|        18|     style| 2.4777946385233336|\n|     13098|        18|      属性|0.23653656504345583|\n|     13098|        18|       div| 0.3434956778611915|\n|     13098|        18|      code| 0.9531732426224286|\n|     13098|        18|       str|0.36000343733081475|\n|     13098|        18|        pa| 0.6652394505803828|\n|     13098|        18|      repr|0.14990545346405398|\n|     13098|        18|  getPrice| 0.5033878080446283|\n|     13098|        18|     color| 1.1338340968062202|\n|     13098|        18|        &#| 0.4911361140479453|\n|     13248|        18|      code|   2.98824120733947|\n|     13248|        18|background| 0.7143576874104294|\n|     13248|        18|    strong| 2.3666134246251644|\n|     13248|        18|     numpy|  2.118714927909699|\n+----------+----------+----------+-------------------+\nonly showing top 20 rows\n\n"
     ]
    }
   ],
   "source": [
    "\n",
    "#2、获取频道的文章画像，得到文章画像的关键词(接着之前增量更新的文章article_profile)\n",
    "# 获取这些文章20个关键词名称，对应名称找到词向量\n",
    "article_profile = w2v.spark.sql(\"select * from article_profile where channel_id=18\")\n",
    "\n",
    "#3、计算得到文章每个词的向量\n",
    "article_profile.registerTempTable('profile')\n",
    "keyword_weight = w2v.spark.sql(\"select article_id, channel_id, kw as keyword, weight from profile LATERAL VIEW explode(keyword) AS kw, weight\")\n",
    "keyword_weight.show()\n",
    "\n",
    "\n",
    "#4、计算得到文章的平均词向量即文章的向量"
   ]
  },
  {
   "cell_type": "code",
   "execution_count": 13,
   "metadata": {},
   "outputs": [
    {
     "output_type": "stream",
     "name": "stdout",
     "text": [
      "+----------+----------+----------------------+----------------------------+\n|article_id|channel_id|               keyword|                      topics|\n+----------+----------+----------------------+----------------------------+\n|     13098|        18|  [pre -> 0.6040228...|        [def, False, Pers...|\n|     13248|        18|  [code -> 2.988241...|      [实例, import, prin...|\n|     13401|        18|  [block -> 0.11219...|      [type, update, 个数...|\n|     13723|        18|  [pre -> 2.1094908...|    [地址, 对象, float, i...|\n|     14719|        18|  [pre -> 0.4902203...|        [ul, Thread, True...|\n|     14846|        18|  [__ -> 2.54684769...|    [ul, 内存, 列表, Pyth...|\n|     15173|        18|[版本 -> 0.57014787...|[加密, 基础, 实例, 笔记, ...|\n|     15194|        18|  [img -> 0.1262819...|        [type, group, hre...|\n|     15237|        18|  [pre -> 0.5349349...|        [__, click, eleme...|\n|     15322|        18|  [pre -> 0.5762606...|        [import, plt, pri...|\n+----------+----------+----------------------+----------------------------+\nonly showing top 10 rows\n\n"
     ]
    }
   ],
   "source": [
    "article_profile.show(10)"
   ]
  },
  {
   "cell_type": "code",
   "execution_count": 14,
   "metadata": {},
   "outputs": [
    {
     "output_type": "stream",
     "name": "stdout",
     "text": [
      "+----------+----------+-------+-------------------+------+--------------------+\n|article_id|channel_id|keyword|             weight|  word|              vector|\n+----------+----------+-------+-------------------+------+--------------------+\n|     13098|        18|     __| 2.5402128657950813|    __|[-0.0020910326857...|\n|     13098|        18|  style| 2.4777946385233336| style|[0.00234883488155...|\n|     13098|        18|     pa| 0.6652394505803828|    pa|[0.00481989281252...|\n|     13401|        18|  style| 1.5892130542268426| style|[0.00234883488155...|\n|     13401|        18|     pa| 0.6652394505803828|    pa|[0.00481989281252...|\n|     13401|        18|     ul|0.08197664260942536|    ul|[0.00289023527875...|\n|     13723|        18|  style|  2.478027227367427| style|[0.00234883488155...|\n|     13723|        18|     pa| 0.6158105474133994|    pa|[0.00481989281252...|\n|     14719|        18|     __| 1.5781501213234967|    __|[-0.0020910326857...|\n|     14719|        18| import| 0.9111244865449656|import|[3.56452248524874...|\n|     14719|        18|     ul| 0.6207674936394023|    ul|[0.00289023527875...|\n|     14846|        18|     __|  2.546847699550615|    __|[-0.0020910326857...|\n|     14846|        18|  style| 1.1935785051308008| style|[0.00234883488155...|\n|     14846|        18|     pa|0.40488430225162547|    pa|[0.00481989281252...|\n|     14846|        18|     ul|0.19325954873380455|    ul|[0.00289023527875...|\n|     15173|        18|    tml| 1.5827666778522365|   tml|[8.10574914794415...|\n|     15173|        18|     ul| 0.2514953827676279|    ul|[0.00289023527875...|\n|     15173|        18|     .h| 0.5214126290274099|    .h|[0.00141184136737...|\n|     15194|        18|  style|  2.681931662780285| style|[0.00234883488155...|\n|     15194|        18|     pa| 0.6303358586256029|    pa|[0.00481989281252...|\n+----------+----------+-------+-------------------+------+--------------------+\nonly showing top 20 rows\n\n"
     ]
    }
   ],
   "source": [
    "# 合并文章关键词与词向量\n",
    "_keywords_vector = keyword_weight.join(vectors, vectors.word==keyword_weight.keyword, 'inner')\n",
    "_keywords_vector.show()"
   ]
  },
  {
   "cell_type": "code",
   "execution_count": 15,
   "metadata": {},
   "outputs": [
    {
     "output_type": "stream",
     "name": "stdout",
     "text": [
      "+----------+----------+-------+--------------------+\n|article_id|channel_id|keyword|     weightingVector|\n+----------+----------+-------+--------------------+\n|     13098|        18|     __|[-0.0053116681310...|\n|     13098|        18|  style|[0.00581993047630...|\n|     13098|        18|     pa|[0.00320638284645...|\n|     13401|        18|  style|[0.00373279905599...|\n|     13401|        18|     pa|[0.00320638284645...|\n|     13401|        18|     ul|[2.36931784503686...|\n|     13723|        18|  style|[0.00582047678909...|\n|     13723|        18|     pa|[0.00296814083135...|\n|     14719|        18|     __|[-0.0032999634866...|\n|     14719|        18| import|[3.24772371915024...|\n|     14719|        18|     ul|[0.00179416411002...|\n|     14846|        18|     __|[-0.0053255417852...|\n|     14846|        18|  style|[0.00280351882673...|\n|     14846|        18|     pa|[0.00195149893832...|\n|     14846|        18|     ul|[5.58565565706795...|\n|     15173|        18|    tml|[0.00128295096503...|\n|     15173|        18|     ul|[7.26880827719097...|\n|     15173|        18|     .h|[7.36151919130764...|\n|     15194|        18|  style|[0.00629941463949...|\n|     15194|        18|     pa|[0.00303815127446...|\n+----------+----------+-------+--------------------+\nonly showing top 20 rows\n\n"
     ]
    }
   ],
   "source": [
    "def compute_vector(row):\n",
    "    return row.article_id, row.channel_id, row.keyword, row.weight * row.vector\n",
    "articleKeywordVectors = _keywords_vector.rdd.map(compute_vector).toDF([\"article_id\", \"channel_id\", \"keyword\", \"weightingVector\"])\n",
    "\n",
    "articleKeywordVectors.show()"
   ]
  },
  {
   "cell_type": "code",
   "execution_count": 16,
   "metadata": {},
   "outputs": [],
   "source": [
    "# 4、计算得到文章的平均词向量即文章的向量\n",
    "articleKeywordVectors.registerTempTable('temptable')\n",
    "articleKeywordVectors = w2v.spark.sql(\"select article_id, min(channel_id) channel_id, collect_set(weightingVector) vectors from temptable group by article_id\")\n",
    "\n",
    "\n"
   ]
  },
  {
   "cell_type": "code",
   "execution_count": 17,
   "metadata": {},
   "outputs": [
    {
     "output_type": "stream",
     "name": "stdout",
     "text": [
      "+----------+----------+--------------------+\n|article_id|channel_id|             vectors|\n+----------+----------+--------------------+\n|     13098|        18|[[0.0032063828464...|\n|     13401|        18|[[0.0032063828464...|\n|     13723|        18|[[0.0058204767890...|\n|     14719|        18|[[3.2477237191502...|\n|     14846|        18|[[0.0019514989383...|\n|     15173|        18|[[7.3615191913076...|\n|     15194|        18|[[0.0030381512744...|\n|     15237|        18|[[-6.892385388656...|\n|     15322|        18|[[0.0026939431307...|\n|     15432|        18|[[-0.001506927280...|\n|     15437|        18|[[-4.136856502859...|\n|     15846|        18|[[-0.001451481229...|\n|     17499|        18|[[4.0504865963298...|\n|     17703|        18|[[0.0038379888374...|\n|     17971|        18|[[0.0032063828464...|\n|     17979|        18|[[0.0018701040759...|\n|     18147|        18|[[0.0012066764930...|\n|     18196|        18|[[-0.001228314627...|\n|     18730|        18|[[0.0032063828464...|\n|     19141|        18|[[0.0028165226975...|\n+----------+----------+--------------------+\nonly showing top 20 rows\n\n"
     ]
    }
   ],
   "source": [
    "articleKeywordVectors.show()"
   ]
  },
  {
   "cell_type": "code",
   "execution_count": 18,
   "metadata": {},
   "outputs": [],
   "source": [
    "# 求平均值\n",
    "def compute_avg_vectors(row):\n",
    "    x = 0\n",
    "    for i in row.vectors:\n",
    "        x += i\n",
    "    \n",
    "    # 求平均值\n",
    "    return row.article_id, row.channel_id, x / len(row.vectors)\n",
    "\n",
    "article_vector = articleKeywordVectors.rdd.map(compute_avg_vectors).toDF(['article_id', 'channel_id', 'vector'])"
   ]
  },
  {
   "cell_type": "code",
   "execution_count": 19,
   "metadata": {},
   "outputs": [
    {
     "output_type": "stream",
     "name": "stdout",
     "text": [
      "+----------+----------+--------------------+\n|article_id|channel_id|              vector|\n+----------+----------+--------------------+\n|     13098|        18|[0.00123821506390...|\n|     13401|        18|[0.00239203789565...|\n|     13723|        18|[0.00439430881022...|\n|     14719|        18|[-3.9367566823718...|\n|     14846|        18|[-2.9896136321805...|\n|     15173|        18|[9.15327903963126...|\n|     15194|        18|[0.00466878295697...|\n|     15237|        18|[-6.8923853886567...|\n|     15322|        18|[9.19274869505007...|\n|     15432|        18|[-0.0024344387790...|\n|     15437|        18|[-4.1368565028592...|\n|     15846|        18|[0.00251779999388...|\n|     17499|        18|[8.22500038168793...|\n|     17703|        18|[0.00383798883747...|\n|     17971|        18|[0.00320638284645...|\n|     17979|        18|[0.00143617684985...|\n|     18147|        18|[0.00120667649304...|\n|     18196|        18|[-0.0012283146279...|\n|     18730|        18|[0.00320638284645...|\n|     19141|        18|[0.00186513745236...|\n+----------+----------+--------------------+\nonly showing top 20 rows\n\n"
     ]
    }
   ],
   "source": [
    "article_vector.show()"
   ]
  },
  {
   "cell_type": "code",
   "execution_count": 27,
   "metadata": {},
   "outputs": [
    {
     "output_type": "stream",
     "name": "stdout",
     "text": [
      "+----------+----------+--------------------+\n|article_id|channel_id|              vector|\n+----------+----------+--------------------+\n|     13098|        18|[0.00123821506390...|\n|     13401|        18|[0.00239203789565...|\n|     13723|        18|[0.00439430881022...|\n|     14719|        18|[-3.9367566823718...|\n|     14846|        18|[-2.9896136321805...|\n|     15173|        18|[9.15327903963126...|\n|     15194|        18|[0.00466878295697...|\n|     15237|        18|[-6.8923853886567...|\n|     15322|        18|[9.19274869505007...|\n|     15432|        18|[-0.0024344387790...|\n|     15437|        18|[-4.1368565028592...|\n|     15846|        18|[0.00251779999388...|\n|     17499|        18|[8.22500038168793...|\n|     17703|        18|[0.00383798883747...|\n|     17971|        18|[0.00320638284645...|\n|     17979|        18|[0.00143617684985...|\n|     18147|        18|[0.00120667649304...|\n|     18196|        18|[-0.0012283146279...|\n|     18730|        18|[0.00320638284645...|\n|     19141|        18|[0.00186513745236...|\n+----------+----------+--------------------+\nonly showing top 20 rows\n\n"
     ]
    }
   ],
   "source": [
    "def toArray(row):\n",
    "    return row.article_id, row.channel_id, [float(i) for i in row.vector]\n",
    "\n",
    "article_vector = article_vector.rdd.map(toArray).toDF(['article_id', 'channel_id', 'vector'])\n",
    "article_vector.show()"
   ]
  },
  {
   "cell_type": "code",
   "execution_count": 28,
   "metadata": {},
   "outputs": [],
   "source": [
    "article_vector.write.insertInto(\"article_vector\")"
   ]
  },
  {
   "cell_type": "code",
   "execution_count": 7,
   "metadata": {},
   "outputs": [
    {
     "output_type": "execute_result",
     "data": {
      "text/plain": [
       "DenseVector([0.0012, 0.0009, -0.0054, 0.0028, 0.0059, 0.0076, -0.0041, 0.014, 0.0002, 0.0005, -0.0048, 0.0022, -0.0059, 0.01, -0.0008, -0.0056, -0.0028, -0.0048, 0.0119, 0.0033, 0.0155, 0.0015, 0.004, 0.0005, 0.0057, 0.004, 0.0034, 0.0031, -0.0016, 0.0051, -0.0072, -0.0026, 0.006, 0.0011, 0.0012, -0.0058, -0.0011, -0.0024, 0.0035, 0.003, -0.0077, 0.0066, 0.0023, 0.0051, 0.0044, 0.0009, -0.0014, -0.0007, 0.0016, -0.0013, -0.0029, -0.0036, -0.0004, 0.0012, -0.004, -0.0004, -0.0059, 0.0082, 0.0007, 0.001, 0.0007, 0.01, 0.0016, -0.0057, 0.0081, 0.0156, -0.003, -0.0041, -0.0093, 0.0081, -0.0035, -0.0081, 0.0014, -0.0024, 0.0018, 0.0017, -0.0048, 0.0057, -0.0007, 0.005, 0.0037, 0.0009, -0.0053, 0.0084, 0.0036, -0.0006, -0.0044, 0.0108, -0.0023, 0.0035, 0.0047, 0.0048, -0.001, -0.0049, 0.0023, -0.0117, -0.0022, 0.011, 0.0041, 0.0021])"
      ]
     },
     "metadata": {},
     "execution_count": 7
    }
   ],
   "source": [
    "from pyspark.ml.linalg import Vectors\n",
    "Vectors.dense(article_vector.head().vector)"
   ]
  },
  {
   "cell_type": "code",
   "execution_count": null,
   "metadata": {},
   "outputs": [],
   "source": [
    "# 1、拿到Python频道的所有文章数据，10片测试\n",
    "from pyspark.ml.linalg import Vectors\n",
    "\n",
    "def toVector(row):\n",
    "    return row.article_id, Vectors.dense(row.vector)\n",
    "\n",
    "train = article_vector.rdd.map(toVector).toDF(['article_id', 'vector'])"
   ]
  },
  {
   "cell_type": "code",
   "execution_count": 8,
   "metadata": {},
   "outputs": [
    {
     "output_type": "execute_result",
     "data": {
      "text/plain": [
       "DataFrame[]"
      ]
     },
     "metadata": {},
     "execution_count": 8
    }
   ],
   "source": [
    "# 【修改后】1、拿到Python频道的所有文章数据，10片测试\n",
    "from pyspark.ml.linalg import Vectors\n",
    "\n",
    "def toVector(row):\n",
    "    return row.article_id, Vectors.dense(row.articlevector)\n",
    "\n",
    "w2v.spark.sql(\"use article\")\n",
    "article_vector = w2v.spark.sql(\"select * from article_vector\")\n",
    "train = article_vector.rdd.map(toVector).toDF(['article_id', 'vector'])"
   ]
  },
  {
   "cell_type": "code",
   "execution_count": 12,
   "metadata": {},
   "outputs": [
    {
     "output_type": "execute_result",
     "data": {
      "text/plain": [
       "Row(article_id=13098, vector=DenseVector([0.0012, 0.0009, -0.0054, 0.0028, 0.0059, 0.0076, -0.0041, 0.014, 0.0002, 0.0005, -0.0048, 0.0022, -0.0059, 0.01, -0.0008, -0.0056, -0.0028, -0.0048, 0.0119, 0.0033, 0.0155, 0.0015, 0.004, 0.0005, 0.0057, 0.004, 0.0034, 0.0031, -0.0016, 0.0051, -0.0072, -0.0026, 0.006, 0.0011, 0.0012, -0.0058, -0.0011, -0.0024, 0.0035, 0.003, -0.0077, 0.0066, 0.0023, 0.0051, 0.0044, 0.0009, -0.0014, -0.0007, 0.0016, -0.0013, -0.0029, -0.0036, -0.0004, 0.0012, -0.004, -0.0004, -0.0059, 0.0082, 0.0007, 0.001, 0.0007, 0.01, 0.0016, -0.0057, 0.0081, 0.0156, -0.003, -0.0041, -0.0093, 0.0081, -0.0035, -0.0081, 0.0014, -0.0024, 0.0018, 0.0017, -0.0048, 0.0057, -0.0007, 0.005, 0.0037, 0.0009, -0.0053, 0.0084, 0.0036, -0.0006, -0.0044, 0.0108, -0.0023, 0.0035, 0.0047, 0.0048, -0.001, -0.0049, 0.0023, -0.0117, -0.0022, 0.011, 0.0041, 0.0021]))"
      ]
     },
     "metadata": {},
     "execution_count": 12
    }
   ],
   "source": [
    "train.head()"
   ]
  },
  {
   "cell_type": "code",
   "execution_count": null,
   "metadata": {},
   "outputs": [],
   "source": []
  },
  {
   "cell_type": "code",
   "execution_count": 13,
   "metadata": {},
   "outputs": [],
   "source": [
    "# 计算相似的文章\n",
    "from pyspark.ml.feature import BucketedRandomProjectionLSH\n",
    "brp = BucketedRandomProjectionLSH(inputCol='vector', outputCol='hashes', numHashTables=4.0, bucketLength=10.0)\n",
    "model = brp.fit(train)\n",
    "similar = model.approxSimilarityJoin(train, train, 2.0, distCol='EuclideanDistance')"
   ]
  },
  {
   "cell_type": "code",
   "execution_count": 22,
   "metadata": {},
   "outputs": [
    {
     "output_type": "execute_result",
     "data": {
      "text/plain": [
       "Row(datasetA=Row(article_id=15322, vector=DenseVector([0.0009, -0.0005, -0.0022, -0.001, -0.0008, 0.0, -0.0015, -0.0011, 0.0037, -0.0014, 0.0023, -0.0016, 0.0008, 0.0012, 0.0002, -0.0018, 0.0009, 0.002, -0.0028, -0.001, 0.0011, -0.0001, -0.0015, -0.001, -0.0004, -0.0015, 0.0001, 0.0033, -0.001, -0.0008, -0.0027, 0.0011, 0.0014, -0.0021, -0.0014, 0.0006, 0.0001, 0.0009, -0.0003, 0.0006, 0.0013, -0.0018, 0.0021, 0.0011, 0.0006, 0.0025, 0.0024, -0.0009, -0.0026, 0.0018, 0.0014, 0.0007, 0.0019, -0.0013, -0.0, -0.0019, -0.0004, -0.0029, -0.0022, 0.0017, 0.002, 0.0007, -0.0008, -0.0017, 0.0014, 0.0016, -0.0047, 0.0017, 0.0017, -0.0024, 0.0018, 0.0, 0.0009, 0.0014, 0.0001, 0.0008, 0.0023, -0.0019, 0.0012, -0.0002, -0.0014, 0.0021, 0.001, 0.001, 0.0012, -0.0017, 0.0001, -0.0001, 0.0005, 0.0006, 0.0004, 0.0017, -0.0012, -0.0012, -0.0018, 0.0005, -0.0002, 0.0031, -0.0009, 0.0007]), hashes=[DenseVector([-1.0]), DenseVector([-1.0]), DenseVector([0.0]), DenseVector([0.0])]), datasetB=Row(article_id=17708, vector=DenseVector([0.0014, -0.0031, -0.0057, 0.0042, 0.0014, 0.002, -0.0018, 0.004, 0.004, 0.0005, -0.0029, 0.0006, -0.0005, 0.0045, 0.0007, -0.0037, -0.0028, 0.0037, 0.0017, 0.0043, 0.0064, 0.003, 0.0002, -0.0007, -0.0026, -0.0014, -0.0028, 0.0051, -0.003, 0.002, -0.0018, -0.0027, 0.0044, -0.0022, 0.0001, -0.0014, -0.0006, -0.0011, -0.0014, 0.001, 0.0012, -0.0009, 0.0013, 0.0024, 0.001, 0.001, -0.0016, -0.0024, -0.0042, -0.0009, 0.0036, -0.0034, -0.0001, -0.0001, 0.0022, -0.0051, -0.0013, -0.0024, 0.0019, 0.003, -0.0024, 0.0009, 0.0003, -0.0013, 0.0039, 0.0064, -0.0062, 0.0017, 0.0006, -0.0025, 0.0022, -0.0015, 0.0011, 0.0015, 0.0019, 0.0002, -0.0018, 0.0025, 0.0012, 0.0037, 0.0031, 0.0017, -0.0016, 0.0031, 0.0015, -0.0024, -0.0003, 0.001, 0.0028, -0.0005, 0.0009, 0.0024, 0.0026, -0.0027, 0.0006, -0.0024, -0.0012, 0.0052, -0.0008, 0.0024]), hashes=[DenseVector([-1.0]), DenseVector([-1.0]), DenseVector([0.0]), DenseVector([-1.0])]), EuclideanDistance=0.024286735235304065)"
      ]
     },
     "metadata": {},
     "execution_count": 22
    }
   ],
   "source": [
    "similar.head()"
   ]
  },
  {
   "cell_type": "code",
   "execution_count": 23,
   "metadata": {},
   "outputs": [
    {
     "output_type": "execute_result",
     "data": {
      "text/plain": [
       "432081"
      ]
     },
     "metadata": {},
     "execution_count": 23
    }
   ],
   "source": [
    "similar.count()"
   ]
  },
  {
   "cell_type": "code",
   "execution_count": 25,
   "metadata": {},
   "outputs": [
    {
     "output_type": "stream",
     "name": "stdout",
     "text": [
      "+--------------------+--------------------+--------------------+\n|            datasetA|            datasetB|   EuclideanDistance|\n+--------------------+--------------------+--------------------+\n|[15322, [9.192748...|[17708, [0.001364...|0.024286735235304065|\n|[15322, [9.192748...|[17634, [0.003628...| 0.05397601741656149|\n|[15322, [9.192748...|[116872, [0.00282...|0.042197511883181535|\n|[15846, [0.002517...|[138791, [7.81805...| 0.05340404437826069|\n|[15846, [0.002517...|[69037, [0.003087...|  0.0749982970707721|\n|[15846, [0.002517...|[117864, [0.00342...| 0.06136816217889451|\n|[15846, [0.002517...|[44758, [0.004367...|  0.0245824867666197|\n|[15846, [0.002517...|[118804, [8.86569...| 0.03899279379139544|\n|[15846, [0.002517...|[62110, [7.151850...| 0.03799009007180473|\n|[15846, [0.002517...|[118961, [2.50550...|0.043122579225034666|\n|[15846, [0.002517...|[67882, [0.001056...|0.034630896771286314|\n|[15846, [0.002517...|[68835, [9.474378...|0.038597868827167994|\n|[18147, [0.001206...|[14786, [0.001018...|0.024538059030350202|\n|[18147, [0.001206...|[17110, [0.001423...|0.028592773981291716|\n|[18147, [0.001206...|[17363, [0.002391...|0.031845504143904385|\n|[18147, [0.001206...|[15433, [6.573932...|0.012316937699942123|\n|[18147, [0.001206...|[63594, [0.002885...|0.024289770652680977|\n|[18147, [0.001206...|[49802, [0.002595...| 0.02821957715951731|\n|[19158, [0.002829...|[44639, [2.478782...| 0.04682438412477371|\n|[19158, [0.002829...|[69354, [0.003080...| 0.04411239792511802|\n+--------------------+--------------------+--------------------+\nonly showing top 20 rows\n\n"
     ]
    }
   ],
   "source": [
    "similar.show()"
   ]
  },
  {
   "cell_type": "code",
   "execution_count": 52,
   "metadata": {},
   "outputs": [
    {
     "output_type": "stream",
     "name": "stdout",
     "text": [
      "+----------------------+----------------------+----------------------+\n|min(EuclideanDistance)|max(EuclideanDistance)|avg(EuclideanDistance)|\n+----------------------+----------------------+----------------------+\n|                   0.0|    0.4892682562419099|   0.05549577116298516|\n+----------------------+----------------------+----------------------+\n\n"
     ]
    },
    {
     "output_type": "execute_result",
     "data": {
      "text/plain": [
       "Row(EuclideanDistance=0.4892682562419099)"
      ]
     },
     "metadata": {},
     "execution_count": 52
    },
    {
     "output_type": "execute_result",
     "data": {
      "text/plain": [
       "Row(EuclideanDistance=0.0)"
      ]
     },
     "metadata": {},
     "execution_count": 52
    }
   ],
   "source": [
    "similar.selectExpr('min(EuclideanDistance)', 'max(EuclideanDistance)', 'avg(EuclideanDistance)').show()\n",
    "similar.select('EuclideanDistance').rdd.max()\n",
    "similar.select('EuclideanDistance').rdd.min()"
   ]
  },
  {
   "cell_type": "code",
   "execution_count": null,
   "metadata": {},
   "outputs": [],
   "source": []
  },
  {
   "cell_type": "code",
   "execution_count": null,
   "metadata": {},
   "outputs": [],
   "source": []
  },
  {
   "cell_type": "code",
   "execution_count": 51,
   "metadata": {},
   "outputs": [
    {
     "output_type": "stream",
     "name": "stdout",
     "text": [
      "(8658, 100)\nFalse\n0\nTrue\n8658\n[[30.301449 30.313164 30.325768]\n [35.108173 35.11     35.132874]\n [34.764065 34.773903 34.784462]\n [30.326086 30.329458 30.333145]\n [33.85162  33.857372 33.863617]\n [34.244614 34.259373 34.275196]\n [31.169395 31.169542 31.169682]\n [30.771603 30.775417 30.779568]\n [34.173016 34.186115 34.200172]\n [32.87268  32.874435 32.877934]]\n[[1457 7358 6927]\n [5070 4677 2246]\n [1457 7358 6927]\n [1457 7358 6927]\n [1457 7358 6927]\n [1457 7358 6927]\n [4677 5070 2246]\n [1457 7358 6927]\n [1457 7358 6927]\n [5678  520 8623]]\n"
     ]
    }
   ],
   "source": [
    "import faiss\n",
    "import numpy as np\n",
    "\n",
    "article_vector = w2v.spark.sql(\"select articlevector from article_vector\")\n",
    "vector = np.array(article_vector.collect(), dtype=np.dtype('float32')).reshape([article_vector.count(), 100])\n",
    "print(vector.shape)\n",
    "nlist = 5  # number of clusters\n",
    "dimension = 100\n",
    "quantiser = faiss.IndexFlatL2(dimension)\n",
    "index = faiss.IndexIVFFlat(quantiser, dimension, nlist, faiss.METRIC_L2)\n",
    "\n",
    "print(index.is_trained)   # False\n",
    "index.train(vector)  # train on the database vectors\n",
    "print(index.ntotal)   # 0\n",
    "index.add(vector)   # add the vectors and update the index\n",
    "print(index.is_trained)  # True\n",
    "print(index.ntotal)   # 200\n",
    "\n",
    "nprobe = 2  # find 2 most similar clusters\n",
    "n_query = 10\n",
    "k = 3  # return 3 nearest neighbours\n",
    "np.random.seed(0)\n",
    "query_vectors = np.random.random((n_query, dimension)).astype('float32')\n",
    "distances, indices = index.search(query_vectors, k)\n",
    "\n",
    "print(distances)\n",
    "print(indices)\n"
   ]
  },
  {
   "cell_type": "code",
   "execution_count": null,
   "metadata": {},
   "outputs": [],
   "source": []
  }
 ],
 "metadata": {
  "kernelspec": {
   "display_name": "Python 3",
   "language": "python",
   "name": "python3"
  },
  "language_info": {
   "codemirror_mode": {
    "name": "ipython",
    "version": 3
   },
   "file_extension": ".py",
   "mimetype": "text/x-python",
   "name": "python",
   "nbconvert_exporter": "python",
   "pygments_lexer": "ipython3",
   "version": "3.6.8-final"
  }
 },
 "nbformat": 4,
 "nbformat_minor": 2
}