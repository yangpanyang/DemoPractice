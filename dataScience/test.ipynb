{
 "cells": [
  {
   "cell_type": "code",
   "execution_count": 43,
   "metadata": {
    "ExecuteTime": {
     "end_time": "2020-04-22T10:08:30.799373Z",
     "start_time": "2020-04-22T10:08:30.781469Z"
    },
    "collapsed": true
   },
   "outputs": [],
   "source": [
    "%config ZMQInteractiveShell.ast_node_interactivity='all'"
   ]
  },
  {
   "cell_type": "markdown",
   "metadata": {},
   "source": [
    "* 文件操作"
   ]
  },
  {
   "cell_type": "code",
   "execution_count": 9,
   "metadata": {
    "ExecuteTime": {
     "end_time": "2020-03-18T00:08:34.177544Z",
     "start_time": "2020-03-18T00:08:34.159732Z"
    }
   },
   "outputs": [
    {
     "data": {
      "text/plain": [
       "13"
      ]
     },
     "execution_count": 9,
     "metadata": {},
     "output_type": "execute_result"
    },
    {
     "data": {
      "text/plain": [
       "1"
      ]
     },
     "execution_count": 9,
     "metadata": {},
     "output_type": "execute_result"
    },
    {
     "data": {
      "text/plain": [
       "14"
      ]
     },
     "execution_count": 9,
     "metadata": {},
     "output_type": "execute_result"
    },
    {
     "name": "stdout",
     "output_type": "stream",
     "text": [
      "1 Hello python!\n",
      "\n",
      "2 I am caroline.\n",
      "3 \n",
      "4 \n"
     ]
    }
   ],
   "source": [
    "#(1)open函数--一定要调用close()函数关闭文件流\n",
    "f_open = open('test.py', 'w', encoding='utf-8')\n",
    "f_open.write('Hello python!') #return写入的字符数\n",
    "f_open.write('\\n')\n",
    "f_open.write('I am caroline.')\n",
    "f_open.close()\n",
    "#writelines：将一个序列字符串写入文件中\n",
    "seq = ['apple', 'orange', 'banana']\n",
    "f_seq = open('test.txt', 'w')\n",
    "f_seq.writelines(seq)\n",
    "f_seq.close()\n",
    "#读操作\n",
    "f_read = open('test.py', 'r', encoding='utf-8')\n",
    "print('1', f_read.readline())\n",
    "print('2', f_read.readline())\n",
    "print('3', f_read.readline())\n",
    "print('4', f_read.readline())\n",
    "f_read.close()"
   ]
  },
  {
   "cell_type": "code",
   "execution_count": 16,
   "metadata": {
    "ExecuteTime": {
     "end_time": "2020-03-18T00:16:41.445151Z",
     "start_time": "2020-03-18T00:16:41.422631Z"
    }
   },
   "outputs": [
    {
     "data": {
      "text/plain": [
       "11"
      ]
     },
     "execution_count": 16,
     "metadata": {},
     "output_type": "execute_result"
    },
    {
     "data": {
      "text/plain": [
       "1"
      ]
     },
     "execution_count": 16,
     "metadata": {},
     "output_type": "execute_result"
    },
    {
     "data": {
      "text/plain": [
       "11"
      ]
     },
     "execution_count": 16,
     "metadata": {},
     "output_type": "execute_result"
    },
    {
     "data": {
      "text/plain": [
       "26"
      ]
     },
     "execution_count": 16,
     "metadata": {},
     "output_type": "execute_result"
    },
    {
     "data": {
      "text/plain": [
       "26"
      ]
     },
     "execution_count": 16,
     "metadata": {},
     "output_type": "execute_result"
    }
   ],
   "source": [
    "#(2)追加模式：'a'(append)，这种模式数据会被追加到末尾，不会覆盖上次写的数据\n",
    "f_append = open('test.py', 'a', encoding='utf-8')\n",
    "f_append.write('test append')\n",
    "f_append.write('\\n')\n",
    "f_append.write('normal data')\n",
    "f_append.close()\n",
    "#文件加号+模式：一般与其他操作模式组合使用，表示更新操作\n",
    "#a+添加至文件末尾\n",
    "f_write = open('test.py', 'a+', encoding='utf-8')\n",
    "f_write.write('hello, this is a a+ model.')\n",
    "f_write.close()\n",
    "#w+新建文件或覆盖已存在文件\n",
    "f_write2 = open('test.py', 'w+', encoding='utf-8')\n",
    "f_write2.write('hello, this is a w+ model.')\n",
    "f_write2.close()\n",
    "#二进制模式：'b'"
   ]
  },
  {
   "cell_type": "code",
   "execution_count": 18,
   "metadata": {
    "ExecuteTime": {
     "end_time": "2020-03-18T00:19:56.539024Z",
     "start_time": "2020-03-18T00:19:56.534385Z"
    }
   },
   "outputs": [
    {
     "name": "stdout",
     "output_type": "stream",
     "text": [
      "[Errno 2] No such file or directory: 'test2.py'\n",
      "Done\n"
     ]
    }
   ],
   "source": [
    "#(3)异常处理\n",
    "try:\n",
    "    f_try = open('test2.py', 'r', encoding='utf-8')\n",
    "except IOError as e:\n",
    "    print(e)\n",
    "finally:\n",
    "    f.close()\n",
    "    print('Done')"
   ]
  },
  {
   "cell_type": "code",
   "execution_count": 22,
   "metadata": {
    "ExecuteTime": {
     "end_time": "2020-03-18T00:23:26.056253Z",
     "start_time": "2020-03-18T00:23:26.048738Z"
    }
   },
   "outputs": [
    {
     "name": "stdout",
     "output_type": "stream",
     "text": [
      "<class '_io.TextIOWrapper'>\n",
      "hello, thi\n",
      "<class 'str'>\n",
      "model.\n",
      "<class 'str'>\n"
     ]
    }
   ],
   "source": [
    "#(4)文件句柄--open()函数返回的文件对象\n",
    "f_handler = open('test.py', 'r', encoding='utf-8')\n",
    "print(type(f_handler))\n",
    "#read 10个字符\n",
    "print(f_handler.read(10))\n",
    "print(type(f_handler.read(10)))\n",
    "#read 一行\n",
    "print(f_handler.readline())\n",
    "print(type(f_handler.readline()))\n",
    "f_handler.close()"
   ]
  },
  {
   "cell_type": "code",
   "execution_count": 49,
   "metadata": {
    "ExecuteTime": {
     "end_time": "2020-03-18T00:44:09.135669Z",
     "start_time": "2020-03-18T00:44:09.126599Z"
    }
   },
   "outputs": [
    {
     "name": "stdout",
     "output_type": "stream",
     "text": [
      "f.readlines: ['appleorangepear']\n",
      "f.readlines: <class 'list'>\n",
      "line: appleorangepear\n",
      "line: <class 'str'>\n"
     ]
    }
   ],
   "source": [
    "#(5)上下文管理器 with--不用再单独关闭文件\n",
    "# 使用with等于自动封装了一层异常处理，在使用结束或出现异常后自动关闭文件\n",
    "with open('test.py', 'w', encoding='utf-8') as f:\n",
    "    list_a = ['apple', 'orange', 'pear']\n",
    "    f.writelines(list_a)\n",
    "with open('test.py', 'r', encoding='utf-8') as f:\n",
    "    print('f.readlines:', f.readlines())\n",
    "    print('f.readlines:', type(f.readlines()))\n",
    "with open('test.py', 'r', encoding='utf-8') as f:\n",
    "    for line in f:\n",
    "        print('line:', line.strip())\n",
    "        print('line:', type(line))"
   ]
  },
  {
   "cell_type": "code",
   "execution_count": 50,
   "metadata": {
    "ExecuteTime": {
     "end_time": "2020-03-18T00:44:10.346756Z",
     "start_time": "2020-03-18T00:44:10.335605Z"
    }
   },
   "outputs": [
    {
     "name": "stdout",
     "output_type": "stream",
     "text": [
      "f.read: \n",
      "f.tell: 15\n",
      "f.seek(0): 0\n",
      "f.read(10): appleorange\n",
      "f.tell: 11\n",
      "f.read: pear\n",
      "f.tell: 15\n",
      "f.write: 6\n",
      "f.tell: 21\n",
      "f.seek(0): 0\n",
      "f.read: appleorangepearfruits\n"
     ]
    }
   ],
   "source": [
    "#(6)文件指针的移动\n",
    "# with open('test.py', 'r+', encoding='utf-8') as f:\n",
    "with open('test.py', 'a+', encoding='utf-8') as f:\n",
    "    print('f.read:', f.read()) #追加模式下，指针在文件结尾处，导致读不到数据\n",
    "    print('f.tell:', f.tell()) #查看指针位置\n",
    "    #移动文件指针，*** 文件句柄指回文件头 ***\n",
    "    print('f.seek(0):', f.seek(0)) #把指针移动到最开头位置\n",
    "    print('f.read(10):', f.read(11))\n",
    "    print('f.tell:', f.tell())\n",
    "    #一直读到文件末尾\n",
    "    print('f.read:', f.read())\n",
    "    print('f.tell:', f.tell())\n",
    "    #在文件末尾写入内容\n",
    "    print('f.write:', f.write('fruits'))\n",
    "    print('f.tell:', f.tell())\n",
    "    #文件指针移动到最开头，读取整个文件内容\n",
    "    print('f.seek(0):', f.seek(0))\n",
    "    print('f.read:', f.read())"
   ]
  },
  {
   "cell_type": "code",
   "execution_count": null,
   "metadata": {
    "collapsed": true
   },
   "outputs": [],
   "source": []
  },
  {
   "cell_type": "code",
   "execution_count": 6,
   "metadata": {
    "ExecuteTime": {
     "end_time": "2020-03-15T10:13:45.253443Z",
     "start_time": "2020-03-15T10:13:45.242531Z"
    },
    "collapsed": true
   },
   "outputs": [
    {
     "name": "stdout",
     "output_type": "stream",
     "text": [
      "[1, 2, 3]\n",
      "[1, 2, 4]\n",
      "[1, 2, 5]\n",
      "[1, 3, 4]\n",
      "[1, 3, 5]\n",
      "[1, 4, 5]\n",
      "[2, 3, 4]\n",
      "[2, 3, 5]\n",
      "[2, 4, 5]\n",
      "[3, 4, 5]\n",
      "-------------\n",
      "[3, 4, 5]\n",
      "[2, 4, 5]\n",
      "[1, 4, 5]\n",
      "[2, 3, 5]\n",
      "[1, 3, 5]\n",
      "[1, 2, 5]\n",
      "[2, 3, 4]\n",
      "[1, 3, 4]\n",
      "[1, 2, 4]\n",
      "[1, 2, 3]\n"
     ]
    }
   ],
   "source": [
    "ans=[0,0,0]\n",
    "def combination(n, k, p, last):\n",
    "    if (p==k):\n",
    "        print(ans)\n",
    "        return\n",
    "    for i in range(last,n+1):\n",
    "        ans[p]=i\n",
    "        combination(n,k,p+1,i+1)\n",
    "        \n",
    "# ans2=[0]*4\n",
    "def combination2(n, p):\n",
    "    if (p==-1):\n",
    "        print(ans)\n",
    "        return\n",
    "    i=n\n",
    "    while (i>0):\n",
    "        ans[p] = i\n",
    "        combination2(i-1, p-1)\n",
    "        i = i-1\n",
    "        \n",
    "combination(5,3,0,1)\n",
    "print('-------------')\n",
    "combination2(5,2)"
   ]
  },
  {
   "cell_type": "code",
   "execution_count": null,
   "metadata": {
    "ExecuteTime": {
     "end_time": "2020-03-15T10:03:06.843058Z",
     "start_time": "2020-03-15T10:03:06.808032Z"
    },
    "collapsed": true
   },
   "outputs": [],
   "source": [
    "ans=[0,0,0,0,0]\n",
    "use=[0,1,1,1,1,1]\n",
    "#全排列：第p位可以取1-n中的任意数\n",
    "#数字不能重复，故用use数组标记当前数字是否被使用过\n",
    "#use=0  被使用过，不能再遍历\n",
    "#use=1  未被使用过，可以遍历\n",
    "def full_connection(p, n, level):\n",
    "    if (p==n):\n",
    "        print(level, ans)\n",
    "        return\n",
    "    for i in range(1,n+1):\n",
    "        if use[i]==1:\n",
    "            use[i]=0\n",
    "            ans[p]=i\n",
    "            full_connection(p+1, n, level+1)\n",
    "            use[i]=1\n",
    "full_connection(0,5,0)"
   ]
  },
  {
   "cell_type": "code",
   "execution_count": null,
   "metadata": {
    "ExecuteTime": {
     "end_time": "2020-03-15T09:50:40.390867Z",
     "start_time": "2020-03-15T09:50:40.354541Z"
    },
    "collapsed": true
   },
   "outputs": [],
   "source": [
    "ans=[0,0,0,0];\n",
    "#枚举：第p位可以取1-n中的任意数\n",
    "def full_connection(p):\n",
    "    if (p==0):\n",
    "        print(ans)\n",
    "        return\n",
    "    for i in range(1,5):\n",
    "        ans[p-1]=i\n",
    "        full_connection(p-1)\n",
    "full_connection(4)"
   ]
  },
  {
   "cell_type": "markdown",
   "metadata": {},
   "source": [
    "[克罗内克积 (Kronecker product)](https://blog.csdn.net/Yolandera/article/details/80310169)\n",
    "* Kronecker积是两个任意大小的矩阵间的运算，又称为直积或张量积"
   ]
  },
  {
   "cell_type": "code",
   "execution_count": null,
   "metadata": {
    "ExecuteTime": {
     "end_time": "2020-03-13T04:54:14.101032Z",
     "start_time": "2020-03-13T04:54:14.095002Z"
    },
    "collapsed": true
   },
   "outputs": [],
   "source": [
    "import numpy as np\n",
    "print(np.eye(2))\n",
    "print(np.ones((2,2)))\n",
    "print(np.kron(np.eye(2), np.ones((2,2))))"
   ]
  },
  {
   "cell_type": "code",
   "execution_count": null,
   "metadata": {
    "ExecuteTime": {
     "end_time": "2020-03-13T04:58:37.026033Z",
     "start_time": "2020-03-13T04:58:37.012163Z"
    },
    "collapsed": true
   },
   "outputs": [],
   "source": [
    "a = np.arange(100).reshape((2,5,2,5))\n",
    "b = np.arange(24).reshape((2,3,4))\n",
    "c = np.kron(a,b)\n",
    "\n",
    "I = (1,3,0,2)\n",
    "J = (0,2,1)\n",
    "J1 = (0,) + J # extend to ndim=4\n",
    "S1 = (1,) + b.shape\n",
    "print(I,S1,J1)\n",
    "K = tuple(np.array(I) * np.array(S1) + np.array(J1))\n",
    "print(K)\n",
    "c[K] == a[I]*b[J]"
   ]
  },
  {
   "cell_type": "markdown",
   "metadata": {},
   "source": [
    "* Spark"
   ]
  },
  {
   "cell_type": "code",
   "execution_count": null,
   "metadata": {
    "ExecuteTime": {
     "end_time": "2020-03-14T07:00:48.511264Z",
     "start_time": "2020-03-14T07:00:48.505499Z"
    },
    "collapsed": true
   },
   "outputs": [],
   "source": [
    "#flatMap\n",
    "l=['Hello World', 'My name is carl']\n",
    "l1=[]\n",
    "for sentence in l:\n",
    "    #l1+=sentence.split(' ')\n",
    "    l1.extend(sentence.split(' '))\n",
    "l1"
   ]
  },
  {
   "cell_type": "code",
   "execution_count": null,
   "metadata": {
    "ExecuteTime": {
     "end_time": "2020-03-14T07:00:01.846024Z",
     "start_time": "2020-03-14T07:00:01.839849Z"
    },
    "collapsed": true
   },
   "outputs": [],
   "source": [
    "#Map\n",
    "l=['Hello World', 'My name is carl']\n",
    "l1=[]\n",
    "for sentence in l:\n",
    "    l1.append(sentence.split(' '))\n",
    "l1"
   ]
  },
  {
   "cell_type": "code",
   "execution_count": null,
   "metadata": {
    "collapsed": true
   },
   "outputs": [],
   "source": []
  },
  {
   "cell_type": "code",
   "execution_count": null,
   "metadata": {
    "ExecuteTime": {
     "end_time": "2020-03-14T07:55:54.741773Z",
     "start_time": "2020-03-14T07:55:54.736309Z"
    },
    "collapsed": true
   },
   "outputs": [],
   "source": [
    "import numpy as np\n",
    "np.linspace(1.0,10.0,21)"
   ]
  },
  {
   "cell_type": "code",
   "execution_count": null,
   "metadata": {
    "collapsed": true
   },
   "outputs": [],
   "source": []
  },
  {
   "cell_type": "markdown",
   "metadata": {},
   "source": [
    "* 动态规划 DP"
   ]
  },
  {
   "cell_type": "code",
   "execution_count": null,
   "metadata": {
    "ExecuteTime": {
     "end_time": "2020-03-15T04:16:09.943356Z",
     "start_time": "2020-03-15T04:16:08.538368Z"
    },
    "collapsed": true
   },
   "outputs": [],
   "source": [
    "%reset"
   ]
  },
  {
   "cell_type": "code",
   "execution_count": null,
   "metadata": {
    "ExecuteTime": {
     "end_time": "2020-03-15T04:16:11.556505Z",
     "start_time": "2020-03-15T04:16:11.552425Z"
    },
    "collapsed": true
   },
   "outputs": [],
   "source": [
    "%whos"
   ]
  },
  {
   "cell_type": "code",
   "execution_count": null,
   "metadata": {
    "ExecuteTime": {
     "end_time": "2020-03-15T04:29:13.065573Z",
     "start_time": "2020-03-15T04:29:13.055076Z"
    },
    "collapsed": true
   },
   "outputs": [],
   "source": [
    "# %%writefile test1.py\n",
    "# 输入coins要求有序递增序列\n",
    "class Solution:\n",
    "    maxValue = 10000000\n",
    "    resList=[maxValue] * 10000\n",
    "\n",
    "    def search(self, idx, amount, coins, level):\n",
    "#         print(' '*2*level + \"search: amount={}, idx={}, coins={}\".format(amount, idx, coins))\n",
    "        if (amount < 0 or idx >= len(coins)):\n",
    "#             print(' '*2*level + \"[return] maxValue\")\n",
    "            return Solution.maxValue\n",
    "        if (amount == 0):\n",
    "#             print(' '*2*level + \"[return] searched\")\n",
    "            return 0\n",
    "        if (Solution.resList[amount] < Solution.maxValue):\n",
    "#             print(' '*2*level + \"[return] resList[{}]={}\".format(amount, Solution.resList[amount]))\n",
    "#             print(\"[return] resList[{}]={}\".format(amount, Solution.resList[amount]))\n",
    "            print(amount, Solution.resList[amount])\n",
    "            return Solution.resList[amount]\n",
    "        a = self.search(idx, amount-coins[idx], coins, level+1) + 1\n",
    "#         print(' '*2*level + \"[use amount[{}]={}] search: idx={}, amount={}, coins={}, a:{}\".format(idx, coins[idx], idx, amount, coins, a))\n",
    "        b = self.search(idx+1, amount, coins, level+1)\n",
    "#         print(' '*2*level + \"[not use amount[{}]={}] search: idx={}, amount={}, coins={}, a:{}, b:{}\".format(idx, coins[idx], idx, amount, coins, a, b))\n",
    "        if a<Solution.resList[amount]:\n",
    "            Solution.resList[amount]=a\n",
    "        if b<Solution.resList[amount]:\n",
    "            Solution.resList[amount]=b\n",
    "#         if Solution.resList[amount] < Solution.maxValue:\n",
    "#             print(\"resList[{}]={}\".format(amount, Solution.resList[amount]))\n",
    "        return Solution.resList[amount]\n",
    "\n",
    "    def coinChange(self, coins, amount) -> int:\n",
    "        Solution.resList[0]=0\n",
    "        res=self.search(0, amount, coins, 0)\n",
    "        if res < Solution.maxValue:\n",
    "            return res\n",
    "        else:\n",
    "            return -1"
   ]
  },
  {
   "cell_type": "code",
   "execution_count": null,
   "metadata": {
    "ExecuteTime": {
     "end_time": "2020-03-15T04:29:11.555384Z",
     "start_time": "2020-03-15T04:29:11.248520Z"
    },
    "collapsed": true
   },
   "outputs": [],
   "source": [
    "s1=Solution()\n",
    "s1.coinChange([357,239,73,52], 9832)"
   ]
  },
  {
   "cell_type": "code",
   "execution_count": null,
   "metadata": {
    "ExecuteTime": {
     "end_time": "2020-03-15T04:29:17.368953Z",
     "start_time": "2020-03-15T04:29:16.540257Z"
    },
    "collapsed": true
   },
   "outputs": [],
   "source": [
    "s2=Solution()\n",
    "s2.coinChange([52,73,239,357], 9832)"
   ]
  },
  {
   "cell_type": "code",
   "execution_count": null,
   "metadata": {
    "ExecuteTime": {
     "end_time": "2020-03-15T04:29:38.392520Z",
     "start_time": "2020-03-15T04:29:37.777877Z"
    },
    "collapsed": true
   },
   "outputs": [],
   "source": [
    "for i in range(len(s1.resList)):\n",
    "    if (s1.resList[i] != s2.resList[i]):\n",
    "        print(\"amount={}, s1.resList[{}]={}, s2.resList[{}]={}\".format(i,i,s1.resList[i],i,s2.resList[i]))"
   ]
  },
  {
   "cell_type": "code",
   "execution_count": null,
   "metadata": {
    "collapsed": true
   },
   "outputs": [],
   "source": []
  },
  {
   "cell_type": "code",
   "execution_count": 1,
   "metadata": {
    "ExecuteTime": {
     "end_time": "2020-03-15T11:57:01.339298Z",
     "start_time": "2020-03-15T11:57:01.335285Z"
    }
   },
   "outputs": [
    {
     "name": "stdout",
     "output_type": "stream",
     "text": [
      "yangpan\n",
      "napgnay\n"
     ]
    }
   ],
   "source": [
    "str1=\"yangpan\"\n",
    "print(str1)\n",
    "print(str1[::-1])"
   ]
  },
  {
   "cell_type": "code",
   "execution_count": 7,
   "metadata": {
    "ExecuteTime": {
     "end_time": "2020-03-15T12:14:41.248208Z",
     "start_time": "2020-03-15T12:14:41.238995Z"
    }
   },
   "outputs": [
    {
     "data": {
      "text/plain": [
       "'student. a am I'"
      ]
     },
     "execution_count": 7,
     "metadata": {},
     "output_type": "execute_result"
    }
   ],
   "source": [
    "# 实现字符串反转\n",
    "def reverseWord(word):\n",
    "#     return word[::-1]\n",
    "    res = \"\"\n",
    "    st = 0\n",
    "    ed = len(word)-1\n",
    "    while (ed >= 0):\n",
    "        res += word[ed]\n",
    "        ed -= 1\n",
    "    return res\n",
    "\n",
    "def reverse(sentence):\n",
    "    res = \"\"\n",
    "    sentence = reverseWord(sentence)\n",
    "    words = sentence.split(' ')\n",
    "    for idx,word in enumerate(words):\n",
    "        if idx>0:\n",
    "            res += ' ' + reverseWord(word)\n",
    "        else:\n",
    "            res += reverseWord(word)\n",
    "    return res\n",
    "\n",
    "reverse(\"I am a student.\")"
   ]
  },
  {
   "cell_type": "code",
   "execution_count": 22,
   "metadata": {
    "ExecuteTime": {
     "end_time": "2020-03-15T13:18:04.742243Z",
     "start_time": "2020-03-15T13:18:04.711873Z"
    }
   },
   "outputs": [
    {
     "data": {
      "text/plain": [
       "15"
      ]
     },
     "execution_count": 22,
     "metadata": {},
     "output_type": "execute_result"
    },
    {
     "data": {
      "text/plain": [
       "3"
      ]
     },
     "execution_count": 22,
     "metadata": {},
     "output_type": "execute_result"
    },
    {
     "data": {
      "text/plain": [
       "3"
      ]
     },
     "execution_count": 22,
     "metadata": {},
     "output_type": "execute_result"
    },
    {
     "data": {
      "text/plain": [
       "6"
      ]
     },
     "execution_count": 22,
     "metadata": {},
     "output_type": "execute_result"
    },
    {
     "data": {
      "text/plain": [
       "20"
      ]
     },
     "execution_count": 22,
     "metadata": {},
     "output_type": "execute_result"
    },
    {
     "data": {
      "text/plain": [
       "35"
      ]
     },
     "execution_count": 22,
     "metadata": {},
     "output_type": "execute_result"
    },
    {
     "data": {
      "text/plain": [
       "35"
      ]
     },
     "execution_count": 22,
     "metadata": {},
     "output_type": "execute_result"
    },
    {
     "data": {
      "text/plain": [
       "70"
      ]
     },
     "execution_count": 22,
     "metadata": {},
     "output_type": "execute_result"
    }
   ],
   "source": [
    "# M*N棋盘问题：只能向上或向右走\n",
    "# C(m+n-2, m-1)\n",
    "# 一共需要走 m+n-2 步，选择 m-1 步，其余便确定了\n",
    "def solve(m, n):\n",
    "    res = [[0 for i in range(n)] for i in range(m)]\n",
    "#     print(res)\n",
    "    for i in range(m):\n",
    "        res[i][0] = 1\n",
    "    for j in range(n):\n",
    "        res[0][j] = 1\n",
    "    for i in range(1,m):\n",
    "        for j in range(1,n):\n",
    "            res[i][j] = res[i-1][j] + res[i][j-1]\n",
    "    return res[m-1][n-1]\n",
    "\n",
    "solve(5,3)\n",
    "solve(3,2)\n",
    "solve(2,3)\n",
    "solve(3,3)\n",
    "solve(4,4)\n",
    "solve(5,4)\n",
    "solve(4,5)\n",
    "solve(5,5)"
   ]
  },
  {
   "cell_type": "code",
   "execution_count": 25,
   "metadata": {
    "ExecuteTime": {
     "end_time": "2020-03-15T13:43:37.098963Z",
     "start_time": "2020-03-15T13:43:37.080361Z"
    }
   },
   "outputs": [
    {
     "data": {
      "text/plain": [
       "([[0, 0, 0, 0, 0],\n",
       "  [0, 0, 0, 0, 0],\n",
       "  [0, 0, 0, 0, 0],\n",
       "  [0, 1, 1, 1, 1],\n",
       "  [0, 1, 1, 1, 1],\n",
       "  [0, 1, 2, 2, 2],\n",
       "  [0, 1, 2, 2, 2],\n",
       "  [0, 1, 2, 3, 3],\n",
       "  [0, 1, 2, 3, 3],\n",
       "  [0, 1, 2, 3, 3],\n",
       "  [0, 1, 2, 3, 3]],\n",
       " 3)"
      ]
     },
     "execution_count": 25,
     "metadata": {},
     "output_type": "execute_result"
    },
    {
     "data": {
      "text/plain": [
       "([[0, 0, 0, 0, 0],\n",
       "  [0, 0, 0, 1, 1],\n",
       "  [0, 1, 1, 1, 1],\n",
       "  [0, 1, 2, 2, 2],\n",
       "  [0, 1, 2, 2, 3],\n",
       "  [0, 1, 2, 2, 3],\n",
       "  [0, 1, 2, 2, 3],\n",
       "  [0, 1, 2, 3, 3],\n",
       "  [0, 1, 2, 3, 4]],\n",
       " 4)"
      ]
     },
     "execution_count": 25,
     "metadata": {},
     "output_type": "execute_result"
    }
   ],
   "source": [
    "# 最长公共子序列（LCS）\n",
    "def lcs(str1, str2):\n",
    "    len1 = len(str1)\n",
    "    len2 = len(str2)\n",
    "    res = [[0 for j in range(len2+1)] for i in range(len1+1)]\n",
    "    \n",
    "    for i in range(1,len1+1):\n",
    "        for j in range(1,len2+1):\n",
    "            if str1[i-1] == str2[j-1]:\n",
    "                res[i][j] = res[i-1][j-1] + 1\n",
    "            if res[i][j] < res[i-1][j]:\n",
    "                res[i][j] = res[i-1][j]\n",
    "            if res[i][j] < res[i][j-1]:\n",
    "                res[i][j] = res[i][j-1]\n",
    "    return res, res[len1][len2]\n",
    "\n",
    "lcs(\"helloworld\", \"loop\")\n",
    "lcs(\"ABCDBCAD\", \"BCAD\")"
   ]
  },
  {
   "cell_type": "code",
   "execution_count": 57,
   "metadata": {
    "ExecuteTime": {
     "end_time": "2020-03-18T11:00:24.730151Z",
     "start_time": "2020-03-18T11:00:24.717292Z"
    },
    "collapsed": true
   },
   "outputs": [],
   "source": [
    "# 求字符串的最长不重复子串（连续子序列）\n",
    "def findString(inputStr):\n",
    "\tlength = len(inputStr)\n",
    "\tif (length<=1):\n",
    "\t\treturn inputStr\n",
    "\t# final_start = 0\n",
    "\tres = ''\n",
    "\tmax_len = 0\n",
    "\tstr_dict = {}\n",
    "\tcur_len = 0\n",
    "\tcurrent_start = 0\n",
    "\tfor idx in range(0, length):\n",
    "\t\tkey = inputStr[idx]\n",
    "\t\t#出现重复字符，更新当前下标\n",
    "\t\tif key in str_dict.keys():\n",
    "\t\t\tif (current_start < str_dict[key]+1):\n",
    "\t\t\t\tcurrent_start = str_dict[key] + 1\n",
    "\t\t#用字典记录 当前字符所在的下标最大值，直接更新即可\n",
    "\t\tstr_dict[key] = idx\n",
    "\t\t#找到更大长度的串\n",
    "\t\tcur_len = idx - current_start + 1\n",
    "\t\tif (cur_len > max_len):\n",
    "\t\t\tmax_len = cur_len\n",
    "\t\t\tres = inputStr[current_start: current_start+max_len]\n",
    "\t\t\t# final_start = current_start\n",
    "\treturn res\n",
    "\t# return inputStr[final_start: final_start+max_len]\n",
    "    \n",
    "def findString2(inputStr):\n",
    "\tlength = len(inputStr)\n",
    "\tif (length<=1):\n",
    "\t\treturn inputStr\n",
    "\tres = ''\n",
    "\tmax_len = 0\n",
    "\tstr_dict = {}\n",
    "\ttmp_len = 0\n",
    "\tstart = [0]\n",
    "\tend = [0]\n",
    "\tfor idx in range(0, length):\n",
    "\t\tkey = inputStr[idx]\n",
    "\t\t#start数组记录当前连续子串的起点\n",
    "\t\tif key not in str_dict.keys():\n",
    "\t\t\tstart.append(start[-1])\n",
    "\t\telse:   #非常重要\n",
    "\t\t\tstart.append( max(start[-1], str_dict[key] + 1) )\n",
    "\t\t#end数组记录当前连续子串的终点\n",
    "\t\tend.append(idx)\n",
    "\t\t#用字典记录 当前字符所在的下标最大值，直接更新即可\n",
    "\t\tstr_dict[key] = idx\n",
    "\t\t#找到更大长度的串\n",
    "\t\ttmp_len = end[-1]-start[-1]+1\n",
    "\t\tif (tmp_len > max_len):\n",
    "\t\t\tmax_len = tmp_len\n",
    "\t\t\tres = inputStr[start[-1]: end[-1]+1]\n",
    "\treturn res"
   ]
  },
  {
   "cell_type": "code",
   "execution_count": 58,
   "metadata": {
    "ExecuteTime": {
     "end_time": "2020-03-18T11:00:26.174788Z",
     "start_time": "2020-03-18T11:00:26.165590Z"
    }
   },
   "outputs": [
    {
     "data": {
      "text/plain": [
       "'abcde'"
      ]
     },
     "execution_count": 58,
     "metadata": {},
     "output_type": "execute_result"
    },
    {
     "data": {
      "text/plain": [
       "'dcbaf'"
      ]
     },
     "execution_count": 58,
     "metadata": {},
     "output_type": "execute_result"
    },
    {
     "data": {
      "text/plain": [
       "'abcde'"
      ]
     },
     "execution_count": 58,
     "metadata": {},
     "output_type": "execute_result"
    },
    {
     "data": {
      "text/plain": [
       "'dcbaf'"
      ]
     },
     "execution_count": 58,
     "metadata": {},
     "output_type": "execute_result"
    }
   ],
   "source": [
    "findString('abcdeab')\n",
    "findString('abcdcbafd')\n",
    "findString2('abcdeab')\n",
    "findString2('abcdcbafd')"
   ]
  },
  {
   "cell_type": "code",
   "execution_count": null,
   "metadata": {
    "collapsed": true
   },
   "outputs": [],
   "source": []
  },
  {
   "cell_type": "code",
   "execution_count": null,
   "metadata": {
    "collapsed": true
   },
   "outputs": [],
   "source": []
  },
  {
   "cell_type": "markdown",
   "metadata": {},
   "source": [
    "* 排序"
   ]
  },
  {
   "cell_type": "code",
   "execution_count": 67,
   "metadata": {
    "ExecuteTime": {
     "end_time": "2020-03-17T14:19:51.118715Z",
     "start_time": "2020-03-17T14:19:51.090006Z"
    }
   },
   "outputs": [
    {
     "name": "stdout",
     "output_type": "stream",
     "text": [
      "arr:[78, 17, 39, 26, 72, 94, 21, 12, 23, 68], size:9, bucketCount=10\n",
      "bucket_arr:[[17, 12], [26, 21, 23], [], [39], [], [], [72, 68], [78], [], [94]]\n",
      "***bucket_count=0\n",
      "  arr:[17, 12], size:9, bucketCount=1\n",
      "  bucket_arr:[[17, 12]]\n",
      "  ***bucket_count=0\n",
      "    arr:[17, 12], size:8, bucketCount=1\n",
      "    bucket_arr:[[17, 12]]\n",
      "    ***bucket_count=0\n",
      "      arr:[17, 12], size:7, bucketCount=1\n",
      "      bucket_arr:[[17, 12]]\n",
      "      ***bucket_count=0\n",
      "        arr:[17, 12], size:6, bucketCount=1\n",
      "        bucket_arr:[[17, 12]]\n",
      "        ***bucket_count=0\n",
      "          arr:[17, 12], size:5, bucketCount=2\n",
      "          bucket_arr:[[12], [17]]\n",
      "          ***bucket_count=0\n",
      "          [over] bucketSort([12], 5) ==> res:[12]\n",
      "          ***bucket_count=1\n",
      "          [over] bucketSort([17], 5) ==> res:[12, 17]\n",
      "        [over] bucketSort([17, 12], 5) ==> res:[12, 17]\n",
      "      [over] bucketSort([17, 12], 6) ==> res:[12, 17]\n",
      "    [over] bucketSort([17, 12], 7) ==> res:[12, 17]\n",
      "  [over] bucketSort([17, 12], 8) ==> res:[12, 17]\n",
      "[over] bucketSort([17, 12], 9) ==> res:[12, 17]\n",
      "***bucket_count=1\n",
      "  arr:[26, 21, 23], size:9, bucketCount=1\n",
      "  bucket_arr:[[26, 21, 23]]\n",
      "  ***bucket_count=0\n",
      "    arr:[26, 21, 23], size:8, bucketCount=1\n",
      "    bucket_arr:[[26, 21, 23]]\n",
      "    ***bucket_count=0\n",
      "      arr:[26, 21, 23], size:7, bucketCount=1\n",
      "      bucket_arr:[[26, 21, 23]]\n",
      "      ***bucket_count=0\n",
      "        arr:[26, 21, 23], size:6, bucketCount=1\n",
      "        bucket_arr:[[26, 21, 23]]\n",
      "        ***bucket_count=0\n",
      "          arr:[26, 21, 23], size:5, bucketCount=2\n",
      "          bucket_arr:[[21, 23], [26]]\n",
      "          ***bucket_count=0\n",
      "            arr:[21, 23], size:5, bucketCount=1\n",
      "            bucket_arr:[[21, 23]]\n",
      "            ***bucket_count=0\n",
      "              arr:[21, 23], size:4, bucketCount=1\n",
      "              bucket_arr:[[21, 23]]\n",
      "              ***bucket_count=0\n",
      "                arr:[21, 23], size:3, bucketCount=1\n",
      "                bucket_arr:[[21, 23]]\n",
      "                ***bucket_count=0\n",
      "                  arr:[21, 23], size:2, bucketCount=2\n",
      "                  bucket_arr:[[21], [23]]\n",
      "                  ***bucket_count=0\n",
      "                  [over] bucketSort([21], 2) ==> res:[21]\n",
      "                  ***bucket_count=1\n",
      "                  [over] bucketSort([23], 2) ==> res:[21, 23]\n",
      "                [over] bucketSort([21, 23], 2) ==> res:[21, 23]\n",
      "              [over] bucketSort([21, 23], 3) ==> res:[21, 23]\n",
      "            [over] bucketSort([21, 23], 4) ==> res:[21, 23]\n",
      "          [over] bucketSort([21, 23], 5) ==> res:[21, 23]\n",
      "          ***bucket_count=1\n",
      "          [over] bucketSort([26], 5) ==> res:[21, 23, 26]\n",
      "        [over] bucketSort([26, 21, 23], 5) ==> res:[21, 23, 26]\n",
      "      [over] bucketSort([26, 21, 23], 6) ==> res:[21, 23, 26]\n",
      "    [over] bucketSort([26, 21, 23], 7) ==> res:[21, 23, 26]\n",
      "  [over] bucketSort([26, 21, 23], 8) ==> res:[21, 23, 26]\n",
      "[over] bucketSort([26, 21, 23], 9) ==> res:[12, 17, 21, 23, 26]\n",
      "***bucket_count=2\n",
      "[over] bucketSort([], 9) ==> res:[12, 17, 21, 23, 26]\n",
      "***bucket_count=3\n",
      "[over] bucketSort([39], 9) ==> res:[12, 17, 21, 23, 26, 39]\n",
      "***bucket_count=4\n",
      "[over] bucketSort([], 9) ==> res:[12, 17, 21, 23, 26, 39]\n",
      "***bucket_count=5\n",
      "[over] bucketSort([], 9) ==> res:[12, 17, 21, 23, 26, 39]\n",
      "***bucket_count=6\n",
      "  arr:[72, 68], size:9, bucketCount=1\n",
      "  bucket_arr:[[72, 68]]\n",
      "  ***bucket_count=0\n",
      "    arr:[72, 68], size:8, bucketCount=1\n",
      "    bucket_arr:[[72, 68]]\n",
      "    ***bucket_count=0\n",
      "      arr:[72, 68], size:7, bucketCount=1\n",
      "      bucket_arr:[[72, 68]]\n",
      "      ***bucket_count=0\n",
      "        arr:[72, 68], size:6, bucketCount=1\n",
      "        bucket_arr:[[72, 68]]\n",
      "        ***bucket_count=0\n",
      "          arr:[72, 68], size:5, bucketCount=1\n",
      "          bucket_arr:[[72, 68]]\n",
      "          ***bucket_count=0\n",
      "            arr:[72, 68], size:4, bucketCount=2\n",
      "            bucket_arr:[[68], [72]]\n",
      "            ***bucket_count=0\n",
      "            [over] bucketSort([68], 4) ==> res:[68]\n",
      "            ***bucket_count=1\n",
      "            [over] bucketSort([72], 4) ==> res:[68, 72]\n",
      "          [over] bucketSort([72, 68], 4) ==> res:[68, 72]\n",
      "        [over] bucketSort([72, 68], 5) ==> res:[68, 72]\n",
      "      [over] bucketSort([72, 68], 6) ==> res:[68, 72]\n",
      "    [over] bucketSort([72, 68], 7) ==> res:[68, 72]\n",
      "  [over] bucketSort([72, 68], 8) ==> res:[68, 72]\n",
      "[over] bucketSort([72, 68], 9) ==> res:[12, 17, 21, 23, 26, 39, 68, 72]\n",
      "***bucket_count=7\n",
      "[over] bucketSort([78], 9) ==> res:[12, 17, 21, 23, 26, 39, 68, 72, 78]\n",
      "***bucket_count=8\n",
      "[over] bucketSort([], 9) ==> res:[12, 17, 21, 23, 26, 39, 68, 72, 78]\n",
      "***bucket_count=9\n",
      "[over] bucketSort([94], 9) ==> res:[12, 17, 21, 23, 26, 39, 68, 72, 78, 94]\n"
     ]
    },
    {
     "data": {
      "text/plain": [
       "[12, 17, 21, 23, 26, 39, 68, 72, 78, 94]"
      ]
     },
     "execution_count": 67,
     "metadata": {},
     "output_type": "execute_result"
    }
   ],
   "source": [
    "def bucketSort(arr, size, level):\n",
    "    length = len(arr)\n",
    "    if (length<2 or size<1):\n",
    "        return arr\n",
    "    \n",
    "    min_arr = min(arr)\n",
    "    max_arr = max(arr)\n",
    "    bucket_count = (max_arr - min_arr) // size + 1\n",
    "    print(' '*2*level + \"arr:{}, size:{}, bucketCount={}\".format(arr, size, bucket_count))\n",
    "    \n",
    "    res = []\n",
    "    bucket_arr = [[] for i in range(0, bucket_count)]\n",
    "    for i in range(0, length):\n",
    "        bucket_arr[(arr[i]-min_arr)//size].append(arr[i])\n",
    "    print(' '*2*level + \"bucket_arr:{}\".format(bucket_arr))\n",
    "    for i in range(0, bucket_count):\n",
    "        print(' '*2*level + \"***bucket_count={}\".format(i))\n",
    "        if (bucket_count == 1):\n",
    "            size -= 1;\n",
    "        tmp = bucketSort(bucket_arr[i], size, level+1)\n",
    "        res += tmp\n",
    "        print(' '*2*level + \"[over] bucketSort({}, {}) ==> res:{}\".format(bucket_arr[i], size, res))\n",
    "    return res\n",
    "\n",
    "# bucketSort([3,2,5,5,4,5,6,4,7], 2, 0)\n",
    "bucketSort([78,17,39,26,72,94,21,12,23,68], 9, 0)"
   ]
  },
  {
   "cell_type": "code",
   "execution_count": null,
   "metadata": {
    "collapsed": true
   },
   "outputs": [],
   "source": []
  },
  {
   "cell_type": "markdown",
   "metadata": {},
   "source": [
    "* 字符串"
   ]
  },
  {
   "cell_type": "code",
   "execution_count": 46,
   "metadata": {
    "ExecuteTime": {
     "end_time": "2020-03-20T10:39:34.861028Z",
     "start_time": "2020-03-20T10:39:34.831677Z"
    }
   },
   "outputs": [
    {
     "data": {
      "text/plain": [
       "True"
      ]
     },
     "execution_count": 46,
     "metadata": {},
     "output_type": "execute_result"
    },
    {
     "data": {
      "text/plain": [
       "False"
      ]
     },
     "execution_count": 46,
     "metadata": {},
     "output_type": "execute_result"
    }
   ],
   "source": [
    "# 输入字符串s1,s2，判断s2是否包含（s1的一种排列）\n",
    "\n",
    "#例子：s1= \"abc\"，s2 = \"xyzcabpq\"\n",
    "# s1包含\"cab\"，是\"abc\"的一种排列\n",
    "# return true\n",
    "\n",
    "def checkInclusion(s1, s2):\n",
    "\tif (len(s2)==0 or len(s1)>len(s2)):\n",
    "\t\treturn False\n",
    "\tif (len(s1)==0):\n",
    "\t\treturn True\n",
    "\tnum1 = [0] * 26\n",
    "\tnum2 = [0] * 26\n",
    "\tfor i in range(len(s1)):\n",
    "\t\tnum1[ord(s1[i])-97] += 1\n",
    "\t\tnum2[ord(s2[i])-97] += 1\n",
    "# \tprint(\"num1:{}\".format(num1))\n",
    "# \tprint(\"num2:{}\".format(num2))\n",
    "\tdif = [num2[i]-num1[i] for i in range(len(num1))]\n",
    "# \tprint(\"dif:{}\".format(dif))\n",
    "\tj = len(s1) - 1\n",
    "\twhile (j<len(s2)):\n",
    "\t\tif j >= len(s1):\n",
    "\t\t\tdif[ord(s2[j]) - 97] += 1\n",
    "\t\t\tdif[ord(s2[j-len(s1)]) - 97] -= 1\n",
    "# \t\t\tprint('j:{}, dif:{}'.format(j, dif))\n",
    "\t\tres = filter(lambda x: True if x<>0 else False, dif)\n",
    "# \t\tprint(\"j:{}, res:{}\".format(j, res))\n",
    "\t\tif len(res)==0:\n",
    "\t\t\treturn True\n",
    "\t\tj += 1\n",
    "\treturn False\n",
    "\n",
    "checkInclusion('ab', 'eidbaooo')\n",
    "checkInclusion('ab', 'eiadboaoo')"
   ]
  },
  {
   "cell_type": "markdown",
   "metadata": {
    "collapsed": true
   },
   "source": [
    "* 从左上角到右下角的路径最小值"
   ]
  },
  {
   "cell_type": "code",
   "execution_count": 48,
   "metadata": {
    "ExecuteTime": {
     "end_time": "2020-03-27T02:31:27.472105Z",
     "start_time": "2020-03-27T02:31:27.447479Z"
    },
    "collapsed": true
   },
   "outputs": [],
   "source": [
    "maxValue = 1000000000\n",
    "tmp_values = [([maxValue] * 5) for i in range(4)]\n",
    "def findPath (i, j, values, level):\n",
    "\t# values valid\n",
    "\trows = len(values)\n",
    "\tif rows == 0:\n",
    "\t\treturn 0\n",
    "\tcolumns = len(values[0])\n",
    "\tif columns == 0:\n",
    "\t\treturn 0\n",
    "\tif (i<0) or (j<0) or (i>=rows) or (j>=columns):\n",
    "\t\treturn maxValue\n",
    "\n",
    "\t# arrived\n",
    "\tif (i==rows-1) and (j==columns-1):\n",
    "\t\ttmp_values[i][j] = values[i][j]\n",
    "\n",
    "\tif (tmp_values[i][j] < maxValue):\n",
    "\t\tprint(' '*2*level, '**2**', i, j, tmp_values[i][j])\n",
    "\t\treturn tmp_values[i][j]\n",
    "\n",
    "\tdown = findPath (i+1, j, values, level+1) + values[i][j]\n",
    "\tright = findPath (i, j+1, values, level+1) + values[i][j]\n",
    "\ttmp_values[i][j] = min(down, right)\n",
    "\tprint(' '*2*level, '**1**', i, j, tmp_values[i][j])\n",
    "\treturn tmp_values[i][j]"
   ]
  },
  {
   "cell_type": "code",
   "execution_count": 49,
   "metadata": {
    "ExecuteTime": {
     "end_time": "2020-03-27T02:31:31.478505Z",
     "start_time": "2020-03-27T02:31:31.464271Z"
    }
   },
   "outputs": [
    {
     "name": "stdout",
     "output_type": "stream",
     "text": [
      "('              ', '**2**', 3, 4, 6)\n",
      "('            ', '**1**', 3, 3, 11)\n",
      "('          ', '**1**', 3, 2, 15)\n",
      "('        ', '**1**', 3, 1, 18)\n",
      "('      ', '**1**', 3, 0, 20)\n",
      "('        ', '**2**', 3, 1, 18)\n",
      "('          ', '**2**', 3, 2, 15)\n",
      "('            ', '**2**', 3, 3, 11)\n",
      "('              ', '**2**', 3, 4, 6)\n",
      "('            ', '**1**', 2, 4, 13)\n",
      "('          ', '**1**', 2, 3, 16)\n",
      "('        ', '**1**', 2, 2, 18)\n",
      "('      ', '**1**', 2, 1, 20)\n",
      "('    ', '**1**', 2, 0, 21)\n",
      "('      ', '**2**', 2, 1, 20)\n",
      "('        ', '**2**', 2, 2, 18)\n",
      "('          ', '**2**', 2, 3, 16)\n",
      "('            ', '**2**', 2, 4, 13)\n",
      "('          ', '**1**', 1, 4, 20)\n",
      "('        ', '**1**', 1, 3, 22)\n",
      "('      ', '**1**', 1, 2, 23)\n",
      "('    ', '**1**', 1, 1, 24)\n",
      "('  ', '**1**', 1, 0, 24)\n",
      "('    ', '**2**', 1, 1, 24)\n",
      "('      ', '**2**', 1, 2, 23)\n",
      "('        ', '**2**', 1, 3, 22)\n",
      "('          ', '**2**', 1, 4, 20)\n",
      "('        ', '**1**', 0, 4, 26)\n",
      "('      ', '**1**', 0, 3, 27)\n",
      "('    ', '**1**', 0, 2, 27)\n",
      "('  ', '**1**', 0, 1, 27)\n",
      "('', '**1**', 0, 0, 26)\n"
     ]
    },
    {
     "data": {
      "text/plain": [
       "26"
      ]
     },
     "execution_count": 49,
     "metadata": {},
     "output_type": "execute_result"
    }
   ],
   "source": [
    "values = [[2,3,4,5,6],[3,4,5,6,7],[1,2,3,5,7],[2,3,4,5,6]]\n",
    "findPath(0,0,values,0)"
   ]
  },
  {
   "cell_type": "code",
   "execution_count": 50,
   "metadata": {
    "ExecuteTime": {
     "end_time": "2020-03-27T02:53:18.803040Z",
     "start_time": "2020-03-27T02:53:18.783572Z"
    }
   },
   "outputs": [
    {
     "data": {
      "text/plain": [
       "[[26, 27, 27, 27, 26],\n",
       " [24, 24, 23, 22, 20],\n",
       " [21, 20, 18, 16, 13],\n",
       " [20, 18, 15, 11, 6]]"
      ]
     },
     "execution_count": 50,
     "metadata": {},
     "output_type": "execute_result"
    }
   ],
   "source": [
    "tmp_values"
   ]
  },
  {
   "cell_type": "code",
   "execution_count": null,
   "metadata": {
    "collapsed": true
   },
   "outputs": [],
   "source": []
  },
  {
   "cell_type": "code",
   "execution_count": 19,
   "metadata": {
    "ExecuteTime": {
     "end_time": "2020-03-26T07:40:28.734201Z",
     "start_time": "2020-03-26T07:40:28.711428Z"
    },
    "collapsed": true
   },
   "outputs": [],
   "source": [
    "def findPath_dp(i, j, values):\n",
    "\t# values valid\n",
    "\trows = len(values)\n",
    "\tif rows == 0:\n",
    "\t\treturn -1\n",
    "\tcolumns = len(values[0])\n",
    "\tif columns == 0:\n",
    "\t\treturn -1\n",
    "\n",
    "\tif (i<0) or (j<0) or (i>=rows) or (j>=columns):\n",
    "\t\treturn maxValue\n",
    "\n",
    "\ttmp_values = [[maxValue] * columns] * rows\n",
    "\ttmp_values[0][0] = values[0][0]\n",
    "\tfor i in range(1, rows):\n",
    "\t\ttmp_values[i][0] = tmp_values[i-1][0] + values[i][0]\n",
    "\tfor j in range(1, columns):\n",
    "\t\ttmp_values[0][j] = tmp_values[0][j-1] + values[0][j]\n",
    "\tfor i in range(1, rows):\n",
    "\t\tfor j in range(1, columns):\n",
    "\t\t\ttmp_values[i][j] = min(tmp_values[i-1][j], tmp_values[i][j-1]) + values[i][j]\n",
    "\treturn tmp_values[rows-1][columns-1]"
   ]
  },
  {
   "cell_type": "code",
   "execution_count": 20,
   "metadata": {
    "ExecuteTime": {
     "end_time": "2020-03-26T07:40:44.491788Z",
     "start_time": "2020-03-26T07:40:44.485944Z"
    }
   },
   "outputs": [
    {
     "data": {
      "text/plain": [
       "26"
      ]
     },
     "execution_count": 20,
     "metadata": {},
     "output_type": "execute_result"
    }
   ],
   "source": [
    "values = [[2,3,4,5,6],[3,4,5,6,7],[1,2,3,5,7],[2,3,4,5,6]]\n",
    "findPath_dp(0,0,values)"
   ]
  },
  {
   "cell_type": "code",
   "execution_count": null,
   "metadata": {
    "collapsed": true
   },
   "outputs": [],
   "source": []
  },
  {
   "cell_type": "markdown",
   "metadata": {},
   "source": [
    "* 旋转不变数"
   ]
  },
  {
   "cell_type": "code",
   "execution_count": 5,
   "metadata": {
    "ExecuteTime": {
     "end_time": "2020-04-17T13:48:47.786165Z",
     "start_time": "2020-04-17T13:48:47.749847Z"
    }
   },
   "outputs": [
    {
     "data": {
      "text/plain": [
       "[[1, 1], [9, 6], [6, 9], [8, 8]]"
      ]
     },
     "execution_count": 5,
     "metadata": {},
     "output_type": "execute_result"
    }
   ],
   "source": [
    "# 旋转不变数：69 --> 96\n",
    "# 给定整数n，输出所有长度为n的旋转不变数\n",
    "import copy\n",
    "\n",
    "odd_list=[0, 1, 8]\n",
    "even_list={0:0, 1:1, 6:9, 8:8, 9:6}\n",
    "left_ans = []\n",
    "\n",
    "def setLeft(keys, mid, n, result):\n",
    "\tif (mid == 0):\n",
    "\t\tleft_ans.append(copy.deepcopy(result))\n",
    "\t\treturn\n",
    "\tfor key in keys:\n",
    "\t\tif (mid==1 and key==0):\n",
    "\t\t\tcontinue\n",
    "\t\tresult[mid-1] = key\n",
    "\t\tresult[n-mid] = even_list[key] # k = n-mid\n",
    "\t\tsetLeft(keys, mid-1, n, result)\n",
    "\n",
    "def getRotationNumber(n):\n",
    "\tif (n == 0):\n",
    "\t\treturn -1\n",
    "\tresult = [0] * n\n",
    "\tmid = n // 2\n",
    "\n",
    "\tsetLeft(even_list.keys(), mid, n, result)\n",
    "# \tprint mid,left_ans\n",
    "\n",
    "# \tfor i in range(len(left_ans)):\n",
    "# \t\ttmp_result = left_ans[i]\n",
    "# \t\tif (n%2 == 1):\n",
    "# \t\t\tmid += 1\n",
    "# \t\t\tfor j in range(len(odd_list)):\n",
    "# \t\t\t\ttmp_result[mid-1] = odd_list[j]\n",
    "# \t\t\t\tfor k in range(mid+1, n+1):\n",
    "# \t\t\t\t\ttmp_result[k-1] = even_list[ tmp_result[2*mid - k -1] ]\n",
    "# \t\t\t\tans.append(copy.deepcopy(tmp_result))\n",
    "# \t\t\tmid -= 1\n",
    "# \t\telse:\n",
    "# \t\t\tfor k in range(mid+1, n+1):\n",
    "# \t\t\t\ttmp_result[k-1] = even_list[ tmp_result[2*mid - k] ]\n",
    "# \t\t\tans.append(copy.deepcopy(tmp_result))  \n",
    "\n",
    "\tans = []\n",
    "\tif (n%2 == 1):\n",
    "\t\tfor i in range(len(left_ans)):\n",
    "\t\t\ttmp_result = left_ans[i]\n",
    "\t\t\tfor j in range(len(odd_list)):\n",
    "\t\t\t\ttmp_result[mid] = odd_list[j]\n",
    "\t\t\t\tans.append(copy.deepcopy(tmp_result))\n",
    "\telse:\n",
    "\t\tans = left_ans\n",
    "\treturn ans\n",
    "\n",
    "getRotationNumber(2)\n",
    "# getRotationNumber(3)"
   ]
  },
  {
   "cell_type": "code",
   "execution_count": null,
   "metadata": {
    "collapsed": true
   },
   "outputs": [],
   "source": []
  },
  {
   "cell_type": "markdown",
   "metadata": {},
   "source": [
    "* 提莫攻击"
   ]
  },
  {
   "cell_type": "code",
   "execution_count": 44,
   "metadata": {
    "ExecuteTime": {
     "end_time": "2020-04-22T10:08:37.202721Z",
     "start_time": "2020-04-22T10:08:37.185668Z"
    }
   },
   "outputs": [
    {
     "data": {
      "text/plain": [
       "3"
      ]
     },
     "execution_count": 44,
     "metadata": {},
     "output_type": "execute_result"
    },
    {
     "data": {
      "text/plain": [
       "11"
      ]
     },
     "execution_count": 44,
     "metadata": {},
     "output_type": "execute_result"
    },
    {
     "data": {
      "text/plain": [
       "12"
      ]
     },
     "execution_count": 44,
     "metadata": {},
     "output_type": "execute_result"
    }
   ],
   "source": [
    "def getTimes(inputStr):\n",
    "    timeStr, toxicTimes = inputStr.strip().split(',')\n",
    "    if timeStr in ('', ' ') or toxicTimes in ('', ' '):\n",
    "        return 0\n",
    "\n",
    "    timeList = timeStr.strip().split(' ') #获取攻击时间序列\n",
    "    timeList_int = [int(timePoint.strip()) for timePoint in timeList]\n",
    "    toxicTimes_int = int(toxicTimes) #获取中毒持续时间\n",
    "    toxicTime_sum = 0 #中毒总时间\n",
    "    for idx in range(1, len(timeList_int)):\n",
    "        toxicTime_curent = timeList_int[idx] - timeList_int[idx - 1]\n",
    "        toxicTime_sum += min(toxicTime_curent, toxicTimes_int)\n",
    "    toxicTime_sum += toxicTimes_int #加上最后一个时间点的中毒时间\n",
    "    return toxicTime_sum\n",
    "\n",
    "#test case\n",
    "getTimes('1 2,2')\n",
    "getTimes('1 3 4 8 10,3')\n",
    "getTimes('1 3 4 8 10 11,3')"
   ]
  },
  {
   "cell_type": "code",
   "execution_count": null,
   "metadata": {
    "collapsed": true
   },
   "outputs": [],
   "source": []
  },
  {
   "cell_type": "markdown",
   "metadata": {},
   "source": [
    "* 合并所有同义词\n",
    "* 说明：有一份数据有N行，每一行有不等数量的同义词，手写代码，给出整个数据所有同义数据合并后的结果。"
   ]
  },
  {
   "cell_type": "code",
   "execution_count": 55,
   "metadata": {
    "ExecuteTime": {
     "end_time": "2020-04-23T10:34:06.042475Z",
     "start_time": "2020-04-23T10:34:06.013253Z"
    }
   },
   "outputs": [
    {
     "name": "stdout",
     "output_type": "stream",
     "text": [
      "['a', 'c', 'b', 'd']\n",
      "['e', 'w', 'f']\n",
      "['y', 'x', 'm', 'n']\n"
     ]
    }
   ],
   "source": [
    "def printWords (path):\n",
    "    syn_words = {}\n",
    "    sys_word_lines = {}\n",
    "    line_number = 0\n",
    "    with open(path, 'r') as f:\n",
    "        for lines in f.readlines():\n",
    "            lines = lines.strip()\n",
    "            words = lines.split(' ')\n",
    "            if line_number == 0: #加入字典中，初始化\n",
    "                for word in words:\n",
    "                    if word not in syn_words.keys():\n",
    "                        syn_words[word] = line_number\n",
    "                sys_word_lines[0] = set(words)\n",
    "            else:\n",
    "                line_number_cur = line_number #取min\n",
    "                line_number_old = []\n",
    "                for word in words:\n",
    "                    if word in syn_words.keys():\n",
    "                        del_number = syn_words[word]\n",
    "                        if del_number not in line_number_old:\n",
    "                            line_number_old.append(del_number)\n",
    "                        line_number_cur = min(line_number_cur, del_number)\n",
    "                    else:\n",
    "                        syn_words[word] = line_number_cur\n",
    "                if line_number_cur < line_number:\n",
    "                    # 更新受影响的行\n",
    "                    new_line = set()\n",
    "                    for tmp_line in line_number_old:\n",
    "                        # new_line.extend(list(sys_word_lines[tmp_line]))\n",
    "                        new_line = new_line.union(sys_word_lines[tmp_line])\n",
    "                        del sys_word_lines[tmp_line]\n",
    "                    new_line = new_line.union(set(words))\n",
    "                    sys_word_lines[line_number_cur] = set(new_line)\n",
    "                else:\n",
    "                    sys_word_lines[line_number_cur] = set(words)\n",
    "            line_number += 1\n",
    "            # print (syn_words)\n",
    "            # print (sys_word_lines)\n",
    "            \n",
    "    lines = sorted(sys_word_lines.keys())\n",
    "    for idx in lines:\n",
    "        print(list(sys_word_lines[idx]))\n",
    "        \n",
    "printWords('./synWords.txt')"
   ]
  },
  {
   "cell_type": "code",
   "execution_count": 54,
   "metadata": {
    "ExecuteTime": {
     "end_time": "2020-04-23T10:32:03.809458Z",
     "start_time": "2020-04-23T10:32:03.804145Z"
    }
   },
   "outputs": [
    {
     "name": "stdout",
     "output_type": "stream",
     "text": [
      "[123, 'xyz', 'zara', 'abc', 123, 2009, 'manni']\n",
      "[2009, 'manni']\n",
      "None\n"
     ]
    }
   ],
   "source": [
    "aList = [123, 'xyz', 'zara', 'abc', 123]\n",
    "bList = [2009, 'manni']\n",
    "cList = aList.extend(bList)\n",
    "print aList\n",
    "print bList\n",
    "print cList"
   ]
  },
  {
   "cell_type": "code",
   "execution_count": null,
   "metadata": {
    "collapsed": true
   },
   "outputs": [],
   "source": []
  },
  {
   "cell_type": "code",
   "execution_count": null,
   "metadata": {
    "collapsed": true
   },
   "outputs": [],
   "source": []
  },
  {
   "cell_type": "code",
   "execution_count": 74,
   "metadata": {
    "ExecuteTime": {
     "end_time": "2020-04-26T09:04:05.965837Z",
     "start_time": "2020-04-26T09:04:05.946529Z"
    }
   },
   "outputs": [
    {
     "name": "stdout",
     "output_type": "stream",
     "text": [
      "[0, 1, 3, 7, 4, 9]\n",
      "[1, 0, 2, 6, 3, 8]\n",
      "[3, 2, 0, 4, 1, 6]\n",
      "[7, 6, 4, 0, 3, 2]\n",
      "[4, 3, 1, 3, 0, 5]\n",
      "[9, 8, 6, 2, 5, 0]\n"
     ]
    }
   ],
   "source": [
    "# 1.给定无向图邻接矩阵，输出任意两点间的最短距离\n",
    "def getMinPath (path):\n",
    "    row = len(path)\n",
    "    column = len(path[0])\n",
    "    # 初始化结果矩阵\n",
    "    res = [([-1] * column) for i in range(row)]\n",
    "    for i in range(row):\n",
    "        for j in range(column):\n",
    "            if i == j:\n",
    "                res[i][j] = 0\n",
    "            elif path[i][j] != -1:\n",
    "                res[i][j] = path[i][j]\n",
    "    #print res\n",
    "    for k in range(row):\n",
    "        for i in range(row):\n",
    "            for j in range(column):\n",
    "                # 每次更新中间节点\n",
    "                if (res[i][k] != -1 and res[k][j] != -1\n",
    "                    and (res[i][j] == -1\n",
    "                         or res[i][j] > res[i][k] + res[k][j]) ):\n",
    "                    res[i][j] = res[i][k] + res[k][j]\n",
    "    for i in range(row):\n",
    "        print res[i]               \n",
    "\n",
    "# test case\n",
    "path = [[ 0, 1, 4,-1,-1,-1],\n",
    "        [ 1, 0, 2, 7, 5,-1],\n",
    "        [ 4, 2, 0,-1, 1,-1],\n",
    "        [-1, 7,-1, 0, 3, 2],\n",
    "        [-1, 5, 1, 3, 0, 6],\n",
    "        [-1,-1,-1, 2, 6, 0]]\n",
    "getMinPath(path)"
   ]
  },
  {
   "cell_type": "code",
   "execution_count": 80,
   "metadata": {
    "ExecuteTime": {
     "end_time": "2020-04-26T09:33:06.743066Z",
     "start_time": "2020-04-26T09:33:06.731008Z"
    }
   },
   "outputs": [
    {
     "name": "stdout",
     "output_type": "stream",
     "text": [
      "[1, 2, 4, 4, 8, 9]\n"
     ]
    },
    {
     "data": {
      "text/plain": [
       "9"
      ]
     },
     "execution_count": 80,
     "metadata": {},
     "output_type": "execute_result"
    }
   ],
   "source": [
    "# 2.一维数组代价最小值\n",
    "def getMinCost (costs):\n",
    "    if len(costs) == 0:\n",
    "        return 0\n",
    "    if len(costs) == 1:\n",
    "        return costs[0]\n",
    "    result = [0] * len(costs)\n",
    "    result[0] = costs[0]\n",
    "    result[1] = min(costs[0], costs[1])\n",
    "    for idx in range(2, len(costs)):\n",
    "        if \n",
    "        result[idx] = max(costs[idx] + result[idx - 2], result[idx - 1])\n",
    "    print result\n",
    "    return result[len(costs) - 1]\n",
    "\n",
    "# test case\n",
    "getMinCost([1,2,3,2,4,5])"
   ]
  },
  {
   "cell_type": "code",
   "execution_count": null,
   "metadata": {
    "collapsed": true
   },
   "outputs": [],
   "source": []
  },
  {
   "cell_type": "code",
   "execution_count": null,
   "metadata": {
    "collapsed": true
   },
   "outputs": [],
   "source": []
  },
  {
   "cell_type": "code",
   "execution_count": null,
   "metadata": {
    "collapsed": true
   },
   "outputs": [],
   "source": []
  },
  {
   "cell_type": "markdown",
   "metadata": {},
   "source": [
    "* AUC"
   ]
  },
  {
   "cell_type": "code",
   "execution_count": 54,
   "metadata": {
    "ExecuteTime": {
     "end_time": "2020-03-28T10:36:16.209645Z",
     "start_time": "2020-03-28T10:36:16.204274Z"
    },
    "collapsed": true
   },
   "outputs": [],
   "source": [
    "actual=[1,0,1,0,1]\n",
    "posterior=[0.9,0.5,0.8,0.7,0.6]\n",
    "r=[5,1,4,3,2]   #tied_rank\n",
    "num_positive = len([0 for x in actual if x==1])\n",
    "num_negative = len(actual)-num_positive\n",
    "sum_positive = sum([r[i] for i in range(len(r)) if actual[i]==1]) #the sum of tied_rank by positive\n",
    "print num_positive, num_negative, sum_positive"
   ]
  },
  {
   "cell_type": "code",
   "execution_count": 62,
   "metadata": {
    "ExecuteTime": {
     "end_time": "2020-03-28T10:38:27.151153Z",
     "start_time": "2020-03-28T10:38:27.141811Z"
    },
    "collapsed": true
   },
   "outputs": [],
   "source": [
    "def auc(actual, posterior):\n",
    "    \"\"\"\n",
    "    Computes the area under the receiver-operater characteristic (AUC)\n",
    "    This function computes the AUC error metric for binary classification.\n",
    "    Parameters\n",
    "    ----------\n",
    "    actual : list of binary numbers, numpy array\n",
    "             The ground truth value\n",
    "    posterior : same type as actual\n",
    "                Defines a ranking on the binary numbers, from most likely to\n",
    "                be positive to least likely to be positive.\n",
    "    Returns\n",
    "    -------\n",
    "    score : double\n",
    "            The mean squared error between actual and posterior\n",
    "    \"\"\"\n",
    "    r = tied_rank(posterior)\n",
    "    num_positive = len([0 for x in actual if x==1])\n",
    "    num_negative = len(actual)-num_positive\n",
    "    sum_positive = sum([r[i] for i in range(len(r)) if actual[i]==1])\n",
    "    auc = ((sum_positive - num_positive*(num_positive+1)/2.0) /\n",
    "           (num_negative*num_positive))\n",
    "    return auc"
   ]
  },
  {
   "cell_type": "code",
   "execution_count": null,
   "metadata": {
    "collapsed": true
   },
   "outputs": [],
   "source": []
  },
  {
   "cell_type": "markdown",
   "metadata": {},
   "source": [
    "* k means"
   ]
  },
  {
   "cell_type": "code",
   "execution_count": 124,
   "metadata": {
    "ExecuteTime": {
     "end_time": "2020-05-08T13:20:55.869581Z",
     "start_time": "2020-05-08T13:20:55.821759Z"
    }
   },
   "outputs": [
    {
     "name": "stdout",
     "output_type": "stream",
     "text": [
      "k points:  [(1, 2), (4, 3), (7, 5)]\n",
      "[[(1, 2)], [(3, 4), (4, 5), (6, 3), (4, 3)], [(5, 6), (9, 4)]]\n"
     ]
    },
    {
     "data": {
      "text/plain": [
       "[(1, 2), (4, 3), (7, 5)]"
      ]
     },
     "execution_count": 124,
     "metadata": {},
     "output_type": "execute_result"
    }
   ],
   "source": [
    "def get_dis(point, tmp):\n",
    "    x1, y1 = point\n",
    "    x2, y2 = tmp\n",
    "    return (y2-y1)*(y2-y1) + (x2-x1)*(x2-x1)\n",
    "\n",
    "def get_k_points(k_points, class_points):\n",
    "    k_points_tmp = []\n",
    "    gap = 0\n",
    "    for idx, points in enumerate(class_points): # [ [(x, y)] ]\n",
    "        points_len = len(points)\n",
    "        if points_len == 0:\n",
    "            gap += get_dis(k_points[idx], ((0,0),))\n",
    "            k_points_tmp.append() # 放入一个空值\n",
    "            continue\n",
    "        sum_x = 0\n",
    "        sum_y = 0\n",
    "        for point in points:\n",
    "            x, y = point\n",
    "            sum_x += x\n",
    "            sum_y += y\n",
    "        tmp = (sum_x/points_len, sum_y/points_len)\n",
    "        k_points_tmp.append(tmp)\n",
    "        gap += get_dis(k_points[idx], tmp)\n",
    "    # print k_points, k_points_tmp\n",
    "    return k_points_tmp, gap\n",
    "\n",
    "def findKmeans(points, k):\n",
    "    k_points = points[:k]\n",
    "    iter_num = 10000\n",
    "    \n",
    "    # 迭代轮数\n",
    "    for i in range(iter_num):\n",
    "        class_points = [[] for j in range(k)]\n",
    "        for point in points: # point = (x1, y1)\n",
    "            min_dis = 999999999\n",
    "            min_class = -1\n",
    "            # 找到所属类的中心点\n",
    "            for idx, tmp in enumerate(k_points): # tmp = (x2, y2)\n",
    "                dis = get_dis(point, tmp)\n",
    "                if dis < min_dis:\n",
    "                    min_dis = dis\n",
    "                    min_class = idx\n",
    "            class_points[min_class].append(point)\n",
    "        # 更新中心点\n",
    "        # print i, k_points, class_points\n",
    "        k_points, gap = get_k_points(k_points, class_points)\n",
    "        # print i, k_points, gap\n",
    "        if gap < 0.01:\n",
    "            break\n",
    "    print \"k points: \", k_points\n",
    "    print class_points\n",
    "    return k_points\n",
    "\n",
    "points = [(1,2), (3,4), (5,6), (4,5), (9,4), (6,3), (4,3)]\n",
    "findKmeans(points, 3)"
   ]
  },
  {
   "cell_type": "code",
   "execution_count": null,
   "metadata": {
    "collapsed": true
   },
   "outputs": [],
   "source": []
  },
  {
   "cell_type": "code",
   "execution_count": null,
   "metadata": {
    "collapsed": true
   },
   "outputs": [],
   "source": []
  },
  {
   "cell_type": "code",
   "execution_count": null,
   "metadata": {
    "collapsed": true
   },
   "outputs": [],
   "source": []
  },
  {
   "cell_type": "code",
   "execution_count": null,
   "metadata": {
    "collapsed": true
   },
   "outputs": [],
   "source": []
  },
  {
   "cell_type": "code",
   "execution_count": 41,
   "metadata": {
    "ExecuteTime": {
     "end_time": "2020-05-28T13:31:21.942147Z",
     "start_time": "2020-05-28T13:31:21.928921Z"
    }
   },
   "outputs": [
    {
     "name": "stdout",
     "output_type": "stream",
     "text": [
      "aabc ['aabc', 'aacb', 'abac', 'abca', 'acab', 'acba', 'baac', 'baca', 'bcaa', 'caab', 'caba', 'cbaa']\n",
      "abc ['abc', 'acb', 'bac', 'bca', 'cab', 'cba']\n",
      "ttt ['ttt']\n"
     ]
    }
   ],
   "source": [
    "def full_connection(idx, inputstr):\n",
    "    length = len(inputstr)\n",
    "    if (idx==length):\n",
    "        tmp_res = \"\".join(ans)\n",
    "        if tmp_res not in res:\n",
    "            res.append(tmp_res)\n",
    "        return\n",
    "    for i in range(0, length):\n",
    "        if use[i]==1:\n",
    "            use[i]=0\n",
    "            ans[idx]=inputstr[i]\n",
    "            full_connection(idx+1, inputstr)\n",
    "            use[i]=1\n",
    "inputlist=['aabc', 'abc', 'ttt']\n",
    "for inputstr in inputlist:\n",
    "    ans=[0]*len(inputstr)\n",
    "    use=[1]*len(inputstr)\n",
    "    res=[]\n",
    "    full_connection(0,inputstr)\n",
    "    print inputstr,res"
   ]
  }
 ],
 "metadata": {
  "kernelspec": {
   "display_name": "Python 2",
   "language": "python",
   "name": "python2"
  },
  "language_info": {
   "codemirror_mode": {
    "name": "ipython",
    "version": 2
   },
   "file_extension": ".py",
   "mimetype": "text/x-python",
   "name": "python",
   "nbconvert_exporter": "python",
   "pygments_lexer": "ipython2",
   "version": "2.7.13"
  },
  "toc": {
   "base_numbering": 1,
   "nav_menu": {},
   "number_sections": true,
   "sideBar": true,
   "skip_h1_title": false,
   "title_cell": "Table of Contents",
   "title_sidebar": "Contents",
   "toc_cell": false,
   "toc_position": {},
   "toc_section_display": true,
   "toc_window_display": false
  }
 },
 "nbformat": 4,
 "nbformat_minor": 2
}
