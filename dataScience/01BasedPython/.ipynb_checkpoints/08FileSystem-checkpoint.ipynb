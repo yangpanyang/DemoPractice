{
 "cells": [
  {
   "cell_type": "code",
   "execution_count": 1,
   "metadata": {
    "ExecuteTime": {
     "end_time": "2020-02-29T12:33:25.479496Z",
     "start_time": "2020-02-29T12:33:25.469379Z"
    }
   },
   "outputs": [],
   "source": [
    "# --- Python文件读写 ---\n",
    "%config ZMQInteractiveShell.ast_node_interactivity='all'"
   ]
  },
  {
   "cell_type": "code",
   "execution_count": 5,
   "metadata": {
    "ExecuteTime": {
     "end_time": "2020-02-27T06:27:38.906799Z",
     "start_time": "2020-02-27T06:27:38.901886Z"
    }
   },
   "outputs": [
    {
     "name": "stdout",
     "output_type": "stream",
     "text": [
      "AAA\n",
      "BBB\n",
      "CCC\n",
      "DDD\n",
      "EEE\n"
     ]
    }
   ],
   "source": [
    "# 读取文件\n",
    "f = open('pl_09/sample.txt')\n",
    "data = f.read()\n",
    "print(data)\n",
    "f.close()"
   ]
  },
  {
   "cell_type": "code",
   "execution_count": 57,
   "metadata": {
    "ExecuteTime": {
     "end_time": "2020-02-28T04:17:31.111955Z",
     "start_time": "2020-02-28T04:17:31.104757Z"
    }
   },
   "outputs": [
    {
     "data": {
      "text/plain": [
       "'\\nline = f.readline()\\nwhile (line):\\n    print(line.strip())\\n    line = f.readline()\\n'"
      ]
     },
     "execution_count": 57,
     "metadata": {},
     "output_type": "execute_result"
    },
    {
     "name": "stdout",
     "output_type": "stream",
     "text": [
      "AAA\n",
      "BBB\n",
      "CCC\n",
      "DDD\n",
      "EEE\n"
     ]
    }
   ],
   "source": [
    "f = open('pl_09/sample.txt')\n",
    "'''\n",
    "line = f.readline()\n",
    "while (line):\n",
    "    print(line.strip())\n",
    "    line = f.readline()\n",
    "'''\n",
    "while True:\n",
    "    line = f.readline()\n",
    "    if line:\n",
    "        #print(line)\n",
    "        print(line.strip())\n",
    "    else:\n",
    "        break\n",
    "f.close() # 能不能自动关闭文件？"
   ]
  },
  {
   "cell_type": "code",
   "execution_count": 7,
   "metadata": {
    "ExecuteTime": {
     "end_time": "2020-02-27T06:27:42.172905Z",
     "start_time": "2020-02-27T06:27:42.167814Z"
    }
   },
   "outputs": [
    {
     "name": "stdout",
     "output_type": "stream",
     "text": [
      "AAA\n",
      "BBB\n",
      "CCC\n",
      "DDD\n",
      "EEE\n"
     ]
    }
   ],
   "source": [
    "# 使用with等于自动封装了一层异常处理，\n",
    "# 在使用结束或出现异常后自动关闭文件。\n",
    "with open('pl_09/sample.txt') as f:\n",
    "    for line in f.readlines():\n",
    "        print(line.strip())"
   ]
  },
  {
   "cell_type": "code",
   "execution_count": 8,
   "metadata": {
    "ExecuteTime": {
     "end_time": "2020-02-27T06:27:43.935085Z",
     "start_time": "2020-02-27T06:27:43.925202Z"
    }
   },
   "outputs": [
    {
     "name": "stdout",
     "output_type": "stream",
     "text": [
      "<class 'generator'>\n",
      "AAA\n",
      "BBB\n",
      "CCC\n",
      "DDD\n",
      "EEE\n"
     ]
    }
   ],
   "source": [
    "# 练习：模拟readlines函数实现\n",
    "def readlines(f):\n",
    "    while True:\n",
    "        line = f.readline()\n",
    "        if line:\n",
    "            yield line\n",
    "        else:\n",
    "            break\n",
    "\n",
    "with open('pl_09/sample.txt') as f:\n",
    "    lines = readlines(f)\n",
    "    print(type(lines))\n",
    "    for line in lines:\n",
    "        print(line.strip())"
   ]
  },
  {
   "cell_type": "code",
   "execution_count": 69,
   "metadata": {
    "ExecuteTime": {
     "end_time": "2020-02-28T07:20:23.363251Z",
     "start_time": "2020-02-28T07:20:23.345955Z"
    }
   },
   "outputs": [
    {
     "data": {
      "text/plain": [
       "'/Users/yangpan 1/works/DataScience/01BasedPython/01CourseFiles'"
      ]
     },
     "execution_count": 69,
     "metadata": {},
     "output_type": "execute_result"
    },
    {
     "data": {
      "text/plain": [
       "'/Users/yangpan 1/works/DataScience/01BasedPython/01CourseFiles'"
      ]
     },
     "execution_count": 69,
     "metadata": {},
     "output_type": "execute_result"
    },
    {
     "name": "stdout",
     "output_type": "stream",
     "text": [
      "*** list current directory:\n"
     ]
    },
    {
     "data": {
      "text/plain": [
       "['09DataAnalysis.ipynb',\n",
       " '07AdvancedObject.ipynb',\n",
       " '06BasedObject.ipynb',\n",
       " '05AdvancedFunctions.ipynb',\n",
       " '08FileSystem.ipynb',\n",
       " '__pycache__',\n",
       " 'pl_09',\n",
       " '04Functions.ipynb',\n",
       " '02PythonCode.ipynb',\n",
       " '01EnvironmentCreated.ipynb',\n",
       " '.ipynb_checkpoints',\n",
       " '03PythonCode.ipynb']"
      ]
     },
     "execution_count": 69,
     "metadata": {},
     "output_type": "execute_result"
    },
    {
     "data": {
      "text/plain": [
       "['2016-us-ge-by-county.csv',\n",
       " 'new.json',\n",
       " 'us',\n",
       " 'DataAnalyst.csv',\n",
       " 'test.json',\n",
       " 'Pandas_Cheat_Sheet.pdf',\n",
       " '.ipynb_checkpoints',\n",
       " '2015-us-income-by-county.csv',\n",
       " '朝阳医院2016年销售数据.xlsx',\n",
       " 'sample.txt']"
      ]
     },
     "execution_count": 69,
     "metadata": {},
     "output_type": "execute_result"
    },
    {
     "data": {
      "text/plain": [
       "'./pl_09'"
      ]
     },
     "execution_count": 69,
     "metadata": {},
     "output_type": "execute_result"
    },
    {
     "data": {
      "text/plain": [
       "True"
      ]
     },
     "execution_count": 69,
     "metadata": {},
     "output_type": "execute_result"
    },
    {
     "data": {
      "text/plain": [
       "False"
      ]
     },
     "execution_count": 69,
     "metadata": {},
     "output_type": "execute_result"
    }
   ],
   "source": [
    "import os\n",
    "\n",
    "os.getcwd() # 获取当前工作目录 cwd = current working directory\n",
    "os.path.abspath('.') # 拼接绝对路径\n",
    "os.listdir('.') #列出当前目录下的所有文件\n",
    "os.path.join('.','pl_09')\n",
    "os.path.isdir('pl_09')"
   ]
  },
  {
   "cell_type": "code",
   "execution_count": 70,
   "metadata": {
    "ExecuteTime": {
     "end_time": "2020-02-28T07:21:01.328487Z",
     "start_time": "2020-02-28T07:21:01.283596Z"
    }
   },
   "outputs": [
    {
     "name": "stdout",
     "output_type": "stream",
     "text": [
      " 09DataAnalysis.ipynb\n",
      " 07AdvancedObject.ipynb\n",
      " 06BasedObject.ipynb\n",
      " 05AdvancedFunctions.ipynb\n",
      " 08FileSystem.ipynb\n",
      " __pycache__\n",
      "   m.cpython-37.pyc\n",
      " pl_09\n",
      "   2016-us-ge-by-county.csv\n",
      "   new.json\n",
      "   us\n",
      "     2016-us-ge-by-county.csv\n",
      "     2016-us-ge-poll.csv\n",
      "     2016-us-ge.ipynb\n",
      "     2015-us-income-by-county.csv\n",
      "     2016-us-ge-poll.ipynb\n",
      "   DataAnalyst.csv\n",
      "   test.json\n",
      "   Pandas_Cheat_Sheet.pdf\n",
      "   .ipynb_checkpoints\n",
      "   2015-us-income-by-county.csv\n",
      "   朝阳医院2016年销售数据.xlsx\n",
      "   sample.txt\n",
      " 04Functions.ipynb\n",
      " 02PythonCode.ipynb\n",
      " 01EnvironmentCreated.ipynb\n",
      " .ipynb_checkpoints\n",
      "   09DataAnalysis-checkpoint.ipynb\n",
      "   08FileSystem-checkpoint.ipynb\n",
      "   07AdvancedObject-checkpoint.ipynb\n",
      "   05AdvancedFunctions-checkpoint.ipynb\n",
      "   01EnvironmentCreated-checkpoint.ipynb\n",
      "   02PythonCode-checkpoint.ipynb\n",
      "   06BasedObject-checkpoint.ipynb\n",
      "   03PythonCode-checkpoint.ipynb\n",
      "   04Functions-checkpoint.ipynb\n",
      " 03PythonCode.ipynb\n"
     ]
    }
   ],
   "source": [
    "# 通过遍历文件夹的操作熟悉递归与目录访问\n",
    "import os\n",
    "\n",
    "def dirf(path, depth = 0):\n",
    "    path = os.path.abspath(path)\n",
    "    files = os.listdir(path)\n",
    "    for f in files:\n",
    "        print(' ' * 2 * depth, f)\n",
    "        f = os.path.join(path, f)\n",
    "        if os.path.isdir(f):  \n",
    "            dirf(f, depth + 1)\n",
    "\n",
    "dirf('./')"
   ]
  },
  {
   "cell_type": "code",
   "execution_count": 71,
   "metadata": {
    "ExecuteTime": {
     "end_time": "2020-02-28T07:21:31.625207Z",
     "start_time": "2020-02-28T07:21:31.612349Z"
    }
   },
   "outputs": [
    {
     "data": {
      "text/plain": [
       "'/usr/local/Cellar/jupyter/1.0.0_5/libexec/bin:/usr/local/bin:/usr/bin:/bin:/usr/sbin:/sbin:/usr/local/go/bin:/usr/local/Cellar/python/3.7.4/bin/python3:/usr/local/Cellar/jupyter/1.0.0_5/bin/jupyter:/Users/yangpan 1/Library/Python/2.7/bin/jupyter-contrib-nbextension:/opt/anaconda3/bin/conda:/opt/anaconda3/bin/activate:/opt/anaconda3/bin/deactivate:/usr/local/Cellar/python/3.7.4/bin/python3:/usr/local/Cellar/jupyter/1.0.0_5/bin/jupyter:/opt/anaconda3/envs/python27/bin/jupyter:/Users/yangpan 1/Library/Python/2.7/bin/jupyter-contrib-nbextension:/opt/anaconda3/bin/conda:/opt/anaconda3/bin/activate:/opt/anaconda3/bin/deactivate'"
      ]
     },
     "execution_count": 71,
     "metadata": {},
     "output_type": "execute_result"
    },
    {
     "data": {
      "text/plain": [
       "'posix'"
      ]
     },
     "execution_count": 71,
     "metadata": {},
     "output_type": "execute_result"
    },
    {
     "data": {
      "text/plain": [
       "posix.uname_result(sysname='Darwin', nodename='MacBook-Pro-4.local', release='18.7.0', version='Darwin Kernel Version 18.7.0: Thu Jan 23 06:52:12 PST 2020; root:xnu-4903.278.25~1/RELEASE_X86_64', machine='x86_64')"
      ]
     },
     "execution_count": 71,
     "metadata": {},
     "output_type": "execute_result"
    }
   ],
   "source": [
    "os.environ.get('PATH') # 查看环境变量\n",
    "os.name # 查看操作系统类型，可以用uname看详情，但是Windows不支持。\n",
    "os.uname()"
   ]
  },
  {
   "cell_type": "code",
   "execution_count": 72,
   "metadata": {
    "ExecuteTime": {
     "end_time": "2020-02-28T07:21:38.111028Z",
     "start_time": "2020-02-28T07:21:38.098598Z"
    }
   },
   "outputs": [
    {
     "data": {
      "text/plain": [
       "['09DataAnalysis.ipynb',\n",
       " '07AdvancedObject.ipynb',\n",
       " '06BasedObject.ipynb',\n",
       " '05AdvancedFunctions.ipynb',\n",
       " '08FileSystem.ipynb',\n",
       " '04Functions.ipynb',\n",
       " '02PythonCode.ipynb',\n",
       " '01EnvironmentCreated.ipynb',\n",
       " '03PythonCode.ipynb']"
      ]
     },
     "execution_count": 72,
     "metadata": {},
     "output_type": "execute_result"
    }
   ],
   "source": [
    "# 练习：一行代码打印指定目录下指定后缀名结尾的文件\n",
    "def list_files(path, postfix):\n",
    "    return [f for f in os.listdir(path) if os.path.isfile(f) and f.endswith(postfix)]\n",
    "    # [元素 for循环 if 筛选条件]\n",
    "\n",
    "list_files('.', '.ipynb')"
   ]
  },
  {
   "cell_type": "code",
   "execution_count": 79,
   "metadata": {
    "ExecuteTime": {
     "end_time": "2020-02-28T07:46:23.041853Z",
     "start_time": "2020-02-28T07:46:23.031476Z"
    },
    "scrolled": true
   },
   "outputs": [
    {
     "name": "stdout",
     "output_type": "stream",
     "text": [
      "<class 'str'>\n",
      "[\"a\", \"b\", {\"x\": 1, \"y\": [2, 3]}, [\"d\", \"e\"]]\n",
      "\n",
      "<class 'list'>\n",
      "['a', 'b', {'x': 1, 'y': [2, 3]}, ['d', 'e']]\n"
     ]
    },
    {
     "data": {
      "text/plain": [
       "'a'"
      ]
     },
     "execution_count": 79,
     "metadata": {},
     "output_type": "execute_result"
    },
    {
     "data": {
      "text/plain": [
       "3"
      ]
     },
     "execution_count": 79,
     "metadata": {},
     "output_type": "execute_result"
    }
   ],
   "source": [
    "# json文件处理\n",
    "import json\n",
    "data_1 = ['a', 'b', {'x': 1, 'y': [2, 3]}, ['d', 'e']]\n",
    "j = json.dumps(data_1) # 不加s的版本对文件执行操作\n",
    "print(type(j))\n",
    "print(j)\n",
    "print()\n",
    "jd = json.loads(j)\n",
    "print(type(jd))\n",
    "print(jd)\n",
    "jd[0]\n",
    "jd[2]['y'][1]"
   ]
  },
  {
   "cell_type": "code",
   "execution_count": 46,
   "metadata": {
    "ExecuteTime": {
     "end_time": "2020-02-27T06:47:23.338972Z",
     "start_time": "2020-02-27T06:47:23.331064Z"
    },
    "scrolled": true
   },
   "outputs": [
    {
     "name": "stdout",
     "output_type": "stream",
     "text": [
      "127.0.0.1\n",
      "/root\n",
      "['1.1.1.1', '1.1.1.2']\n"
     ]
    }
   ],
   "source": [
    "#{\"IP\":\"127.0.0.1\", \"Dir\":\"/root\", \"DNS\":[\"1.1.1.1\", \"1.1.1.2\"]}\n",
    "with open('pl_09/test.json') as f:\n",
    "    jd = json.load(f)\n",
    "print(jd['IP'])\n",
    "print(jd['Dir'])\n",
    "print(jd['DNS'])\n",
    "\n",
    "#{\"IP\": \"127.0.0.100\", \"Dir\": \"/root\", \"DNS\": [\"1.1.1.1\", \"1.1.1.2\"]}\n",
    "jd['IP'] = '127.0.0.100'\n",
    "with open('pl_09/new.json', 'w+') as f:\n",
    "    json.dump(jd, f)"
   ]
  },
  {
   "cell_type": "code",
   "execution_count": null,
   "metadata": {},
   "outputs": [],
   "source": [
    "# --- 正则表达式 ---\n",
    "# 正则表达式基础知识：https://deerchao.net/tutorials/regex/regex.htm"
   ]
  },
  {
   "cell_type": "code",
   "execution_count": 1,
   "metadata": {},
   "outputs": [],
   "source": [
    "# re.match(pattern, string, flags=0)\n",
    "# 尝试从字符串的起始位置匹配一个模式，如果不是起始位置匹配成功的话，match()就返回none。\n",
    "# - pattern: 匹配的正则表达式\n",
    "# - string: 要匹配的字符串\n",
    "# - flags: 标志位，用于控制正则表达式的匹配方式，如：是否区分大小写，多行匹配等等。\n",
    "#          参考链接：http://www.runoob.com/python/python-reg-expressions.html#flags"
   ]
  },
  {
   "cell_type": "code",
   "execution_count": 85,
   "metadata": {
    "ExecuteTime": {
     "end_time": "2020-02-28T08:18:42.887053Z",
     "start_time": "2020-02-28T08:18:42.883262Z"
    }
   },
   "outputs": [
    {
     "name": "stdout",
     "output_type": "stream",
     "text": [
      "(0, 3)\n",
      "None\n"
     ]
    }
   ],
   "source": [
    "import re\n",
    "\n",
    "# 简单匹配\n",
    "print(re.match('www', 'www.baidu.com').span())  # 在起始位置匹配\n",
    "print(re.match('com', 'www.baidu.com'))         # 不在起始位置匹配"
   ]
  },
  {
   "cell_type": "code",
   "execution_count": 86,
   "metadata": {
    "ExecuteTime": {
     "end_time": "2020-02-28T08:18:47.889989Z",
     "start_time": "2020-02-28T08:18:47.879632Z"
    }
   },
   "outputs": [
    {
     "name": "stdout",
     "output_type": "stream",
     "text": [
      "matchObj.group() :  Cats are smarter than dogs\n",
      "matchObj.group(1) :  Cats\n",
      "matchObj.group(2) :  smarter\n"
     ]
    }
   ],
   "source": [
    "# 多匹配\n",
    "line = \"Cats are smarter than dogs\"\n",
    "matchObj = re.match( r'(.*) are (.*?) .*', line, re.M|re.I)\n",
    "# re.M: 多行匹配，影响 ^ 和 $\n",
    "# re.I: 使匹配对大小写不敏感\n",
    "if matchObj:\n",
    "    print('matchObj.group() : ', matchObj.group())\n",
    "    print('matchObj.group(1) : ', matchObj.group(1))\n",
    "    print('matchObj.group(2) : ', matchObj.group(2))\n",
    "else:\n",
    "    print('No match!!')"
   ]
  },
  {
   "cell_type": "code",
   "execution_count": 97,
   "metadata": {
    "ExecuteTime": {
     "end_time": "2020-02-28T08:26:06.638141Z",
     "start_time": "2020-02-28T08:26:06.631149Z"
    }
   },
   "outputs": [
    {
     "name": "stdout",
     "output_type": "stream",
     "text": [
      "matchObj.group() :  Dog eat meat, hahaha\n",
      "matchObj.group(1) :  Dog\n",
      "matchObj.group(2) :  meat,\n",
      "matchObj.group(3) :  hahaha\n"
     ]
    }
   ],
   "source": [
    "line = \"Dog eat meat, hahaha\"\n",
    "matchObj = re.match( r'(.*) eat (.*?) (.*)', line, re.M|re.I)\n",
    "print('matchObj.group() : ', matchObj.group())\n",
    "print('matchObj.group(1) : ', matchObj.group(1))\n",
    "print('matchObj.group(2) : ', matchObj.group(2))\n",
    "print('matchObj.group(3) : ', matchObj.group(3))"
   ]
  },
  {
   "cell_type": "code",
   "execution_count": null,
   "metadata": {},
   "outputs": [],
   "source": [
    "# re.search(pattern, string, flags=0)\n",
    "# 扫描整个字符串并返回第一个成功的匹配"
   ]
  },
  {
   "cell_type": "code",
   "execution_count": 98,
   "metadata": {
    "ExecuteTime": {
     "end_time": "2020-02-28T08:33:10.371953Z",
     "start_time": "2020-02-28T08:33:10.358525Z"
    }
   },
   "outputs": [
    {
     "name": "stdout",
     "output_type": "stream",
     "text": [
      "(0, 3)\n",
      "(11, 14)\n"
     ]
    }
   ],
   "source": [
    "print(re.search('www', 'www.runoob.com').span())  # 在起始位置匹配\n",
    "print(re.search('com', 'www.runoob.com').span())  # 不在起始位置匹配"
   ]
  },
  {
   "cell_type": "code",
   "execution_count": null,
   "metadata": {},
   "outputs": [],
   "source": [
    "# re.sub(pattern, repl, string, count=0, flags=0)\n",
    "# 用于替换字符串中的匹配项\n",
    "# pattern: 正则中的模式字符串\n",
    "# repl: 替换的字符串，也可为一个函数\n",
    "# string: 要被查找替换的原始字符串\n",
    "# count: 模式匹配后替换的最大次数，默认 0 表示替换所有的匹配。"
   ]
  },
  {
   "cell_type": "code",
   "execution_count": 103,
   "metadata": {
    "ExecuteTime": {
     "end_time": "2020-02-28T08:33:50.754007Z",
     "start_time": "2020-02-28T08:33:50.746060Z"
    }
   },
   "outputs": [
    {
     "name": "stdout",
     "output_type": "stream",
     "text": [
      "电话号码是:  2004-959-559 \n",
      "电话号码是 :  2004959559\n",
      "电话号码是 :  -- # 这是一个国外电话号码\n"
     ]
    }
   ],
   "source": [
    "phone = \"2004-959-559 # 这是一个国外电话号码\"\n",
    "# 删除字符串中的 Python注释 \n",
    "num = re.sub(r'#.*$', '', phone)\n",
    "print('电话号码是: ', num)\n",
    "# 删除非数字(-)的字符串 \n",
    "num = re.sub(r'\\D', \"\", phone)\n",
    "print('电话号码是 : ', num)\n",
    "# 删除数字的字符串 \n",
    "num = re.sub(r'\\d', \"\", phone)\n",
    "print('电话号码是 : ', num)"
   ]
  },
  {
   "cell_type": "code",
   "execution_count": 105,
   "metadata": {
    "ExecuteTime": {
     "end_time": "2020-02-28T08:39:17.393661Z",
     "start_time": "2020-02-28T08:39:17.388961Z"
    }
   },
   "outputs": [
    {
     "name": "stdout",
     "output_type": "stream",
     "text": [
      "['a', 'b', '', '', '', 'c', 'd', '', '', 'e']\n",
      "['a', 'b', 'c']\n",
      "['a', 'b', 'c', 'd']\n",
      "['a', 'b', 'c', 'd']\n"
     ]
    }
   ],
   "source": [
    "# 使用正则表达式切分字符串\n",
    "print('a b    c d   e'.split(' '))\n",
    "print(re.split(r'\\s+', 'a b   c'))\n",
    "print(re.split(r'[\\s\\,]+', 'a,b, c  d'))\n",
    "print(re.split(r'[\\s\\,\\;]+', 'a,b;; c,;  d'))"
   ]
  },
  {
   "cell_type": "code",
   "execution_count": 37,
   "metadata": {},
   "outputs": [
    {
     "name": "stdout",
     "output_type": "stream",
     "text": [
      "alice.jack-b@gmail.com\n"
     ]
    }
   ],
   "source": [
    "s = 'alice.jack-b@gmail.com'\n",
    "match = re.search(r'^[\\w\\.\\+\\-]+\\@[\\w]+\\.[a-z]{2,3}$', s)\n",
    "if match:\n",
    "    print(match.group())"
   ]
  },
  {
   "cell_type": "code",
   "execution_count": null,
   "metadata": {},
   "outputs": [],
   "source": [
    "# HTML基础知识：https://www.w3cschool.cn/html/\n",
    "# CSS基础知识：https://www.w3cschool.cn/css/"
   ]
  },
  {
   "cell_type": "code",
   "execution_count": 2,
   "metadata": {
    "ExecuteTime": {
     "end_time": "2020-02-29T12:33:43.513743Z",
     "start_time": "2020-02-29T12:33:43.398740Z"
    }
   },
   "outputs": [],
   "source": [
    "# 爬虫入门\n",
    "# 静态网页：直接获取页面内容进行解析\n",
    "# 动态网页：使用selenium等工具模拟处理js等动态内容，模拟真人上网操作。"
   ]
  },
  {
   "cell_type": "code",
   "execution_count": 16,
   "metadata": {
    "ExecuteTime": {
     "end_time": "2020-02-29T13:07:39.235088Z",
     "start_time": "2020-02-29T12:57:33.414332Z"
    },
    "collapsed": true
   },
   "outputs": [
    {
     "ename": "ConnectionError",
     "evalue": "HTTPConnectionPool(host='sewer.ip138.com', port=80): Max retries exceeded with url: / (Caused by NewConnectionError('<urllib3.connection.HTTPConnection object at 0x106911e90>: Failed to establish a new connection: [Errno 60] Operation timed out'))",
     "output_type": "error",
     "traceback": [
      "\u001b[0;31m---------------------------------------------------------------------------\u001b[0m",
      "\u001b[0;31mTimeoutError\u001b[0m                              Traceback (most recent call last)",
      "\u001b[0;32m/usr/local/lib/python3.7/site-packages/urllib3/connection.py\u001b[0m in \u001b[0;36m_new_conn\u001b[0;34m(self)\u001b[0m\n\u001b[1;32m    156\u001b[0m             conn = connection.create_connection(\n\u001b[0;32m--> 157\u001b[0;31m                 \u001b[0;34m(\u001b[0m\u001b[0mself\u001b[0m\u001b[0;34m.\u001b[0m\u001b[0m_dns_host\u001b[0m\u001b[0;34m,\u001b[0m \u001b[0mself\u001b[0m\u001b[0;34m.\u001b[0m\u001b[0mport\u001b[0m\u001b[0;34m)\u001b[0m\u001b[0;34m,\u001b[0m \u001b[0mself\u001b[0m\u001b[0;34m.\u001b[0m\u001b[0mtimeout\u001b[0m\u001b[0;34m,\u001b[0m \u001b[0;34m**\u001b[0m\u001b[0mextra_kw\u001b[0m\u001b[0;34m\u001b[0m\u001b[0;34m\u001b[0m\u001b[0m\n\u001b[0m\u001b[1;32m    158\u001b[0m             )\n",
      "\u001b[0;32m/usr/local/lib/python3.7/site-packages/urllib3/util/connection.py\u001b[0m in \u001b[0;36mcreate_connection\u001b[0;34m(address, timeout, source_address, socket_options)\u001b[0m\n\u001b[1;32m     83\u001b[0m     \u001b[0;32mif\u001b[0m \u001b[0merr\u001b[0m \u001b[0;32mis\u001b[0m \u001b[0;32mnot\u001b[0m \u001b[0;32mNone\u001b[0m\u001b[0;34m:\u001b[0m\u001b[0;34m\u001b[0m\u001b[0;34m\u001b[0m\u001b[0m\n\u001b[0;32m---> 84\u001b[0;31m         \u001b[0;32mraise\u001b[0m \u001b[0merr\u001b[0m\u001b[0;34m\u001b[0m\u001b[0;34m\u001b[0m\u001b[0m\n\u001b[0m\u001b[1;32m     85\u001b[0m \u001b[0;34m\u001b[0m\u001b[0m\n",
      "\u001b[0;32m/usr/local/lib/python3.7/site-packages/urllib3/util/connection.py\u001b[0m in \u001b[0;36mcreate_connection\u001b[0;34m(address, timeout, source_address, socket_options)\u001b[0m\n\u001b[1;32m     73\u001b[0m                 \u001b[0msock\u001b[0m\u001b[0;34m.\u001b[0m\u001b[0mbind\u001b[0m\u001b[0;34m(\u001b[0m\u001b[0msource_address\u001b[0m\u001b[0;34m)\u001b[0m\u001b[0;34m\u001b[0m\u001b[0;34m\u001b[0m\u001b[0m\n\u001b[0;32m---> 74\u001b[0;31m             \u001b[0msock\u001b[0m\u001b[0;34m.\u001b[0m\u001b[0mconnect\u001b[0m\u001b[0;34m(\u001b[0m\u001b[0msa\u001b[0m\u001b[0;34m)\u001b[0m\u001b[0;34m\u001b[0m\u001b[0;34m\u001b[0m\u001b[0m\n\u001b[0m\u001b[1;32m     75\u001b[0m             \u001b[0;32mreturn\u001b[0m \u001b[0msock\u001b[0m\u001b[0;34m\u001b[0m\u001b[0;34m\u001b[0m\u001b[0m\n",
      "\u001b[0;31mTimeoutError\u001b[0m: [Errno 60] Operation timed out",
      "\nDuring handling of the above exception, another exception occurred:\n",
      "\u001b[0;31mNewConnectionError\u001b[0m                        Traceback (most recent call last)",
      "\u001b[0;32m/usr/local/lib/python3.7/site-packages/urllib3/connectionpool.py\u001b[0m in \u001b[0;36murlopen\u001b[0;34m(self, method, url, body, headers, retries, redirect, assert_same_host, timeout, pool_timeout, release_conn, chunked, body_pos, **response_kw)\u001b[0m\n\u001b[1;32m    671\u001b[0m                 \u001b[0mheaders\u001b[0m\u001b[0;34m=\u001b[0m\u001b[0mheaders\u001b[0m\u001b[0;34m,\u001b[0m\u001b[0;34m\u001b[0m\u001b[0;34m\u001b[0m\u001b[0m\n\u001b[0;32m--> 672\u001b[0;31m                 \u001b[0mchunked\u001b[0m\u001b[0;34m=\u001b[0m\u001b[0mchunked\u001b[0m\u001b[0;34m,\u001b[0m\u001b[0;34m\u001b[0m\u001b[0;34m\u001b[0m\u001b[0m\n\u001b[0m\u001b[1;32m    673\u001b[0m             )\n",
      "\u001b[0;32m/usr/local/lib/python3.7/site-packages/urllib3/connectionpool.py\u001b[0m in \u001b[0;36m_make_request\u001b[0;34m(self, conn, method, url, timeout, chunked, **httplib_request_kw)\u001b[0m\n\u001b[1;32m    386\u001b[0m         \u001b[0;32melse\u001b[0m\u001b[0;34m:\u001b[0m\u001b[0;34m\u001b[0m\u001b[0;34m\u001b[0m\u001b[0m\n\u001b[0;32m--> 387\u001b[0;31m             \u001b[0mconn\u001b[0m\u001b[0;34m.\u001b[0m\u001b[0mrequest\u001b[0m\u001b[0;34m(\u001b[0m\u001b[0mmethod\u001b[0m\u001b[0;34m,\u001b[0m \u001b[0murl\u001b[0m\u001b[0;34m,\u001b[0m \u001b[0;34m**\u001b[0m\u001b[0mhttplib_request_kw\u001b[0m\u001b[0;34m)\u001b[0m\u001b[0;34m\u001b[0m\u001b[0;34m\u001b[0m\u001b[0m\n\u001b[0m\u001b[1;32m    388\u001b[0m \u001b[0;34m\u001b[0m\u001b[0m\n",
      "\u001b[0;32m/usr/local/Cellar/python/3.7.4/Frameworks/Python.framework/Versions/3.7/lib/python3.7/http/client.py\u001b[0m in \u001b[0;36mrequest\u001b[0;34m(self, method, url, body, headers, encode_chunked)\u001b[0m\n\u001b[1;32m   1243\u001b[0m         \u001b[0;34m\"\"\"Send a complete request to the server.\"\"\"\u001b[0m\u001b[0;34m\u001b[0m\u001b[0;34m\u001b[0m\u001b[0m\n\u001b[0;32m-> 1244\u001b[0;31m         \u001b[0mself\u001b[0m\u001b[0;34m.\u001b[0m\u001b[0m_send_request\u001b[0m\u001b[0;34m(\u001b[0m\u001b[0mmethod\u001b[0m\u001b[0;34m,\u001b[0m \u001b[0murl\u001b[0m\u001b[0;34m,\u001b[0m \u001b[0mbody\u001b[0m\u001b[0;34m,\u001b[0m \u001b[0mheaders\u001b[0m\u001b[0;34m,\u001b[0m \u001b[0mencode_chunked\u001b[0m\u001b[0;34m)\u001b[0m\u001b[0;34m\u001b[0m\u001b[0;34m\u001b[0m\u001b[0m\n\u001b[0m\u001b[1;32m   1245\u001b[0m \u001b[0;34m\u001b[0m\u001b[0m\n",
      "\u001b[0;32m/usr/local/Cellar/python/3.7.4/Frameworks/Python.framework/Versions/3.7/lib/python3.7/http/client.py\u001b[0m in \u001b[0;36m_send_request\u001b[0;34m(self, method, url, body, headers, encode_chunked)\u001b[0m\n\u001b[1;32m   1289\u001b[0m             \u001b[0mbody\u001b[0m \u001b[0;34m=\u001b[0m \u001b[0m_encode\u001b[0m\u001b[0;34m(\u001b[0m\u001b[0mbody\u001b[0m\u001b[0;34m,\u001b[0m \u001b[0;34m'body'\u001b[0m\u001b[0;34m)\u001b[0m\u001b[0;34m\u001b[0m\u001b[0;34m\u001b[0m\u001b[0m\n\u001b[0;32m-> 1290\u001b[0;31m         \u001b[0mself\u001b[0m\u001b[0;34m.\u001b[0m\u001b[0mendheaders\u001b[0m\u001b[0;34m(\u001b[0m\u001b[0mbody\u001b[0m\u001b[0;34m,\u001b[0m \u001b[0mencode_chunked\u001b[0m\u001b[0;34m=\u001b[0m\u001b[0mencode_chunked\u001b[0m\u001b[0;34m)\u001b[0m\u001b[0;34m\u001b[0m\u001b[0;34m\u001b[0m\u001b[0m\n\u001b[0m\u001b[1;32m   1291\u001b[0m \u001b[0;34m\u001b[0m\u001b[0m\n",
      "\u001b[0;32m/usr/local/Cellar/python/3.7.4/Frameworks/Python.framework/Versions/3.7/lib/python3.7/http/client.py\u001b[0m in \u001b[0;36mendheaders\u001b[0;34m(self, message_body, encode_chunked)\u001b[0m\n\u001b[1;32m   1238\u001b[0m             \u001b[0;32mraise\u001b[0m \u001b[0mCannotSendHeader\u001b[0m\u001b[0;34m(\u001b[0m\u001b[0;34m)\u001b[0m\u001b[0;34m\u001b[0m\u001b[0;34m\u001b[0m\u001b[0m\n\u001b[0;32m-> 1239\u001b[0;31m         \u001b[0mself\u001b[0m\u001b[0;34m.\u001b[0m\u001b[0m_send_output\u001b[0m\u001b[0;34m(\u001b[0m\u001b[0mmessage_body\u001b[0m\u001b[0;34m,\u001b[0m \u001b[0mencode_chunked\u001b[0m\u001b[0;34m=\u001b[0m\u001b[0mencode_chunked\u001b[0m\u001b[0;34m)\u001b[0m\u001b[0;34m\u001b[0m\u001b[0;34m\u001b[0m\u001b[0m\n\u001b[0m\u001b[1;32m   1240\u001b[0m \u001b[0;34m\u001b[0m\u001b[0m\n",
      "\u001b[0;32m/usr/local/Cellar/python/3.7.4/Frameworks/Python.framework/Versions/3.7/lib/python3.7/http/client.py\u001b[0m in \u001b[0;36m_send_output\u001b[0;34m(self, message_body, encode_chunked)\u001b[0m\n\u001b[1;32m   1025\u001b[0m         \u001b[0;32mdel\u001b[0m \u001b[0mself\u001b[0m\u001b[0;34m.\u001b[0m\u001b[0m_buffer\u001b[0m\u001b[0;34m[\u001b[0m\u001b[0;34m:\u001b[0m\u001b[0;34m]\u001b[0m\u001b[0;34m\u001b[0m\u001b[0;34m\u001b[0m\u001b[0m\n\u001b[0;32m-> 1026\u001b[0;31m         \u001b[0mself\u001b[0m\u001b[0;34m.\u001b[0m\u001b[0msend\u001b[0m\u001b[0;34m(\u001b[0m\u001b[0mmsg\u001b[0m\u001b[0;34m)\u001b[0m\u001b[0;34m\u001b[0m\u001b[0;34m\u001b[0m\u001b[0m\n\u001b[0m\u001b[1;32m   1027\u001b[0m \u001b[0;34m\u001b[0m\u001b[0m\n",
      "\u001b[0;32m/usr/local/Cellar/python/3.7.4/Frameworks/Python.framework/Versions/3.7/lib/python3.7/http/client.py\u001b[0m in \u001b[0;36msend\u001b[0;34m(self, data)\u001b[0m\n\u001b[1;32m    965\u001b[0m             \u001b[0;32mif\u001b[0m \u001b[0mself\u001b[0m\u001b[0;34m.\u001b[0m\u001b[0mauto_open\u001b[0m\u001b[0;34m:\u001b[0m\u001b[0;34m\u001b[0m\u001b[0;34m\u001b[0m\u001b[0m\n\u001b[0;32m--> 966\u001b[0;31m                 \u001b[0mself\u001b[0m\u001b[0;34m.\u001b[0m\u001b[0mconnect\u001b[0m\u001b[0;34m(\u001b[0m\u001b[0;34m)\u001b[0m\u001b[0;34m\u001b[0m\u001b[0;34m\u001b[0m\u001b[0m\n\u001b[0m\u001b[1;32m    967\u001b[0m             \u001b[0;32melse\u001b[0m\u001b[0;34m:\u001b[0m\u001b[0;34m\u001b[0m\u001b[0;34m\u001b[0m\u001b[0m\n",
      "\u001b[0;32m/usr/local/lib/python3.7/site-packages/urllib3/connection.py\u001b[0m in \u001b[0;36mconnect\u001b[0;34m(self)\u001b[0m\n\u001b[1;32m    183\u001b[0m     \u001b[0;32mdef\u001b[0m \u001b[0mconnect\u001b[0m\u001b[0;34m(\u001b[0m\u001b[0mself\u001b[0m\u001b[0;34m)\u001b[0m\u001b[0;34m:\u001b[0m\u001b[0;34m\u001b[0m\u001b[0;34m\u001b[0m\u001b[0m\n\u001b[0;32m--> 184\u001b[0;31m         \u001b[0mconn\u001b[0m \u001b[0;34m=\u001b[0m \u001b[0mself\u001b[0m\u001b[0;34m.\u001b[0m\u001b[0m_new_conn\u001b[0m\u001b[0;34m(\u001b[0m\u001b[0;34m)\u001b[0m\u001b[0;34m\u001b[0m\u001b[0;34m\u001b[0m\u001b[0m\n\u001b[0m\u001b[1;32m    185\u001b[0m         \u001b[0mself\u001b[0m\u001b[0;34m.\u001b[0m\u001b[0m_prepare_conn\u001b[0m\u001b[0;34m(\u001b[0m\u001b[0mconn\u001b[0m\u001b[0;34m)\u001b[0m\u001b[0;34m\u001b[0m\u001b[0;34m\u001b[0m\u001b[0m\n",
      "\u001b[0;32m/usr/local/lib/python3.7/site-packages/urllib3/connection.py\u001b[0m in \u001b[0;36m_new_conn\u001b[0;34m(self)\u001b[0m\n\u001b[1;32m    168\u001b[0m             raise NewConnectionError(\n\u001b[0;32m--> 169\u001b[0;31m                 \u001b[0mself\u001b[0m\u001b[0;34m,\u001b[0m \u001b[0;34m\"Failed to establish a new connection: %s\"\u001b[0m \u001b[0;34m%\u001b[0m \u001b[0me\u001b[0m\u001b[0;34m\u001b[0m\u001b[0;34m\u001b[0m\u001b[0m\n\u001b[0m\u001b[1;32m    170\u001b[0m             )\n",
      "\u001b[0;31mNewConnectionError\u001b[0m: <urllib3.connection.HTTPConnection object at 0x106911e90>: Failed to establish a new connection: [Errno 60] Operation timed out",
      "\nDuring handling of the above exception, another exception occurred:\n",
      "\u001b[0;31mMaxRetryError\u001b[0m                             Traceback (most recent call last)",
      "\u001b[0;32m/usr/local/lib/python3.7/site-packages/requests/adapters.py\u001b[0m in \u001b[0;36msend\u001b[0;34m(self, request, stream, timeout, verify, cert, proxies)\u001b[0m\n\u001b[1;32m    448\u001b[0m                     \u001b[0mretries\u001b[0m\u001b[0;34m=\u001b[0m\u001b[0mself\u001b[0m\u001b[0;34m.\u001b[0m\u001b[0mmax_retries\u001b[0m\u001b[0;34m,\u001b[0m\u001b[0;34m\u001b[0m\u001b[0;34m\u001b[0m\u001b[0m\n\u001b[0;32m--> 449\u001b[0;31m                     \u001b[0mtimeout\u001b[0m\u001b[0;34m=\u001b[0m\u001b[0mtimeout\u001b[0m\u001b[0;34m\u001b[0m\u001b[0;34m\u001b[0m\u001b[0m\n\u001b[0m\u001b[1;32m    450\u001b[0m                 )\n",
      "\u001b[0;32m/usr/local/lib/python3.7/site-packages/urllib3/connectionpool.py\u001b[0m in \u001b[0;36murlopen\u001b[0;34m(self, method, url, body, headers, retries, redirect, assert_same_host, timeout, pool_timeout, release_conn, chunked, body_pos, **response_kw)\u001b[0m\n\u001b[1;32m    719\u001b[0m             retries = retries.increment(\n\u001b[0;32m--> 720\u001b[0;31m                 \u001b[0mmethod\u001b[0m\u001b[0;34m,\u001b[0m \u001b[0murl\u001b[0m\u001b[0;34m,\u001b[0m \u001b[0merror\u001b[0m\u001b[0;34m=\u001b[0m\u001b[0me\u001b[0m\u001b[0;34m,\u001b[0m \u001b[0m_pool\u001b[0m\u001b[0;34m=\u001b[0m\u001b[0mself\u001b[0m\u001b[0;34m,\u001b[0m \u001b[0m_stacktrace\u001b[0m\u001b[0;34m=\u001b[0m\u001b[0msys\u001b[0m\u001b[0;34m.\u001b[0m\u001b[0mexc_info\u001b[0m\u001b[0;34m(\u001b[0m\u001b[0;34m)\u001b[0m\u001b[0;34m[\u001b[0m\u001b[0;36m2\u001b[0m\u001b[0;34m]\u001b[0m\u001b[0;34m\u001b[0m\u001b[0;34m\u001b[0m\u001b[0m\n\u001b[0m\u001b[1;32m    721\u001b[0m             )\n",
      "\u001b[0;32m/usr/local/lib/python3.7/site-packages/urllib3/util/retry.py\u001b[0m in \u001b[0;36mincrement\u001b[0;34m(self, method, url, response, error, _pool, _stacktrace)\u001b[0m\n\u001b[1;32m    435\u001b[0m         \u001b[0;32mif\u001b[0m \u001b[0mnew_retry\u001b[0m\u001b[0;34m.\u001b[0m\u001b[0mis_exhausted\u001b[0m\u001b[0;34m(\u001b[0m\u001b[0;34m)\u001b[0m\u001b[0;34m:\u001b[0m\u001b[0;34m\u001b[0m\u001b[0;34m\u001b[0m\u001b[0m\n\u001b[0;32m--> 436\u001b[0;31m             \u001b[0;32mraise\u001b[0m \u001b[0mMaxRetryError\u001b[0m\u001b[0;34m(\u001b[0m\u001b[0m_pool\u001b[0m\u001b[0;34m,\u001b[0m \u001b[0murl\u001b[0m\u001b[0;34m,\u001b[0m \u001b[0merror\u001b[0m \u001b[0;32mor\u001b[0m \u001b[0mResponseError\u001b[0m\u001b[0;34m(\u001b[0m\u001b[0mcause\u001b[0m\u001b[0;34m)\u001b[0m\u001b[0;34m)\u001b[0m\u001b[0;34m\u001b[0m\u001b[0;34m\u001b[0m\u001b[0m\n\u001b[0m\u001b[1;32m    437\u001b[0m \u001b[0;34m\u001b[0m\u001b[0m\n",
      "\u001b[0;31mMaxRetryError\u001b[0m: HTTPConnectionPool(host='sewer.ip138.com', port=80): Max retries exceeded with url: / (Caused by NewConnectionError('<urllib3.connection.HTTPConnection object at 0x106911e90>: Failed to establish a new connection: [Errno 60] Operation timed out'))",
      "\nDuring handling of the above exception, another exception occurred:\n",
      "\u001b[0;31mConnectionError\u001b[0m                           Traceback (most recent call last)",
      "\u001b[0;32m<ipython-input-16-5bd974278fb4>\u001b[0m in \u001b[0;36m<module>\u001b[0;34m\u001b[0m\n\u001b[1;32m      1\u001b[0m \u001b[0;31m# 使用requests获取网页内容，http://docs.python-requests.org/zh_CN/latest/user/quickstart.html\u001b[0m\u001b[0;34m\u001b[0m\u001b[0;34m\u001b[0m\u001b[0;34m\u001b[0m\u001b[0m\n\u001b[1;32m      2\u001b[0m \u001b[0;32mimport\u001b[0m \u001b[0mrequests\u001b[0m\u001b[0;34m\u001b[0m\u001b[0;34m\u001b[0m\u001b[0m\n\u001b[0;32m----> 3\u001b[0;31m \u001b[0mr\u001b[0m \u001b[0;34m=\u001b[0m \u001b[0mrequests\u001b[0m\u001b[0;34m.\u001b[0m\u001b[0mget\u001b[0m\u001b[0;34m(\u001b[0m\u001b[0;34m'http://ip138.com/post/'\u001b[0m\u001b[0;34m)\u001b[0m\u001b[0;34m\u001b[0m\u001b[0;34m\u001b[0m\u001b[0m\n\u001b[0m\u001b[1;32m      4\u001b[0m \u001b[0mprint\u001b[0m\u001b[0;34m(\u001b[0m\u001b[0mr\u001b[0m\u001b[0;34m.\u001b[0m\u001b[0mstatus_code\u001b[0m\u001b[0;34m)\u001b[0m \u001b[0;31m# r.text查看返回html内容\u001b[0m\u001b[0;34m\u001b[0m\u001b[0;34m\u001b[0m\u001b[0m\n\u001b[1;32m      5\u001b[0m \u001b[0;31m# text = r.text.encode('iso-8859-1').decode('gb2312')\u001b[0m\u001b[0;34m\u001b[0m\u001b[0;34m\u001b[0m\u001b[0;34m\u001b[0m\u001b[0m\n",
      "\u001b[0;32m/usr/local/lib/python3.7/site-packages/requests/api.py\u001b[0m in \u001b[0;36mget\u001b[0;34m(url, params, **kwargs)\u001b[0m\n\u001b[1;32m     73\u001b[0m \u001b[0;34m\u001b[0m\u001b[0m\n\u001b[1;32m     74\u001b[0m     \u001b[0mkwargs\u001b[0m\u001b[0;34m.\u001b[0m\u001b[0msetdefault\u001b[0m\u001b[0;34m(\u001b[0m\u001b[0;34m'allow_redirects'\u001b[0m\u001b[0;34m,\u001b[0m \u001b[0;32mTrue\u001b[0m\u001b[0;34m)\u001b[0m\u001b[0;34m\u001b[0m\u001b[0;34m\u001b[0m\u001b[0m\n\u001b[0;32m---> 75\u001b[0;31m     \u001b[0;32mreturn\u001b[0m \u001b[0mrequest\u001b[0m\u001b[0;34m(\u001b[0m\u001b[0;34m'get'\u001b[0m\u001b[0;34m,\u001b[0m \u001b[0murl\u001b[0m\u001b[0;34m,\u001b[0m \u001b[0mparams\u001b[0m\u001b[0;34m=\u001b[0m\u001b[0mparams\u001b[0m\u001b[0;34m,\u001b[0m \u001b[0;34m**\u001b[0m\u001b[0mkwargs\u001b[0m\u001b[0;34m)\u001b[0m\u001b[0;34m\u001b[0m\u001b[0;34m\u001b[0m\u001b[0m\n\u001b[0m\u001b[1;32m     76\u001b[0m \u001b[0;34m\u001b[0m\u001b[0m\n\u001b[1;32m     77\u001b[0m \u001b[0;34m\u001b[0m\u001b[0m\n",
      "\u001b[0;32m/usr/local/lib/python3.7/site-packages/requests/api.py\u001b[0m in \u001b[0;36mrequest\u001b[0;34m(method, url, **kwargs)\u001b[0m\n\u001b[1;32m     58\u001b[0m     \u001b[0;31m# cases, and look like a memory leak in others.\u001b[0m\u001b[0;34m\u001b[0m\u001b[0;34m\u001b[0m\u001b[0;34m\u001b[0m\u001b[0m\n\u001b[1;32m     59\u001b[0m     \u001b[0;32mwith\u001b[0m \u001b[0msessions\u001b[0m\u001b[0;34m.\u001b[0m\u001b[0mSession\u001b[0m\u001b[0;34m(\u001b[0m\u001b[0;34m)\u001b[0m \u001b[0;32mas\u001b[0m \u001b[0msession\u001b[0m\u001b[0;34m:\u001b[0m\u001b[0;34m\u001b[0m\u001b[0;34m\u001b[0m\u001b[0m\n\u001b[0;32m---> 60\u001b[0;31m         \u001b[0;32mreturn\u001b[0m \u001b[0msession\u001b[0m\u001b[0;34m.\u001b[0m\u001b[0mrequest\u001b[0m\u001b[0;34m(\u001b[0m\u001b[0mmethod\u001b[0m\u001b[0;34m=\u001b[0m\u001b[0mmethod\u001b[0m\u001b[0;34m,\u001b[0m \u001b[0murl\u001b[0m\u001b[0;34m=\u001b[0m\u001b[0murl\u001b[0m\u001b[0;34m,\u001b[0m \u001b[0;34m**\u001b[0m\u001b[0mkwargs\u001b[0m\u001b[0;34m)\u001b[0m\u001b[0;34m\u001b[0m\u001b[0;34m\u001b[0m\u001b[0m\n\u001b[0m\u001b[1;32m     61\u001b[0m \u001b[0;34m\u001b[0m\u001b[0m\n\u001b[1;32m     62\u001b[0m \u001b[0;34m\u001b[0m\u001b[0m\n",
      "\u001b[0;32m/usr/local/lib/python3.7/site-packages/requests/sessions.py\u001b[0m in \u001b[0;36mrequest\u001b[0;34m(self, method, url, params, data, headers, cookies, files, auth, timeout, allow_redirects, proxies, hooks, stream, verify, cert, json)\u001b[0m\n\u001b[1;32m    531\u001b[0m         }\n\u001b[1;32m    532\u001b[0m         \u001b[0msend_kwargs\u001b[0m\u001b[0;34m.\u001b[0m\u001b[0mupdate\u001b[0m\u001b[0;34m(\u001b[0m\u001b[0msettings\u001b[0m\u001b[0;34m)\u001b[0m\u001b[0;34m\u001b[0m\u001b[0;34m\u001b[0m\u001b[0m\n\u001b[0;32m--> 533\u001b[0;31m         \u001b[0mresp\u001b[0m \u001b[0;34m=\u001b[0m \u001b[0mself\u001b[0m\u001b[0;34m.\u001b[0m\u001b[0msend\u001b[0m\u001b[0;34m(\u001b[0m\u001b[0mprep\u001b[0m\u001b[0;34m,\u001b[0m \u001b[0;34m**\u001b[0m\u001b[0msend_kwargs\u001b[0m\u001b[0;34m)\u001b[0m\u001b[0;34m\u001b[0m\u001b[0;34m\u001b[0m\u001b[0m\n\u001b[0m\u001b[1;32m    534\u001b[0m \u001b[0;34m\u001b[0m\u001b[0m\n\u001b[1;32m    535\u001b[0m         \u001b[0;32mreturn\u001b[0m \u001b[0mresp\u001b[0m\u001b[0;34m\u001b[0m\u001b[0;34m\u001b[0m\u001b[0m\n",
      "\u001b[0;32m/usr/local/lib/python3.7/site-packages/requests/sessions.py\u001b[0m in \u001b[0;36msend\u001b[0;34m(self, request, **kwargs)\u001b[0m\n\u001b[1;32m    666\u001b[0m \u001b[0;34m\u001b[0m\u001b[0m\n\u001b[1;32m    667\u001b[0m         \u001b[0;31m# Resolve redirects if allowed.\u001b[0m\u001b[0;34m\u001b[0m\u001b[0;34m\u001b[0m\u001b[0;34m\u001b[0m\u001b[0m\n\u001b[0;32m--> 668\u001b[0;31m         \u001b[0mhistory\u001b[0m \u001b[0;34m=\u001b[0m \u001b[0;34m[\u001b[0m\u001b[0mresp\u001b[0m \u001b[0;32mfor\u001b[0m \u001b[0mresp\u001b[0m \u001b[0;32min\u001b[0m \u001b[0mgen\u001b[0m\u001b[0;34m]\u001b[0m \u001b[0;32mif\u001b[0m \u001b[0mallow_redirects\u001b[0m \u001b[0;32melse\u001b[0m \u001b[0;34m[\u001b[0m\u001b[0;34m]\u001b[0m\u001b[0;34m\u001b[0m\u001b[0;34m\u001b[0m\u001b[0m\n\u001b[0m\u001b[1;32m    669\u001b[0m \u001b[0;34m\u001b[0m\u001b[0m\n\u001b[1;32m    670\u001b[0m         \u001b[0;31m# Shuffle things around if there's history.\u001b[0m\u001b[0;34m\u001b[0m\u001b[0;34m\u001b[0m\u001b[0;34m\u001b[0m\u001b[0m\n",
      "\u001b[0;32m/usr/local/lib/python3.7/site-packages/requests/sessions.py\u001b[0m in \u001b[0;36m<listcomp>\u001b[0;34m(.0)\u001b[0m\n\u001b[1;32m    666\u001b[0m \u001b[0;34m\u001b[0m\u001b[0m\n\u001b[1;32m    667\u001b[0m         \u001b[0;31m# Resolve redirects if allowed.\u001b[0m\u001b[0;34m\u001b[0m\u001b[0;34m\u001b[0m\u001b[0;34m\u001b[0m\u001b[0m\n\u001b[0;32m--> 668\u001b[0;31m         \u001b[0mhistory\u001b[0m \u001b[0;34m=\u001b[0m \u001b[0;34m[\u001b[0m\u001b[0mresp\u001b[0m \u001b[0;32mfor\u001b[0m \u001b[0mresp\u001b[0m \u001b[0;32min\u001b[0m \u001b[0mgen\u001b[0m\u001b[0;34m]\u001b[0m \u001b[0;32mif\u001b[0m \u001b[0mallow_redirects\u001b[0m \u001b[0;32melse\u001b[0m \u001b[0;34m[\u001b[0m\u001b[0;34m]\u001b[0m\u001b[0;34m\u001b[0m\u001b[0;34m\u001b[0m\u001b[0m\n\u001b[0m\u001b[1;32m    669\u001b[0m \u001b[0;34m\u001b[0m\u001b[0m\n\u001b[1;32m    670\u001b[0m         \u001b[0;31m# Shuffle things around if there's history.\u001b[0m\u001b[0;34m\u001b[0m\u001b[0;34m\u001b[0m\u001b[0;34m\u001b[0m\u001b[0m\n",
      "\u001b[0;32m/usr/local/lib/python3.7/site-packages/requests/sessions.py\u001b[0m in \u001b[0;36mresolve_redirects\u001b[0;34m(self, resp, req, stream, timeout, verify, cert, proxies, yield_requests, **adapter_kwargs)\u001b[0m\n\u001b[1;32m    245\u001b[0m                     \u001b[0mproxies\u001b[0m\u001b[0;34m=\u001b[0m\u001b[0mproxies\u001b[0m\u001b[0;34m,\u001b[0m\u001b[0;34m\u001b[0m\u001b[0;34m\u001b[0m\u001b[0m\n\u001b[1;32m    246\u001b[0m                     \u001b[0mallow_redirects\u001b[0m\u001b[0;34m=\u001b[0m\u001b[0;32mFalse\u001b[0m\u001b[0;34m,\u001b[0m\u001b[0;34m\u001b[0m\u001b[0;34m\u001b[0m\u001b[0m\n\u001b[0;32m--> 247\u001b[0;31m                     \u001b[0;34m**\u001b[0m\u001b[0madapter_kwargs\u001b[0m\u001b[0;34m\u001b[0m\u001b[0;34m\u001b[0m\u001b[0m\n\u001b[0m\u001b[1;32m    248\u001b[0m                 )\n\u001b[1;32m    249\u001b[0m \u001b[0;34m\u001b[0m\u001b[0m\n",
      "\u001b[0;32m/usr/local/lib/python3.7/site-packages/requests/sessions.py\u001b[0m in \u001b[0;36msend\u001b[0;34m(self, request, **kwargs)\u001b[0m\n\u001b[1;32m    644\u001b[0m \u001b[0;34m\u001b[0m\u001b[0m\n\u001b[1;32m    645\u001b[0m         \u001b[0;31m# Send the request\u001b[0m\u001b[0;34m\u001b[0m\u001b[0;34m\u001b[0m\u001b[0;34m\u001b[0m\u001b[0m\n\u001b[0;32m--> 646\u001b[0;31m         \u001b[0mr\u001b[0m \u001b[0;34m=\u001b[0m \u001b[0madapter\u001b[0m\u001b[0;34m.\u001b[0m\u001b[0msend\u001b[0m\u001b[0;34m(\u001b[0m\u001b[0mrequest\u001b[0m\u001b[0;34m,\u001b[0m \u001b[0;34m**\u001b[0m\u001b[0mkwargs\u001b[0m\u001b[0;34m)\u001b[0m\u001b[0;34m\u001b[0m\u001b[0;34m\u001b[0m\u001b[0m\n\u001b[0m\u001b[1;32m    647\u001b[0m \u001b[0;34m\u001b[0m\u001b[0m\n\u001b[1;32m    648\u001b[0m         \u001b[0;31m# Total elapsed time of the request (approximately)\u001b[0m\u001b[0;34m\u001b[0m\u001b[0;34m\u001b[0m\u001b[0;34m\u001b[0m\u001b[0m\n",
      "\u001b[0;32m/usr/local/lib/python3.7/site-packages/requests/adapters.py\u001b[0m in \u001b[0;36msend\u001b[0;34m(self, request, stream, timeout, verify, cert, proxies)\u001b[0m\n\u001b[1;32m    514\u001b[0m                 \u001b[0;32mraise\u001b[0m \u001b[0mSSLError\u001b[0m\u001b[0;34m(\u001b[0m\u001b[0me\u001b[0m\u001b[0;34m,\u001b[0m \u001b[0mrequest\u001b[0m\u001b[0;34m=\u001b[0m\u001b[0mrequest\u001b[0m\u001b[0;34m)\u001b[0m\u001b[0;34m\u001b[0m\u001b[0;34m\u001b[0m\u001b[0m\n\u001b[1;32m    515\u001b[0m \u001b[0;34m\u001b[0m\u001b[0m\n\u001b[0;32m--> 516\u001b[0;31m             \u001b[0;32mraise\u001b[0m \u001b[0mConnectionError\u001b[0m\u001b[0;34m(\u001b[0m\u001b[0me\u001b[0m\u001b[0;34m,\u001b[0m \u001b[0mrequest\u001b[0m\u001b[0;34m=\u001b[0m\u001b[0mrequest\u001b[0m\u001b[0;34m)\u001b[0m\u001b[0;34m\u001b[0m\u001b[0;34m\u001b[0m\u001b[0m\n\u001b[0m\u001b[1;32m    517\u001b[0m \u001b[0;34m\u001b[0m\u001b[0m\n\u001b[1;32m    518\u001b[0m         \u001b[0;32mexcept\u001b[0m \u001b[0mClosedPoolError\u001b[0m \u001b[0;32mas\u001b[0m \u001b[0me\u001b[0m\u001b[0;34m:\u001b[0m\u001b[0;34m\u001b[0m\u001b[0;34m\u001b[0m\u001b[0m\n",
      "\u001b[0;31mConnectionError\u001b[0m: HTTPConnectionPool(host='sewer.ip138.com', port=80): Max retries exceeded with url: / (Caused by NewConnectionError('<urllib3.connection.HTTPConnection object at 0x106911e90>: Failed to establish a new connection: [Errno 60] Operation timed out'))"
     ]
    }
   ],
   "source": [
    "# 使用requests获取网页内容，http://docs.python-requests.org/zh_CN/latest/user/quickstart.html\n",
    "import requests\n",
    "r = requests.get('http://ip138.com/post/')\n",
    "print(r.status_code) # r.text查看返回html内容\n",
    "# text = r.text.encode('iso-8859-1').decode('gb2312')\n",
    "# print(text)\n",
    "# encode: str-> byte\n",
    "# decide: byte -> str"
   ]
  },
  {
   "cell_type": "code",
   "execution_count": 30,
   "metadata": {},
   "outputs": [
    {
     "name": "stdout",
     "output_type": "stream",
     "text": [
      "{'args': {}, 'headers': {'Accept': '*/*', 'Accept-Encoding': 'gzip, deflate', 'Connection': 'close', 'Host': 'httpbin.org', 'User-Agent': 'python-requests/2.18.4'}, 'origin': '183.193.189.60', 'url': 'http://httpbin.org/get'}\n"
     ]
    }
   ],
   "source": [
    "r = requests.get('http://httpbin.org/get')\n",
    "print(r.json())"
   ]
  },
  {
   "cell_type": "code",
   "execution_count": 34,
   "metadata": {},
   "outputs": [
    {
     "name": "stdout",
     "output_type": "stream",
     "text": [
      "34\n",
      "北京市 : http://ip138.com/10/\n",
      "天津市 : http://ip138.com/30/\n",
      "河北省 : http://ip138.com/50/\n",
      "山西省 : http://ip138.com/03/\n",
      "内蒙古自治区 : http://ip138.com/01/\n",
      "辽宁省 : http://ip138.com/11/\n",
      "吉林省 : http://ip138.com/13/\n",
      "黑龙江省 : http://ip138.com/15/\n",
      "上海市 : http://ip138.com/20/\n",
      "江苏省 : http://ip138.com/21/\n",
      "浙江省 : http://ip138.com/31/\n",
      "安徽省 : http://ip138.com/23/\n",
      "福建省 : http://ip138.com/35/\n",
      "江西省 : http://ip138.com/33/\n",
      "山东省 : http://ip138.com/25/\n",
      "河南省 : http://ip138.com/45/\n",
      "湖北省 : http://ip138.com/43/\n",
      "湖南省 : http://ip138.com/41/\n",
      "广东省 : http://ip138.com/51/\n",
      "广西壮族自治区 : http://ip138.com/53/\n",
      "海南省 : http://ip138.com/57/\n",
      "重庆市 : http://ip138.com/40/\n",
      "四川省 : http://ip138.com/61/\n",
      "贵州省 : http://ip138.com/55/\n",
      "云南省 : http://ip138.com/65/\n",
      "西藏自治区 : http://ip138.com/85/\n",
      "陕西省 : http://ip138.com/71/\n",
      "甘肃省 : http://ip138.com/73/\n",
      "青海省 : http://ip138.com/81/\n",
      "宁夏回族自治区 : http://ip138.com/75/\n",
      "新疆维吾尔自治区 : http://ip138.com/83/\n",
      "香港特别行政区 : http://ip138.com/xianggang/\n",
      "澳门特别行政区 : http://ip138.com/aomen/\n",
      "台湾省 : http://ip138.com/taiwang/\n"
     ]
    }
   ],
   "source": [
    "from bs4 import BeautifulSoup\n",
    "\n",
    "# 获取各省市邮编页面入口\n",
    "r = requests.get('http://ip138.com/post/')\n",
    "text = r.text.encode('iso-8859-1').decode('utf8')\n",
    "bs = BeautifulSoup(text, 'html5lib')\n",
    "links = bs.select('div#newAlexa > table.t4 > tbody > tr > td > a')\n",
    "print(len(links))\n",
    "for link in links:\n",
    "    print(link.text, ': http://ip138.com' + link.get('href'))"
   ]
  },
  {
   "cell_type": "code",
   "execution_count": 49,
   "metadata": {},
   "outputs": [
    {
     "name": "stdout",
     "output_type": "stream",
     "text": [
      "浦东新区（原南汇区）: 201300, 021\n",
      "川沙: 201200, 021\n",
      "南汇区: 201300, 021\n",
      "奉贤区: 201400, 021\n",
      "崇明区: 202150, 021\n",
      "松江区: 201600, 021\n",
      "青浦区: 201700, 021\n",
      "嘉定区: 201800, 021\n",
      "宝山区: 201900, 021\n",
      "金山区: 201540, 021\n",
      "黄浦区: 200001, 021\n",
      "卢湾区: 200020, 021\n",
      "徐汇区: 200030, 021\n",
      "长宁区: 200050, 021\n",
      "静安区: 200040, 021\n",
      "普陀区: 200333, 021\n",
      "虹口区: 200080, 021\n",
      "闸北区: 200070, 021\n",
      "杨浦区: 200082, 021\n",
      "闵行区: 201100, 021\n",
      "上海市: 201100, 021\n",
      "浦东新区: 200135, 021\n"
     ]
    }
   ],
   "source": [
    "# 获取上海邮政编码列表\n",
    "r = requests.get('http://ip138.com/20/')\n",
    "text = r.text.encode('iso-8859-1').decode('gb2312')\n",
    "bs = BeautifulSoup(text, 'html5lib')\n",
    "rows = bs.select('table.t12 > tbody > tr')\n",
    "for i in range(1, len(rows)):\n",
    "    tds = rows[i].select('td')\n",
    "    for j in range(2):\n",
    "        name = tds[j * 3].text\n",
    "        post = tds[j * 3 + 1].text\n",
    "        phone = tds[j * 3 + 2].text\n",
    "        print(name + ': ' + post + ', ' + phone)"
   ]
  },
  {
   "cell_type": "code",
   "execution_count": 35,
   "metadata": {},
   "outputs": [
    {
     "name": "stdout",
     "output_type": "stream",
     "text": [
      "北京市 :  http://ip138.com/10/\n",
      "天津市 :  http://ip138.com/30/\n",
      "河北省 :  http://ip138.com/50/\n",
      "山西省 :  http://ip138.com/03/\n",
      "内蒙古自治区 :  http://ip138.com/01/\n",
      "辽宁省 :  http://ip138.com/11/\n",
      "吉林省 :  http://ip138.com/13/\n",
      "黑龙江省 :  http://ip138.com/15/\n",
      "上海市 :  http://ip138.com/20/\n",
      "江苏省 :  http://ip138.com/21/\n",
      "浙江省 :  http://ip138.com/31/\n",
      "安徽省 :  http://ip138.com/23/\n",
      "福建省 :  http://ip138.com/35/\n",
      "江西省 :  http://ip138.com/33/\n",
      "山东省 :  http://ip138.com/25/\n",
      "河南省 :  http://ip138.com/45/\n",
      "湖北省 :  http://ip138.com/43/\n",
      "湖南省 :  http://ip138.com/41/\n",
      "广东省 :  http://ip138.com/51/\n",
      "广西壮族自治区 :  http://ip138.com/53/\n",
      "海南省 :  http://ip138.com/57/\n",
      "重庆市 :  http://ip138.com/40/\n",
      "四川省 :  http://ip138.com/61/\n",
      "贵州省 :  http://ip138.com/55/\n",
      "云南省 :  http://ip138.com/65/\n",
      "西藏自治区 :  http://ip138.com/85/\n",
      "陕西省 :  http://ip138.com/71/\n",
      "甘肃省 :  http://ip138.com/73/\n",
      "青海省 :  http://ip138.com/81/\n",
      "宁夏回族自治区 :  http://ip138.com/75/\n",
      "新疆维吾尔自治区 :  http://ip138.com/83/\n",
      "香港特别行政区 :  http://ip138.com/xianggang/\n",
      "澳门特别行政区 :  http://ip138.com/aomen/\n",
      "台湾省 :  http://ip138.com/taiwang/\n"
     ]
    }
   ],
   "source": [
    "# 使用selenium的例子\n",
    "from selenium import webdriver\n",
    "driver = webdriver.Chrome()\n",
    "driver.get('http://ip138.com/post/')\n",
    "links = driver.find_elements_by_css_selector('div#newAlexa > table.t4 > tbody > tr > td > a')\n",
    "for link in links:\n",
    "    print(link.text, ': ', link.get_attribute('href'))\n",
    "driver.quit()"
   ]
  },
  {
   "cell_type": "code",
   "execution_count": 37,
   "metadata": {},
   "outputs": [],
   "source": [
    "# 练习题：模拟百度搜索\n",
    "import time\n",
    "driver = webdriver.Chrome()\n",
    "driver.get('http://www.baidu.com')\n",
    "input_box = driver.find_element_by_css_selector('input#kw')\n",
    "input_box.send_keys('python')\n",
    "time.sleep(3)\n",
    "submit_btn = driver.find_element_by_css_selector('input#su')\n",
    "submit_btn.click()\n",
    "time.sleep(3)\n",
    "driver.quit()"
   ]
  },
  {
   "cell_type": "code",
   "execution_count": null,
   "metadata": {},
   "outputs": [],
   "source": [
    "# Pandas/NumPy入门\n",
    "# 参考资料：https://github.com/yingl/pydata-book（利用Python进行数据分析源代码整理）"
   ]
  },
  {
   "cell_type": "code",
   "execution_count": 1,
   "metadata": {
    "ExecuteTime": {
     "end_time": "2020-02-12T09:07:04.895011Z",
     "start_time": "2020-02-12T09:07:04.731627Z"
    },
    "collapsed": true
   },
   "outputs": [
    {
     "name": "stdout",
     "output_type": "stream",
     "text": [
      "2\n",
      "(2, 3)\n",
      "[[ 0.9526 -0.246  -0.8856]\n",
      " [ 0.5639  0.2379  0.9104]]\n"
     ]
    }
   ],
   "source": [
    "# NumPy\n",
    "import numpy as np\n",
    "data = np.array([[ 0.9526, -0.246 , -0.8856],\n",
    "                 [ 0.5639,  0.2379,  0.9104]])\n",
    "print(data.ndim)\n",
    "print(data.shape)\n",
    "print(data)"
   ]
  },
  {
   "cell_type": "code",
   "execution_count": 2,
   "metadata": {
    "ExecuteTime": {
     "end_time": "2020-02-12T09:07:14.294830Z",
     "start_time": "2020-02-12T09:07:14.288830Z"
    },
    "collapsed": true
   },
   "outputs": [
    {
     "name": "stdout",
     "output_type": "stream",
     "text": [
      "[[ 9.526 -2.46  -8.856]\n",
      " [ 5.639  2.379  9.104]]\n",
      "[[13.4786 -3.706  -9.7416]\n",
      " [ 7.2029  6.6169 13.0144]]\n"
     ]
    }
   ],
   "source": [
    "# 矢量操作\n",
    "data = data * 10 # 直接作用在每个元素上\n",
    "data2 = np.array([[ 3.9526, -1.246 , -0.8856],\n",
    "                  [ 1.5639,  4.2379,  3.9104]])\n",
    "print(data)\n",
    "print(data + data2)"
   ]
  },
  {
   "cell_type": "code",
   "execution_count": 3,
   "metadata": {
    "ExecuteTime": {
     "end_time": "2020-02-12T09:07:59.784200Z",
     "start_time": "2020-02-12T09:07:59.773102Z"
    },
    "collapsed": true
   },
   "outputs": [
    {
     "name": "stdout",
     "output_type": "stream",
     "text": [
      "[[0. 0. 0. 0.]\n",
      " [1. 1. 1. 1.]\n",
      " [2. 2. 2. 2.]\n",
      " [3. 3. 3. 3.]\n",
      " [4. 4. 4. 4.]\n",
      " [5. 5. 5. 5.]\n",
      " [6. 6. 6. 6.]\n",
      " [7. 7. 7. 7.]]\n",
      "[[4. 4. 4. 4.]\n",
      " [3. 3. 3. 3.]\n",
      " [0. 0. 0. 0.]\n",
      " [6. 6. 6. 6.]]\n",
      "[[ 0  1  2  3]\n",
      " [ 4  5  6  7]\n",
      " [ 8  9 10 11]\n",
      " [12 13 14 15]\n",
      " [16 17 18 19]\n",
      " [20 21 22 23]\n",
      " [24 25 26 27]\n",
      " [28 29 30 31]]\n",
      "[ 4 23 29 10]\n"
     ]
    }
   ],
   "source": [
    "# 方便的索引\n",
    "arr = np.empty((8, 4))\n",
    "for i in range(8):\n",
    "    arr[i] = i\n",
    "print(arr)\n",
    "print(arr[[4, 3, 0, 6]]) # 选择指定的行\n",
    "arr = np.arange(32).reshape((8, 4)) # 重新调整数组形状\n",
    "print(arr)\n",
    "print(arr[[1, 5, 7, 2], [0, 3, 1, 2]]) # 实际选取的是[1, 0]，[5， 3]，[7， 1]，[2， 2]。"
   ]
  },
  {
   "cell_type": "code",
   "execution_count": 4,
   "metadata": {
    "ExecuteTime": {
     "end_time": "2020-02-12T09:09:58.326171Z",
     "start_time": "2020-02-12T09:09:58.313590Z"
    },
    "collapsed": true
   },
   "outputs": [
    {
     "data": {
      "text/plain": [
       "array([[ 4,  5],\n",
       "       [ 8,  9],\n",
       "       [12, 13]])"
      ]
     },
     "execution_count": 4,
     "metadata": {},
     "output_type": "execute_result"
    }
   ],
   "source": [
    "arr[1:4, 0:2]"
   ]
  },
  {
   "cell_type": "code",
   "execution_count": 5,
   "metadata": {
    "ExecuteTime": {
     "end_time": "2020-02-12T09:15:27.660962Z",
     "start_time": "2020-02-12T09:15:27.643272Z"
    },
    "collapsed": true
   },
   "outputs": [
    {
     "name": "stdout",
     "output_type": "stream",
     "text": [
      "['Bob' 'Joe' 'Will' 'Bob' 'Will' 'Joe' 'Joe']\n",
      "[[ 0.79029079  0.95687107  1.44561805 -0.63119374]\n",
      " [-0.66017247 -0.35825699 -2.03791852 -1.64416464]\n",
      " [ 0.73047804 -0.47754911  1.14100953 -0.7618607 ]\n",
      " [-2.98466377  1.94306689  0.5653538   0.6266167 ]\n",
      " [ 0.30237303 -1.25007281  0.12350019 -1.17216115]\n",
      " [-0.11967728 -1.12466334  0.91802953 -1.61259291]\n",
      " [-0.97710941  0.63258387 -0.55209122  0.25650508]]\n",
      "[ True False False  True False False False]\n",
      "[[ 0.79029079  0.95687107  1.44561805 -0.63119374]\n",
      " [-2.98466377  1.94306689  0.5653538   0.6266167 ]]\n",
      "[[ 1.44561805 -0.63119374]\n",
      " [ 0.5653538   0.6266167 ]]\n",
      "[[ 0.79029079  0.95687107  1.44561805 -0.63119374]\n",
      " [ 0.73047804 -0.47754911  1.14100953 -0.7618607 ]\n",
      " [-2.98466377  1.94306689  0.5653538   0.6266167 ]\n",
      " [ 0.30237303 -1.25007281  0.12350019 -1.17216115]]\n",
      "[[-1.         -1.         -1.         -1.        ]\n",
      " [-0.66017247 -0.35825699 -2.03791852 -1.64416464]\n",
      " [ 0.73047804 -0.47754911  1.14100953 -0.7618607 ]\n",
      " [-1.         -1.         -1.         -1.        ]\n",
      " [ 0.30237303 -1.25007281  0.12350019 -1.17216115]\n",
      " [-0.11967728 -1.12466334  0.91802953 -1.61259291]\n",
      " [-0.97710941  0.63258387 -0.55209122  0.25650508]]\n"
     ]
    }
   ],
   "source": [
    "# 快速数据检索\n",
    "names = np.array(['Bob', 'Joe', 'Will', 'Bob', 'Will', 'Joe', 'Joe'])\n",
    "data = np.random.randn(7, 4)\n",
    "print(names)\n",
    "print(data)\n",
    "print(names == 'Bob') # 返回布尔数组\n",
    "print(data[names == 'Bob']) # 布尔数组的值匹配每一行，True则选取，False则扔掉。\n",
    "print(data[names == 'Bob', 2:]) # 去除前2列\n",
    "mask = (names == 'Bob') | (names == 'Will') # 条件混合，取或\n",
    "print(data[mask])\n",
    "data[names == 'Bob'] = -1\n",
    "print(data)"
   ]
  },
  {
   "cell_type": "code",
   "execution_count": 6,
   "metadata": {
    "ExecuteTime": {
     "end_time": "2020-02-12T09:16:08.148366Z",
     "start_time": "2020-02-12T09:16:08.142587Z"
    },
    "collapsed": true
   },
   "outputs": [
    {
     "name": "stdout",
     "output_type": "stream",
     "text": [
      "[[ 1.42433297  1.50295067  1.16923517  0.44778785]\n",
      " [-0.5877754   0.58994016 -1.07206553 -0.30509794]\n",
      " [ 0.70132267  0.31869708 -0.20174189  0.69286409]\n",
      " [ 0.16197559 -0.74285345 -0.25390306 -0.44514915]]\n",
      "[[ 2  2  2  2]\n",
      " [-2  2 -2 -2]\n",
      " [ 2  2 -2  2]\n",
      " [ 2 -2 -2 -2]]\n"
     ]
    }
   ],
   "source": [
    "# 数据批量处理\n",
    "arr = np.random.randn(4, 4)\n",
    "print(arr)\n",
    "print(np.where(arr > 0, 2, -2))"
   ]
  },
  {
   "cell_type": "code",
   "execution_count": 7,
   "metadata": {
    "ExecuteTime": {
     "end_time": "2020-02-12T09:16:46.462992Z",
     "start_time": "2020-02-12T09:16:46.454526Z"
    },
    "collapsed": true
   },
   "outputs": [
    {
     "name": "stdout",
     "output_type": "stream",
     "text": [
      "[[1. 2. 3.]\n",
      " [4. 5. 6.]]\n",
      "[[ 6. 23.]\n",
      " [-1.  7.]\n",
      " [ 8.  9.]]\n",
      "[[ 28.  64.]\n",
      " [ 67. 181.]]\n"
     ]
    }
   ],
   "source": [
    "# 线性代数\n",
    "x = np.array([[1., 2., 3.], [4., 5., 6.]])\n",
    "y = np.array([[6., 23.], [-1, 7], [8, 9]])\n",
    "print(x)\n",
    "print(y)\n",
    "print(x.dot(y)) # 矩阵乘法"
   ]
  },
  {
   "cell_type": "code",
   "execution_count": 14,
   "metadata": {
    "ExecuteTime": {
     "end_time": "2020-02-12T09:22:03.536910Z",
     "start_time": "2020-02-12T09:22:03.526363Z"
    },
    "collapsed": true
   },
   "outputs": [
    {
     "name": "stdout",
     "output_type": "stream",
     "text": [
      "x:\n",
      "[[ 2.08052437  1.16744175  0.75496726 -1.20490865 -1.80504612]\n",
      " [-1.06158739  0.73141081 -2.58289968  0.46469575  1.63414031]\n",
      " [-0.10556236  1.15186207  0.23453918 -0.79249526  1.10251545]\n",
      " [ 1.89811358 -0.11618686 -1.65219853 -0.94810613  0.45544753]\n",
      " [ 1.04928045  0.92874017 -0.2988416  -0.46424849 -1.26805264]]\n",
      "mat=x.T.dot(x):\n",
      "[[10.17051745  2.28481429  0.83831387 -5.20323928 -6.07266101]\n",
      " [ 2.28481429  4.10072594 -0.82320611 -2.30063115 -0.87272103]\n",
      " [ 0.83831387 -0.82320611 10.11542125 -0.59060395 -5.69853099]\n",
      " [-5.20323928 -2.30063115 -0.59060395  3.41022765  2.2174344 ]\n",
      " [-6.07266101 -0.87272103 -5.69853099  2.2174344   8.9595363 ]]\n",
      "mat_i=inv(mat):\n",
      "[[242.45061496 126.06993238  91.8528173  379.05984105 141.21602147]\n",
      " [126.06993238  65.97084078  47.81383428 197.39297244  73.4320091 ]\n",
      " [ 91.8528173   47.81383428  34.96493103 143.59770224  53.61320079]\n",
      " [379.05984105 197.39297244 143.59770224 593.20438229 220.66711928]\n",
      " [141.21602147  73.4320091   53.61320079 220.66711928  82.46457019]]\n",
      "mat.dot(mat_i):\n",
      "[[ 1.00000000e+00  1.02226050e-13  5.89751059e-14 -7.50176621e-13\n",
      "   8.17123789e-14]\n",
      " [-4.32315515e-15  1.00000000e+00  2.81446746e-14 -2.92852339e-15\n",
      "   4.45077793e-14]\n",
      " [ 1.27477171e-13  1.36469536e-14  1.00000000e+00 -5.10209397e-14\n",
      "   1.34218509e-13]\n",
      " [-3.36949700e-13 -3.82635839e-14 -1.31952608e-13  1.00000000e+00\n",
      "  -1.20693761e-13]\n",
      " [ 1.48410962e-13  9.85445131e-14 -1.77250607e-14 -2.26592698e-13\n",
      "   1.00000000e+00]]\n"
     ]
    }
   ],
   "source": [
    "# 求逆矩阵\n",
    "from numpy.linalg import inv\n",
    "x = np.random.randn(5, 5)\n",
    "print(\"x:\")\n",
    "print(x)\n",
    "mat = x.T.dot(x)\n",
    "print(\"mat=x.T.dot(x):\")\n",
    "print(mat)\n",
    "mat_i = inv(mat)\n",
    "print(\"mat_i=inv(mat):\")\n",
    "print(mat_i)\n",
    "print(\"mat.dot(mat_i):\")\n",
    "print(mat.dot(mat_i)) # 单位矩阵，因为浮点数，所以非对角线元素为非0的非常小的数。"
   ]
  },
  {
   "cell_type": "code",
   "execution_count": 25,
   "metadata": {
    "ExecuteTime": {
     "end_time": "2020-02-12T10:01:35.235119Z",
     "start_time": "2020-02-12T10:01:35.213365Z"
    }
   },
   "outputs": [
    {
     "name": "stdout",
     "output_type": "stream",
     "text": [
      "[[-0.27438063 -0.6136916  -0.50498372 -0.28816631]\n",
      " [ 0.75959014  0.77642439  0.44496594  0.23627195]\n",
      " [ 1.00012674 -0.03243012 -0.57656425  0.16552952]\n",
      " [ 0.77514781  0.36891106 -1.15898201  0.01242639]\n",
      " [ 1.4184541  -0.09151012  1.34713821  0.52555405]]\n",
      "mean: 0.2144915778682676\n",
      "mean: 0.2144915778682676\n",
      "sum: 4.2898315573653525\n",
      "[-4.20305563e-01  5.54313106e-01  1.39165474e-01 -6.24189624e-04\n",
      "  7.99909062e-01]\n",
      "[-1.68122225e+00  2.21725242e+00  5.56661897e-01 -2.49675850e-03\n",
      "  3.19963625e+00]\n",
      "[ 3.67893816  0.40770361 -0.44842582  0.65161561]\n"
     ]
    }
   ],
   "source": [
    "# NumPy的数学和统计方法\n",
    "arr = np.random.randn(5, 4) # 正态分布的数据\n",
    "print(arr)\n",
    "print(\"mean: {}\".format(arr.mean()))\n",
    "print(\"mean: {}\".format(np.mean(arr)))\n",
    "print(\"sum: {}\".format(arr.sum())) # 所有数字加起来\n",
    "print(arr.mean(axis=1)) # 对每一行求平均\n",
    "print(arr.sum(axis=1)) # 对每一行求平均\n",
    "print(arr.sum(0)) # 对每一列求和"
   ]
  },
  {
   "cell_type": "code",
   "execution_count": 23,
   "metadata": {
    "ExecuteTime": {
     "end_time": "2020-02-12T09:27:16.763411Z",
     "start_time": "2020-02-12T09:27:16.758692Z"
    }
   },
   "outputs": [
    {
     "name": "stdout",
     "output_type": "stream",
     "text": [
      "[[-2.67268993  0.08937967  0.08678339  0.09758761]\n",
      " [ 0.97688194  0.52467088 -0.99023716  0.58043901]\n",
      " [-0.36316435  1.78730984  1.66175881 -0.48186686]\n",
      " [ 2.48955128 -0.78156188  0.14704821  0.11532185]]\n"
     ]
    }
   ],
   "source": [
    "# 按正态分布生成随机数\n",
    "samples = np.random.normal(size=(4, 4))\n",
    "print(samples)"
   ]
  },
  {
   "cell_type": "code",
   "execution_count": 24,
   "metadata": {
    "ExecuteTime": {
     "end_time": "2020-02-12T09:28:29.224394Z",
     "start_time": "2020-02-12T09:28:19.734952Z"
    }
   },
   "outputs": [
    {
     "name": "stdout",
     "output_type": "stream",
     "text": [
      "843 ms ± 7.3 ms per loop (mean ± std. dev. of 7 runs, 1 loop each)\n",
      "31.4 ms ± 283 µs per loop (mean ± std. dev. of 7 runs, 10 loops each)\n"
     ]
    }
   ],
   "source": [
    "# 快速随机数生成\n",
    "from random import normalvariate\n",
    "N = 1000000\n",
    "# 性能对比\n",
    "%timeit samples = [normalvariate(0, 1) for _ in range(N)]\n",
    "%timeit np.random.normal(size=N)"
   ]
  },
  {
   "cell_type": "code",
   "execution_count": null,
   "metadata": {},
   "outputs": [],
   "source": [
    "# Pandas\n",
    "# 基本数据结构：Series和DataFrame"
   ]
  },
  {
   "cell_type": "code",
   "execution_count": 1,
   "metadata": {
    "ExecuteTime": {
     "end_time": "2020-02-13T08:38:12.015853Z",
     "start_time": "2020-02-13T08:38:11.498753Z"
    }
   },
   "outputs": [],
   "source": [
    "import pandas as pd\n",
    "from pandas import DataFrame\n",
    "from pandas import Series"
   ]
  },
  {
   "cell_type": "code",
   "execution_count": 2,
   "metadata": {
    "ExecuteTime": {
     "end_time": "2020-02-13T08:38:15.609134Z",
     "start_time": "2020-02-13T08:38:15.598563Z"
    }
   },
   "outputs": [
    {
     "name": "stdout",
     "output_type": "stream",
     "text": [
      "0    4\n",
      "1    7\n",
      "2   -5\n",
      "3    3\n",
      "dtype: int64\n",
      "[ 4  7 -5  3]\n",
      "RangeIndex(start=0, stop=4, step=1)\n"
     ]
    }
   ],
   "source": [
    "obj = Series([4, 7, -5, 3])\n",
    "print(obj)\n",
    "print(obj.values)\n",
    "print(obj.index)"
   ]
  },
  {
   "cell_type": "code",
   "execution_count": 4,
   "metadata": {
    "ExecuteTime": {
     "end_time": "2020-02-13T08:38:41.745911Z",
     "start_time": "2020-02-13T08:38:41.737749Z"
    }
   },
   "outputs": [
    {
     "name": "stdout",
     "output_type": "stream",
     "text": [
      "d    4\n",
      "b    7\n",
      "a   -5\n",
      "c    3\n",
      "dtype: int64\n",
      "-5\n",
      "[ 4  7 -5  3]\n",
      "Index(['d', 'b', 'a', 'c'], dtype='object')\n"
     ]
    }
   ],
   "source": [
    "obj2 = Series([4, 7, -5, 3], index=['d', 'b', 'a', 'c'])\n",
    "print(obj2)\n",
    "print(obj2['a'])\n",
    "print(obj2.values)\n",
    "print(obj2.index)"
   ]
  },
  {
   "cell_type": "code",
   "execution_count": 5,
   "metadata": {
    "ExecuteTime": {
     "end_time": "2020-02-13T08:38:56.846884Z",
     "start_time": "2020-02-13T08:38:56.840487Z"
    }
   },
   "outputs": [
    {
     "name": "stdout",
     "output_type": "stream",
     "text": [
      "d    4\n",
      "b    7\n",
      "c    3\n",
      "dtype: int64\n"
     ]
    }
   ],
   "source": [
    "print(obj2[obj2 > 0])"
   ]
  },
  {
   "cell_type": "code",
   "execution_count": 7,
   "metadata": {
    "ExecuteTime": {
     "end_time": "2020-02-13T08:40:03.176419Z",
     "start_time": "2020-02-13T08:40:03.167516Z"
    }
   },
   "outputs": [
    {
     "name": "stdout",
     "output_type": "stream",
     "text": [
      "d     8\n",
      "b    14\n",
      "a   -10\n",
      "c     6\n",
      "dtype: int64\n",
      "d      54.598150\n",
      "b    1096.633158\n",
      "a       0.006738\n",
      "c      20.085537\n",
      "dtype: float64\n"
     ]
    }
   ],
   "source": [
    "# 计算\n",
    "import numpy as np\n",
    "print(obj2 * 2)\n",
    "print(np.exp(obj2))"
   ]
  },
  {
   "cell_type": "code",
   "execution_count": 8,
   "metadata": {
    "ExecuteTime": {
     "end_time": "2020-02-13T08:40:56.758974Z",
     "start_time": "2020-02-13T08:40:56.752216Z"
    }
   },
   "outputs": [
    {
     "name": "stdout",
     "output_type": "stream",
     "text": [
      "Ohio      35000\n",
      "Texas     71000\n",
      "Oregon    16000\n",
      "Utah       5000\n",
      "dtype: int64\n",
      "Index(['Ohio', 'Texas', 'Oregon', 'Utah'], dtype='object')\n"
     ]
    }
   ],
   "source": [
    "# Dict -> Series\n",
    "sdata = {'Ohio': 35000, 'Texas': 71000, 'Oregon': 16000, 'Utah': 5000}\n",
    "obj3 = Series(sdata)\n",
    "print(obj3)\n",
    "print(obj3.index)"
   ]
  },
  {
   "cell_type": "code",
   "execution_count": 9,
   "metadata": {
    "ExecuteTime": {
     "end_time": "2020-02-13T08:41:27.307126Z",
     "start_time": "2020-02-13T08:41:27.296064Z"
    }
   },
   "outputs": [
    {
     "name": "stdout",
     "output_type": "stream",
     "text": [
      "California        NaN\n",
      "Ohio          35000.0\n",
      "Oregon        16000.0\n",
      "Texas         71000.0\n",
      "dtype: float64\n"
     ]
    }
   ],
   "source": [
    "states = ['California', 'Ohio', 'Oregon', 'Texas']\n",
    "obj4 = Series(sdata, index=states) # 自动与dict的key匹配\n",
    "print(obj4)"
   ]
  },
  {
   "cell_type": "code",
   "execution_count": 10,
   "metadata": {
    "ExecuteTime": {
     "end_time": "2020-02-13T08:42:18.823899Z",
     "start_time": "2020-02-13T08:42:18.814726Z"
    }
   },
   "outputs": [
    {
     "name": "stdout",
     "output_type": "stream",
     "text": [
      "California         NaN\n",
      "Ohio           70000.0\n",
      "Oregon         32000.0\n",
      "Texas         142000.0\n",
      "Utah               NaN\n",
      "dtype: float64\n"
     ]
    }
   ],
   "source": [
    "print(obj3 + obj4) # 数据自动对齐"
   ]
  },
  {
   "cell_type": "code",
   "execution_count": 11,
   "metadata": {
    "ExecuteTime": {
     "end_time": "2020-02-13T08:42:45.978583Z",
     "start_time": "2020-02-13T08:42:45.974235Z"
    }
   },
   "outputs": [
    {
     "name": "stdout",
     "output_type": "stream",
     "text": [
      "州\n",
      "California        NaN\n",
      "Ohio          35000.0\n",
      "Oregon        16000.0\n",
      "Texas         71000.0\n",
      "Name: 人口, dtype: float64\n"
     ]
    }
   ],
   "source": [
    "obj4.name = '人口'\n",
    "obj4.index.name = '州'\n",
    "print(obj4)"
   ]
  },
  {
   "cell_type": "code",
   "execution_count": 12,
   "metadata": {
    "ExecuteTime": {
     "end_time": "2020-02-13T08:43:01.995989Z",
     "start_time": "2020-02-13T08:43:01.983540Z"
    }
   },
   "outputs": [
    {
     "data": {
      "text/plain": [
       "Bob      4\n",
       "Steve    7\n",
       "Jeff    -5\n",
       "Ryan     3\n",
       "dtype: int64"
      ]
     },
     "execution_count": 12,
     "metadata": {},
     "output_type": "execute_result"
    }
   ],
   "source": [
    "obj = Series([4, 7, -5, 3])\n",
    "obj.index = ['Bob', 'Steve', 'Jeff', 'Ryan'] # 更新索引\n",
    "obj"
   ]
  },
  {
   "cell_type": "code",
   "execution_count": 13,
   "metadata": {
    "ExecuteTime": {
     "end_time": "2020-02-13T08:44:59.548249Z",
     "start_time": "2020-02-13T08:44:59.531206Z"
    }
   },
   "outputs": [
    {
     "name": "stdout",
     "output_type": "stream",
     "text": [
      "    state  year  pop\n",
      "0    Ohio  2000  1.5\n",
      "1    Ohio  2001  1.7\n",
      "2    Ohio  2002  3.6\n",
      "3  Nevada  2001  2.4\n",
      "4  Nevada  2002  2.9\n"
     ]
    }
   ],
   "source": [
    "data = {'state': ['Ohio', 'Ohio', 'Ohio', 'Nevada', 'Nevada'],\n",
    "        'year': [2000, 2001, 2002, 2001, 2002],\n",
    "        'pop': [1.5, 1.7, 3.6, 2.4, 2.9]}\n",
    "frame = DataFrame(data) # key对应frame的列名\n",
    "print(frame)"
   ]
  },
  {
   "cell_type": "code",
   "execution_count": 14,
   "metadata": {
    "ExecuteTime": {
     "end_time": "2020-02-13T08:45:02.070424Z",
     "start_time": "2020-02-13T08:45:02.063442Z"
    }
   },
   "outputs": [
    {
     "name": "stdout",
     "output_type": "stream",
     "text": [
      "RangeIndex(start=0, stop=5, step=1)\n",
      "    state  year  pop\n",
      "X    Ohio  2000  1.5\n",
      "Y    Ohio  2001  1.7\n",
      "Z    Ohio  2002  3.6\n",
      "a  Nevada  2001  2.4\n",
      "b  Nevada  2002  2.9\n",
      "Ohio\n"
     ]
    }
   ],
   "source": [
    "print(frame.index)\n",
    "frame.index = ['X', 'Y', 'Z', 'a', 'b']\n",
    "print(frame)\n",
    "print(frame['state']['Z'])"
   ]
  },
  {
   "cell_type": "code",
   "execution_count": 18,
   "metadata": {
    "ExecuteTime": {
     "end_time": "2020-02-13T08:47:03.337164Z",
     "start_time": "2020-02-13T08:47:03.328713Z"
    }
   },
   "outputs": [
    {
     "name": "stdout",
     "output_type": "stream",
     "text": [
      "   year   state  pop\n",
      "0  2000    Ohio  1.5\n",
      "1  2001    Ohio  1.7\n",
      "2  2002    Ohio  3.6\n",
      "3  2001  Nevada  2.4\n",
      "4  2002  Nevada  2.9\n"
     ]
    }
   ],
   "source": [
    "frame = DataFrame(data, columns=['year', 'state', 'pop']) # 指定列顺序\n",
    "print(frame)"
   ]
  },
  {
   "cell_type": "code",
   "execution_count": 31,
   "metadata": {
    "ExecuteTime": {
     "end_time": "2020-02-13T08:53:36.103219Z",
     "start_time": "2020-02-13T08:53:35.823860Z"
    }
   },
   "outputs": [
    {
     "data": {
      "text/html": [
       "<div>\n",
       "<style scoped>\n",
       "    .dataframe tbody tr th:only-of-type {\n",
       "        vertical-align: middle;\n",
       "    }\n",
       "\n",
       "    .dataframe tbody tr th {\n",
       "        vertical-align: top;\n",
       "    }\n",
       "\n",
       "    .dataframe thead th {\n",
       "        text-align: right;\n",
       "    }\n",
       "</style>\n",
       "<table border=\"1\" class=\"dataframe\">\n",
       "  <thead>\n",
       "    <tr style=\"text-align: right;\">\n",
       "      <th></th>\n",
       "      <th>open</th>\n",
       "      <th>high</th>\n",
       "      <th>close</th>\n",
       "      <th>low</th>\n",
       "      <th>volume</th>\n",
       "      <th>price_change</th>\n",
       "      <th>p_change</th>\n",
       "      <th>ma5</th>\n",
       "      <th>ma10</th>\n",
       "      <th>ma20</th>\n",
       "      <th>v_ma5</th>\n",
       "      <th>v_ma10</th>\n",
       "      <th>v_ma20</th>\n",
       "    </tr>\n",
       "    <tr>\n",
       "      <th>date</th>\n",
       "      <th></th>\n",
       "      <th></th>\n",
       "      <th></th>\n",
       "      <th></th>\n",
       "      <th></th>\n",
       "      <th></th>\n",
       "      <th></th>\n",
       "      <th></th>\n",
       "      <th></th>\n",
       "      <th></th>\n",
       "      <th></th>\n",
       "      <th></th>\n",
       "      <th></th>\n",
       "    </tr>\n",
       "  </thead>\n",
       "  <tbody>\n",
       "    <tr>\n",
       "      <th>2018-11-09</th>\n",
       "      <td>4.98</td>\n",
       "      <td>5.00</td>\n",
       "      <td>5.00</td>\n",
       "      <td>4.94</td>\n",
       "      <td>59744.25</td>\n",
       "      <td>0.03</td>\n",
       "      <td>0.60</td>\n",
       "      <td>5.030</td>\n",
       "      <td>5.034</td>\n",
       "      <td>4.966</td>\n",
       "      <td>71381.90</td>\n",
       "      <td>82532.59</td>\n",
       "      <td>74445.95</td>\n",
       "    </tr>\n",
       "    <tr>\n",
       "      <th>2018-11-08</th>\n",
       "      <td>5.06</td>\n",
       "      <td>5.07</td>\n",
       "      <td>4.97</td>\n",
       "      <td>4.95</td>\n",
       "      <td>61055.53</td>\n",
       "      <td>-0.06</td>\n",
       "      <td>-1.19</td>\n",
       "      <td>5.050</td>\n",
       "      <td>5.036</td>\n",
       "      <td>4.960</td>\n",
       "      <td>83451.65</td>\n",
       "      <td>84480.17</td>\n",
       "      <td>75396.73</td>\n",
       "    </tr>\n",
       "    <tr>\n",
       "      <th>2018-11-07</th>\n",
       "      <td>5.08</td>\n",
       "      <td>5.09</td>\n",
       "      <td>5.03</td>\n",
       "      <td>5.01</td>\n",
       "      <td>89424.73</td>\n",
       "      <td>-0.04</td>\n",
       "      <td>-0.79</td>\n",
       "      <td>5.060</td>\n",
       "      <td>5.038</td>\n",
       "      <td>4.959</td>\n",
       "      <td>89953.17</td>\n",
       "      <td>84175.52</td>\n",
       "      <td>77834.75</td>\n",
       "    </tr>\n",
       "    <tr>\n",
       "      <th>2018-11-06</th>\n",
       "      <td>5.09</td>\n",
       "      <td>5.11</td>\n",
       "      <td>5.07</td>\n",
       "      <td>5.04</td>\n",
       "      <td>74930.25</td>\n",
       "      <td>-0.01</td>\n",
       "      <td>-0.20</td>\n",
       "      <td>5.064</td>\n",
       "      <td>5.034</td>\n",
       "      <td>4.969</td>\n",
       "      <td>90706.50</td>\n",
       "      <td>80046.28</td>\n",
       "      <td>75175.92</td>\n",
       "    </tr>\n",
       "    <tr>\n",
       "      <th>2018-11-05</th>\n",
       "      <td>5.09</td>\n",
       "      <td>5.15</td>\n",
       "      <td>5.08</td>\n",
       "      <td>5.03</td>\n",
       "      <td>71754.75</td>\n",
       "      <td>-0.02</td>\n",
       "      <td>-0.39</td>\n",
       "      <td>5.066</td>\n",
       "      <td>5.023</td>\n",
       "      <td>4.977</td>\n",
       "      <td>97170.45</td>\n",
       "      <td>79393.66</td>\n",
       "      <td>74107.09</td>\n",
       "    </tr>\n",
       "    <tr>\n",
       "      <th>2018-11-02</th>\n",
       "      <td>5.10</td>\n",
       "      <td>5.14</td>\n",
       "      <td>5.10</td>\n",
       "      <td>5.03</td>\n",
       "      <td>120092.98</td>\n",
       "      <td>0.08</td>\n",
       "      <td>1.59</td>\n",
       "      <td>5.038</td>\n",
       "      <td>5.016</td>\n",
       "      <td>4.983</td>\n",
       "      <td>93683.27</td>\n",
       "      <td>81334.83</td>\n",
       "      <td>74237.01</td>\n",
       "    </tr>\n",
       "    <tr>\n",
       "      <th>2018-11-01</th>\n",
       "      <td>5.06</td>\n",
       "      <td>5.08</td>\n",
       "      <td>5.02</td>\n",
       "      <td>5.01</td>\n",
       "      <td>93563.12</td>\n",
       "      <td>-0.03</td>\n",
       "      <td>-0.59</td>\n",
       "      <td>5.022</td>\n",
       "      <td>4.992</td>\n",
       "      <td>4.991</td>\n",
       "      <td>85508.69</td>\n",
       "      <td>76120.28</td>\n",
       "      <td>72393.98</td>\n",
       "    </tr>\n",
       "  </tbody>\n",
       "</table>\n",
       "</div>"
      ],
      "text/plain": [
       "            open  high  close   low     volume  price_change  p_change    ma5  \\\n",
       "date                                                                            \n",
       "2018-11-09  4.98  5.00   5.00  4.94   59744.25          0.03      0.60  5.030   \n",
       "2018-11-08  5.06  5.07   4.97  4.95   61055.53         -0.06     -1.19  5.050   \n",
       "2018-11-07  5.08  5.09   5.03  5.01   89424.73         -0.04     -0.79  5.060   \n",
       "2018-11-06  5.09  5.11   5.07  5.04   74930.25         -0.01     -0.20  5.064   \n",
       "2018-11-05  5.09  5.15   5.08  5.03   71754.75         -0.02     -0.39  5.066   \n",
       "2018-11-02  5.10  5.14   5.10  5.03  120092.98          0.08      1.59  5.038   \n",
       "2018-11-01  5.06  5.08   5.02  5.01   93563.12         -0.03     -0.59  5.022   \n",
       "\n",
       "             ma10   ma20     v_ma5    v_ma10    v_ma20  \n",
       "date                                                    \n",
       "2018-11-09  5.034  4.966  71381.90  82532.59  74445.95  \n",
       "2018-11-08  5.036  4.960  83451.65  84480.17  75396.73  \n",
       "2018-11-07  5.038  4.959  89953.17  84175.52  77834.75  \n",
       "2018-11-06  5.034  4.969  90706.50  80046.28  75175.92  \n",
       "2018-11-05  5.023  4.977  97170.45  79393.66  74107.09  \n",
       "2018-11-02  5.016  4.983  93683.27  81334.83  74237.01  \n",
       "2018-11-01  4.992  4.991  85508.69  76120.28  72393.98  "
      ]
     },
     "execution_count": 31,
     "metadata": {},
     "output_type": "execute_result"
    }
   ],
   "source": [
    "# 从Tushare获取股票数据并进行简单加工\n",
    "import tushare as ts\n",
    "df = ts.get_hist_data('600642', start='2018-11-01', end='2018-11-10')\n",
    "df"
   ]
  },
  {
   "cell_type": "code",
   "execution_count": 25,
   "metadata": {
    "ExecuteTime": {
     "end_time": "2020-02-13T08:50:25.531761Z",
     "start_time": "2020-02-13T08:50:25.522900Z"
    }
   },
   "outputs": [
    {
     "name": "stdout",
     "output_type": "stream",
     "text": [
      "<class 'pandas.core.series.Series'>\n",
      "date\n",
      "2018-11-09    4.98\n",
      "2018-11-08    5.06\n",
      "2018-11-07    5.08\n",
      "2018-11-06    5.09\n",
      "2018-11-05    5.09\n",
      "2018-11-02    5.10\n",
      "2018-11-01    5.06\n",
      "Name: open, dtype: float64\n",
      "\n",
      "df.iloc[2, 3]: 5.01\n",
      "\n",
      "            open  close\n",
      "date                   \n",
      "2018-11-08  5.06   4.97\n",
      "2018-11-06  5.09   5.07\n"
     ]
    }
   ],
   "source": [
    "print(type(df['open']))\n",
    "print(df['open'])\n",
    "print(\"\\ndf.iloc[2, 3]: {}\\n\".format(df.iloc[2, 3]))\n",
    "print(df.loc[['2018-11-08', '2018-11-06'], ['open', 'close']])"
   ]
  },
  {
   "cell_type": "code",
   "execution_count": 32,
   "metadata": {
    "ExecuteTime": {
     "end_time": "2020-02-13T08:53:41.698304Z",
     "start_time": "2020-02-13T08:53:41.678733Z"
    }
   },
   "outputs": [
    {
     "data": {
      "text/html": [
       "<div>\n",
       "<style scoped>\n",
       "    .dataframe tbody tr th:only-of-type {\n",
       "        vertical-align: middle;\n",
       "    }\n",
       "\n",
       "    .dataframe tbody tr th {\n",
       "        vertical-align: top;\n",
       "    }\n",
       "\n",
       "    .dataframe thead th {\n",
       "        text-align: right;\n",
       "    }\n",
       "</style>\n",
       "<table border=\"1\" class=\"dataframe\">\n",
       "  <thead>\n",
       "    <tr style=\"text-align: right;\">\n",
       "      <th></th>\n",
       "      <th>open</th>\n",
       "      <th>high</th>\n",
       "      <th>close</th>\n",
       "      <th>low</th>\n",
       "      <th>volume</th>\n",
       "      <th>price_change</th>\n",
       "      <th>p_change</th>\n",
       "      <th>ma5</th>\n",
       "      <th>ma10</th>\n",
       "      <th>ma20</th>\n",
       "      <th>v_ma5</th>\n",
       "      <th>v_ma10</th>\n",
       "      <th>v_ma20</th>\n",
       "    </tr>\n",
       "    <tr>\n",
       "      <th>date</th>\n",
       "      <th></th>\n",
       "      <th></th>\n",
       "      <th></th>\n",
       "      <th></th>\n",
       "      <th></th>\n",
       "      <th></th>\n",
       "      <th></th>\n",
       "      <th></th>\n",
       "      <th></th>\n",
       "      <th></th>\n",
       "      <th></th>\n",
       "      <th></th>\n",
       "      <th></th>\n",
       "    </tr>\n",
       "  </thead>\n",
       "  <tbody>\n",
       "    <tr>\n",
       "      <th>2018-11-09</th>\n",
       "      <td>4.98</td>\n",
       "      <td>5.00</td>\n",
       "      <td>5.00</td>\n",
       "      <td>4.94</td>\n",
       "      <td>59744.25</td>\n",
       "      <td>0.03</td>\n",
       "      <td>0.60</td>\n",
       "      <td>5.030</td>\n",
       "      <td>5.034</td>\n",
       "      <td>4.966</td>\n",
       "      <td>71381.90</td>\n",
       "      <td>82532.59</td>\n",
       "      <td>74445.95</td>\n",
       "    </tr>\n",
       "    <tr>\n",
       "      <th>2018-11-08</th>\n",
       "      <td>5.06</td>\n",
       "      <td>5.07</td>\n",
       "      <td>4.97</td>\n",
       "      <td>4.95</td>\n",
       "      <td>61055.53</td>\n",
       "      <td>-0.06</td>\n",
       "      <td>-1.19</td>\n",
       "      <td>5.050</td>\n",
       "      <td>5.036</td>\n",
       "      <td>4.960</td>\n",
       "      <td>83451.65</td>\n",
       "      <td>84480.17</td>\n",
       "      <td>75396.73</td>\n",
       "    </tr>\n",
       "    <tr>\n",
       "      <th>2018-11-07</th>\n",
       "      <td>5.08</td>\n",
       "      <td>5.09</td>\n",
       "      <td>5.03</td>\n",
       "      <td>5.01</td>\n",
       "      <td>89424.73</td>\n",
       "      <td>-0.04</td>\n",
       "      <td>-0.79</td>\n",
       "      <td>5.060</td>\n",
       "      <td>5.038</td>\n",
       "      <td>4.959</td>\n",
       "      <td>89953.17</td>\n",
       "      <td>84175.52</td>\n",
       "      <td>77834.75</td>\n",
       "    </tr>\n",
       "    <tr>\n",
       "      <th>2018-11-06</th>\n",
       "      <td>5.09</td>\n",
       "      <td>5.11</td>\n",
       "      <td>5.07</td>\n",
       "      <td>5.04</td>\n",
       "      <td>74930.25</td>\n",
       "      <td>-0.01</td>\n",
       "      <td>-0.20</td>\n",
       "      <td>5.064</td>\n",
       "      <td>5.034</td>\n",
       "      <td>4.969</td>\n",
       "      <td>90706.50</td>\n",
       "      <td>80046.28</td>\n",
       "      <td>75175.92</td>\n",
       "    </tr>\n",
       "    <tr>\n",
       "      <th>2018-11-05</th>\n",
       "      <td>5.09</td>\n",
       "      <td>5.15</td>\n",
       "      <td>5.08</td>\n",
       "      <td>5.03</td>\n",
       "      <td>71754.75</td>\n",
       "      <td>-0.02</td>\n",
       "      <td>-0.39</td>\n",
       "      <td>5.066</td>\n",
       "      <td>5.023</td>\n",
       "      <td>4.977</td>\n",
       "      <td>97170.45</td>\n",
       "      <td>79393.66</td>\n",
       "      <td>74107.09</td>\n",
       "    </tr>\n",
       "    <tr>\n",
       "      <th>2018-11-02</th>\n",
       "      <td>5.10</td>\n",
       "      <td>5.14</td>\n",
       "      <td>5.10</td>\n",
       "      <td>5.03</td>\n",
       "      <td>120092.98</td>\n",
       "      <td>0.08</td>\n",
       "      <td>1.59</td>\n",
       "      <td>5.038</td>\n",
       "      <td>5.016</td>\n",
       "      <td>4.983</td>\n",
       "      <td>93683.27</td>\n",
       "      <td>81334.83</td>\n",
       "      <td>74237.01</td>\n",
       "    </tr>\n",
       "    <tr>\n",
       "      <th>2018-11-01</th>\n",
       "      <td>5.06</td>\n",
       "      <td>5.08</td>\n",
       "      <td>5.02</td>\n",
       "      <td>5.01</td>\n",
       "      <td>93563.12</td>\n",
       "      <td>-0.03</td>\n",
       "      <td>-0.59</td>\n",
       "      <td>5.022</td>\n",
       "      <td>4.992</td>\n",
       "      <td>4.991</td>\n",
       "      <td>85508.69</td>\n",
       "      <td>76120.28</td>\n",
       "      <td>72393.98</td>\n",
       "    </tr>\n",
       "  </tbody>\n",
       "</table>\n",
       "</div>"
      ],
      "text/plain": [
       "            open  high  close   low     volume  price_change  p_change    ma5  \\\n",
       "date                                                                            \n",
       "2018-11-09  4.98  5.00   5.00  4.94   59744.25          0.03      0.60  5.030   \n",
       "2018-11-08  5.06  5.07   4.97  4.95   61055.53         -0.06     -1.19  5.050   \n",
       "2018-11-07  5.08  5.09   5.03  5.01   89424.73         -0.04     -0.79  5.060   \n",
       "2018-11-06  5.09  5.11   5.07  5.04   74930.25         -0.01     -0.20  5.064   \n",
       "2018-11-05  5.09  5.15   5.08  5.03   71754.75         -0.02     -0.39  5.066   \n",
       "2018-11-02  5.10  5.14   5.10  5.03  120092.98          0.08      1.59  5.038   \n",
       "2018-11-01  5.06  5.08   5.02  5.01   93563.12         -0.03     -0.59  5.022   \n",
       "\n",
       "             ma10   ma20     v_ma5    v_ma10    v_ma20  \n",
       "date                                                    \n",
       "2018-11-09  5.034  4.966  71381.90  82532.59  74445.95  \n",
       "2018-11-08  5.036  4.960  83451.65  84480.17  75396.73  \n",
       "2018-11-07  5.038  4.959  89953.17  84175.52  77834.75  \n",
       "2018-11-06  5.034  4.969  90706.50  80046.28  75175.92  \n",
       "2018-11-05  5.023  4.977  97170.45  79393.66  74107.09  \n",
       "2018-11-02  5.016  4.983  93683.27  81334.83  74237.01  \n",
       "2018-11-01  4.992  4.991  85508.69  76120.28  72393.98  "
      ]
     },
     "execution_count": 32,
     "metadata": {},
     "output_type": "execute_result"
    }
   ],
   "source": [
    "df"
   ]
  },
  {
   "cell_type": "code",
   "execution_count": 33,
   "metadata": {
    "ExecuteTime": {
     "end_time": "2020-02-13T08:53:46.217902Z",
     "start_time": "2020-02-13T08:53:46.183517Z"
    }
   },
   "outputs": [
    {
     "name": "stdout",
     "output_type": "stream",
     "text": [
      "            open  high  close   low     volume  price_change  p_change    ma5  \\\n",
      "date                                                                            \n",
      "2018-11-01  5.06  5.08   5.02  5.01   93563.12         -0.03     -0.59  5.022   \n",
      "2018-11-02  5.10  5.14   5.10  5.03  120092.98          0.08      1.59  5.038   \n",
      "2018-11-05  5.09  5.15   5.08  5.03   71754.75         -0.02     -0.39  5.066   \n",
      "2018-11-06  5.09  5.11   5.07  5.04   74930.25         -0.01     -0.20  5.064   \n",
      "2018-11-07  5.08  5.09   5.03  5.01   89424.73         -0.04     -0.79  5.060   \n",
      "2018-11-08  5.06  5.07   4.97  4.95   61055.53         -0.06     -1.19  5.050   \n",
      "2018-11-09  4.98  5.00   5.00  4.94   59744.25          0.03      0.60  5.030   \n",
      "\n",
      "             ma10   ma20     v_ma5    v_ma10    v_ma20  \n",
      "date                                                    \n",
      "2018-11-01  4.992  4.991  85508.69  76120.28  72393.98  \n",
      "2018-11-02  5.016  4.983  93683.27  81334.83  74237.01  \n",
      "2018-11-05  5.023  4.977  97170.45  79393.66  74107.09  \n",
      "2018-11-06  5.034  4.969  90706.50  80046.28  75175.92  \n",
      "2018-11-07  5.038  4.959  89953.17  84175.52  77834.75  \n",
      "2018-11-08  5.036  4.960  83451.65  84480.17  75396.73  \n",
      "2018-11-09  5.034  4.966  71381.90  82532.59  74445.95  \n",
      "         date  open  high  close   low     volume  price_change  p_change  \\\n",
      "0  2018-11-01  5.06  5.08   5.02  5.01   93563.12         -0.03     -0.59   \n",
      "1  2018-11-02  5.10  5.14   5.10  5.03  120092.98          0.08      1.59   \n",
      "2  2018-11-05  5.09  5.15   5.08  5.03   71754.75         -0.02     -0.39   \n",
      "3  2018-11-06  5.09  5.11   5.07  5.04   74930.25         -0.01     -0.20   \n",
      "4  2018-11-07  5.08  5.09   5.03  5.01   89424.73         -0.04     -0.79   \n",
      "5  2018-11-08  5.06  5.07   4.97  4.95   61055.53         -0.06     -1.19   \n",
      "6  2018-11-09  4.98  5.00   5.00  4.94   59744.25          0.03      0.60   \n",
      "\n",
      "     ma5   ma10   ma20     v_ma5    v_ma10    v_ma20  \n",
      "0  5.022  4.992  4.991  85508.69  76120.28  72393.98  \n",
      "1  5.038  5.016  4.983  93683.27  81334.83  74237.01  \n",
      "2  5.066  5.023  4.977  97170.45  79393.66  74107.09  \n",
      "3  5.064  5.034  4.969  90706.50  80046.28  75175.92  \n",
      "4  5.060  5.038  4.959  89953.17  84175.52  77834.75  \n",
      "5  5.050  5.036  4.960  83451.65  84480.17  75396.73  \n",
      "6  5.030  5.034  4.966  71381.90  82532.59  74445.95  \n"
     ]
    },
    {
     "data": {
      "text/html": [
       "<div>\n",
       "<style scoped>\n",
       "    .dataframe tbody tr th:only-of-type {\n",
       "        vertical-align: middle;\n",
       "    }\n",
       "\n",
       "    .dataframe tbody tr th {\n",
       "        vertical-align: top;\n",
       "    }\n",
       "\n",
       "    .dataframe thead th {\n",
       "        text-align: right;\n",
       "    }\n",
       "</style>\n",
       "<table border=\"1\" class=\"dataframe\">\n",
       "  <thead>\n",
       "    <tr style=\"text-align: right;\">\n",
       "      <th></th>\n",
       "      <th>date</th>\n",
       "      <th>open</th>\n",
       "      <th>high</th>\n",
       "      <th>low</th>\n",
       "      <th>close</th>\n",
       "      <th>volume</th>\n",
       "    </tr>\n",
       "  </thead>\n",
       "  <tbody>\n",
       "    <tr>\n",
       "      <th>0</th>\n",
       "      <td>2018-11-01</td>\n",
       "      <td>5.06</td>\n",
       "      <td>5.08</td>\n",
       "      <td>5.01</td>\n",
       "      <td>5.02</td>\n",
       "      <td>93563.12</td>\n",
       "    </tr>\n",
       "    <tr>\n",
       "      <th>1</th>\n",
       "      <td>2018-11-02</td>\n",
       "      <td>5.10</td>\n",
       "      <td>5.14</td>\n",
       "      <td>5.03</td>\n",
       "      <td>5.10</td>\n",
       "      <td>120092.98</td>\n",
       "    </tr>\n",
       "    <tr>\n",
       "      <th>2</th>\n",
       "      <td>2018-11-05</td>\n",
       "      <td>5.09</td>\n",
       "      <td>5.15</td>\n",
       "      <td>5.03</td>\n",
       "      <td>5.08</td>\n",
       "      <td>71754.75</td>\n",
       "    </tr>\n",
       "    <tr>\n",
       "      <th>3</th>\n",
       "      <td>2018-11-06</td>\n",
       "      <td>5.09</td>\n",
       "      <td>5.11</td>\n",
       "      <td>5.04</td>\n",
       "      <td>5.07</td>\n",
       "      <td>74930.25</td>\n",
       "    </tr>\n",
       "    <tr>\n",
       "      <th>4</th>\n",
       "      <td>2018-11-07</td>\n",
       "      <td>5.08</td>\n",
       "      <td>5.09</td>\n",
       "      <td>5.01</td>\n",
       "      <td>5.03</td>\n",
       "      <td>89424.73</td>\n",
       "    </tr>\n",
       "    <tr>\n",
       "      <th>5</th>\n",
       "      <td>2018-11-08</td>\n",
       "      <td>5.06</td>\n",
       "      <td>5.07</td>\n",
       "      <td>4.95</td>\n",
       "      <td>4.97</td>\n",
       "      <td>61055.53</td>\n",
       "    </tr>\n",
       "    <tr>\n",
       "      <th>6</th>\n",
       "      <td>2018-11-09</td>\n",
       "      <td>4.98</td>\n",
       "      <td>5.00</td>\n",
       "      <td>4.94</td>\n",
       "      <td>5.00</td>\n",
       "      <td>59744.25</td>\n",
       "    </tr>\n",
       "  </tbody>\n",
       "</table>\n",
       "</div>"
      ],
      "text/plain": [
       "         date  open  high   low  close     volume\n",
       "0  2018-11-01  5.06  5.08  5.01   5.02   93563.12\n",
       "1  2018-11-02  5.10  5.14  5.03   5.10  120092.98\n",
       "2  2018-11-05  5.09  5.15  5.03   5.08   71754.75\n",
       "3  2018-11-06  5.09  5.11  5.04   5.07   74930.25\n",
       "4  2018-11-07  5.08  5.09  5.01   5.03   89424.73\n",
       "5  2018-11-08  5.06  5.07  4.95   4.97   61055.53\n",
       "6  2018-11-09  4.98  5.00  4.94   5.00   59744.25"
      ]
     },
     "execution_count": 33,
     "metadata": {},
     "output_type": "execute_result"
    }
   ],
   "source": [
    "df = df.sort_index(axis=0, ascending=True)\n",
    "print(df)\n",
    "df.reset_index(inplace=True)\n",
    "print(df)\n",
    "df = df[['date', 'open', 'high', 'low', 'close', 'volume']]\n",
    "df"
   ]
  },
  {
   "cell_type": "code",
   "execution_count": 34,
   "metadata": {
    "ExecuteTime": {
     "end_time": "2020-02-13T08:54:52.871403Z",
     "start_time": "2020-02-13T08:54:52.835156Z"
    }
   },
   "outputs": [
    {
     "data": {
      "text/html": [
       "<div>\n",
       "<style scoped>\n",
       "    .dataframe tbody tr th:only-of-type {\n",
       "        vertical-align: middle;\n",
       "    }\n",
       "\n",
       "    .dataframe tbody tr th {\n",
       "        vertical-align: top;\n",
       "    }\n",
       "\n",
       "    .dataframe thead th {\n",
       "        text-align: right;\n",
       "    }\n",
       "</style>\n",
       "<table border=\"1\" class=\"dataframe\">\n",
       "  <thead>\n",
       "    <tr style=\"text-align: right;\">\n",
       "      <th></th>\n",
       "      <th>open</th>\n",
       "      <th>high</th>\n",
       "      <th>low</th>\n",
       "      <th>close</th>\n",
       "      <th>volume</th>\n",
       "    </tr>\n",
       "  </thead>\n",
       "  <tbody>\n",
       "    <tr>\n",
       "      <th>count</th>\n",
       "      <td>7.000000</td>\n",
       "      <td>7.000000</td>\n",
       "      <td>7.000000</td>\n",
       "      <td>7.000000</td>\n",
       "      <td>7.000000</td>\n",
       "    </tr>\n",
       "    <tr>\n",
       "      <th>mean</th>\n",
       "      <td>5.065714</td>\n",
       "      <td>5.091429</td>\n",
       "      <td>5.001429</td>\n",
       "      <td>5.038571</td>\n",
       "      <td>81509.372857</td>\n",
       "    </tr>\n",
       "    <tr>\n",
       "      <th>std</th>\n",
       "      <td>0.040766</td>\n",
       "      <td>0.050143</td>\n",
       "      <td>0.040178</td>\n",
       "      <td>0.046701</td>\n",
       "      <td>21319.624075</td>\n",
       "    </tr>\n",
       "    <tr>\n",
       "      <th>min</th>\n",
       "      <td>4.980000</td>\n",
       "      <td>5.000000</td>\n",
       "      <td>4.940000</td>\n",
       "      <td>4.970000</td>\n",
       "      <td>59744.250000</td>\n",
       "    </tr>\n",
       "    <tr>\n",
       "      <th>25%</th>\n",
       "      <td>5.060000</td>\n",
       "      <td>5.075000</td>\n",
       "      <td>4.980000</td>\n",
       "      <td>5.010000</td>\n",
       "      <td>66405.140000</td>\n",
       "    </tr>\n",
       "    <tr>\n",
       "      <th>50%</th>\n",
       "      <td>5.080000</td>\n",
       "      <td>5.090000</td>\n",
       "      <td>5.010000</td>\n",
       "      <td>5.030000</td>\n",
       "      <td>74930.250000</td>\n",
       "    </tr>\n",
       "    <tr>\n",
       "      <th>75%</th>\n",
       "      <td>5.090000</td>\n",
       "      <td>5.125000</td>\n",
       "      <td>5.030000</td>\n",
       "      <td>5.075000</td>\n",
       "      <td>91493.925000</td>\n",
       "    </tr>\n",
       "    <tr>\n",
       "      <th>max</th>\n",
       "      <td>5.100000</td>\n",
       "      <td>5.150000</td>\n",
       "      <td>5.040000</td>\n",
       "      <td>5.100000</td>\n",
       "      <td>120092.980000</td>\n",
       "    </tr>\n",
       "  </tbody>\n",
       "</table>\n",
       "</div>"
      ],
      "text/plain": [
       "           open      high       low     close         volume\n",
       "count  7.000000  7.000000  7.000000  7.000000       7.000000\n",
       "mean   5.065714  5.091429  5.001429  5.038571   81509.372857\n",
       "std    0.040766  0.050143  0.040178  0.046701   21319.624075\n",
       "min    4.980000  5.000000  4.940000  4.970000   59744.250000\n",
       "25%    5.060000  5.075000  4.980000  5.010000   66405.140000\n",
       "50%    5.080000  5.090000  5.010000  5.030000   74930.250000\n",
       "75%    5.090000  5.125000  5.030000  5.075000   91493.925000\n",
       "max    5.100000  5.150000  5.040000  5.100000  120092.980000"
      ]
     },
     "execution_count": 34,
     "metadata": {},
     "output_type": "execute_result"
    }
   ],
   "source": [
    "df.describe()"
   ]
  },
  {
   "cell_type": "code",
   "execution_count": null,
   "metadata": {},
   "outputs": [],
   "source": []
  }
 ],
 "metadata": {
  "kernelspec": {
   "display_name": "Python 3",
   "language": "python",
   "name": "python3"
  },
  "language_info": {
   "codemirror_mode": {
    "name": "ipython",
    "version": 3
   },
   "file_extension": ".py",
   "mimetype": "text/x-python",
   "name": "python",
   "nbconvert_exporter": "python",
   "pygments_lexer": "ipython3",
   "version": "3.7.4"
  },
  "toc": {
   "base_numbering": 1,
   "nav_menu": {},
   "number_sections": true,
   "sideBar": true,
   "skip_h1_title": false,
   "title_cell": "Table of Contents",
   "title_sidebar": "Contents",
   "toc_cell": false,
   "toc_position": {},
   "toc_section_display": true,
   "toc_window_display": false
  }
 },
 "nbformat": 4,
 "nbformat_minor": 2
}
