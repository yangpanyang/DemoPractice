{
 "cells": [
  {
   "cell_type": "markdown",
   "metadata": {},
   "source": [
    "<img src='data:image/png;base64,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'>\n",
    "\n",
    "\n",
    "# 七月在线 《Python基础入门 第三期》 第四课 函数（上）\n",
    "\n",
    "\n",
    "> [七月在线](https://www.julyedu.com) David@2018-12-10"
   ]
  },
  {
   "cell_type": "markdown",
   "metadata": {},
   "source": [
    "## 本节课程目标\n",
    "### 复习上节课内容\n",
    "### 函数定义，函数体，位置参数与关键字参数，函数返回值\n",
    "### 不定长位置参数与关键字参数\n",
    "### 偏函数\n",
    "### Python中的LEGB访问规则\n",
    "\n",
    "### 完成课后作业："
   ]
  },
  {
   "cell_type": "markdown",
   "metadata": {},
   "source": [
    "## 函数定义，函数结构，位置参数与关键字参数，函数返回值"
   ]
  },
  {
   "cell_type": "markdown",
   "metadata": {},
   "source": [
    "### 函数定义，与函数结构"
   ]
  },
  {
   "cell_type": "code",
   "execution_count": 51,
   "metadata": {
    "ExecuteTime": {
     "end_time": "2020-02-12T12:53:53.554755Z",
     "start_time": "2020-02-12T12:53:53.484111Z"
    },
    "collapsed": true
   },
   "outputs": [],
   "source": [
    "%config ZMQInteractiveShell.ast_node_interactivity='all'"
   ]
  },
  {
   "cell_type": "code",
   "execution_count": 52,
   "metadata": {
    "ExecuteTime": {
     "end_time": "2020-02-12T12:54:03.179716Z",
     "start_time": "2020-02-12T12:54:03.174115Z"
    }
   },
   "outputs": [
    {
     "data": {
      "text/plain": [
       "2"
      ]
     },
     "execution_count": 52,
     "metadata": {},
     "output_type": "execute_result"
    }
   ],
   "source": [
    "l1=[1,'s','china']\n",
    "s1={'f',56}\n",
    "d1={'name':'jack'}\n",
    "len(s1)"
   ]
  },
  {
   "cell_type": "code",
   "execution_count": 53,
   "metadata": {
    "ExecuteTime": {
     "end_time": "2020-02-12T12:54:05.448932Z",
     "start_time": "2020-02-12T12:54:05.441379Z"
    }
   },
   "outputs": [
    {
     "data": {
      "text/plain": [
       "<function __main__.myfunc1(parm1, parm2='amazing')>"
      ]
     },
     "execution_count": 53,
     "metadata": {},
     "output_type": "execute_result"
    },
    {
     "data": {
      "text/plain": [
       "'china is amazing'"
      ]
     },
     "execution_count": 53,
     "metadata": {},
     "output_type": "execute_result"
    }
   ],
   "source": [
    "#函数定义与函数结构\n",
    "def myfunc1(parm1,parm2='amazing'):\n",
    "    \"\\\n",
    "    here is document for this function\\\n",
    "    multi lines \\\n",
    "    \"#__doc__ here\n",
    "    \n",
    "    something=parm1\n",
    "    \n",
    "    return str(something)+' is '+parm2\n",
    "\n",
    "myfunc1\n",
    "myfunc1('china')"
   ]
  },
  {
   "cell_type": "code",
   "execution_count": 55,
   "metadata": {
    "ExecuteTime": {
     "end_time": "2020-02-12T12:54:13.809612Z",
     "start_time": "2020-02-12T12:54:11.421924Z"
    }
   },
   "outputs": [
    {
     "name": "stdout",
     "output_type": "stream",
     "text": [
      "Once deleted, variables cannot be recovered. Proceed (y/[n])? y\n"
     ]
    },
    {
     "name": "stderr",
     "output_type": "stream",
     "text": [
      "ERROR:root:Invalid alias: The name clear can't be aliased because it is another magic command.\n",
      "ERROR:root:Invalid alias: The name more can't be aliased because it is another magic command.\n",
      "ERROR:root:Invalid alias: The name less can't be aliased because it is another magic command.\n",
      "ERROR:root:Invalid alias: The name man can't be aliased because it is another magic command.\n"
     ]
    },
    {
     "name": "stdout",
     "output_type": "stream",
     "text": [
      "Interactive namespace is empty.\n"
     ]
    }
   ],
   "source": [
    "#%reset\n",
    "%whos"
   ]
  },
  {
   "cell_type": "markdown",
   "metadata": {},
   "source": [
    "##### 延伸阅读:Python3新增函数特性：注释增强/Annotations"
   ]
  },
  {
   "cell_type": "code",
   "execution_count": 56,
   "metadata": {
    "ExecuteTime": {
     "end_time": "2020-02-12T12:54:22.833998Z",
     "start_time": "2020-02-12T12:54:22.827064Z"
    }
   },
   "outputs": [
    {
     "data": {
      "text/plain": [
       "{'parm1': 'parm user given string to output',\n",
       " 'parm2': 'this parm default value is amazing, user still can replace it',\n",
       " 'return': 'function return should be a string'}"
      ]
     },
     "execution_count": 56,
     "metadata": {},
     "output_type": "execute_result"
    },
    {
     "data": {
      "text/plain": [
       "'car is amazing'"
      ]
     },
     "execution_count": 56,
     "metadata": {},
     "output_type": "execute_result"
    }
   ],
   "source": [
    "def myfunc2(parm1:'parm user given string to output',parm2:'this parm default value is amazing, user still can replace it'='amazing')-> 'function return should be a string':\n",
    "    \"#__doc__ here\"\n",
    "    something=parm1\n",
    "    return str(something)+' is '+parm2\n",
    "myfunc2.__annotations__\n",
    "myfunc2('car')"
   ]
  },
  {
   "cell_type": "markdown",
   "metadata": {},
   "source": [
    "##### 延伸阅读:\n",
    "def:运行期指令，以代码对象为参数创建函数实例，并在当前上下文中与指定的名字相关联"
   ]
  },
  {
   "cell_type": "code",
   "execution_count": 57,
   "metadata": {
    "ExecuteTime": {
     "end_time": "2020-02-12T12:54:30.501577Z",
     "start_time": "2020-02-12T12:54:30.496798Z"
    }
   },
   "outputs": [
    {
     "name": "stdout",
     "output_type": "stream",
     "text": [
      "  1           0 LOAD_CONST               0 (<code object test at 0x1085a10c0, file \"\", line 1>)\n",
      "              2 LOAD_CONST               1 ('test')\n",
      "              4 MAKE_FUNCTION            0\n",
      "              6 STORE_NAME               0 (test)\n",
      "              8 LOAD_CONST               2 (None)\n",
      "             10 RETURN_VALUE\n",
      "\n",
      "Disassembly of <code object test at 0x1085a10c0, file \"\", line 1>:\n",
      "  1           0 LOAD_CONST               0 (None)\n",
      "              2 RETURN_VALUE\n"
     ]
    }
   ],
   "source": [
    "#def是运行期指令\n",
    "import dis\n",
    "dis.dis(compile(\"def test():pass\",\"\",\"exec\"))"
   ]
  },
  {
   "cell_type": "code",
   "execution_count": 58,
   "metadata": {
    "ExecuteTime": {
     "end_time": "2020-02-12T12:56:43.330288Z",
     "start_time": "2020-02-12T12:56:43.322264Z"
    }
   },
   "outputs": [
    {
     "name": "stdout",
     "output_type": "stream",
     "text": [
      "4439380480 4439381744\n",
      "4435088160 4439381744\n",
      "4438224480 4439381744\n",
      "4439294032 4439381744\n"
     ]
    },
    {
     "data": {
      "text/plain": [
       "[<function __main__.make_func.<locals>.test()>,\n",
       " <function __main__.make_func.<locals>.test()>,\n",
       " <function __main__.make_func.<locals>.test()>,\n",
       " <function __main__.make_func.<locals>.test()>]"
      ]
     },
     "execution_count": 58,
     "metadata": {},
     "output_type": "execute_result"
    }
   ],
   "source": [
    "#def的伪码\n",
    "#test=make_function('test',code)#dis操作是在函数实例创建完成后针对__code__，而非针对创建过程\n",
    "\n",
    "#以单个代码对象为模板创建多个函数实例\n",
    "def make_func(n):\n",
    "    ret=[]\n",
    "    for i in range(n):\n",
    "        def test():print('hello',n)\n",
    "        print(id(test),id(test.__code__))\n",
    "        ret.append(test)\n",
    "    return ret\n",
    "\n",
    "make_func(4)#不同实例，相同代码，也可以不同实例，不同代码（属性动态添加）"
   ]
  },
  {
   "cell_type": "markdown",
   "metadata": {},
   "source": [
    "##### 延伸阅读：Python的函数对象PyFunctionObject：\n",
    ">作用：为上下文提供调用实例，并管理所需的状态数据。负责管理运行期状态，如默认参数，动态添加的属性，由MAKE_FUNCTION指令创建"
   ]
  },
  {
   "cell_type": "code",
   "execution_count": 62,
   "metadata": {
    "ExecuteTime": {
     "end_time": "2020-02-12T12:58:38.793250Z",
     "start_time": "2020-02-12T12:58:38.785801Z"
    }
   },
   "outputs": [
    {
     "name": "stdout",
     "output_type": "stream",
     "text": [
      "co_object: <code object test1 at 0x10889ea50, file \"<ipython-input-62-eb79d9f886d2>\", line 2>\n",
      "\n",
      "co_name: test1\n",
      "co_filename: <ipython-input-62-eb79d9f886d2>\n",
      "co_firstlineno: 2\n",
      "\n",
      "co_code: b'd\\x01}\\x03t\\x00|\\x02\\x83\\x01\\x01\\x00|\\x01S\\x00'\n",
      "co_lnotab: b'\\x00\\x01\\x04\\x01\\x08\\x01'\n",
      "\n",
      "co_stacksize: 2\n"
     ]
    }
   ],
   "source": [
    "#探索PyFunctionOjbect\n",
    "def test1(a,b,c=1):\n",
    "    str1='julyedu.com'\n",
    "    print(c)\n",
    "    return b\n",
    "\n",
    "print('co_object: {}'.format(test1.__code__))# PyCodeObject<code object test1 at 0x0000023812E75A50, file \"<ipython-input-14-1306b5bc9b20>\", line 1>\n",
    "print('\\nco_name: {}'.format(test1.__code__.co_name))#函数名\n",
    "print('co_filename: {}'.format(test1.__code__.co_filename))#函数所在文件名<ipython-input-16-fc6b304ba0cd>\n",
    "print('co_firstlineno: {}'.format(test1.__code__.co_firstlineno))#函数在文件中的首行的行数1\n",
    "\n",
    "print('\\nco_code: {}'.format(test1.__code__.co_code))#函数中的代码对象字节码（二进制存储）\n",
    "print('co_lnotab: {}'.format(test1.__code__.co_lnotab))#'字节码的偏移值与对应的源码的行号的相对值'\n",
    "\n",
    "print('\\nco_stacksize: {}'.format(test1.__code__.co_stacksize))#占用了几个栈桢"
   ]
  },
  {
   "cell_type": "markdown",
   "metadata": {},
   "source": [
    "##### 扩展阅读：栈(Stack)与栈帧（Stack Frame）\n",
    "\n",
    "Python中栈的分类：\n",
    "> 用户栈：函数被调用时，会专门为其分配用户栈内存，用户栈内存除用来存储变量外，还包括字节码参数和返回值所需空间。   \n",
    "> 系统栈：用于机器执行，用户栈用于代码执行状态。\n",
    "\n",
    "\n",
    "Python中栈的作用：\n",
    "> 栈用于指令执行，与线程绑定。函数调用与执行都依赖于线程栈上存储的上下文和执行状态。"
   ]
  },
  {
   "cell_type": "markdown",
   "metadata": {},
   "source": [
    "```\n",
    "import dis\n",
    "def test(a,b):\n",
    "    c=a+b\n",
    "    return c\n",
    "    \n",
    "dis.dis(test)\n",
    "\n",
    "  2           0 LOAD_FAST                0 (a) #从Fast读取参数a,压入用户栈\n",
    "              2 LOAD_FAST                1 (b)#从Fast读取参数b,压入用户栈\n",
    "               4 BINARY_ADD                  #系统指令从用户栈读取操作数，执行加法操作\n",
    "              6 STORE_FAST               2 (c)#结果写回Fast\n",
    "\n",
    "  3           8 LOAD_FAST                2 (c)\n",
    "             10 RETURN_VALUE\n",
    "```"
   ]
  },
  {
   "cell_type": "markdown",
   "metadata": {},
   "source": [
    "栈帧（Stack Frame）\n",
    "> 线程栈这块内存中，每个被调用函数都分配着一块区域\n",
    "> Call stack是函数调用堆栈（运行时函数的调用过程）,除返回地址，还有为函数提供参数，局部变量存储空间等\n",
    "\n",
    "调用函数时的内存变化：\n",
    ">函数每次调用，都会新建栈帧，用于局部变量和执行过程存储。执行完成后，栈帧内存被回收，同时释放相关对象。"
   ]
  },
  {
   "cell_type": "code",
   "execution_count": 63,
   "metadata": {
    "ExecuteTime": {
     "end_time": "2020-02-12T13:04:21.303331Z",
     "start_time": "2020-02-12T13:04:21.299441Z"
    }
   },
   "outputs": [
    {
     "name": "stdout",
     "output_type": "stream",
     "text": [
      "4439111712\n",
      "4432514736\n"
     ]
    }
   ],
   "source": [
    "def test():\n",
    "    return id(locals())\n",
    "\n",
    "print(test())#Create New StackFrame\n",
    "print(test())#Create Another New StackFrame"
   ]
  },
  {
   "cell_type": "markdown",
   "metadata": {},
   "source": [
    "查看栈帧对象PyFrameObject\n",
    "> PyFrameObject,栈帧表示程序运行时函数调用栈中的某一帧。函数没有属性可以获取它，因为它在函数调用时才会产生   \n",
    "> 想要获得某个函数相关的栈帧，则必须在调用这个函数且这个函数尚未返回时获取。\n",
    "\n",
    "\n",
    ">sys._getframe()方法可以获取当前栈帧   \n",
    ">>_back: 调用栈的前一帧   \n",
    ">>f_code: 栈帧对应的code对象   \n",
    ">>f_locals: 用在当前栈帧时与内建函数locals()相同，但你可以先获取其他帧然后使用这个属性获取那个帧的locals()   \n",
    ">>f_globals: 用在当前栈帧时与内建函数globals()相同，但你可以先获取其他帧……   \n",
    ">>f_builtins -> dict key:  python的内置函数名   \n"
   ]
  },
  {
   "cell_type": "code",
   "execution_count": 70,
   "metadata": {
    "ExecuteTime": {
     "end_time": "2020-02-12T13:11:14.075430Z",
     "start_time": "2020-02-12T13:11:14.066812Z"
    }
   },
   "outputs": [
    {
     "name": "stdout",
     "output_type": "stream",
     "text": [
      "<code object func at 0x1089a4930, file \"<ipython-input-70-ea6d4756c65d>\", line 2>\n",
      "*** f_back *** \n",
      "<frame at 0x108993430, file '<ipython-input-70-ea6d4756c65d>', line 17, code <module>>\n",
      "*** frame ***\n",
      "<frame at 0x7ffe9e6a9e90, file '<ipython-input-70-ea6d4756c65d>', line 7, code func>\n",
      "*** f_code ***\n",
      "<code object func at 0x1089a4930, file \"<ipython-input-70-ea6d4756c65d>\", line 2>\n",
      "*** f_locals ***\n",
      "{'frame': <frame at 0x7ffe9e6a9e90, file '<ipython-input-70-ea6d4756c65d>', line 11, code func>}\n",
      "*** f_globals ***\n",
      "{'__name__': '__main__', '__builtin__': <module 'builtins' (built-in)>, '__builtins__': <module 'builtins' (built-in)>, '_ih': ['', \"l1=[1,'s','china']\\ns1={'f',56}\\nd1={'name':'jack'}\\nlen(s2)\", \"l1=[1,'s','china']\\ns1={'f',56}\\nd1={'name':'jack'}\\nlen(s1)\", 'get_ipython().run_line_magic(\\'config\\', \"ZMQInteractiveShell.ast_node_interactivity=\\'all\\'\")', '#函数定义与函数结构\\ndef myfunc1(parm1,parm2=\\'amazing\\'):\\n    \"\\\\\\n    here is document for this function\\\\\\n    multi lines \\\\\\n    \"#__doc__ here\\n    \\n    something=parm1\\n    \\n    return str(something)+\\' is \\'+parm2\\n\\nmyfunc1\\nmyfunc1(\\'china\\')', \"get_ipython().run_line_magic('whos', '')\", 'def myfunc1(parm1:\\'parm user given string to output\\',parm2:\\'this parm default value is amazing, user still can replace it\\'=\\'amazing\\')-> \\'function return should be a string\\':\\n    \"#__doc__ here\"\\n    something=parm1\\n    return str(something)+\\' is \\'+parm2\\nmyfunc1.__annotations__', 'def myfunc2(parm1:\\'parm user given string to output\\',parm2:\\'this parm default value is amazing, user still can replace it\\'=\\'amazing\\')-> \\'function return should be a string\\':\\n    \"#__doc__ here\"\\n    something=parm1\\n    return str(something)+\\' is \\'+parm2\\nmyfunc2.__annotations__\\nmyfunc2(\\'carl\\')', '#函数定义与函数结构\\ndef myfunc1(parm1,parm2=\\'amazing\\'):\\n    \"\\\\\\n    here is document for this function\\\\\\n    multi lines \\\\\\n    \"#__doc__ here\\n    \\n    something=parm1\\n    \\n    return str(something)+\\' is \\'+parm2\\n\\nmyfunc1\\nmyfunc1(\\'china\\')', \"get_ipython().run_line_magic('whos', '')\", 'def myfunc2(parm1:\\'parm user given string to output\\',parm2:\\'this parm default value is amazing, user still can replace it\\'=\\'amazing\\')-> \\'function return should be a string\\':\\n    \"#__doc__ here\"\\n    something=parm1\\n    return str(something)+\\' is \\'+parm2\\nmyfunc2.__annotations__\\nmyfunc2(\\'carl\\')', 'def myfunc2(parm1:\\'parm user given string to output\\',parm2:\\'this parm default value is amazing, user still can replace it\\'=\\'amazing\\')-> \\'function return should be a string\\':\\n    \"#__doc__ here\"\\n    something=parm1\\n    return str(something)+\\' is \\'+parm2\\nmyfunc2.__annotations__\\nmyfunc2(\\'carl\\')', 'def myfunc2(parm1:\\'parm user given string to output\\',parm2:\\'this parm default value is amazing, user still can replace it\\'=\\'amazing\\')-> \\'function return should be a string\\':\\n    \"#__doc__ here\"\\n    something=parm1\\n    return str(something)+\\' is \\'+parm2\\nmyfunc2.__annotations__\\nmyfunc2(\\'car\\')', '#def是运行期指令\\nimport dis\\ndis.dis(compile(\"def test():pass\",\"\",\"exec\"))', \"#def的伪码\\n#test=make_function('test',code)#dis操作是在函数实例创建完成后针对__code__，而非针对创建过程\\n\\n#以单个代码对象为模板创建多个函数实例\\ndef make_func(n):\\n    ret=[]\\n    for i in range(n):\\n        def test():print('hello',n)\\n        print(id(test),id(test.__code__))\\n        ret.append(test)\\n    return ret\\n\\nmake_func(4)#不同实例，相同代码，也可以不同实例，不同代码（属性动态添加）\", \"#def的伪码\\n#test=make_function('test',code)#dis操作是在函数实例创建完成后针对__code__，而非针对创建过程\\n\\n#以单个代码对象为模板创建多个函数实例\\ndef make_func(n):\\n    ret=[]\\n    for i in range(n):\\n        def test():print('hello',n)\\n        print(id(test),id(test.__code__))\\n        ret.append(test)\\n    return ret\\n\\nmake_func(4)#不同实例，相同代码，也可以不同实例，不同代码（属性动态添加）\", \"#def的伪码\\n#test=make_function('test',code)#dis操作是在函数实例创建完成后针对__code__，而非针对创建过程\\n\\n#以单个代码对象为模板创建多个函数实例\\ndef make_func(n):\\n    ret=[]\\n    for i in range(n):\\n        def test():print('hello',n)\\n        print(id(test),id(test.__code__))\\n        ret.append(test)\\n    return ret\\n\\nmake_func(4)#不同实例，相同代码，也可以不同实例，不同代码（属性动态添加）\", \"def test1(a,b,c=1):\\n    str1='julyedu.com'\\n    print(c)\\n    return b\", '#探索PyFunctionOjbect\\ndef test1(a,b,c=1):\\n    str1=\\'julyedu.com\\'\\n    print(c)\\n    return b\\n\\n\\'co_name\\',test1.__code__.co_name#函数名\\n\\'co_object\\',test1.__code__# PyCodeObject<code object test1 at 0x0000023812E75A50, file \"<ipython-input-14-1306b5bc9b20>\", line 1>\\n\\'co_code\\',test1.__code__.co_code#函数中的代码对象字节码（二进制存储）\\n\\'co_lnotab\\',test1.__code__.co_lnotab#\\'字节码的偏移值与对应的源码的行号的相对值\\'\\n\\n\\n\\'co_filename\\',test1.__code__.co_filename#函数所在文件名<ipython-input-16-fc6b304ba0cd>\\n\\'co_firstlineno\\',test1.__code__.co_firstlineno#函数在文件中的首行的行数1\\n\\n\\'co_stacksize\\',test1.__code__.co_stacksize#占用了几个栈桢', '#探索PyFunctionOjbect\\ndef test1(a,b,c=1):\\n    str1=\\'julyedu.com\\'\\n    print(c)\\n    return b\\n\\nprint(\\'co_name:{}\\'.format(test1.__code__.co_name))#函数名\\n\\'co_object\\',test1.__code__# PyCodeObject<code object test1 at 0x0000023812E75A50, file \"<ipython-input-14-1306b5bc9b20>\", line 1>\\n\\'co_code\\',test1.__code__.co_code#函数中的代码对象字节码（二进制存储）\\n\\'co_lnotab\\',test1.__code__.co_lnotab#\\'字节码的偏移值与对应的源码的行号的相对值\\'\\n\\n\\n\\'co_filename\\',test1.__code__.co_filename#函数所在文件名<ipython-input-16-fc6b304ba0cd>\\n\\'co_firstlineno\\',test1.__code__.co_firstlineno#函数在文件中的首行的行数1\\n\\n\\'co_stacksize\\',test1.__code__.co_stacksize#占用了几个栈桢', '#探索PyFunctionOjbect\\ndef test1(a,b,c=1):\\n    str1=\\'julyedu.com\\'\\n    print(c)\\n    return b\\n\\nprint(\\'co_name: {}\\'.format(test1.__code__.co_name))#函数名\\n\\'co_object\\',test1.__code__# PyCodeObject<code object test1 at 0x0000023812E75A50, file \"<ipython-input-14-1306b5bc9b20>\", line 1>\\n\\'co_code\\',test1.__code__.co_code#函数中的代码对象字节码（二进制存储）\\n\\'co_lnotab\\',test1.__code__.co_lnotab#\\'字节码的偏移值与对应的源码的行号的相对值\\'\\n\\n\\n\\'co_filename\\',test1.__code__.co_filename#函数所在文件名<ipython-input-16-fc6b304ba0cd>\\n\\'co_firstlineno\\',test1.__code__.co_firstlineno#函数在文件中的首行的行数1\\n\\n\\'co_stacksize\\',test1.__code__.co_stacksize#占用了几个栈桢', '#探索PyFunctionOjbect\\ndef test1(a,b,c=1):\\n    str1=\\'julyedu.com\\'\\n    print(c)\\n    return b\\n\\nprint(\\'co_name: {}\\'.format(test1.__code__.co_name))#函数名\\nprint(\\'co_object: {}\\'.format(test1.__code__))# PyCodeObject<code object test1 at 0x0000023812E75A50, file \"<ipython-input-14-1306b5bc9b20>\", line 1>\\n\\'co_code\\',test1.__code__.co_code#函数中的代码对象字节码（二进制存储）\\n\\'co_lnotab\\',test1.__code__.co_lnotab#\\'字节码的偏移值与对应的源码的行号的相对值\\'\\n\\n\\n\\'co_filename\\',test1.__code__.co_filename#函数所在文件名<ipython-input-16-fc6b304ba0cd>\\n\\'co_firstlineno\\',test1.__code__.co_firstlineno#函数在文件中的首行的行数1\\n\\n\\'co_stacksize\\',test1.__code__.co_stacksize#占用了几个栈桢', '#探索PyFunctionOjbect\\ndef test1(a,b,c=1):\\n    str1=\\'julyedu.com\\'\\n    print(c)\\n    return b\\n\\nprint(\\'co_name: {}\\'.format(test1.__code__.co_name))#函数名\\nprint(\\'co_object: {}\\'.format(test1.__code__))# PyCodeObject<code object test1 at 0x0000023812E75A50, file \"<ipython-input-14-1306b5bc9b20>\", line 1>\\nprint(\\'co_code: {}\\'.format(test1.__code__.co_code))#函数中的代码对象字节码（二进制存储）\\n\\'co_lnotab\\',test1.__code__.co_lnotab#\\'字节码的偏移值与对应的源码的行号的相对值\\'\\n\\n\\n\\'co_filename\\',test1.__code__.co_filename#函数所在文件名<ipython-input-16-fc6b304ba0cd>\\n\\'co_firstlineno\\',test1.__code__.co_firstlineno#函数在文件中的首行的行数1\\n\\n\\'co_stacksize\\',test1.__code__.co_stacksize#占用了几个栈桢', '#探索PyFunctionOjbect\\ndef test1(a,b,c=1):\\n    str1=\\'julyedu.com\\'\\n    print(c)\\n    return b\\n\\nprint(\\'co_name: {}\\'.format(test1.__code__.co_name))#函数名\\nprint(\\'co_object: {}\\'.format(test1.__code__))# PyCodeObject<code object test1 at 0x0000023812E75A50, file \"<ipython-input-14-1306b5bc9b20>\", line 1>\\nprint(\\'co_code: {}\\'.format(test1.__code__.co_code))#函数中的代码对象字节码（二进制存储）\\nprint(\\'co_lnotab: {}\\'.format(test1.__code__.co_lnotab))#\\'字节码的偏移值与对应的源码的行号的相对值\\'\\n\\n\\n\\'co_filename\\',test1.__code__.co_filename#函数所在文件名<ipython-input-16-fc6b304ba0cd>\\n\\'co_firstlineno\\',test1.__code__.co_firstlineno#函数在文件中的首行的行数1\\n\\n\\'co_stacksize\\',test1.__code__.co_stacksize#占用了几个栈桢', '#探索PyFunctionOjbect\\ndef test1(a,b,c=1):\\n    str1=\\'julyedu.com\\'\\n    print(c)\\n    return b\\n\\nprint(\\'co_name: {}\\'.format(test1.__code__.co_name))#函数名\\nprint(\\'co_object: {}\\'.format(test1.__code__))# PyCodeObject<code object test1 at 0x0000023812E75A50, file \"<ipython-input-14-1306b5bc9b20>\", line 1>\\nprint(\\'co_code: {}\\'.format(test1.__code__.co_code))#函数中的代码对象字节码（二进制存储）\\nprint(\\'co_lnotab: {}\\'.format(test1.__code__.co_lnotab))#\\'字节码的偏移值与对应的源码的行号的相对值\\'\\n\\n\\nprint(\\'co_filename: {}\\'.format(test1.__code__.co_filename))#函数所在文件名<ipython-input-16-fc6b304ba0cd>\\n\\'co_firstlineno\\',test1.__code__.co_firstlineno#函数在文件中的首行的行数1\\n\\n\\'co_stacksize\\',test1.__code__.co_stacksize#占用了几个栈桢', '#探索PyFunctionOjbect\\ndef test1(a,b,c=1):\\n    str1=\\'julyedu.com\\'\\n    print(c)\\n    return b\\n\\nprint(\\'co_object: {}\\'.format(test1.__code__))# PyCodeObject<code object test1 at 0x0000023812E75A50, file \"<ipython-input-14-1306b5bc9b20>\", line 1>\\nprint(\\'co_name: {}\\'.format(test1.__code__.co_name))#函数名\\nprint(\\'co_filename: {}\\'.format(test1.__code__.co_filename))#函数所在文件名<ipython-input-16-fc6b304ba0cd>\\n\\nprint(\\'co_code: {}\\'.format(test1.__code__.co_code))#函数中的代码对象字节码（二进制存储）\\nprint(\\'co_lnotab: {}\\'.format(test1.__code__.co_lnotab))#\\'字节码的偏移值与对应的源码的行号的相对值\\'\\n\\n\\n\\'co_firstlineno\\',test1.__code__.co_firstlineno#函数在文件中的首行的行数1\\n\\n\\'co_stacksize\\',test1.__code__.co_stacksize#占用了几个栈桢', '#探索PyFunctionOjbect\\ndef test1(a,b,c=1):\\n    str1=\\'julyedu.com\\'\\n    print(c)\\n    return b\\n\\nprint(\\'co_object: {}\\'.format(test1.__code__))# PyCodeObject<code object test1 at 0x0000023812E75A50, file \"<ipython-input-14-1306b5bc9b20>\", line 1>\\nprint(\\'co_name: {}\\'.format(test1.__code__.co_name))#函数名\\nprint(\\'co_filename: {}\\\\n\\'.format(test1.__code__.co_filename))#函数所在文件名<ipython-input-16-fc6b304ba0cd>\\n\\nprint(\\'co_code: {}\\'.format(test1.__code__.co_code))#函数中的代码对象字节码（二进制存储）\\nprint(\\'co_lnotab: {}\\'.format(test1.__code__.co_lnotab))#\\'字节码的偏移值与对应的源码的行号的相对值\\'\\n\\n\\n\\'co_firstlineno\\',test1.__code__.co_firstlineno#函数在文件中的首行的行数1\\n\\n\\'co_stacksize\\',test1.__code__.co_stacksize#占用了几个栈桢', '#探索PyFunctionOjbect\\ndef test1(a,b,c=1):\\n    str1=\\'julyedu.com\\'\\n    print(c)\\n    return b\\n\\nprint(\\'co_object: {}\\\\n\\'.format(test1.__code__))# PyCodeObject<code object test1 at 0x0000023812E75A50, file \"<ipython-input-14-1306b5bc9b20>\", line 1>\\nprint(\\'co_name: {}\\'.format(test1.__code__.co_name))#函数名\\nprint(\\'co_filename: {}\\\\n\\'.format(test1.__code__.co_filename))#函数所在文件名<ipython-input-16-fc6b304ba0cd>\\n\\nprint(\\'co_code: {}\\'.format(test1.__code__.co_code))#函数中的代码对象字节码（二进制存储）\\nprint(\\'co_lnotab: {}\\'.format(test1.__code__.co_lnotab))#\\'字节码的偏移值与对应的源码的行号的相对值\\'\\n\\n\\n\\'co_firstlineno\\',test1.__code__.co_firstlineno#函数在文件中的首行的行数1\\n\\n\\'co_stacksize\\',test1.__code__.co_stacksize#占用了几个栈桢', '#探索PyFunctionOjbect\\ndef test1(a,b,c=1):\\n    str1=\\'julyedu.com\\'\\n    print(c)\\n    return b\\n\\nprint(\\'co_object: {}\\\\n\\'.format(test1.__code__))# PyCodeObject<code object test1 at 0x0000023812E75A50, file \"<ipython-input-14-1306b5bc9b20>\", line 1>\\nprint(\\'co_name: {}\\'.format(test1.__code__.co_name))#函数名\\nprint(\\'co_filename: {}\\\\n\\'.format(test1.__code__.co_filename))#函数所在文件名<ipython-input-16-fc6b304ba0cd>\\n\\nprint(\\'co_code: {}\\'.format(test1.__code__.co_code))#函数中的代码对象字节码（二进制存储）\\nprint(\\'co_lnotab: {}\\'.format(test1.__code__.co_lnotab))#\\'字节码的偏移值与对应的源码的行号的相对值\\'\\n\\n\\nprint(\\'co_firstlineno: {}\\'.format(test1.__code__.co_firstlineno))#函数在文件中的首行的行数1\\n\\n\\'co_stacksize\\',test1.__code__.co_stacksize#占用了几个栈桢', '#探索PyFunctionOjbect\\ndef test1(a,b,c=1):\\n    str1=\\'julyedu.com\\'\\n    print(c)\\n    return b\\n\\nprint(\\'co_object: {}\\\\n\\'.format(test1.__code__))# PyCodeObject<code object test1 at 0x0000023812E75A50, file \"<ipython-input-14-1306b5bc9b20>\", line 1>\\nprint(\\'co_name: {}\\'.format(test1.__code__.co_name))#函数名\\nprint(\\'co_filename: {}\\'.format(test1.__code__.co_filename))#函数所在文件名<ipython-input-16-fc6b304ba0cd>\\nprint(\\'co_firstlineno: {}\\\\n\\'.format(test1.__code__.co_firstlineno))#函数在文件中的首行的行数1\\n\\nprint(\\'co_code: {}\\'.format(test1.__code__.co_code))#函数中的代码对象字节码（二进制存储）\\nprint(\\'co_lnotab: {}\\'.format(test1.__code__.co_lnotab))#\\'字节码的偏移值与对应的源码的行号的相对值\\'\\n\\nprint(\\'co_stacksize: {}\\'.format(test1.__code__.co_stacksize))#占用了几个栈桢', '#探索PyFunctionOjbect\\ndef test1(a,b,c=1):\\n    str1=\\'julyedu.com\\'\\n    print(c)\\n    return b\\n\\nprint(\\'co_object: {}\\\\n\\'.format(test1.__code__))# PyCodeObject<code object test1 at 0x0000023812E75A50, file \"<ipython-input-14-1306b5bc9b20>\", line 1>\\nprint(\\'co_name: {}\\'.format(test1.__code__.co_name))#函数名\\nprint(\\'co_filename: {}\\'.format(test1.__code__.co_filename))#函数所在文件名<ipython-input-16-fc6b304ba0cd>\\nprint(\\'co_firstlineno: {}\\\\n\\'.format(test1.__code__.co_firstlineno))#函数在文件中的首行的行数1\\n\\nprint(\\'co_code: {}\\'.format(test1.__code__.co_code))#函数中的代码对象字节码（二进制存储）\\nprint(\\'co_lnotab: {}\\\\n\\'.format(test1.__code__.co_lnotab))#\\'字节码的偏移值与对应的源码的行号的相对值\\'\\n\\nprint(\\'co_stacksize: {}\\'.format(test1.__code__.co_stacksize))#占用了几个栈桢', 'def test():\\n    return id(locals())\\n\\nprint(test())#Create New StackFrame\\nprint(test())#Create Another New StackFrame', \"def test1(a,b,c=1):\\n    str1='julyedu.com'\\n    return b\\n    \\n'co_argcount',test1.__code__.co_argcount#位置参数的个数，而co_nlocals是局部变量数目，包括位置参数在内。\\n'co_nlocals&co_varnames',test1.__code__.co_nlocals,test1.__code__.co_varnames#多少个局部变量,以及及变量的名字。\\n\\n'符号名集合co_names',test1.__code__.co_names   #符号名集合\\n'常量集合co_const',test1.__code__.co_consts  #常量集合\\n\\n\\n# 位置参数，键（关键字）参数，*args扩展位置参数[元组对象]和**kwargs扩展键（关键字）参数[字典]。\\n\\n# 位置参数还能设置默认值，如果有默认值，默认值是在MAKE_FUNCTION指令赋值给`funcname.__defaults__`的。\\n\\n'co_flags',test1.__code__.co_flags\\n# 【1】function没有args或*kw时，`funcname.__code__.co_flags=67`;\\n# 【2】function有args没有*kw时，funcname.__code__.co_flags=71;\\n# 【3】function没有args有*kw时，funcname.__code__.co_flags=75;\\n# 【4】function既有args也有*kw时，funcname.__code__.co_flags=79;\\n# 【5】function是一个generator时，funcname.__code__.co_flags=99.\\n\\n#对于像 def f(a, b, *lst):这样的函数，如果调用函数时参数为f(1,2,3,4)，其实在PyCodeObject对象中的co_argcount=2, co_nlocals=3。\", \"def test1(a,b,c=1):\\n    str1='julyedu.com'\\n    return b\\n    \\n'co_argcount',test1.__code__.co_argcount#位置参数的个数，而co_nlocals是局部变量数目，包括位置参数在内。\\n'co_nlocals&co_varnames',test1.__code__.co_nlocals,test1.__code__.co_varnames#多少个局部变量,以及及变量的名字。\\n\\n'符号名集合co_names',test1.__code__.co_names   #符号名集合\\n'常量集合co_const',test1.__code__.co_consts  #常量集合\\n\\n\\n# 位置参数，键（关键字）参数，*args扩展位置参数[元组对象]和**kwargs扩展键（关键字）参数[字典]。\\n\\n# 位置参数还能设置默认值，如果有默认值，默认值是在MAKE_FUNCTION指令赋值给`funcname.__defaults__`的。\\n\\n'co_flags',test1.__code__.co_flags\\n# 【1】function没有args或*kw时，`funcname.__code__.co_flags=67`;\\n# 【2】function有args没有*kw时，funcname.__code__.co_flags=71;\\n# 【3】function没有args有*kw时，funcname.__code__.co_flags=75;\\n# 【4】function既有args也有*kw时，funcname.__code__.co_flags=79;\\n# 【5】function是一个generator时，funcname.__code__.co_flags=99.\\n\\n#对于像 def f(a, b, *lst):这样的函数，如果调用函数时参数为f(1,2,3,4)，其实在PyCodeObject对象中的co_argcount=2, co_nlocals=3。\", \"##函数对象参数的默认值存放在函数对象的,__defaults__属性中，是一个Tuple类对象\\n\\n#字节数换算为KB，MB,GB,TB\\ndef CaluSize(bytesize,trans='KB'):\\n    if trans=='KB':size=1024\\n    if trans=='MB':size=1024**2\\n    if trans=='GB':size=1024**3\\n    if trans=='TB':size=1024**4\\n    return str(bytesize//size)+trans\\nCaluSize.__defaults__\\n\\nCaluSize.__defaults__=('TB',)\\nCaluSize.__defaults__\\n\\nCaluSize(110241550654651654544)\", \"##函数对象属性\\n##函数对象属性值存放在函数对象的,__dict__属性中，是一个Dict类对象\\nCaluSize\\nCaluSize.__dict__\\nCaluSize.__dict__['new_atrr']='test'\\nCaluSize.__dict__\", \"l1=[1,'s','china']\\ns1={'f',56}\\nd1={'name':'jack'}\\nlen(s1)\", '#函数定义与函数结构\\ndef myfunc1(parm1,parm2=\\'amazing\\'):\\n    \"\\\\\\n    here is document for this function\\\\\\n    multi lines \\\\\\n    \"#__doc__ here\\n    \\n    something=parm1\\n    \\n    return str(something)+\\' is \\'+parm2\\n\\nmyfunc1\\nmyfunc1(\\'china\\')', \"get_ipython().run_line_magic('whos', '')\", \"get_ipython().run_line_magic('reset', '')\\nget_ipython().run_line_magic('whos', '')\", \"get_ipython().run_line_magic('reset', '')\\nget_ipython().run_line_magic('whos', '')\", 'get_ipython().run_line_magic(\\'config\\', \"ZMQInteractiveShell.ast_node_interactivity=\\'all\\'\")', \"l1=[1,'s','china']\\ns1={'f',56}\\nd1={'name':'jack'}\\nlen(s1)\", '#函数定义与函数结构\\ndef myfunc1(parm1,parm2=\\'amazing\\'):\\n    \"\\\\\\n    here is document for this function\\\\\\n    multi lines \\\\\\n    \"#__doc__ here\\n    \\n    something=parm1\\n    \\n    return str(something)+\\' is \\'+parm2\\n\\nmyfunc1\\nmyfunc1(\\'china\\')', \"#%reset\\nget_ipython().run_line_magic('whos', '')\", 'def myfunc2(parm1:\\'parm user given string to output\\',parm2:\\'this parm default value is amazing, user still can replace it\\'=\\'amazing\\')-> \\'function return should be a string\\':\\n    \"#__doc__ here\"\\n    something=parm1\\n    return str(something)+\\' is \\'+parm2\\nmyfunc2.__annotations__\\nmyfunc2(\\'car\\')', '#def是运行期指令\\nimport dis\\ndis.dis(compile(\"def test():pass\",\"\",\"exec\"))', '#探索PyFunctionOjbect\\ndef test1(a,b,c=1):\\n    str1=\\'julyedu.com\\'\\n    print(c)\\n    return b\\n\\nprint(\\'co_object: {}\\\\n\\'.format(test1.__code__))# PyCodeObject<code object test1 at 0x0000023812E75A50, file \"<ipython-input-14-1306b5bc9b20>\", line 1>\\nprint(\\'co_name: {}\\'.format(test1.__code__.co_name))#函数名\\nprint(\\'co_filename: {}\\'.format(test1.__code__.co_filename))#函数所在文件名<ipython-input-16-fc6b304ba0cd>\\nprint(\\'co_firstlineno: {}\\\\n\\'.format(test1.__code__.co_firstlineno))#函数在文件中的首行的行数1\\n\\nprint(\\'co_code: {}\\'.format(test1.__code__.co_code))#函数中的代码对象字节码（二进制存储）\\nprint(\\'co_lnotab: {}\\\\n\\'.format(test1.__code__.co_lnotab))#\\'字节码的偏移值与对应的源码的行号的相对值\\'\\n\\nprint(\\'co_stacksize: {}\\'.format(test1.__code__.co_stacksize))#占用了几个栈桢', '## def test():\\n    return id(locals())\\n\\nprint(test())#Create New StackFrame\\nprint(test())#Create Another New StackFrame', 'def test():\\n    return id(locals())\\n\\nprint(test())#Create New StackFrame\\nprint(test())#Create Another New StackFrame', 'import sys\\ndef func():    \\n    frame = sys._getframe()\\n    print(frame.f_locals)\\n    print(frame.f_globals)\\n    print(frame.f_back.f_locals)\\n    #你可以打印frame的各个域\\n    print(s)\\nfunc()    ', 'get_ipython().run_line_magic(\\'config\\', \"ZMQInteractiveShell.ast_node_interactivity=\\'all\\'\")', \"l1=[1,'s','china']\\ns1={'f',56}\\nd1={'name':'jack'}\\nlen(s1)\", '#函数定义与函数结构\\ndef myfunc1(parm1,parm2=\\'amazing\\'):\\n    \"\\\\\\n    here is document for this function\\\\\\n    multi lines \\\\\\n    \"#__doc__ here\\n    \\n    something=parm1\\n    \\n    return str(something)+\\' is \\'+parm2\\n\\nmyfunc1\\nmyfunc1(\\'china\\')', \"#%reset\\nget_ipython().run_line_magic('whos', '')\", \"get_ipython().run_line_magic('reset', '')\\nget_ipython().run_line_magic('whos', '')\", 'def myfunc2(parm1:\\'parm user given string to output\\',parm2:\\'this parm default value is amazing, user still can replace it\\'=\\'amazing\\')-> \\'function return should be a string\\':\\n    \"#__doc__ here\"\\n    something=parm1\\n    return str(something)+\\' is \\'+parm2\\nmyfunc2.__annotations__\\nmyfunc2(\\'car\\')', '#def是运行期指令\\nimport dis\\ndis.dis(compile(\"def test():pass\",\"\",\"exec\"))', \"#def的伪码\\n#test=make_function('test',code)#dis操作是在函数实例创建完成后针对__code__，而非针对创建过程\\n\\n#以单个代码对象为模板创建多个函数实例\\ndef make_func(n):\\n    ret=[]\\n    for i in range(n):\\n        def test():print('hello',n)\\n        print(id(test),id(test.__code__))\\n        ret.append(test)\\n    return ret\\n\\nmake_func(4)#不同实例，相同代码，也可以不同实例，不同代码（属性动态添加）\", '#探索PyFunctionOjbect\\ndef test1(a,b,c=1):\\n    str1=\\'julyedu.com\\'\\n    print(c)\\n    return b\\n\\nprint(test1.__code__)\\nprint(\\'co_object: {}\\\\n\\'.format(test1.__code__))# PyCodeObject<code object test1 at 0x0000023812E75A50, file \"<ipython-input-14-1306b5bc9b20>\", line 1>\\nprint(\\'co_name: {}\\'.format(test1.__code__.co_name))#函数名\\nprint(\\'co_filename: {}\\'.format(test1.__code__.co_filename))#函数所在文件名<ipython-input-16-fc6b304ba0cd>\\nprint(\\'co_firstlineno: {}\\\\n\\'.format(test1.__code__.co_firstlineno))#函数在文件中的首行的行数1\\n\\nprint(\\'co_code: {}\\'.format(test1.__code__.co_code))#函数中的代码对象字节码（二进制存储）\\nprint(\\'co_lnotab: {}\\\\n\\'.format(test1.__code__.co_lnotab))#\\'字节码的偏移值与对应的源码的行号的相对值\\'\\n\\nprint(\\'co_stacksize: {}\\'.format(test1.__code__.co_stacksize))#占用了几个栈桢', '#探索PyFunctionOjbect\\ndef test1(a,b,c=1):\\n    str1=\\'julyedu.com\\'\\n    print(c)\\n    return b\\n\\nprint(\\'co_object: {}\\\\n\\'.format(test1.__code__))# PyCodeObject<code object test1 at 0x0000023812E75A50, file \"<ipython-input-14-1306b5bc9b20>\", line 1>\\nprint(\\'co_name: {}\\'.format(test1.__code__.co_name))#函数名\\nprint(\\'co_filename: {}\\'.format(test1.__code__.co_filename))#函数所在文件名<ipython-input-16-fc6b304ba0cd>\\nprint(\\'co_firstlineno: {}\\\\n\\'.format(test1.__code__.co_firstlineno))#函数在文件中的首行的行数1\\n\\nprint(\\'co_code: {}\\'.format(test1.__code__.co_code))#函数中的代码对象字节码（二进制存储）\\nprint(\\'co_lnotab: {}\\\\n\\'.format(test1.__code__.co_lnotab))#\\'字节码的偏移值与对应的源码的行号的相对值\\'\\n\\nprint(\\'co_stacksize: {}\\'.format(test1.__code__.co_stacksize))#占用了几个栈桢', '#探索PyFunctionOjbect\\ndef test1(a,b,c=1):\\n    str1=\\'julyedu.com\\'\\n    print(c)\\n    return b\\n\\nprint(\\'co_object: {}\\'.format(test1.__code__))# PyCodeObject<code object test1 at 0x0000023812E75A50, file \"<ipython-input-14-1306b5bc9b20>\", line 1>\\nprint(\\'\\\\nco_name: {}\\'.format(test1.__code__.co_name))#函数名\\nprint(\\'co_filename: {}\\'.format(test1.__code__.co_filename))#函数所在文件名<ipython-input-16-fc6b304ba0cd>\\nprint(\\'co_firstlineno: {}\\'.format(test1.__code__.co_firstlineno))#函数在文件中的首行的行数1\\n\\nprint(\\'\\\\nco_code: {}\\'.format(test1.__code__.co_code))#函数中的代码对象字节码（二进制存储）\\nprint(\\'co_lnotab: {}\\\\n\\'.format(test1.__code__.co_lnotab))#\\'字节码的偏移值与对应的源码的行号的相对值\\'\\n\\nprint(\\'co_stacksize: {}\\'.format(test1.__code__.co_stacksize))#占用了几个栈桢', '#探索PyFunctionOjbect\\ndef test1(a,b,c=1):\\n    str1=\\'julyedu.com\\'\\n    print(c)\\n    return b\\n\\nprint(\\'co_object: {}\\'.format(test1.__code__))# PyCodeObject<code object test1 at 0x0000023812E75A50, file \"<ipython-input-14-1306b5bc9b20>\", line 1>\\nprint(\\'\\\\nco_name: {}\\'.format(test1.__code__.co_name))#函数名\\nprint(\\'co_filename: {}\\'.format(test1.__code__.co_filename))#函数所在文件名<ipython-input-16-fc6b304ba0cd>\\nprint(\\'co_firstlineno: {}\\'.format(test1.__code__.co_firstlineno))#函数在文件中的首行的行数1\\n\\nprint(\\'\\\\nco_code: {}\\'.format(test1.__code__.co_code))#函数中的代码对象字节码（二进制存储）\\nprint(\\'co_lnotab: {}\\'.format(test1.__code__.co_lnotab))#\\'字节码的偏移值与对应的源码的行号的相对值\\'\\n\\nprint(\\'\\\\nco_stacksize: {}\\'.format(test1.__code__.co_stacksize))#占用了几个栈桢', 'def test():\\n    return id(locals())\\n\\nprint(test())#Create New StackFrame\\nprint(test())#Create Another New StackFrame', 'import sys\\ndef func():    \\n    frame = sys._getframe()\\n    print(frame.f_locals)\\n    print(frame.f_globals)\\n    print(frame.f_back.f_locals)\\n    #你可以打印frame的各个域\\n    print(s)\\nfunc()    ', 'import sys\\ndef func():    \\n    frame = sys._getframe()\\n    print(frame.f_locals)\\n    print(frame.f_globals)\\n    print(frame.f_back.f_locals)\\n    #你可以打印frame的各个域\\n    print(s)\\n\\nprint(func.__code__)\\nfunc()    ', 'import sys\\ndef func():    \\n    frame = sys._getframe()\\n    print(frame.f_locals)\\n    print(frame.f_globals)\\n    print(frame._back.f_locals)\\n    #你可以打印frame的各个域\\n    print(s)\\n\\nprint(func.__code__)\\nfunc()    ', 'import sys\\ndef func():    \\n    frame = sys._getframe()\\n    print(frame.f_locals)\\n    print(frame.f_globals)\\n    print(frame.f_back)\\n    #你可以打印frame的各个域\\n    print(s)\\n\\nprint(func.__code__)\\nfunc()    ', 'import sys\\ndef func():    \\n    frame = sys._getframe()\\n    print(\"*** f_code ***\")\\n    print(frame.f_code)\\n    print(\"*** f_locals ***\")\\n    print(frame.f_locals)\\n    print(\"*** f_globals ***\")\\n    print(frame.f_globals)\\n    print(\"*** f_back *** \")\\n    print(frame.f_back)\\n    #你可以打印frame的各个域\\n    print(\"*** frame ***\")\\n    print(frame)\\n\\nprint(func.__code__)\\nfunc()    ', 'import sys\\ndef func():    \\n    frame = sys._getframe()\\n    print(\"*** frame ***\")\\n    print(frame)\\n    print(\"*** f_code ***\")\\n    print(frame.f_code)\\n    print(\"*** f_locals ***\")\\n    print(frame.f_locals)\\n    print(\"*** f_globals ***\")\\n    print(frame.f_globals)\\n    print(\"*** f_back *** \")\\n    print(frame.f_back)\\n    #你可以打印frame的各个域\\n\\nprint(func.__code__)\\nfunc()    ', 'import sys\\ndef func():    \\n    frame = sys._getframe()\\n    print(\"*** f_back *** \")\\n    print(frame.f_back)\\n    print(\"*** frame ***\")\\n    print(frame)\\n    print(\"*** f_code ***\")\\n    print(frame.f_code)\\n    print(\"*** f_locals ***\")\\n    print(frame.f_locals)\\n    print(\"*** f_globals ***\")\\n    print(frame.f_globals)\\n    #你可以打印frame的各个域\\n\\nprint(func.__code__)\\nfunc()    '], '_oh': {56: 'car is amazing', 58: [<function make_func.<locals>.test at 0x1089b9200>, <function make_func.<locals>.test at 0x1085a1320>, <function make_func.<locals>.test at 0x10889ee60>, <function make_func.<locals>.test at 0x1089a4050>]}, '_dh': ['/Users/yangpan 1/works/DataScience/01BasedPython/01CourseFiles'], 'In': ['', \"l1=[1,'s','china']\\ns1={'f',56}\\nd1={'name':'jack'}\\nlen(s2)\", \"l1=[1,'s','china']\\ns1={'f',56}\\nd1={'name':'jack'}\\nlen(s1)\", 'get_ipython().run_line_magic(\\'config\\', \"ZMQInteractiveShell.ast_node_interactivity=\\'all\\'\")', '#函数定义与函数结构\\ndef myfunc1(parm1,parm2=\\'amazing\\'):\\n    \"\\\\\\n    here is document for this function\\\\\\n    multi lines \\\\\\n    \"#__doc__ here\\n    \\n    something=parm1\\n    \\n    return str(something)+\\' is \\'+parm2\\n\\nmyfunc1\\nmyfunc1(\\'china\\')', \"get_ipython().run_line_magic('whos', '')\", 'def myfunc1(parm1:\\'parm user given string to output\\',parm2:\\'this parm default value is amazing, user still can replace it\\'=\\'amazing\\')-> \\'function return should be a string\\':\\n    \"#__doc__ here\"\\n    something=parm1\\n    return str(something)+\\' is \\'+parm2\\nmyfunc1.__annotations__', 'def myfunc2(parm1:\\'parm user given string to output\\',parm2:\\'this parm default value is amazing, user still can replace it\\'=\\'amazing\\')-> \\'function return should be a string\\':\\n    \"#__doc__ here\"\\n    something=parm1\\n    return str(something)+\\' is \\'+parm2\\nmyfunc2.__annotations__\\nmyfunc2(\\'carl\\')', '#函数定义与函数结构\\ndef myfunc1(parm1,parm2=\\'amazing\\'):\\n    \"\\\\\\n    here is document for this function\\\\\\n    multi lines \\\\\\n    \"#__doc__ here\\n    \\n    something=parm1\\n    \\n    return str(something)+\\' is \\'+parm2\\n\\nmyfunc1\\nmyfunc1(\\'china\\')', \"get_ipython().run_line_magic('whos', '')\", 'def myfunc2(parm1:\\'parm user given string to output\\',parm2:\\'this parm default value is amazing, user still can replace it\\'=\\'amazing\\')-> \\'function return should be a string\\':\\n    \"#__doc__ here\"\\n    something=parm1\\n    return str(something)+\\' is \\'+parm2\\nmyfunc2.__annotations__\\nmyfunc2(\\'carl\\')', 'def myfunc2(parm1:\\'parm user given string to output\\',parm2:\\'this parm default value is amazing, user still can replace it\\'=\\'amazing\\')-> \\'function return should be a string\\':\\n    \"#__doc__ here\"\\n    something=parm1\\n    return str(something)+\\' is \\'+parm2\\nmyfunc2.__annotations__\\nmyfunc2(\\'carl\\')', 'def myfunc2(parm1:\\'parm user given string to output\\',parm2:\\'this parm default value is amazing, user still can replace it\\'=\\'amazing\\')-> \\'function return should be a string\\':\\n    \"#__doc__ here\"\\n    something=parm1\\n    return str(something)+\\' is \\'+parm2\\nmyfunc2.__annotations__\\nmyfunc2(\\'car\\')', '#def是运行期指令\\nimport dis\\ndis.dis(compile(\"def test():pass\",\"\",\"exec\"))', \"#def的伪码\\n#test=make_function('test',code)#dis操作是在函数实例创建完成后针对__code__，而非针对创建过程\\n\\n#以单个代码对象为模板创建多个函数实例\\ndef make_func(n):\\n    ret=[]\\n    for i in range(n):\\n        def test():print('hello',n)\\n        print(id(test),id(test.__code__))\\n        ret.append(test)\\n    return ret\\n\\nmake_func(4)#不同实例，相同代码，也可以不同实例，不同代码（属性动态添加）\", \"#def的伪码\\n#test=make_function('test',code)#dis操作是在函数实例创建完成后针对__code__，而非针对创建过程\\n\\n#以单个代码对象为模板创建多个函数实例\\ndef make_func(n):\\n    ret=[]\\n    for i in range(n):\\n        def test():print('hello',n)\\n        print(id(test),id(test.__code__))\\n        ret.append(test)\\n    return ret\\n\\nmake_func(4)#不同实例，相同代码，也可以不同实例，不同代码（属性动态添加）\", \"#def的伪码\\n#test=make_function('test',code)#dis操作是在函数实例创建完成后针对__code__，而非针对创建过程\\n\\n#以单个代码对象为模板创建多个函数实例\\ndef make_func(n):\\n    ret=[]\\n    for i in range(n):\\n        def test():print('hello',n)\\n        print(id(test),id(test.__code__))\\n        ret.append(test)\\n    return ret\\n\\nmake_func(4)#不同实例，相同代码，也可以不同实例，不同代码（属性动态添加）\", \"def test1(a,b,c=1):\\n    str1='julyedu.com'\\n    print(c)\\n    return b\", '#探索PyFunctionOjbect\\ndef test1(a,b,c=1):\\n    str1=\\'julyedu.com\\'\\n    print(c)\\n    return b\\n\\n\\'co_name\\',test1.__code__.co_name#函数名\\n\\'co_object\\',test1.__code__# PyCodeObject<code object test1 at 0x0000023812E75A50, file \"<ipython-input-14-1306b5bc9b20>\", line 1>\\n\\'co_code\\',test1.__code__.co_code#函数中的代码对象字节码（二进制存储）\\n\\'co_lnotab\\',test1.__code__.co_lnotab#\\'字节码的偏移值与对应的源码的行号的相对值\\'\\n\\n\\n\\'co_filename\\',test1.__code__.co_filename#函数所在文件名<ipython-input-16-fc6b304ba0cd>\\n\\'co_firstlineno\\',test1.__code__.co_firstlineno#函数在文件中的首行的行数1\\n\\n\\'co_stacksize\\',test1.__code__.co_stacksize#占用了几个栈桢', '#探索PyFunctionOjbect\\ndef test1(a,b,c=1):\\n    str1=\\'julyedu.com\\'\\n    print(c)\\n    return b\\n\\nprint(\\'co_name:{}\\'.format(test1.__code__.co_name))#函数名\\n\\'co_object\\',test1.__code__# PyCodeObject<code object test1 at 0x0000023812E75A50, file \"<ipython-input-14-1306b5bc9b20>\", line 1>\\n\\'co_code\\',test1.__code__.co_code#函数中的代码对象字节码（二进制存储）\\n\\'co_lnotab\\',test1.__code__.co_lnotab#\\'字节码的偏移值与对应的源码的行号的相对值\\'\\n\\n\\n\\'co_filename\\',test1.__code__.co_filename#函数所在文件名<ipython-input-16-fc6b304ba0cd>\\n\\'co_firstlineno\\',test1.__code__.co_firstlineno#函数在文件中的首行的行数1\\n\\n\\'co_stacksize\\',test1.__code__.co_stacksize#占用了几个栈桢', '#探索PyFunctionOjbect\\ndef test1(a,b,c=1):\\n    str1=\\'julyedu.com\\'\\n    print(c)\\n    return b\\n\\nprint(\\'co_name: {}\\'.format(test1.__code__.co_name))#函数名\\n\\'co_object\\',test1.__code__# PyCodeObject<code object test1 at 0x0000023812E75A50, file \"<ipython-input-14-1306b5bc9b20>\", line 1>\\n\\'co_code\\',test1.__code__.co_code#函数中的代码对象字节码（二进制存储）\\n\\'co_lnotab\\',test1.__code__.co_lnotab#\\'字节码的偏移值与对应的源码的行号的相对值\\'\\n\\n\\n\\'co_filename\\',test1.__code__.co_filename#函数所在文件名<ipython-input-16-fc6b304ba0cd>\\n\\'co_firstlineno\\',test1.__code__.co_firstlineno#函数在文件中的首行的行数1\\n\\n\\'co_stacksize\\',test1.__code__.co_stacksize#占用了几个栈桢', '#探索PyFunctionOjbect\\ndef test1(a,b,c=1):\\n    str1=\\'julyedu.com\\'\\n    print(c)\\n    return b\\n\\nprint(\\'co_name: {}\\'.format(test1.__code__.co_name))#函数名\\nprint(\\'co_object: {}\\'.format(test1.__code__))# PyCodeObject<code object test1 at 0x0000023812E75A50, file \"<ipython-input-14-1306b5bc9b20>\", line 1>\\n\\'co_code\\',test1.__code__.co_code#函数中的代码对象字节码（二进制存储）\\n\\'co_lnotab\\',test1.__code__.co_lnotab#\\'字节码的偏移值与对应的源码的行号的相对值\\'\\n\\n\\n\\'co_filename\\',test1.__code__.co_filename#函数所在文件名<ipython-input-16-fc6b304ba0cd>\\n\\'co_firstlineno\\',test1.__code__.co_firstlineno#函数在文件中的首行的行数1\\n\\n\\'co_stacksize\\',test1.__code__.co_stacksize#占用了几个栈桢', '#探索PyFunctionOjbect\\ndef test1(a,b,c=1):\\n    str1=\\'julyedu.com\\'\\n    print(c)\\n    return b\\n\\nprint(\\'co_name: {}\\'.format(test1.__code__.co_name))#函数名\\nprint(\\'co_object: {}\\'.format(test1.__code__))# PyCodeObject<code object test1 at 0x0000023812E75A50, file \"<ipython-input-14-1306b5bc9b20>\", line 1>\\nprint(\\'co_code: {}\\'.format(test1.__code__.co_code))#函数中的代码对象字节码（二进制存储）\\n\\'co_lnotab\\',test1.__code__.co_lnotab#\\'字节码的偏移值与对应的源码的行号的相对值\\'\\n\\n\\n\\'co_filename\\',test1.__code__.co_filename#函数所在文件名<ipython-input-16-fc6b304ba0cd>\\n\\'co_firstlineno\\',test1.__code__.co_firstlineno#函数在文件中的首行的行数1\\n\\n\\'co_stacksize\\',test1.__code__.co_stacksize#占用了几个栈桢', '#探索PyFunctionOjbect\\ndef test1(a,b,c=1):\\n    str1=\\'julyedu.com\\'\\n    print(c)\\n    return b\\n\\nprint(\\'co_name: {}\\'.format(test1.__code__.co_name))#函数名\\nprint(\\'co_object: {}\\'.format(test1.__code__))# PyCodeObject<code object test1 at 0x0000023812E75A50, file \"<ipython-input-14-1306b5bc9b20>\", line 1>\\nprint(\\'co_code: {}\\'.format(test1.__code__.co_code))#函数中的代码对象字节码（二进制存储）\\nprint(\\'co_lnotab: {}\\'.format(test1.__code__.co_lnotab))#\\'字节码的偏移值与对应的源码的行号的相对值\\'\\n\\n\\n\\'co_filename\\',test1.__code__.co_filename#函数所在文件名<ipython-input-16-fc6b304ba0cd>\\n\\'co_firstlineno\\',test1.__code__.co_firstlineno#函数在文件中的首行的行数1\\n\\n\\'co_stacksize\\',test1.__code__.co_stacksize#占用了几个栈桢', '#探索PyFunctionOjbect\\ndef test1(a,b,c=1):\\n    str1=\\'julyedu.com\\'\\n    print(c)\\n    return b\\n\\nprint(\\'co_name: {}\\'.format(test1.__code__.co_name))#函数名\\nprint(\\'co_object: {}\\'.format(test1.__code__))# PyCodeObject<code object test1 at 0x0000023812E75A50, file \"<ipython-input-14-1306b5bc9b20>\", line 1>\\nprint(\\'co_code: {}\\'.format(test1.__code__.co_code))#函数中的代码对象字节码（二进制存储）\\nprint(\\'co_lnotab: {}\\'.format(test1.__code__.co_lnotab))#\\'字节码的偏移值与对应的源码的行号的相对值\\'\\n\\n\\nprint(\\'co_filename: {}\\'.format(test1.__code__.co_filename))#函数所在文件名<ipython-input-16-fc6b304ba0cd>\\n\\'co_firstlineno\\',test1.__code__.co_firstlineno#函数在文件中的首行的行数1\\n\\n\\'co_stacksize\\',test1.__code__.co_stacksize#占用了几个栈桢', '#探索PyFunctionOjbect\\ndef test1(a,b,c=1):\\n    str1=\\'julyedu.com\\'\\n    print(c)\\n    return b\\n\\nprint(\\'co_object: {}\\'.format(test1.__code__))# PyCodeObject<code object test1 at 0x0000023812E75A50, file \"<ipython-input-14-1306b5bc9b20>\", line 1>\\nprint(\\'co_name: {}\\'.format(test1.__code__.co_name))#函数名\\nprint(\\'co_filename: {}\\'.format(test1.__code__.co_filename))#函数所在文件名<ipython-input-16-fc6b304ba0cd>\\n\\nprint(\\'co_code: {}\\'.format(test1.__code__.co_code))#函数中的代码对象字节码（二进制存储）\\nprint(\\'co_lnotab: {}\\'.format(test1.__code__.co_lnotab))#\\'字节码的偏移值与对应的源码的行号的相对值\\'\\n\\n\\n\\'co_firstlineno\\',test1.__code__.co_firstlineno#函数在文件中的首行的行数1\\n\\n\\'co_stacksize\\',test1.__code__.co_stacksize#占用了几个栈桢', '#探索PyFunctionOjbect\\ndef test1(a,b,c=1):\\n    str1=\\'julyedu.com\\'\\n    print(c)\\n    return b\\n\\nprint(\\'co_object: {}\\'.format(test1.__code__))# PyCodeObject<code object test1 at 0x0000023812E75A50, file \"<ipython-input-14-1306b5bc9b20>\", line 1>\\nprint(\\'co_name: {}\\'.format(test1.__code__.co_name))#函数名\\nprint(\\'co_filename: {}\\\\n\\'.format(test1.__code__.co_filename))#函数所在文件名<ipython-input-16-fc6b304ba0cd>\\n\\nprint(\\'co_code: {}\\'.format(test1.__code__.co_code))#函数中的代码对象字节码（二进制存储）\\nprint(\\'co_lnotab: {}\\'.format(test1.__code__.co_lnotab))#\\'字节码的偏移值与对应的源码的行号的相对值\\'\\n\\n\\n\\'co_firstlineno\\',test1.__code__.co_firstlineno#函数在文件中的首行的行数1\\n\\n\\'co_stacksize\\',test1.__code__.co_stacksize#占用了几个栈桢', '#探索PyFunctionOjbect\\ndef test1(a,b,c=1):\\n    str1=\\'julyedu.com\\'\\n    print(c)\\n    return b\\n\\nprint(\\'co_object: {}\\\\n\\'.format(test1.__code__))# PyCodeObject<code object test1 at 0x0000023812E75A50, file \"<ipython-input-14-1306b5bc9b20>\", line 1>\\nprint(\\'co_name: {}\\'.format(test1.__code__.co_name))#函数名\\nprint(\\'co_filename: {}\\\\n\\'.format(test1.__code__.co_filename))#函数所在文件名<ipython-input-16-fc6b304ba0cd>\\n\\nprint(\\'co_code: {}\\'.format(test1.__code__.co_code))#函数中的代码对象字节码（二进制存储）\\nprint(\\'co_lnotab: {}\\'.format(test1.__code__.co_lnotab))#\\'字节码的偏移值与对应的源码的行号的相对值\\'\\n\\n\\n\\'co_firstlineno\\',test1.__code__.co_firstlineno#函数在文件中的首行的行数1\\n\\n\\'co_stacksize\\',test1.__code__.co_stacksize#占用了几个栈桢', '#探索PyFunctionOjbect\\ndef test1(a,b,c=1):\\n    str1=\\'julyedu.com\\'\\n    print(c)\\n    return b\\n\\nprint(\\'co_object: {}\\\\n\\'.format(test1.__code__))# PyCodeObject<code object test1 at 0x0000023812E75A50, file \"<ipython-input-14-1306b5bc9b20>\", line 1>\\nprint(\\'co_name: {}\\'.format(test1.__code__.co_name))#函数名\\nprint(\\'co_filename: {}\\\\n\\'.format(test1.__code__.co_filename))#函数所在文件名<ipython-input-16-fc6b304ba0cd>\\n\\nprint(\\'co_code: {}\\'.format(test1.__code__.co_code))#函数中的代码对象字节码（二进制存储）\\nprint(\\'co_lnotab: {}\\'.format(test1.__code__.co_lnotab))#\\'字节码的偏移值与对应的源码的行号的相对值\\'\\n\\n\\nprint(\\'co_firstlineno: {}\\'.format(test1.__code__.co_firstlineno))#函数在文件中的首行的行数1\\n\\n\\'co_stacksize\\',test1.__code__.co_stacksize#占用了几个栈桢', '#探索PyFunctionOjbect\\ndef test1(a,b,c=1):\\n    str1=\\'julyedu.com\\'\\n    print(c)\\n    return b\\n\\nprint(\\'co_object: {}\\\\n\\'.format(test1.__code__))# PyCodeObject<code object test1 at 0x0000023812E75A50, file \"<ipython-input-14-1306b5bc9b20>\", line 1>\\nprint(\\'co_name: {}\\'.format(test1.__code__.co_name))#函数名\\nprint(\\'co_filename: {}\\'.format(test1.__code__.co_filename))#函数所在文件名<ipython-input-16-fc6b304ba0cd>\\nprint(\\'co_firstlineno: {}\\\\n\\'.format(test1.__code__.co_firstlineno))#函数在文件中的首行的行数1\\n\\nprint(\\'co_code: {}\\'.format(test1.__code__.co_code))#函数中的代码对象字节码（二进制存储）\\nprint(\\'co_lnotab: {}\\'.format(test1.__code__.co_lnotab))#\\'字节码的偏移值与对应的源码的行号的相对值\\'\\n\\nprint(\\'co_stacksize: {}\\'.format(test1.__code__.co_stacksize))#占用了几个栈桢', '#探索PyFunctionOjbect\\ndef test1(a,b,c=1):\\n    str1=\\'julyedu.com\\'\\n    print(c)\\n    return b\\n\\nprint(\\'co_object: {}\\\\n\\'.format(test1.__code__))# PyCodeObject<code object test1 at 0x0000023812E75A50, file \"<ipython-input-14-1306b5bc9b20>\", line 1>\\nprint(\\'co_name: {}\\'.format(test1.__code__.co_name))#函数名\\nprint(\\'co_filename: {}\\'.format(test1.__code__.co_filename))#函数所在文件名<ipython-input-16-fc6b304ba0cd>\\nprint(\\'co_firstlineno: {}\\\\n\\'.format(test1.__code__.co_firstlineno))#函数在文件中的首行的行数1\\n\\nprint(\\'co_code: {}\\'.format(test1.__code__.co_code))#函数中的代码对象字节码（二进制存储）\\nprint(\\'co_lnotab: {}\\\\n\\'.format(test1.__code__.co_lnotab))#\\'字节码的偏移值与对应的源码的行号的相对值\\'\\n\\nprint(\\'co_stacksize: {}\\'.format(test1.__code__.co_stacksize))#占用了几个栈桢', 'def test():\\n    return id(locals())\\n\\nprint(test())#Create New StackFrame\\nprint(test())#Create Another New StackFrame', \"def test1(a,b,c=1):\\n    str1='julyedu.com'\\n    return b\\n    \\n'co_argcount',test1.__code__.co_argcount#位置参数的个数，而co_nlocals是局部变量数目，包括位置参数在内。\\n'co_nlocals&co_varnames',test1.__code__.co_nlocals,test1.__code__.co_varnames#多少个局部变量,以及及变量的名字。\\n\\n'符号名集合co_names',test1.__code__.co_names   #符号名集合\\n'常量集合co_const',test1.__code__.co_consts  #常量集合\\n\\n\\n# 位置参数，键（关键字）参数，*args扩展位置参数[元组对象]和**kwargs扩展键（关键字）参数[字典]。\\n\\n# 位置参数还能设置默认值，如果有默认值，默认值是在MAKE_FUNCTION指令赋值给`funcname.__defaults__`的。\\n\\n'co_flags',test1.__code__.co_flags\\n# 【1】function没有args或*kw时，`funcname.__code__.co_flags=67`;\\n# 【2】function有args没有*kw时，funcname.__code__.co_flags=71;\\n# 【3】function没有args有*kw时，funcname.__code__.co_flags=75;\\n# 【4】function既有args也有*kw时，funcname.__code__.co_flags=79;\\n# 【5】function是一个generator时，funcname.__code__.co_flags=99.\\n\\n#对于像 def f(a, b, *lst):这样的函数，如果调用函数时参数为f(1,2,3,4)，其实在PyCodeObject对象中的co_argcount=2, co_nlocals=3。\", \"def test1(a,b,c=1):\\n    str1='julyedu.com'\\n    return b\\n    \\n'co_argcount',test1.__code__.co_argcount#位置参数的个数，而co_nlocals是局部变量数目，包括位置参数在内。\\n'co_nlocals&co_varnames',test1.__code__.co_nlocals,test1.__code__.co_varnames#多少个局部变量,以及及变量的名字。\\n\\n'符号名集合co_names',test1.__code__.co_names   #符号名集合\\n'常量集合co_const',test1.__code__.co_consts  #常量集合\\n\\n\\n# 位置参数，键（关键字）参数，*args扩展位置参数[元组对象]和**kwargs扩展键（关键字）参数[字典]。\\n\\n# 位置参数还能设置默认值，如果有默认值，默认值是在MAKE_FUNCTION指令赋值给`funcname.__defaults__`的。\\n\\n'co_flags',test1.__code__.co_flags\\n# 【1】function没有args或*kw时，`funcname.__code__.co_flags=67`;\\n# 【2】function有args没有*kw时，funcname.__code__.co_flags=71;\\n# 【3】function没有args有*kw时，funcname.__code__.co_flags=75;\\n# 【4】function既有args也有*kw时，funcname.__code__.co_flags=79;\\n# 【5】function是一个generator时，funcname.__code__.co_flags=99.\\n\\n#对于像 def f(a, b, *lst):这样的函数，如果调用函数时参数为f(1,2,3,4)，其实在PyCodeObject对象中的co_argcount=2, co_nlocals=3。\", \"##函数对象参数的默认值存放在函数对象的,__defaults__属性中，是一个Tuple类对象\\n\\n#字节数换算为KB，MB,GB,TB\\ndef CaluSize(bytesize,trans='KB'):\\n    if trans=='KB':size=1024\\n    if trans=='MB':size=1024**2\\n    if trans=='GB':size=1024**3\\n    if trans=='TB':size=1024**4\\n    return str(bytesize//size)+trans\\nCaluSize.__defaults__\\n\\nCaluSize.__defaults__=('TB',)\\nCaluSize.__defaults__\\n\\nCaluSize(110241550654651654544)\", \"##函数对象属性\\n##函数对象属性值存放在函数对象的,__dict__属性中，是一个Dict类对象\\nCaluSize\\nCaluSize.__dict__\\nCaluSize.__dict__['new_atrr']='test'\\nCaluSize.__dict__\", \"l1=[1,'s','china']\\ns1={'f',56}\\nd1={'name':'jack'}\\nlen(s1)\", '#函数定义与函数结构\\ndef myfunc1(parm1,parm2=\\'amazing\\'):\\n    \"\\\\\\n    here is document for this function\\\\\\n    multi lines \\\\\\n    \"#__doc__ here\\n    \\n    something=parm1\\n    \\n    return str(something)+\\' is \\'+parm2\\n\\nmyfunc1\\nmyfunc1(\\'china\\')', \"get_ipython().run_line_magic('whos', '')\", \"get_ipython().run_line_magic('reset', '')\\nget_ipython().run_line_magic('whos', '')\", \"get_ipython().run_line_magic('reset', '')\\nget_ipython().run_line_magic('whos', '')\", 'get_ipython().run_line_magic(\\'config\\', \"ZMQInteractiveShell.ast_node_interactivity=\\'all\\'\")', \"l1=[1,'s','china']\\ns1={'f',56}\\nd1={'name':'jack'}\\nlen(s1)\", '#函数定义与函数结构\\ndef myfunc1(parm1,parm2=\\'amazing\\'):\\n    \"\\\\\\n    here is document for this function\\\\\\n    multi lines \\\\\\n    \"#__doc__ here\\n    \\n    something=parm1\\n    \\n    return str(something)+\\' is \\'+parm2\\n\\nmyfunc1\\nmyfunc1(\\'china\\')', \"#%reset\\nget_ipython().run_line_magic('whos', '')\", 'def myfunc2(parm1:\\'parm user given string to output\\',parm2:\\'this parm default value is amazing, user still can replace it\\'=\\'amazing\\')-> \\'function return should be a string\\':\\n    \"#__doc__ here\"\\n    something=parm1\\n    return str(something)+\\' is \\'+parm2\\nmyfunc2.__annotations__\\nmyfunc2(\\'car\\')', '#def是运行期指令\\nimport dis\\ndis.dis(compile(\"def test():pass\",\"\",\"exec\"))', '#探索PyFunctionOjbect\\ndef test1(a,b,c=1):\\n    str1=\\'julyedu.com\\'\\n    print(c)\\n    return b\\n\\nprint(\\'co_object: {}\\\\n\\'.format(test1.__code__))# PyCodeObject<code object test1 at 0x0000023812E75A50, file \"<ipython-input-14-1306b5bc9b20>\", line 1>\\nprint(\\'co_name: {}\\'.format(test1.__code__.co_name))#函数名\\nprint(\\'co_filename: {}\\'.format(test1.__code__.co_filename))#函数所在文件名<ipython-input-16-fc6b304ba0cd>\\nprint(\\'co_firstlineno: {}\\\\n\\'.format(test1.__code__.co_firstlineno))#函数在文件中的首行的行数1\\n\\nprint(\\'co_code: {}\\'.format(test1.__code__.co_code))#函数中的代码对象字节码（二进制存储）\\nprint(\\'co_lnotab: {}\\\\n\\'.format(test1.__code__.co_lnotab))#\\'字节码的偏移值与对应的源码的行号的相对值\\'\\n\\nprint(\\'co_stacksize: {}\\'.format(test1.__code__.co_stacksize))#占用了几个栈桢', '## def test():\\n    return id(locals())\\n\\nprint(test())#Create New StackFrame\\nprint(test())#Create Another New StackFrame', 'def test():\\n    return id(locals())\\n\\nprint(test())#Create New StackFrame\\nprint(test())#Create Another New StackFrame', 'import sys\\ndef func():    \\n    frame = sys._getframe()\\n    print(frame.f_locals)\\n    print(frame.f_globals)\\n    print(frame.f_back.f_locals)\\n    #你可以打印frame的各个域\\n    print(s)\\nfunc()    ', 'get_ipython().run_line_magic(\\'config\\', \"ZMQInteractiveShell.ast_node_interactivity=\\'all\\'\")', \"l1=[1,'s','china']\\ns1={'f',56}\\nd1={'name':'jack'}\\nlen(s1)\", '#函数定义与函数结构\\ndef myfunc1(parm1,parm2=\\'amazing\\'):\\n    \"\\\\\\n    here is document for this function\\\\\\n    multi lines \\\\\\n    \"#__doc__ here\\n    \\n    something=parm1\\n    \\n    return str(something)+\\' is \\'+parm2\\n\\nmyfunc1\\nmyfunc1(\\'china\\')', \"#%reset\\nget_ipython().run_line_magic('whos', '')\", \"get_ipython().run_line_magic('reset', '')\\nget_ipython().run_line_magic('whos', '')\", 'def myfunc2(parm1:\\'parm user given string to output\\',parm2:\\'this parm default value is amazing, user still can replace it\\'=\\'amazing\\')-> \\'function return should be a string\\':\\n    \"#__doc__ here\"\\n    something=parm1\\n    return str(something)+\\' is \\'+parm2\\nmyfunc2.__annotations__\\nmyfunc2(\\'car\\')', '#def是运行期指令\\nimport dis\\ndis.dis(compile(\"def test():pass\",\"\",\"exec\"))', \"#def的伪码\\n#test=make_function('test',code)#dis操作是在函数实例创建完成后针对__code__，而非针对创建过程\\n\\n#以单个代码对象为模板创建多个函数实例\\ndef make_func(n):\\n    ret=[]\\n    for i in range(n):\\n        def test():print('hello',n)\\n        print(id(test),id(test.__code__))\\n        ret.append(test)\\n    return ret\\n\\nmake_func(4)#不同实例，相同代码，也可以不同实例，不同代码（属性动态添加）\", '#探索PyFunctionOjbect\\ndef test1(a,b,c=1):\\n    str1=\\'julyedu.com\\'\\n    print(c)\\n    return b\\n\\nprint(test1.__code__)\\nprint(\\'co_object: {}\\\\n\\'.format(test1.__code__))# PyCodeObject<code object test1 at 0x0000023812E75A50, file \"<ipython-input-14-1306b5bc9b20>\", line 1>\\nprint(\\'co_name: {}\\'.format(test1.__code__.co_name))#函数名\\nprint(\\'co_filename: {}\\'.format(test1.__code__.co_filename))#函数所在文件名<ipython-input-16-fc6b304ba0cd>\\nprint(\\'co_firstlineno: {}\\\\n\\'.format(test1.__code__.co_firstlineno))#函数在文件中的首行的行数1\\n\\nprint(\\'co_code: {}\\'.format(test1.__code__.co_code))#函数中的代码对象字节码（二进制存储）\\nprint(\\'co_lnotab: {}\\\\n\\'.format(test1.__code__.co_lnotab))#\\'字节码的偏移值与对应的源码的行号的相对值\\'\\n\\nprint(\\'co_stacksize: {}\\'.format(test1.__code__.co_stacksize))#占用了几个栈桢', '#探索PyFunctionOjbect\\ndef test1(a,b,c=1):\\n    str1=\\'julyedu.com\\'\\n    print(c)\\n    return b\\n\\nprint(\\'co_object: {}\\\\n\\'.format(test1.__code__))# PyCodeObject<code object test1 at 0x0000023812E75A50, file \"<ipython-input-14-1306b5bc9b20>\", line 1>\\nprint(\\'co_name: {}\\'.format(test1.__code__.co_name))#函数名\\nprint(\\'co_filename: {}\\'.format(test1.__code__.co_filename))#函数所在文件名<ipython-input-16-fc6b304ba0cd>\\nprint(\\'co_firstlineno: {}\\\\n\\'.format(test1.__code__.co_firstlineno))#函数在文件中的首行的行数1\\n\\nprint(\\'co_code: {}\\'.format(test1.__code__.co_code))#函数中的代码对象字节码（二进制存储）\\nprint(\\'co_lnotab: {}\\\\n\\'.format(test1.__code__.co_lnotab))#\\'字节码的偏移值与对应的源码的行号的相对值\\'\\n\\nprint(\\'co_stacksize: {}\\'.format(test1.__code__.co_stacksize))#占用了几个栈桢', '#探索PyFunctionOjbect\\ndef test1(a,b,c=1):\\n    str1=\\'julyedu.com\\'\\n    print(c)\\n    return b\\n\\nprint(\\'co_object: {}\\'.format(test1.__code__))# PyCodeObject<code object test1 at 0x0000023812E75A50, file \"<ipython-input-14-1306b5bc9b20>\", line 1>\\nprint(\\'\\\\nco_name: {}\\'.format(test1.__code__.co_name))#函数名\\nprint(\\'co_filename: {}\\'.format(test1.__code__.co_filename))#函数所在文件名<ipython-input-16-fc6b304ba0cd>\\nprint(\\'co_firstlineno: {}\\'.format(test1.__code__.co_firstlineno))#函数在文件中的首行的行数1\\n\\nprint(\\'\\\\nco_code: {}\\'.format(test1.__code__.co_code))#函数中的代码对象字节码（二进制存储）\\nprint(\\'co_lnotab: {}\\\\n\\'.format(test1.__code__.co_lnotab))#\\'字节码的偏移值与对应的源码的行号的相对值\\'\\n\\nprint(\\'co_stacksize: {}\\'.format(test1.__code__.co_stacksize))#占用了几个栈桢', '#探索PyFunctionOjbect\\ndef test1(a,b,c=1):\\n    str1=\\'julyedu.com\\'\\n    print(c)\\n    return b\\n\\nprint(\\'co_object: {}\\'.format(test1.__code__))# PyCodeObject<code object test1 at 0x0000023812E75A50, file \"<ipython-input-14-1306b5bc9b20>\", line 1>\\nprint(\\'\\\\nco_name: {}\\'.format(test1.__code__.co_name))#函数名\\nprint(\\'co_filename: {}\\'.format(test1.__code__.co_filename))#函数所在文件名<ipython-input-16-fc6b304ba0cd>\\nprint(\\'co_firstlineno: {}\\'.format(test1.__code__.co_firstlineno))#函数在文件中的首行的行数1\\n\\nprint(\\'\\\\nco_code: {}\\'.format(test1.__code__.co_code))#函数中的代码对象字节码（二进制存储）\\nprint(\\'co_lnotab: {}\\'.format(test1.__code__.co_lnotab))#\\'字节码的偏移值与对应的源码的行号的相对值\\'\\n\\nprint(\\'\\\\nco_stacksize: {}\\'.format(test1.__code__.co_stacksize))#占用了几个栈桢', 'def test():\\n    return id(locals())\\n\\nprint(test())#Create New StackFrame\\nprint(test())#Create Another New StackFrame', 'import sys\\ndef func():    \\n    frame = sys._getframe()\\n    print(frame.f_locals)\\n    print(frame.f_globals)\\n    print(frame.f_back.f_locals)\\n    #你可以打印frame的各个域\\n    print(s)\\nfunc()    ', 'import sys\\ndef func():    \\n    frame = sys._getframe()\\n    print(frame.f_locals)\\n    print(frame.f_globals)\\n    print(frame.f_back.f_locals)\\n    #你可以打印frame的各个域\\n    print(s)\\n\\nprint(func.__code__)\\nfunc()    ', 'import sys\\ndef func():    \\n    frame = sys._getframe()\\n    print(frame.f_locals)\\n    print(frame.f_globals)\\n    print(frame._back.f_locals)\\n    #你可以打印frame的各个域\\n    print(s)\\n\\nprint(func.__code__)\\nfunc()    ', 'import sys\\ndef func():    \\n    frame = sys._getframe()\\n    print(frame.f_locals)\\n    print(frame.f_globals)\\n    print(frame.f_back)\\n    #你可以打印frame的各个域\\n    print(s)\\n\\nprint(func.__code__)\\nfunc()    ', 'import sys\\ndef func():    \\n    frame = sys._getframe()\\n    print(\"*** f_code ***\")\\n    print(frame.f_code)\\n    print(\"*** f_locals ***\")\\n    print(frame.f_locals)\\n    print(\"*** f_globals ***\")\\n    print(frame.f_globals)\\n    print(\"*** f_back *** \")\\n    print(frame.f_back)\\n    #你可以打印frame的各个域\\n    print(\"*** frame ***\")\\n    print(frame)\\n\\nprint(func.__code__)\\nfunc()    ', 'import sys\\ndef func():    \\n    frame = sys._getframe()\\n    print(\"*** frame ***\")\\n    print(frame)\\n    print(\"*** f_code ***\")\\n    print(frame.f_code)\\n    print(\"*** f_locals ***\")\\n    print(frame.f_locals)\\n    print(\"*** f_globals ***\")\\n    print(frame.f_globals)\\n    print(\"*** f_back *** \")\\n    print(frame.f_back)\\n    #你可以打印frame的各个域\\n\\nprint(func.__code__)\\nfunc()    ', 'import sys\\ndef func():    \\n    frame = sys._getframe()\\n    print(\"*** f_back *** \")\\n    print(frame.f_back)\\n    print(\"*** frame ***\")\\n    print(frame)\\n    print(\"*** f_code ***\")\\n    print(frame.f_code)\\n    print(\"*** f_locals ***\")\\n    print(frame.f_locals)\\n    print(\"*** f_globals ***\")\\n    print(frame.f_globals)\\n    #你可以打印frame的各个域\\n\\nprint(func.__code__)\\nfunc()    '], 'Out': {56: 'car is amazing', 58: [<function make_func.<locals>.test at 0x1089b9200>, <function make_func.<locals>.test at 0x1085a1320>, <function make_func.<locals>.test at 0x10889ee60>, <function make_func.<locals>.test at 0x1089a4050>]}, 'get_ipython': <bound method InteractiveShell.get_ipython of <ipykernel.zmqshell.ZMQInteractiveShell object at 0x107fb9710>>, 'exit': <IPython.core.autocall.ZMQExitAutocall object at 0x108360fd0>, 'quit': <IPython.core.autocall.ZMQExitAutocall object at 0x108360fd0>, '_i': 'import sys\\ndef func():    \\n    frame = sys._getframe()\\n    print(\"*** frame ***\")\\n    print(frame)\\n    print(\"*** f_code ***\")\\n    print(frame.f_code)\\n    print(\"*** f_locals ***\")\\n    print(frame.f_locals)\\n    print(\"*** f_globals ***\")\\n    print(frame.f_globals)\\n    print(\"*** f_back *** \")\\n    print(frame.f_back)\\n    #你可以打印frame的各个域\\n\\nprint(func.__code__)\\nfunc()    ', '_ii': 'import sys\\ndef func():    \\n    frame = sys._getframe()\\n    print(\"*** f_code ***\")\\n    print(frame.f_code)\\n    print(\"*** f_locals ***\")\\n    print(frame.f_locals)\\n    print(\"*** f_globals ***\")\\n    print(frame.f_globals)\\n    print(\"*** f_back *** \")\\n    print(frame.f_back)\\n    #你可以打印frame的各个域\\n    print(\"*** frame ***\")\\n    print(frame)\\n\\nprint(func.__code__)\\nfunc()    ', '_iii': 'import sys\\ndef func():    \\n    frame = sys._getframe()\\n    print(frame.f_locals)\\n    print(frame.f_globals)\\n    print(frame.f_back)\\n    #你可以打印frame的各个域\\n    print(s)\\n\\nprint(func.__code__)\\nfunc()    ', '_i56': 'def myfunc2(parm1:\\'parm user given string to output\\',parm2:\\'this parm default value is amazing, user still can replace it\\'=\\'amazing\\')-> \\'function return should be a string\\':\\n    \"#__doc__ here\"\\n    something=parm1\\n    return str(something)+\\' is \\'+parm2\\nmyfunc2.__annotations__\\nmyfunc2(\\'car\\')', 'myfunc2': <function myfunc2 at 0x1089b90e0>, '_': [<function make_func.<locals>.test at 0x1089b9200>, <function make_func.<locals>.test at 0x1085a1320>, <function make_func.<locals>.test at 0x10889ee60>, <function make_func.<locals>.test at 0x1089a4050>], '__': 'car is amazing', '___': {'parm1': 'parm user given string to output', 'parm2': 'this parm default value is amazing, user still can replace it', 'return': 'function return should be a string'}, '_56': 'car is amazing', '_i57': '#def是运行期指令\\nimport dis\\ndis.dis(compile(\"def test():pass\",\"\",\"exec\"))', 'dis': <module 'dis' from '/usr/local/Cellar/python/3.7.4/Frameworks/Python.framework/Versions/3.7/lib/python3.7/dis.py'>, '_i58': \"#def的伪码\\n#test=make_function('test',code)#dis操作是在函数实例创建完成后针对__code__，而非针对创建过程\\n\\n#以单个代码对象为模板创建多个函数实例\\ndef make_func(n):\\n    ret=[]\\n    for i in range(n):\\n        def test():print('hello',n)\\n        print(id(test),id(test.__code__))\\n        ret.append(test)\\n    return ret\\n\\nmake_func(4)#不同实例，相同代码，也可以不同实例，不同代码（属性动态添加）\", 'make_func': <function make_func at 0x1085a1ef0>, '_58': [<function make_func.<locals>.test at 0x1089b9200>, <function make_func.<locals>.test at 0x1085a1320>, <function make_func.<locals>.test at 0x10889ee60>, <function make_func.<locals>.test at 0x1089a4050>], '_i59': '#探索PyFunctionOjbect\\ndef test1(a,b,c=1):\\n    str1=\\'julyedu.com\\'\\n    print(c)\\n    return b\\n\\nprint(test1.__code__)\\nprint(\\'co_object: {}\\\\n\\'.format(test1.__code__))# PyCodeObject<code object test1 at 0x0000023812E75A50, file \"<ipython-input-14-1306b5bc9b20>\", line 1>\\nprint(\\'co_name: {}\\'.format(test1.__code__.co_name))#函数名\\nprint(\\'co_filename: {}\\'.format(test1.__code__.co_filename))#函数所在文件名<ipython-input-16-fc6b304ba0cd>\\nprint(\\'co_firstlineno: {}\\\\n\\'.format(test1.__code__.co_firstlineno))#函数在文件中的首行的行数1\\n\\nprint(\\'co_code: {}\\'.format(test1.__code__.co_code))#函数中的代码对象字节码（二进制存储）\\nprint(\\'co_lnotab: {}\\\\n\\'.format(test1.__code__.co_lnotab))#\\'字节码的偏移值与对应的源码的行号的相对值\\'\\n\\nprint(\\'co_stacksize: {}\\'.format(test1.__code__.co_stacksize))#占用了几个栈桢', 'test1': <function test1 at 0x1089b9290>, '_i60': '#探索PyFunctionOjbect\\ndef test1(a,b,c=1):\\n    str1=\\'julyedu.com\\'\\n    print(c)\\n    return b\\n\\nprint(\\'co_object: {}\\\\n\\'.format(test1.__code__))# PyCodeObject<code object test1 at 0x0000023812E75A50, file \"<ipython-input-14-1306b5bc9b20>\", line 1>\\nprint(\\'co_name: {}\\'.format(test1.__code__.co_name))#函数名\\nprint(\\'co_filename: {}\\'.format(test1.__code__.co_filename))#函数所在文件名<ipython-input-16-fc6b304ba0cd>\\nprint(\\'co_firstlineno: {}\\\\n\\'.format(test1.__code__.co_firstlineno))#函数在文件中的首行的行数1\\n\\nprint(\\'co_code: {}\\'.format(test1.__code__.co_code))#函数中的代码对象字节码（二进制存储）\\nprint(\\'co_lnotab: {}\\\\n\\'.format(test1.__code__.co_lnotab))#\\'字节码的偏移值与对应的源码的行号的相对值\\'\\n\\nprint(\\'co_stacksize: {}\\'.format(test1.__code__.co_stacksize))#占用了几个栈桢', '_i61': '#探索PyFunctionOjbect\\ndef test1(a,b,c=1):\\n    str1=\\'julyedu.com\\'\\n    print(c)\\n    return b\\n\\nprint(\\'co_object: {}\\'.format(test1.__code__))# PyCodeObject<code object test1 at 0x0000023812E75A50, file \"<ipython-input-14-1306b5bc9b20>\", line 1>\\nprint(\\'\\\\nco_name: {}\\'.format(test1.__code__.co_name))#函数名\\nprint(\\'co_filename: {}\\'.format(test1.__code__.co_filename))#函数所在文件名<ipython-input-16-fc6b304ba0cd>\\nprint(\\'co_firstlineno: {}\\'.format(test1.__code__.co_firstlineno))#函数在文件中的首行的行数1\\n\\nprint(\\'\\\\nco_code: {}\\'.format(test1.__code__.co_code))#函数中的代码对象字节码（二进制存储）\\nprint(\\'co_lnotab: {}\\\\n\\'.format(test1.__code__.co_lnotab))#\\'字节码的偏移值与对应的源码的行号的相对值\\'\\n\\nprint(\\'co_stacksize: {}\\'.format(test1.__code__.co_stacksize))#占用了几个栈桢', '_i62': '#探索PyFunctionOjbect\\ndef test1(a,b,c=1):\\n    str1=\\'julyedu.com\\'\\n    print(c)\\n    return b\\n\\nprint(\\'co_object: {}\\'.format(test1.__code__))# PyCodeObject<code object test1 at 0x0000023812E75A50, file \"<ipython-input-14-1306b5bc9b20>\", line 1>\\nprint(\\'\\\\nco_name: {}\\'.format(test1.__code__.co_name))#函数名\\nprint(\\'co_filename: {}\\'.format(test1.__code__.co_filename))#函数所在文件名<ipython-input-16-fc6b304ba0cd>\\nprint(\\'co_firstlineno: {}\\'.format(test1.__code__.co_firstlineno))#函数在文件中的首行的行数1\\n\\nprint(\\'\\\\nco_code: {}\\'.format(test1.__code__.co_code))#函数中的代码对象字节码（二进制存储）\\nprint(\\'co_lnotab: {}\\'.format(test1.__code__.co_lnotab))#\\'字节码的偏移值与对应的源码的行号的相对值\\'\\n\\nprint(\\'\\\\nco_stacksize: {}\\'.format(test1.__code__.co_stacksize))#占用了几个栈桢', '_i63': 'def test():\\n    return id(locals())\\n\\nprint(test())#Create New StackFrame\\nprint(test())#Create Another New StackFrame', 'test': <function test at 0x1089b9560>, '_i64': 'import sys\\ndef func():    \\n    frame = sys._getframe()\\n    print(frame.f_locals)\\n    print(frame.f_globals)\\n    print(frame.f_back.f_locals)\\n    #你可以打印frame的各个域\\n    print(s)\\nfunc()    ', 'sys': <module 'sys' (built-in)>, 'func': <function func at 0x1089a4cb0>, '_i65': 'import sys\\ndef func():    \\n    frame = sys._getframe()\\n    print(frame.f_locals)\\n    print(frame.f_globals)\\n    print(frame.f_back.f_locals)\\n    #你可以打印frame的各个域\\n    print(s)\\n\\nprint(func.__code__)\\nfunc()    ', '_i66': 'import sys\\ndef func():    \\n    frame = sys._getframe()\\n    print(frame.f_locals)\\n    print(frame.f_globals)\\n    print(frame._back.f_locals)\\n    #你可以打印frame的各个域\\n    print(s)\\n\\nprint(func.__code__)\\nfunc()    ', '_i67': 'import sys\\ndef func():    \\n    frame = sys._getframe()\\n    print(frame.f_locals)\\n    print(frame.f_globals)\\n    print(frame.f_back)\\n    #你可以打印frame的各个域\\n    print(s)\\n\\nprint(func.__code__)\\nfunc()    ', '_i68': 'import sys\\ndef func():    \\n    frame = sys._getframe()\\n    print(\"*** f_code ***\")\\n    print(frame.f_code)\\n    print(\"*** f_locals ***\")\\n    print(frame.f_locals)\\n    print(\"*** f_globals ***\")\\n    print(frame.f_globals)\\n    print(\"*** f_back *** \")\\n    print(frame.f_back)\\n    #你可以打印frame的各个域\\n    print(\"*** frame ***\")\\n    print(frame)\\n\\nprint(func.__code__)\\nfunc()    ', '_i69': 'import sys\\ndef func():    \\n    frame = sys._getframe()\\n    print(\"*** frame ***\")\\n    print(frame)\\n    print(\"*** f_code ***\")\\n    print(frame.f_code)\\n    print(\"*** f_locals ***\")\\n    print(frame.f_locals)\\n    print(\"*** f_globals ***\")\\n    print(frame.f_globals)\\n    print(\"*** f_back *** \")\\n    print(frame.f_back)\\n    #你可以打印frame的各个域\\n\\nprint(func.__code__)\\nfunc()    ', '_i70': 'import sys\\ndef func():    \\n    frame = sys._getframe()\\n    print(\"*** f_back *** \")\\n    print(frame.f_back)\\n    print(\"*** frame ***\")\\n    print(frame)\\n    print(\"*** f_code ***\")\\n    print(frame.f_code)\\n    print(\"*** f_locals ***\")\\n    print(frame.f_locals)\\n    print(\"*** f_globals ***\")\\n    print(frame.f_globals)\\n    #你可以打印frame的各个域\\n\\nprint(func.__code__)\\nfunc()    '}\n"
     ]
    }
   ],
   "source": [
    "import sys\n",
    "def func():    \n",
    "    frame = sys._getframe()\n",
    "    print(\"*** f_back *** \")\n",
    "    print(frame.f_back)\n",
    "    print(\"*** frame ***\")\n",
    "    print(frame)\n",
    "    print(\"*** f_code ***\")\n",
    "    print(frame.f_code)\n",
    "    print(\"*** f_locals ***\")\n",
    "    print(frame.f_locals)\n",
    "    print(\"*** f_globals ***\")\n",
    "    print(frame.f_globals)\n",
    "    #你可以打印frame的各个域\n",
    "\n",
    "print(func.__code__)\n",
    "func()    "
   ]
  },
  {
   "cell_type": "code",
   "execution_count": 73,
   "metadata": {
    "ExecuteTime": {
     "end_time": "2020-02-12T13:13:01.409605Z",
     "start_time": "2020-02-12T13:13:01.401866Z"
    }
   },
   "outputs": [
    {
     "name": "stdout",
     "output_type": "stream",
     "text": [
      "------\n",
      "current function is :  A\n",
      "caller function is :  B\n",
      "caller's local namespace :  {'a': 1, 'b': 2}\n",
      "caller's global namespace :  dict_keys(['__name__', '__builtin__', '__builtins__', '_ih', '_oh', '_dh', 'In', 'Out', 'get_ipython', 'exit', 'quit', '_i', '_ii', '_iii', '_i56', 'myfunc2', '_', '__', '___', '_56', '_i57', 'dis', '_i58', 'make_func', '_58', '_i59', 'test1', '_i60', '_i61', '_i62', '_i63', 'test', '_i64', 'sys', 'func', '_i65', '_i66', '_i67', '_i68', '_i69', '_i70', '_i71', 'value', 'A', 'B', '_i72', 'cf', '_72', '_i73'])\n",
      "------\n",
      "{123145489965056: <frame at 0x108991450, file '/usr/local/Cellar/ipython/7.5.0/libexec/vendor/lib/python3.7/site-packages/zmq/utils/garbage.py', line 47, code run>, 123145484709888: <frame at 0x1083f2a50, file '/usr/local/Cellar/ipython/7.5.0/libexec/vendor/lib/python3.7/site-packages/ipykernel/parentpoller.py', line 39, code run>, 123145479454720: <frame at 0x1084e5050, file '/usr/local/Cellar/ipython/7.5.0/libexec/lib/python3.7/site-packages/IPython/core/history.py', line 764, code _writeout_input_cache>, 123145473126400: <frame at 0x108342050, file '/usr/local/Cellar/ipython/7.5.0/libexec/vendor/lib/python3.7/site-packages/ipykernel/heartbeat.py', line 61, code run>, 123145467871232: <frame at 0x7ffea0a5d120, file '/usr/local/Cellar/python/3.7.4/Frameworks/Python.framework/Versions/3.7/lib/python3.7/selectors.py', line 558, code select>, 4420482496: <frame at 0x7ffe9e5ebed0, file '<ipython-input-73-e31fb9c3b697>', line 19, code <module>>}\n"
     ]
    }
   ],
   "source": [
    "import sys\n",
    "value = 3\n",
    "def A():\n",
    "    frame = sys._getframe()\n",
    "    print ('current function is : ', frame.f_code.co_name)\n",
    "    caller = frame.f_back\n",
    "    print ('caller function is : ', caller.f_code.co_name)\n",
    "    print (\"caller's local namespace : \", caller.f_locals)\n",
    "    print (\"caller's global namespace : \",caller.f_globals.keys())\n",
    "def B():\n",
    "    a = 1\n",
    "    b = 2\n",
    "    print('------')\n",
    "    A()\n",
    "    print('------')\n",
    "    \n",
    "B()\n",
    "\n",
    "cf=sys._current_frames()\n",
    "print(cf)"
   ]
  },
  {
   "cell_type": "code",
   "execution_count": 74,
   "metadata": {
    "ExecuteTime": {
     "end_time": "2020-02-12T13:13:34.300149Z",
     "start_time": "2020-02-12T13:13:34.288571Z"
    }
   },
   "outputs": [
    {
     "name": "stdout",
     "output_type": "stream",
     "text": [
      "frame及遍历---------------------------------------------------------------\n",
      "C 栈帧类型和对象: <class 'frame'> <frame at 0x10891a050, file '<ipython-input-74-06ace6844c46>', line 13, code C>\n",
      "名字空间---------------------------------------------------------------\n",
      "C 名字空间f_locals（运行期）: {'c_var': 'test', 'f': <frame at 0x10891a050, file '<ipython-input-74-06ace6844c46>', line 18, code C>}\n",
      "代码对象---------------------------------------------------------------\n",
      "C 代码对象f_code: <code object C at 0x108a95e40, file \"<ipython-input-74-06ace6844c46>\", line 9>\n",
      "C 代码对象f_fileno: 21\n",
      "C 最后执行指令的偏移量f_lasti: 126\n",
      "栈帧对象---------------------------------------------------------------\n",
      "C  frame f_back: <frame at 0x10729e530, file '<ipython-input-74-06ace6844c46>', line 7, code B>\n",
      "C  frame f_trace: None\n",
      "f_code,---------------------------------------------------------------\n",
      "该f_code即为对应函数的代码对象-------------------------\n",
      "co_stacksize 5\n"
     ]
    }
   ],
   "source": [
    "import sys,dis\n",
    "def A():\n",
    "    x='func A'\n",
    "    B()\n",
    "\n",
    "def B():\n",
    "    C()\n",
    "\n",
    "def C():\n",
    "    c_var='test'\n",
    "    f=sys._getframe(0)#向上2级，获取A栈帧,1获取B,0是当前\n",
    "    print('frame及遍历---------------------------------------------------------------') \n",
    "    print(f.f_code.co_name,'栈帧类型和对象:',type(f),f)  \n",
    "#     print('遍历:',dir(f))\n",
    "    print('名字空间---------------------------------------------------------------')\n",
    "#     print('函数所在模块的的名字空间f_globalsa或直接globals():',f.f_globals)#返回函数所在模块的的名字空间\n",
    "#     print('frame f_builtins:',f.f_builtins)#A人   \n",
    "    print(f.f_code.co_name,'名字空间f_locals（运行期）:',f.f_locals)#A名字空间（运行期）\n",
    "    print('代码对象---------------------------------------------------------------')    \n",
    "    print(f.f_code.co_name,'代码对象f_code:',f.f_code)#A代码对象\n",
    "    print(f.f_code.co_name,'代码对象f_fileno:',f.f_lineno)#所在文件行数   \n",
    "    print(f.f_code.co_name,'最后执行指令的偏移量f_lasti:',f.f_lasti)#A最后执行指令的偏移量\n",
    "\n",
    "    print('栈帧对象---------------------------------------------------------------')        \n",
    "    print(f.f_code.co_name,' frame f_back:',f.f_back)#前一帧对象\n",
    "    print(f.f_code.co_name,' frame f_trace:',f.f_trace)#trace对象\n",
    "    \n",
    "    print('f_code,---------------------------------------------------------------')        \n",
    "    print('该f_code即为对应函数的代码对象-------------------------')\n",
    "#     print('遍历f_code:',dir(f.f_code))\n",
    "    print('co_stacksize',f.f_code.co_stacksize)\n",
    "    \n",
    "\n",
    "A()"
   ]
  },
  {
   "cell_type": "markdown",
   "metadata": {},
   "source": [
    "返回所有栈帧\n",
    "> sys._current_frames()#返回一个dict对象"
   ]
  },
  {
   "cell_type": "code",
   "execution_count": 75,
   "metadata": {
    "ExecuteTime": {
     "end_time": "2020-02-12T13:15:22.111905Z",
     "start_time": "2020-02-12T13:15:22.107692Z"
    }
   },
   "outputs": [
    {
     "data": {
      "text/plain": [
       "{123145489965056: <frame at 0x108991450, file '/usr/local/Cellar/ipython/7.5.0/libexec/vendor/lib/python3.7/site-packages/zmq/utils/garbage.py', line 47, code run>,\n",
       " 123145484709888: <frame at 0x1083f2a50, file '/usr/local/Cellar/ipython/7.5.0/libexec/vendor/lib/python3.7/site-packages/ipykernel/parentpoller.py', line 39, code run>,\n",
       " 123145479454720: <frame at 0x7ffea0cd9190, file '/usr/local/Cellar/python/3.7.4/Frameworks/Python.framework/Versions/3.7/lib/python3.7/threading.py', line 296, code wait>,\n",
       " 123145473126400: <frame at 0x108342050, file '/usr/local/Cellar/ipython/7.5.0/libexec/vendor/lib/python3.7/site-packages/ipykernel/heartbeat.py', line 61, code run>,\n",
       " 123145467871232: <frame at 0x7ffea0a63580, file '/usr/local/Cellar/python/3.7.4/Frameworks/Python.framework/Versions/3.7/lib/python3.7/selectors.py', line 558, code select>,\n",
       " 4420482496: <frame at 0x10729e6d0, file '<ipython-input-75-114acff59567>', line 2, code <module>>}"
      ]
     },
     "execution_count": 75,
     "metadata": {},
     "output_type": "execute_result"
    }
   ],
   "source": [
    "import sys\n",
    "sys._current_frames()#返回一个dict"
   ]
  },
  {
   "cell_type": "markdown",
   "metadata": {},
   "source": [
    "### 函数的参数:位置参数（定位参数）     与       关键字参数"
   ]
  },
  {
   "cell_type": "markdown",
   "metadata": {},
   "source": [
    "#### 位置参数（定位参数）"
   ]
  },
  {
   "cell_type": "code",
   "execution_count": null,
   "metadata": {
    "collapsed": true
   },
   "outputs": [],
   "source": [
    "def myadd2(a,b):\n",
    "    return a+b\n",
    "\n",
    "def myadd3(a,b,c):\n",
    "    return a+b+c\n",
    "\n",
    "def myadd4(a,b,c,d):\n",
    "    print(d)"
   ]
  },
  {
   "cell_type": "code",
   "execution_count": 35,
   "metadata": {
    "ExecuteTime": {
     "end_time": "2018-12-09T13:11:57.976686Z",
     "start_time": "2018-12-09T13:11:57.972680Z"
    },
    "collapsed": true
   },
   "outputs": [],
   "source": [
    "#个数匹配"
   ]
  },
  {
   "cell_type": "markdown",
   "metadata": {},
   "source": [
    "##### 扩展阅读： Python可选位置参数"
   ]
  },
  {
   "cell_type": "markdown",
   "metadata": {},
   "source": [
    "Python内置电池round函数的帮助中，出现了[, ndigits]这个东东。\n",
    "其它的一些Python对象提供的方法中也有类似的东东出没，比如对序列对象进行切片访问时。\n",
    "\n",
    "就是Python可选位置参数。\n",
    "\n",
    "注意：这样的参数是无法通过自定义函数来创建的。只有Python中的内置函数可以。\n",
    "\n",
    "\n",
    "```\n",
    "Help on built-in function round in module builtins:\n",
    "\n",
    "round(...)\n",
    "    round(number[, ndigits]) -> number\n",
    "    \n",
    "    Round a number to a given precision in decimal digits (default 0 digits).\n",
    "    This returns an int when called with one argument, otherwise the\n",
    "    same type as the number. ndigits may be negative.\n",
    "\n",
    "```"
   ]
  },
  {
   "cell_type": "markdown",
   "metadata": {},
   "source": [
    "### 关键字参数"
   ]
  },
  {
   "cell_type": "code",
   "execution_count": 76,
   "metadata": {
    "ExecuteTime": {
     "end_time": "2020-02-12T13:18:36.685695Z",
     "start_time": "2020-02-12T13:18:36.681483Z"
    }
   },
   "outputs": [
    {
     "data": {
      "text/plain": [
       "1007"
      ]
     },
     "execution_count": 76,
     "metadata": {},
     "output_type": "execute_result"
    }
   ],
   "source": [
    "#关键字参数，与不定长关键字参数\n",
    "def myadd0(args,lastnum=1000):\n",
    "    return args+lastnum\n",
    "\n",
    "myadd0(7)"
   ]
  },
  {
   "cell_type": "code",
   "execution_count": 77,
   "metadata": {
    "ExecuteTime": {
     "end_time": "2020-02-12T13:18:39.273137Z",
     "start_time": "2020-02-12T13:18:39.264590Z"
    },
    "collapsed": true
   },
   "outputs": [],
   "source": [
    "def myadd(parm1,parm2=500):\n",
    "    print(parm1+parm2)\n",
    "    \n",
    "def myadd(parm1,parm2=500,parm3=5):\n",
    "    print(parm1+parm2)    \n",
    "    \n",
    "myadd?"
   ]
  },
  {
   "cell_type": "markdown",
   "metadata": {},
   "source": [
    "##### 扩展阅读：查看函数签名"
   ]
  },
  {
   "cell_type": "code",
   "execution_count": 79,
   "metadata": {
    "ExecuteTime": {
     "end_time": "2020-02-12T13:19:32.529387Z",
     "start_time": "2020-02-12T13:19:32.524494Z"
    }
   },
   "outputs": [
    {
     "name": "stdout",
     "output_type": "stream",
     "text": [
      "(parm1)\n",
      "OrderedDict([('parm1', <Parameter \"parm1\">)])\n"
     ]
    }
   ],
   "source": [
    "from inspect import signature# 注意是小写的signature\n",
    "\n",
    "def func(parm1,parm2='kw'):\n",
    "    return parm1\n",
    "\n",
    "def func(parm1):\n",
    "    pass\n",
    "\n",
    "# 获取函数签名\n",
    "func_sig = signature(func)\n",
    "print(func_sig)\n",
    "# 通过函数签名的parameters属性，可以获取函数参数\n",
    "func_params = func_sig.parameters\n",
    "print(func_params)\n",
    "\n",
    "#或者直接使用ipython下的?"
   ]
  },
  {
   "cell_type": "markdown",
   "metadata": {},
   "source": [
    "##### 扩展阅读：函数参数在`__code__`对象下的反映"
   ]
  },
  {
   "cell_type": "code",
   "execution_count": 80,
   "metadata": {
    "ExecuteTime": {
     "end_time": "2020-02-12T13:21:52.142758Z",
     "start_time": "2020-02-12T13:21:52.126587Z"
    }
   },
   "outputs": [
    {
     "data": {
      "text/plain": [
       "('co_argcount', 3)"
      ]
     },
     "execution_count": 80,
     "metadata": {},
     "output_type": "execute_result"
    },
    {
     "data": {
      "text/plain": [
       "('co_nlocals&co_varnames', 4, ('a', 'b', 'c', 'str1'))"
      ]
     },
     "execution_count": 80,
     "metadata": {},
     "output_type": "execute_result"
    },
    {
     "data": {
      "text/plain": [
       "('符号名集合co_names', ())"
      ]
     },
     "execution_count": 80,
     "metadata": {},
     "output_type": "execute_result"
    },
    {
     "data": {
      "text/plain": [
       "('常量集合co_const', (None, 'julyedu.com'))"
      ]
     },
     "execution_count": 80,
     "metadata": {},
     "output_type": "execute_result"
    },
    {
     "data": {
      "text/plain": [
       "('co_flags', 67)"
      ]
     },
     "execution_count": 80,
     "metadata": {},
     "output_type": "execute_result"
    }
   ],
   "source": [
    "def test1(a,b,c=1):\n",
    "    str1='julyedu.com'\n",
    "    return b\n",
    "    \n",
    "'co_argcount',test1.__code__.co_argcount#位置参数的个数，而co_nlocals是局部变量数目，包括位置参数在内。\n",
    "'co_nlocals&co_varnames',test1.__code__.co_nlocals,test1.__code__.co_varnames#多少个局部变量,以及及变量的名字。\n",
    "\n",
    "'符号名集合co_names',test1.__code__.co_names   #符号名集合\n",
    "'常量集合co_const',test1.__code__.co_consts  #常量集合\n",
    "\n",
    "\n",
    "# 位置参数，键（关键字）参数，*args扩展位置参数[元组对象]和**kwargs扩展键（关键字）参数[字典]。\n",
    "\n",
    "# 位置参数还能设置默认值，如果有默认值，默认值是在MAKE_FUNCTION指令赋值给`funcname.__defaults__`的。\n",
    "\n",
    "'co_flags',test1.__code__.co_flags\n",
    "# 【1】function没有args或*kw时，`funcname.__code__.co_flags=67`;\n",
    "# 【2】function有args没有*kw时，funcname.__code__.co_flags=71;\n",
    "# 【3】function没有args有*kw时，funcname.__code__.co_flags=75;\n",
    "# 【4】function既有args也有*kw时，funcname.__code__.co_flags=79;\n",
    "# 【5】function是一个generator时，funcname.__code__.co_flags=99.\n",
    "\n",
    "#对于像 def f(a, b, *lst):这样的函数，如果调用函数时参数为f(1,2,3,4)，其实在PyCodeObject对象中的co_argcount=2, co_nlocals=3。"
   ]
  },
  {
   "cell_type": "markdown",
   "metadata": {},
   "source": [
    "##### 扩展阅读：动态管理函数对象的参数的默认值与属性"
   ]
  },
  {
   "cell_type": "code",
   "execution_count": 97,
   "metadata": {
    "ExecuteTime": {
     "end_time": "2020-02-12T13:31:14.193004Z",
     "start_time": "2020-02-12T13:31:14.178166Z"
    }
   },
   "outputs": [
    {
     "data": {
      "text/plain": [
       "('KB',)"
      ]
     },
     "execution_count": 97,
     "metadata": {},
     "output_type": "execute_result"
    },
    {
     "data": {
      "text/plain": [
       "('TB',)"
      ]
     },
     "execution_count": 97,
     "metadata": {},
     "output_type": "execute_result"
    },
    {
     "data": {
      "text/plain": [
       "'100264106TB'"
      ]
     },
     "execution_count": 97,
     "metadata": {},
     "output_type": "execute_result"
    },
    {
     "data": {
      "text/plain": [
       "100264106"
      ]
     },
     "execution_count": 97,
     "metadata": {},
     "output_type": "execute_result"
    },
    {
     "data": {
      "text/plain": [
       "100264106.23563758"
      ]
     },
     "execution_count": 97,
     "metadata": {},
     "output_type": "execute_result"
    }
   ],
   "source": [
    "##函数对象参数的默认值存放在函数对象的,__defaults__属性中，是一个Tuple类对象\n",
    "\n",
    "#字节数换算为KB，MB,GB,TB\n",
    "def CaluSize(bytesize,trans='KB'):\n",
    "    if trans=='KB':size=1024\n",
    "    if trans=='MB':size=1024**2\n",
    "    if trans=='GB':size=1024**3\n",
    "    if trans=='TB':size=1024**4\n",
    "    return str(bytesize//size)+trans\n",
    "\n",
    "CaluSize.__defaults__\n",
    "CaluSize.__defaults__=('TB',)\n",
    "CaluSize.__defaults__\n",
    "\n",
    "CaluSize(110241550654651654544)\n",
    "110241550654651654544//(1024**4)\n",
    "110241550654651654544/(1024**4)"
   ]
  },
  {
   "cell_type": "code",
   "execution_count": 98,
   "metadata": {
    "ExecuteTime": {
     "end_time": "2020-02-12T13:31:18.466781Z",
     "start_time": "2020-02-12T13:31:18.452562Z"
    },
    "scrolled": true
   },
   "outputs": [
    {
     "data": {
      "text/plain": [
       "<function __main__.CaluSize(bytesize, trans='TB')>"
      ]
     },
     "execution_count": 98,
     "metadata": {},
     "output_type": "execute_result"
    },
    {
     "data": {
      "text/plain": [
       "['__annotations__',\n",
       " '__call__',\n",
       " '__class__',\n",
       " '__closure__',\n",
       " '__code__',\n",
       " '__defaults__',\n",
       " '__delattr__',\n",
       " '__dict__',\n",
       " '__dir__',\n",
       " '__doc__',\n",
       " '__eq__',\n",
       " '__format__',\n",
       " '__ge__',\n",
       " '__get__',\n",
       " '__getattribute__',\n",
       " '__globals__',\n",
       " '__gt__',\n",
       " '__hash__',\n",
       " '__init__',\n",
       " '__init_subclass__',\n",
       " '__kwdefaults__',\n",
       " '__le__',\n",
       " '__lt__',\n",
       " '__module__',\n",
       " '__name__',\n",
       " '__ne__',\n",
       " '__new__',\n",
       " '__qualname__',\n",
       " '__reduce__',\n",
       " '__reduce_ex__',\n",
       " '__repr__',\n",
       " '__setattr__',\n",
       " '__sizeof__',\n",
       " '__str__',\n",
       " '__subclasshook__']"
      ]
     },
     "execution_count": 98,
     "metadata": {},
     "output_type": "execute_result"
    },
    {
     "data": {
      "text/plain": [
       "{}"
      ]
     },
     "execution_count": 98,
     "metadata": {},
     "output_type": "execute_result"
    },
    {
     "data": {
      "text/plain": [
       "{'new_atrr': 'test'}"
      ]
     },
     "execution_count": 98,
     "metadata": {},
     "output_type": "execute_result"
    },
    {
     "data": {
      "text/plain": [
       "['__annotations__',\n",
       " '__call__',\n",
       " '__class__',\n",
       " '__closure__',\n",
       " '__code__',\n",
       " '__defaults__',\n",
       " '__delattr__',\n",
       " '__dict__',\n",
       " '__dir__',\n",
       " '__doc__',\n",
       " '__eq__',\n",
       " '__format__',\n",
       " '__ge__',\n",
       " '__get__',\n",
       " '__getattribute__',\n",
       " '__globals__',\n",
       " '__gt__',\n",
       " '__hash__',\n",
       " '__init__',\n",
       " '__init_subclass__',\n",
       " '__kwdefaults__',\n",
       " '__le__',\n",
       " '__lt__',\n",
       " '__module__',\n",
       " '__name__',\n",
       " '__ne__',\n",
       " '__new__',\n",
       " '__qualname__',\n",
       " '__reduce__',\n",
       " '__reduce_ex__',\n",
       " '__repr__',\n",
       " '__setattr__',\n",
       " '__sizeof__',\n",
       " '__str__',\n",
       " '__subclasshook__',\n",
       " 'new_atrr']"
      ]
     },
     "execution_count": 98,
     "metadata": {},
     "output_type": "execute_result"
    }
   ],
   "source": [
    "##函数对象属性\n",
    "##函数对象属性值存放在函数对象的,__dict__属性中，是一个Dict类对象\n",
    "CaluSize\n",
    "dir(CaluSize)\n",
    "CaluSize.__dict__\n",
    "CaluSize.__dict__['new_atrr']='test'\n",
    "CaluSize.__dict__\n",
    "dir(CaluSize)"
   ]
  },
  {
   "cell_type": "markdown",
   "metadata": {},
   "source": [
    "### 函数返回值 "
   ]
  },
  {
   "cell_type": "code",
   "execution_count": 89,
   "metadata": {
    "ExecuteTime": {
     "end_time": "2020-02-12T13:27:02.753668Z",
     "start_time": "2020-02-12T13:27:02.749501Z"
    },
    "collapsed": true
   },
   "outputs": [],
   "source": [
    "#函数返回值      \n",
    "#有返回值 与无返回值（即使没有return语句，依旧会return一个NoneType类的对象None)\n",
    "\n",
    "def myadd(a):\n",
    "    return a,5\n",
    "\n",
    "def myadd1(a,b,c,d):\n",
    "    print(a+b+c+d)\n",
    "\n",
    "def myadd2(a,b):\n",
    "    pass"
   ]
  },
  {
   "cell_type": "markdown",
   "metadata": {},
   "source": [
    "##  不定长位置参数与不定长关键字参数"
   ]
  },
  {
   "cell_type": "markdown",
   "metadata": {},
   "source": [
    "### 不定长位置参数"
   ]
  },
  {
   "cell_type": "code",
   "execution_count": 100,
   "metadata": {
    "ExecuteTime": {
     "end_time": "2020-02-12T13:33:01.592801Z",
     "start_time": "2020-02-12T13:33:01.575161Z"
    },
    "collapsed": true
   },
   "outputs": [
    {
     "name": "stdout",
     "output_type": "stream",
     "text": [
      "<class 'tuple'>\n",
      "parms: (5, 6)\n",
      "a,b,c,d: 1 2 3 4\n"
     ]
    },
    {
     "data": {
      "text/plain": [
       "11"
      ]
     },
     "execution_count": 100,
     "metadata": {},
     "output_type": "execute_result"
    },
    {
     "name": "stdout",
     "output_type": "stream",
     "text": [
      "<class 'tuple'>\n",
      "(1, 2, 3)\n"
     ]
    },
    {
     "data": {
      "text/plain": [
       "6"
      ]
     },
     "execution_count": 100,
     "metadata": {},
     "output_type": "execute_result"
    },
    {
     "name": "stdout",
     "output_type": "stream",
     "text": [
      "<class 'tuple'>\n",
      "(1, 2, 3)\n"
     ]
    },
    {
     "data": {
      "text/plain": [
       "6"
      ]
     },
     "execution_count": 100,
     "metadata": {},
     "output_type": "execute_result"
    }
   ],
   "source": [
    "def myadd1(a,b,c,d,*parms):\n",
    "    print(type(parms))\n",
    "    print('parms:',parms)\n",
    "    print('a,b,c,d:',a,b,c,d)\n",
    "    return sum(parms)\n",
    "myadd1(1,2,3,4,5,6)\n",
    "\n",
    "def myadd2(arg,*args):\n",
    "    print(type(args))\n",
    "    print(args)\n",
    "    return sum(args)\n",
    "myadd2(18,1,2,3)\n",
    "\n",
    "\n",
    "def myadd3(arg,*args):\n",
    "    print(type(args))\n",
    "    print(args)\n",
    "    return sum(args)\n",
    "myadd3(18,1,2,3)"
   ]
  },
  {
   "cell_type": "markdown",
   "metadata": {},
   "source": [
    "### 不定长关键字参数"
   ]
  },
  {
   "cell_type": "code",
   "execution_count": 104,
   "metadata": {
    "ExecuteTime": {
     "end_time": "2020-02-12T13:35:10.092089Z",
     "start_time": "2020-02-12T13:35:10.078397Z"
    }
   },
   "outputs": [
    {
     "name": "stdout",
     "output_type": "stream",
     "text": [
      "{'add': 'sh', 'tel': 13333, 'name': 'jack', 'height': 178}\n",
      "{'address': 'sh', 'cellphone': 13333}\n",
      "\n",
      "<class 'dict'>\n",
      "['david', 'male', 0]\n"
     ]
    },
    {
     "data": {
      "text/plain": [
       "['david', 'male', 0]"
      ]
     },
     "execution_count": 104,
     "metadata": {},
     "output_type": "execute_result"
    },
    {
     "name": "stdout",
     "output_type": "stream",
     "text": [
      "<class 'dict'>\n",
      "[5, 6]\n"
     ]
    },
    {
     "data": {
      "text/plain": [
       "[5, 6]"
      ]
     },
     "execution_count": 104,
     "metadata": {},
     "output_type": "execute_result"
    }
   ],
   "source": [
    "def myadd(**kwargs):\n",
    "    print(kwargs)\n",
    "    \n",
    "myadd(add='sh',tel=13333,name='jack',height=178)\n",
    "myadd(address='sh',cellphone=13333,)\n",
    "print()\n",
    "\n",
    "def myaddkw(**names):\n",
    "    print(type(names))\n",
    "    print(list(names.values()))\n",
    "    return list(names.values())\n",
    "    \n",
    "myaddkw(name='david',gender='male',age=0)\n",
    "myaddkw(args=5, lastnum=6)"
   ]
  },
  {
   "cell_type": "markdown",
   "metadata": {},
   "source": [
    "### 综合使用"
   ]
  },
  {
   "cell_type": "code",
   "execution_count": 105,
   "metadata": {
    "ExecuteTime": {
     "end_time": "2020-02-12T13:59:27.036297Z",
     "start_time": "2020-02-12T13:59:27.020137Z"
    }
   },
   "outputs": [
    {
     "data": {
      "text/plain": [
       "6"
      ]
     },
     "execution_count": 105,
     "metadata": {},
     "output_type": "execute_result"
    }
   ],
   "source": [
    "l1=[1,2,3,4,5,6]\n",
    "a,b,c,d,e,f=l1\n",
    "f"
   ]
  },
  {
   "cell_type": "code",
   "execution_count": 110,
   "metadata": {
    "ExecuteTime": {
     "end_time": "2020-02-12T14:00:30.174344Z",
     "start_time": "2020-02-12T14:00:30.165410Z"
    }
   },
   "outputs": [
    {
     "data": {
      "text/plain": [
       "(1, 2, [3, 4], 5, 6)"
      ]
     },
     "execution_count": 110,
     "metadata": {},
     "output_type": "execute_result"
    },
    {
     "name": "stdout",
     "output_type": "stream",
     "text": [
      "(1, 2, 3, 4, 5, 6, 7)\n",
      "name\n",
      "add\n",
      "date\n"
     ]
    }
   ],
   "source": [
    "l1=[1,2,3,4,5,6]\n",
    "a,b,*c,d,e=l1\n",
    "a,b,c,d,e\n",
    "\n",
    "def myfun1(*args,**kwargs):\n",
    "    print(args)\n",
    "    for item in kwargs:\n",
    "         print(item)\n",
    "d1={'name':'david','add':'bj','date':'2018-8-1'}\n",
    "l1=[1,2,3,4,5,6,7]\n",
    "myfun1(*l1,**d1)"
   ]
  },
  {
   "cell_type": "markdown",
   "metadata": {},
   "source": [
    "##### 扩展阅读:Python函数参数中的`/`与`*`"
   ]
  },
  {
   "cell_type": "code",
   "execution_count": 111,
   "metadata": {
    "ExecuteTime": {
     "end_time": "2020-02-12T14:00:37.573748Z",
     "start_time": "2020-02-12T14:00:37.558846Z"
    },
    "collapsed": true
   },
   "outputs": [],
   "source": [
    "sorted?"
   ]
  },
  {
   "cell_type": "code",
   "execution_count": 115,
   "metadata": {
    "ExecuteTime": {
     "end_time": "2020-02-12T14:04:32.028687Z",
     "start_time": "2020-02-12T14:04:32.019306Z"
    }
   },
   "outputs": [
    {
     "data": {
      "text/plain": [
       "['Beijing', 'China', 'Japan', 'UK']"
      ]
     },
     "execution_count": 115,
     "metadata": {},
     "output_type": "execute_result"
    },
    {
     "data": {
      "text/plain": [
       "['UK', 'Japan', 'China', 'Beijing']"
      ]
     },
     "execution_count": 115,
     "metadata": {},
     "output_type": "execute_result"
    },
    {
     "data": {
      "text/plain": [
       "['China', 'Beijing', 'Japan', 'UK']"
      ]
     },
     "execution_count": 115,
     "metadata": {},
     "output_type": "execute_result"
    }
   ],
   "source": [
    "l1=['China','Japan','UK','Beijing']\n",
    "\n",
    "#Signature: sorted(iterable, /, *, key=None, reverse=False)\n",
    "#参数/是指，iterable这个参数只能以位置参数形式给，不能以关键字参数形式给，否则报错\n",
    "#这类参数只能在C API中被指定，def定义会报错\n",
    "\n",
    "#正常\n",
    "sorted(l1)\n",
    "#报错\n",
    "#sorted(iterable=l1)#TypeError: Function takes at least 1 positional arguments (0 given)\n",
    "\n",
    "#参数*是指，key这个参数只能以关键字参数形式给，不能以位置参数形式给，以否则报错\n",
    "#这类参数可以自行定义\n",
    "#正常\n",
    "sorted(l1,key=lambda x:(x[-2]))\n",
    "sorted(l1,key=lambda x:(x[-2]),reverse=True)\n",
    "#报错\n",
    "# sorted(l1,lambda x:(x[-1]))#TypeError: must use keyword argument for key function"
   ]
  },
  {
   "cell_type": "markdown",
   "metadata": {},
   "source": [
    "## 偏函数"
   ]
  },
  {
   "cell_type": "code",
   "execution_count": 116,
   "metadata": {
    "ExecuteTime": {
     "end_time": "2020-02-12T14:14:34.413972Z",
     "start_time": "2020-02-12T14:14:34.405298Z"
    }
   },
   "outputs": [
    {
     "data": {
      "text/plain": [
       "36"
      ]
     },
     "execution_count": 116,
     "metadata": {},
     "output_type": "execute_result"
    },
    {
     "data": {
      "text/plain": [
       "102"
      ]
     },
     "execution_count": 116,
     "metadata": {},
     "output_type": "execute_result"
    },
    {
     "data": {
      "text/plain": [
       "functools.partial"
      ]
     },
     "execution_count": 116,
     "metadata": {},
     "output_type": "execute_result"
    }
   ],
   "source": [
    "#偏函数,固定了部分参数的函数\n",
    "\n",
    "import functools\n",
    "\n",
    "a=0x24\n",
    "a\n",
    "int(str(a),base=32)\n",
    "\n",
    "hex2int=functools.partial(int,base=16)\n",
    "\n",
    "type(hex2int)\n",
    "# hex2int(str(a))"
   ]
  },
  {
   "cell_type": "code",
   "execution_count": 119,
   "metadata": {
    "ExecuteTime": {
     "end_time": "2020-02-12T14:18:00.219933Z",
     "start_time": "2020-02-12T14:18:00.209600Z"
    }
   },
   "outputs": [
    {
     "data": {
      "text/plain": [
       "34750.0"
      ]
     },
     "execution_count": 119,
     "metadata": {},
     "output_type": "execute_result"
    },
    {
     "data": {
      "text/plain": [
       "83400.0"
      ]
     },
     "execution_count": 119,
     "metadata": {},
     "output_type": "execute_result"
    },
    {
     "data": {
      "text/plain": [
       "410000"
      ]
     },
     "execution_count": 119,
     "metadata": {},
     "output_type": "execute_result"
    }
   ],
   "source": [
    "def mysal(nums,rate=6.95):\n",
    "    return nums*rate\n",
    "\n",
    "mysal(5000)\n",
    "mysal(12000)\n",
    "\n",
    "import functools\n",
    "rmb2eur=functools.partial(mysal,rate=1.01)\n",
    "rmb2jpn=functools.partial(mysal,rate=82)\n",
    "\n",
    "rmb2jpn(5000)"
   ]
  },
  {
   "cell_type": "markdown",
   "metadata": {},
   "source": [
    "## Python中的LEGB访问规则"
   ]
  },
  {
   "cell_type": "markdown",
   "metadata": {},
   "source": [
    "### 先讲LGB这三层楼（名字空间），E这层楼下节课会讲到\n",
    "\n",
    "<img src='data:image/jpeg;base64,/9j/4AAQSkZJRgABAQAAAQABAAD/2wCEAAkGBxIQEBAQDxEQEBAQEBAQDxAQERIQEA4QFhIWFhUSFRMZHCogGR4lGxYXITEhJSsvOjAuFx8zODMtNygxLysBCgoKDg0OGxAQGzcmICU2KzEtNy0tNystLjUvLS0tMi0wLSs3LS0vKy0tLS0tLS8tLS0tLS0tLS0tLS0rKy0tLf/AABEIALcBFAMBEQACEQEDEQH/xAAbAAEAAgMBAQAAAAAAAAAAAAAAAQMEBQYCB//EAD8QAAIBAgIHBQYDBQgDAAAAAAECAAMRBBIFExUhMVGRFEFSYdEGIlNxouEygbEWI0Jy0gckM2KSobLBNILC/8QAGgEBAAMBAQEAAAAAAAAAAAAAAAECBAMFBv/EADURAQABAgMFBgUDBAMBAAAAAAABAhEDE1ESFBUhUgQxM0FhoTJigZHhBXGxIkLB8ILR8SP/2gAMAwEAAhEDEQA/APuMCLwGaAzQGaAzQGaAzQGaAzQGaAzQGaAzQGaAzQF4EwEBAQEBAQEBAQEBAQEBAQEBAqqvaBxtbTFUknORfuG4Dynrx2fDiLWeXOPiTN7q9r1fiN1k5GH0ozsTVG16vxG6xkYfSZ2JqbXq/EbrGRh9JnYmpter8RusZGH0mdiam16vxG6xkYfSZ2JqbXq/EbrGRh9JnYmpter8RusZGH0mdiam16vxG6xkYfSZ2JqbXq/EbrGRh9JnYmpter8RusZGH0mdiam16vxG6xkYfSZ2JqbXq/EbrGRh9JnYmpter8RusZGH0mdiap2vV+I3WMjD0M7E1WUNM1QQc5a3EHeCOUrPZ8OYtZMY+JE3u7Kk955L1FsBAQEBAQEBAQEBAQEBAQEBAwsc24wPn1Rp7rxVWaAzQGaBDVLAnkCYGmT2j9xarUKy0Wt+99wqLm1yAb8ZmjtPLammbNE4HPZiYu3GvG/3l90XbePdHM8povDhaWNW0hlYi2ZRRatnDLYgfwgXv+fCUmu0/S60UXj62V4fTFNzRXerVqesUG24btxN+O+RTjUzaNVqsKqL+jIxeKNMKcpbM6puKra/fvO/5S9VWypTTd7OKQGxdAScoBYXLcrc/KNqNUbM6LM0sgzQGaAzQLabQPoWCbdPCe0zICAgICAgICAgICAgICAgICBgaQ4GIJfPqk914qqAgIHmr+Fvkf0kT3Ed7iqWGJw6ItLGdoBUhWV+zhg994b3bWnmxT/RERE39v8Ap6M1f1zMzFvdtMZnSrjAadRjiKCCmaaFlLCmykEjhvM713pqr5d8f4cabTTRz7peaWHe9P3H3aMZD7rbn8HDj5SIpm8cv7SaotPP+4w2GKvgGamw/u5Qtqi2SpYZM27dY8+EU02miZjy0KqrxXET56sjSOFrBKIeoa57VQa60guRRe5IXu85fEortF5vzjyVoqovNotynzYeM0fmpY9tUTUOIJpHIS5W6m6br23nhOVeHemubc78nSnEtVRF+VnUJwF+Q/SboYpTJCBMCynA+hYHgJ4T2mdAQEBAQEBAQEBAQEBAQEBAQMDSHA/KIJfPqk914quAgICAgICAgICAgICAgWUhA+hYHhPCe0zoCAgICAgICAgICAgICAgICBjYlLiBzuL0MpJIFr8ibTRHacSItdwns+HM3sxDodRa+65sN/E8hJ3vERu2GnYy8j1je8Q3bDNjLyPWN7xDdsM2MvI9Y3vEN2wzYy8j1je8Q3bDNjLyPWN7xDdsM2MvI9Y3vEN2wzYy8j1je8Q3bDNjLyPWN7xDdsM2MvI9Y3vEN2wzYy8j1je8Q3bDNjLyPWN7xDdsM2MvI9Y3vEN2wzYy8j1je8Q3bDZWE0QgINr25k2lau04kxa6aez4cTezosMlhODuyLwF4C8CYCAgICAgICAgICAgICBBECpqIMD5l/azoXSOJr4JcCdXTpOHpOrorNjLMwvdhYKiGx/zmB3mgFrvhqTYykKOJy2rIrKyZwSCylSRZrZgO69oGf2cQKa6hQSeABJ+QEiZtF0TNnOPpp77lQDuuCT1vMM9rq8oZ86XjbT+Gn0b1jeq9IM6o20/hp9G9Y3qvSDOqNtP4afRvWN6r0gzqjbT+Gn0b1jeq9IM6o20/hp9G9Y3qvSDOqNtP4afRvWN6r0gzqjbT+Gn0b1jeq9IM6o20/hp9G9Y3qvSDOqNtP4afRvWN6r0gzqnpdOVPDT6N6xvVekGdUsHtDU8NPo39Ub1XpBnVJ/aKp4afRv6pG9V6QZ1R+0VTw0+jf1RvVekGdUftFU8NPo39Uneq9IM6pkYP2gZnUOq5WIF1uCL9+8y1HapmqImE040zPN0aNebWh6gICAgICAgICAgICAgIGj9p6xR9Hkbr6QpKe7c9Gsn/wBQN5AgwNbpZ7U3/kb9DKYnwyrV3S4ao88lieNZAayA1kBrIGHjNMUaJC1aqox32NybcyBwl6cOurnELRRVPdC06QSyHOtqpC0yDcOx4AESNmrny7kWlfrJVCuni1ZnVWBamQHA4qSLi/5SZiYi8llmskCrta59XmGfLny9+W9r9ZNptfyTabXW6yQg1kBrIDWQMnBv76fzL+olqPihNPfDvcM1xPXbmTAQEBAQEBAQEBAQEBAQNF7XEinh2FCriCmMw9QJRUM65SSXAPIA9YCr7SZVVuxaQYtb3Vw4LJfxe9bd84EYf2hqObbN0ivm64VR/vXga3GaVqVMS9FqVSinYnrZaoTMXFQLe6MwtY8LymJ8Mq1fDLQVJ5LEqkBAQEDncDWFOpjsxpLiDVJXXNlVqVvd38rcvKa64vFFu70dqovFOjGw9YPTwhVEQDHhQKebJwJuM2/feWmLTVefJMxaZ/ZFbGPqq2I17rXSuUShmGSwcAU9X37r75MURtRTblbv/JFMXim3JOIP73Htr2osmR1VWC5mFPdfxb91vORT8NEWv/6R3U8k43G1HW+eorphEquFqLQRHZb5ubk+H8opopie7lf9yKYj7svRlUviqLsbs2j0ZjzJfeZTEiIw5iOpWqLUzHq38yuRAQJEDKwf4l/mX9Zej4oTT3w77CcJ67cy4CAgICAgICAgICAgICAgIEGBodM4KnmfEZBrhQajrN99UTmK8uIvKYnwSrV8MuPqTyWJVICAgIFGIwVOoQalOm5HAuisR1l6a6qe6UxVMd0vfZk3e4m5s490bn8Y8/ORtTqXl5bB0y+sNOmag4OUXP8A6rXjbqta/I2ptZFTA0mN2pU2N8xLIpJNrXvbjJiuqO6TamPNNXCU3YM9NGYCwZkUkDlciRFdURaJImYeqeHRSCqIpC5AQoBCXvlB5eUTVM98l5WSqCAgTAysH+Nf5l/WXo+KE098O+wnCeu3MuAgICAgICAgICAgICAgICAMDAx1LMCDwIIMiYvFieblq+hiDubd/L95knsnr7M+R6qNkHn9P3kbp83sZHqbIPP6fvG6fN7GR6myDz+n7xunzexkepsg8/p+8bp83sZHqbIPi+n7xunzexkepsg+L6fvG6fN7GR6myD4vp+8bp83sZHqbIPi+n7xunzexkepsg+L6fvG6fN7GR6myD4vp+8bp83sZHqbIPi+n7xunzexkepsg+L6fvG6fN7GR6myD4vp+8bp83sZHqDRB8X0/eN0+b2Mj1Z2A0RZgS17EG1rb+svR2WKZvMrU4Npvd1OHWwmp2ZEBeAgICAgICAgICAgICAgICB4dLwMdsMDA+T+2Wm9JUNL0zhcJiamEwylWpJSqEY1GCNWqLZbNlLU1DDgR/mgfUcNSWoiVFDAOiuA6tTcBhcBkYXU794PCBZ2MQMXH2pIWte1rDzJtOWNiZdE1OmFh5lcUtKdKN4U6H1nncQxNIb9yo1lG1G8KdD6yOIYmkG5UaybUbwp0PrHEMTSDcqNZNqN4U6H1jiGJpBuVGsm1G8KdD6xxDE0g3KjWTajeFOh9Y4hiaQblRrJtRvCnQ+scQxNINyo1k2o3hTofWOIYmkG5UaybUbwp0PrHEMTSDcqNZNqN4U6H1jiGJpBuVGsvaaYYfwp0PrJ4hiaQblRrK1dP1B/CnRvWRxDE0g3KjWXr9oanhTo3rHEMTSDcqNZP2hqeFOjescQxNINyo1k/aGp4U6N6xxDE0g3KjWWbozTJqPkdQLg2K37hffeaOz9snEr2aocMfssUU7US3amb2NMBAQEBAQEBAQEBAQEBA0WOxBXSmCp23PgtIEnllq4O3/cDewIMDR+0L/uz81/WZO2+DP0/lp7J4sfVybvPEes86yA1kCrE4xaSF6hyov4jYm2+3AfOWoomudmnvRVVFMXliYTT+HquKdOoGc3sMri9hc7yOU619nxaI2qo5OdOPh1TamebYaycHU1kCnD41amfI2bI7U33EZXW1xv+Yl6qKqbX8+atNUVXt5LtZKLGsgNZAqbGqKi0i3vspZVsd6jib8JeKJmna8ldqL7Pmt1kosayA1kDZaFf98n/t/xM19i8aPr/DP2vwp+n8u0oHdPbeQtgICAgICAgICAgICAgIHL+02kcNhsbgK2KrLQAp41Vao2Smb6kEE8L8LX84GTiPbXRqHK2OwuYgkBaqudwudy37oFuH9qsHVBNOurjmquR/ssDTYnS64lcUEHu0MQlIHxg0qdTNbiPx8DymTtvgz9Gnsnix9WleeI9Z5gIGp9qv8Aw6/8q/8ANZp7H41P++Th2rwqlGjMWSwDY2jWuhApIiK18t+IYndYy+LRyvGHMet1cOvnaa4n0a7AM609H1tdWZ6tZabhqjMrISwtlPy4zviRTNWJRsxaIvHJww9qKcOq885t3rcJXDNrKuJq06/ajTFIEsLBrCnqR3EfxStdMxGzTRE02vf/ADf/AAtRVEztVVTE3tb/ABZTriqVhnNOm+lKiVqinKUQhf4v4b85fZiZpm15iiLK7UxE87RNU3WVMQVXGU6OIIpIKOrrO7OKbsfeQVBc7+F+6VimJmiqqnnN7x3X9bLTVMRXTTVy5c/yp7c9OlilQ1FdRSP+OMTTRWaxdKm8qSO43txl8qmquiZtbn5Wn6wpmVU01RHfy87+6TiatNMSaVQFRRVgoxDYpqbFwC4cqLXUsbeV5GxRVVRtR56bN/S37p266aatmfLW9vVk4AUxjaIpVmrDs7klqmsKk2/i7r8bd054m1OBVtU25x5WXo2Yxo2Zvynzu6eee2kAIGy0N/ip+f6GauxeNH1/hn7X4U/T+XbYbhPceQvgICAgICAgICAgICAgIEZRe9hcXAPeAeP6DpAmBDQOS0po5aPaais7HE1lqsGIyoQipZbDh7t9/eTMnbfBn6NPZPFj6tA88R6zzAQPLoGFmAIPEEXB/KTEzHOCYv3q0wtMG600BHAhFBH52lprqnlMqxTTHk9CgtgMq2U3UZRZTzA7pG1OqbQjs6Zs+RM/jyjN/q4xtVW2b8jZi97c06lbMMq2YksMosxPEkd8bU99y0CYdFXIqKF71CgKfy4RNVUzeZ5kUxEWiEUsOiAqiIoPEKoUH5gRNdVU3mSKYjlEJpUEQEIiqDxCqFB+YETVVVzmSKYjlEIpYZFtlRFte2VQLX48Imuqe+SKYjuhbKpIAQNlob/FT8/0M1di8aPr/DP2vwp+n8u2w3Ce48hfAQEBAQEBAQEBAQEBAQEBAgwNXpTDZ1KnvnPEw4xKZplfDrmirahzlXRJ5npMXDqer2a9+npV7KPM9I4dHV7G/T0myjzPSOHR1exv09Jso8z0jh0dXsb9PSbKPM9I4dHV7G/T0myzzPSOHR1exv09Jss8z0jh0dXsb9PSbLPM9I4dHV7G/T0myzzPSOHR1exv09Jss8z0jh0dXsb9PSbLPM9I4dHV7G/T0myzzPSOHR1exv09Jss8z0jh0dXsb9PSbLPM9I4dHV7G/T0g0WeZ6Rw6Or2N+npbPRejQjZrknu8p2wOyU4VW1e8uWN2mrEjZtZ0lEWE1syy8BeAvAmAgICAgICAgICAgICAgVvTvAobCgwOBo/2g4Y6YqaMYKtMWo08QTufGA+9S+RuFB8SnmIHe9kEB2QQMXFoEF7b+6cO042ThzUtRTtTZrjXPl0nk8SxfT7floyaUa8+XSOJY3p9vyZNJrz5dI4ljen2/Jk0mvPl0jiWN6fb8mTSa8+XSOJY3p9vyZNJrz5dI4ljen2/Jk0mvPl0jiWN6fb8mTSa8+XSOJY3p9vyZNJrz5dI4ljen2/Jk0pFc+XSOJY3p9vyZNKxMYw5dI4ljen2/Jk0rhpFvLpI4ljen2/Jk0p2k3l0+8cSxvT7fkyaTaTeXT7xxLG9Pt+TJpNpN5dI4ljen2/Jk0snB44sbG3kRNfY+214texXH2UxMKKYvDZKZ6bgmAgICAgICAgICAgICAgcaPZrAVNIYmk+Eovlw2ExNmQECpUr4vNUH+YlBcwOygQ0DUaUfd+cwfqPgfWHXB+JpneeA1vOskBrIDWQGsgY76RRaqUC37x1Z1Wx3qvE34TpGHVNE1+UIvF7MjPOaTPAZ4GPjtIJQTWVSVXMq3sTvYgDcPMzph4dWJOzT3omYjnLIzzmk1kBrIDWQAqSRm4B/eE3fp3jx+0uWN8LoaJ3T6BkWwEBAQEBAQEBAQEBAQEDQ0cOw0tXqe7kfR+FTvzZkxGIPSz/AKwN9AhoGj0lUBvYg5WytbuNr2PUTB+peB9YdcH4mnefPtaICAgIHM6ZxlOjpHCvWdaaDDVhmY2Fyd034GHVX2auKYvN4cqpiK4ur05pKlWfCDX/ANyepWSvUp1CimotMFKbOCCBcy3Z8GvDpr/p/riItExfz5zZFdUTbnyax8Ywo1FStU7FtClSFfOxZcMR74FTjlDWGbzmiMOJriZpjb2Zm1vPy5aq35d/K7IxeJo06FVKFfEVaTYujSH74rTpsy3KdpIJCWG+3/c50UYlWJE10xE2me7nP/HXRMzERyn/AH92A1Y9mxlPOGSni8HqwtV6yIGcXCO+8i4neKf/AKUVW5zFV+VvaFb8pj1h9EM8NpICAgIGbgfxCb/07x4/aXLG+F0eH4T6BkXQEBAQEBAQEBAQEBAQEDT6S0GalY4ihiKuGrtTpUXemtGoHpU3qOEK1EYDfUbeLHhAoxOhsW7XXSmIpLa2VMPgzc87vSMD3R0LiFBz6TxtQm3GlgFA+QGHgaPRuFqUmx4q6w5scz06lRVU1kNCiM/u2B3q28AcOEwfqXgfWHXB+J7efPtaICAgIHh6St+JVPzAMmJmO4QaK2K5VyniuUZT8xG1N73LJ1a2y5RltbLYZbcrReb3EahMuTImTwZRl/08JO1Ve9+aLJ1K+Fe6/ujfbh0kbU6ps9yAgICAgZuB/EJv/TvHj9pcsb4XR4fhPoGRdAQEBAQEBAQEBAQEBAQEBAgwNbj6OYTni4VOLRNFSaappm8NNUwx5TBwvD6pds+dHjs7cpHC8Pqkz50OztyjheH1SZ86HZ25RwvD6pM+dDs7co4Xh9UmfOh2duUcLw+qTPnQ7O3KOF4fVJnzodnblHC8Pqkz50OztyjheH1SZ86HZ25RwvD6pM+dDs7co4Xh9UmfOh2duUcLw+qTPnQ7O3KOF4fVJnzodnblHC8Pqkz50SMO3KOF4fVJnzoz8DhrG80dn7FRg1bUc5UrxJqizd0humxzWQEBAQEBAQEBAQEBAQEBAQECt6d4FLYYQI7KIDsogOyiA7KIDsogOyiA7KIDsogOyiA7KIDsogOyiA7KIAYUQLUogQLQIEwEBAQEBAQEBAQEBAQEBAQEBAQEBAQEBAQEBAQEBAQEBAQEBAQP/9k='>"
   ]
  },
  {
   "cell_type": "code",
   "execution_count": 120,
   "metadata": {
    "ExecuteTime": {
     "end_time": "2020-02-12T14:20:15.453225Z",
     "start_time": "2020-02-12T14:20:15.438974Z"
    }
   },
   "outputs": [
    {
     "name": "stdout",
     "output_type": "stream",
     "text": [
      "{'f': 15}\n"
     ]
    },
    {
     "data": {
      "text/plain": [
       "6"
      ]
     },
     "execution_count": 120,
     "metadata": {},
     "output_type": "execute_result"
    }
   ],
   "source": [
    "def a():\n",
    "    f=15\n",
    "    print(locals())\n",
    "    \n",
    "a()\n",
    "f"
   ]
  },
  {
   "cell_type": "markdown",
   "metadata": {},
   "source": [
    "##### 扩展阅读：Eval与Exec这两个函数在名字空间"
   ]
  },
  {
   "cell_type": "code",
   "execution_count": 135,
   "metadata": {
    "ExecuteTime": {
     "end_time": "2020-02-12T14:27:46.821442Z",
     "start_time": "2020-02-12T14:27:45.160051Z"
    }
   },
   "outputs": [
    {
     "name": "stdout",
     "output_type": "stream",
     "text": [
      "Once deleted, variables cannot be recovered. Proceed (y/[n])? y\n"
     ]
    },
    {
     "name": "stderr",
     "output_type": "stream",
     "text": [
      "ERROR:root:Invalid alias: The name clear can't be aliased because it is another magic command.\n",
      "ERROR:root:Invalid alias: The name more can't be aliased because it is another magic command.\n",
      "ERROR:root:Invalid alias: The name less can't be aliased because it is another magic command.\n",
      "ERROR:root:Invalid alias: The name man can't be aliased because it is another magic command.\n"
     ]
    }
   ],
   "source": [
    "%reset"
   ]
  },
  {
   "cell_type": "code",
   "execution_count": 136,
   "metadata": {
    "ExecuteTime": {
     "end_time": "2020-02-12T14:27:49.213308Z",
     "start_time": "2020-02-12T14:27:49.208849Z"
    },
    "scrolled": true
   },
   "outputs": [
    {
     "data": {
      "text/plain": [
       "<function inside_func()>"
      ]
     },
     "execution_count": 136,
     "metadata": {},
     "output_type": "execute_result"
    }
   ],
   "source": [
    "# exec?\n",
    "# Signature: exec(source, globals=None, locals=None, /)\n",
    "# Docstring:\n",
    "# Execute the given source in the context of globals and locals.\n",
    "\n",
    "\n",
    "#要exec的python源码\n",
    "ns={}#传入的容器是空的\n",
    "exec('def inside_func():pass',ns)\n",
    "ns['inside_func']#返回的窗器是带有结果的，也就是说传入名字空间被改变了"
   ]
  },
  {
   "cell_type": "code",
   "execution_count": 141,
   "metadata": {
    "ExecuteTime": {
     "end_time": "2020-02-12T14:30:12.577237Z",
     "start_time": "2020-02-12T14:30:12.569780Z"
    }
   },
   "outputs": [
    {
     "name": "stdout",
     "output_type": "stream",
     "text": [
      "入口程序模块： 0x108989e60 __main__\n",
      "0x108337690 builtins\n",
      "{'g': 666, '__builtins__': {'__name__': 'builtins', '__doc__': \"Built-in functions, exceptions, and other objects.\\n\\nNoteworthy: None is the `nil' object; Ellipsis represents `...' in slices.\", '__package__': '', '__loader__': <class '_frozen_importlib.BuiltinImporter'>, '__spec__': ModuleSpec(name='builtins', loader=<class '_frozen_importlib.BuiltinImporter'>), '__build_class__': <built-in function __build_class__>, '__import__': <built-in function __import__>, 'abs': <built-in function abs>, 'all': <built-in function all>, 'any': <built-in function any>, 'ascii': <built-in function ascii>, 'bin': <built-in function bin>, 'breakpoint': <built-in function breakpoint>, 'callable': <built-in function callable>, 'chr': <built-in function chr>, 'compile': <built-in function compile>, 'delattr': <built-in function delattr>, 'dir': <built-in function dir>, 'divmod': <built-in function divmod>, 'eval': <built-in function eval>, 'exec': <built-in function exec>, 'format': <built-in function format>, 'getattr': <built-in function getattr>, 'globals': <built-in function globals>, 'hasattr': <built-in function hasattr>, 'hash': <built-in function hash>, 'hex': <built-in function hex>, 'id': <built-in function id>, 'input': <bound method Kernel.raw_input of <ipykernel.ipkernel.IPythonKernel object at 0x108343a50>>, 'isinstance': <built-in function isinstance>, 'issubclass': <built-in function issubclass>, 'iter': <built-in function iter>, 'len': <built-in function len>, 'locals': <built-in function locals>, 'max': <built-in function max>, 'min': <built-in function min>, 'next': <built-in function next>, 'oct': <built-in function oct>, 'ord': <built-in function ord>, 'pow': <built-in function pow>, 'print': <built-in function print>, 'repr': <built-in function repr>, 'round': <built-in function round>, 'setattr': <built-in function setattr>, 'sorted': <built-in function sorted>, 'sum': <built-in function sum>, 'vars': <built-in function vars>, 'None': None, 'Ellipsis': Ellipsis, 'NotImplemented': NotImplemented, 'False': False, 'True': True, 'bool': <class 'bool'>, 'memoryview': <class 'memoryview'>, 'bytearray': <class 'bytearray'>, 'bytes': <class 'bytes'>, 'classmethod': <class 'classmethod'>, 'complex': <class 'complex'>, 'dict': <class 'dict'>, 'enumerate': <class 'enumerate'>, 'filter': <class 'filter'>, 'float': <class 'float'>, 'frozenset': <class 'frozenset'>, 'property': <class 'property'>, 'int': <class 'int'>, 'list': <class 'list'>, 'map': <class 'map'>, 'object': <class 'object'>, 'range': <class 'range'>, 'reversed': <class 'reversed'>, 'set': <class 'set'>, 'slice': <class 'slice'>, 'staticmethod': <class 'staticmethod'>, 'str': <class 'str'>, 'super': <class 'super'>, 'tuple': <class 'tuple'>, 'type': <class 'type'>, 'zip': <class 'zip'>, '__debug__': True, 'BaseException': <class 'BaseException'>, 'Exception': <class 'Exception'>, 'TypeError': <class 'TypeError'>, 'StopAsyncIteration': <class 'StopAsyncIteration'>, 'StopIteration': <class 'StopIteration'>, 'GeneratorExit': <class 'GeneratorExit'>, 'SystemExit': <class 'SystemExit'>, 'KeyboardInterrupt': <class 'KeyboardInterrupt'>, 'ImportError': <class 'ImportError'>, 'ModuleNotFoundError': <class 'ModuleNotFoundError'>, 'OSError': <class 'OSError'>, 'EnvironmentError': <class 'OSError'>, 'IOError': <class 'OSError'>, 'EOFError': <class 'EOFError'>, 'RuntimeError': <class 'RuntimeError'>, 'RecursionError': <class 'RecursionError'>, 'NotImplementedError': <class 'NotImplementedError'>, 'NameError': <class 'NameError'>, 'UnboundLocalError': <class 'UnboundLocalError'>, 'AttributeError': <class 'AttributeError'>, 'SyntaxError': <class 'SyntaxError'>, 'IndentationError': <class 'IndentationError'>, 'TabError': <class 'TabError'>, 'LookupError': <class 'LookupError'>, 'IndexError': <class 'IndexError'>, 'KeyError': <class 'KeyError'>, 'ValueError': <class 'ValueError'>, 'UnicodeError': <class 'UnicodeError'>, 'UnicodeEncodeError': <class 'UnicodeEncodeError'>, 'UnicodeDecodeError': <class 'UnicodeDecodeError'>, 'UnicodeTranslateError': <class 'UnicodeTranslateError'>, 'AssertionError': <class 'AssertionError'>, 'ArithmeticError': <class 'ArithmeticError'>, 'FloatingPointError': <class 'FloatingPointError'>, 'OverflowError': <class 'OverflowError'>, 'ZeroDivisionError': <class 'ZeroDivisionError'>, 'SystemError': <class 'SystemError'>, 'ReferenceError': <class 'ReferenceError'>, 'MemoryError': <class 'MemoryError'>, 'BufferError': <class 'BufferError'>, 'Warning': <class 'Warning'>, 'UserWarning': <class 'UserWarning'>, 'DeprecationWarning': <class 'DeprecationWarning'>, 'PendingDeprecationWarning': <class 'PendingDeprecationWarning'>, 'SyntaxWarning': <class 'SyntaxWarning'>, 'RuntimeWarning': <class 'RuntimeWarning'>, 'FutureWarning': <class 'FutureWarning'>, 'ImportWarning': <class 'ImportWarning'>, 'UnicodeWarning': <class 'UnicodeWarning'>, 'BytesWarning': <class 'BytesWarning'>, 'ResourceWarning': <class 'ResourceWarning'>, 'ConnectionError': <class 'ConnectionError'>, 'BlockingIOError': <class 'BlockingIOError'>, 'BrokenPipeError': <class 'BrokenPipeError'>, 'ChildProcessError': <class 'ChildProcessError'>, 'ConnectionAbortedError': <class 'ConnectionAbortedError'>, 'ConnectionRefusedError': <class 'ConnectionRefusedError'>, 'ConnectionResetError': <class 'ConnectionResetError'>, 'FileExistsError': <class 'FileExistsError'>, 'FileNotFoundError': <class 'FileNotFoundError'>, 'IsADirectoryError': <class 'IsADirectoryError'>, 'NotADirectoryError': <class 'NotADirectoryError'>, 'InterruptedError': <class 'InterruptedError'>, 'PermissionError': <class 'PermissionError'>, 'ProcessLookupError': <class 'ProcessLookupError'>, 'TimeoutError': <class 'TimeoutError'>, 'open': <built-in function open>, 'copyright': Copyright (c) 2001-2019 Python Software Foundation.\n",
      "All Rights Reserved.\n",
      "\n",
      "Copyright (c) 2000 BeOpen.com.\n",
      "All Rights Reserved.\n",
      "\n",
      "Copyright (c) 1995-2001 Corporation for National Research Initiatives.\n",
      "All Rights Reserved.\n",
      "\n",
      "Copyright (c) 1991-1995 Stichting Mathematisch Centrum, Amsterdam.\n",
      "All Rights Reserved., 'credits':     Thanks to CWI, CNRI, BeOpen.com, Zope Corporation and a cast of thousands\n",
      "    for supporting Python development.  See www.python.org for more information., 'license': Type license() to see the full license text, 'help': Type help() for interactive help, or help(object) for help about object., '__IPYTHON__': True, 'display': <function display at 0x105d93ef0>, 'get_ipython': <bound method InteractiveShell.get_ipython of <ipykernel.zmqshell.ZMQInteractiveShell object at 0x107fb9710>>}, 'test': <function test at 0x1089a4710>}\n",
      "\n",
      "*** print the variables ***\n",
      "Variable   Type    Data/Info\n",
      "----------------------------\n",
      "g          dict    n=3\n",
      "ns         dict    n=2\n",
      "s          str     \\ndef test():\\n    print(<...>nt(globals())\\n\\ntest()\\n\n"
     ]
    }
   ],
   "source": [
    "s='''\n",
    "def test():\n",
    "    print(hex(id(locals())),__name__)\n",
    "    #exec的代码是以builtins模块下进行运行的\n",
    "    print(globals())\n",
    "\n",
    "test()\n",
    "'''\n",
    "g={'g':666}#传给s的全局名字空间\n",
    "print('入口程序模块：',hex(id(ns)),__name__)\n",
    "\n",
    "exec(s,g)\n",
    "\n",
    "print(\"\\n*** print the variables ***\")\n",
    "%whos"
   ]
  },
  {
   "cell_type": "code",
   "execution_count": 142,
   "metadata": {
    "ExecuteTime": {
     "end_time": "2020-02-12T14:30:22.065857Z",
     "start_time": "2020-02-12T14:30:22.061342Z"
    }
   },
   "outputs": [
    {
     "data": {
      "text/plain": [
       "201"
      ]
     },
     "execution_count": 142,
     "metadata": {},
     "output_type": "execute_result"
    }
   ],
   "source": [
    "#eavl,显示传入容器对象做为动态代码的专用名字空间\n",
    "# Signature: eval(source, globals=None, locals=None, /)\n",
    "# Docstring:\n",
    "# Evaluate the given source in the context of globals and locals.\n",
    "\n",
    "g={\"x\":100}\n",
    "l={\"y\":101}\n",
    "\n",
    "eval(\"x+y\",g,l)"
   ]
  },
  {
   "cell_type": "markdown",
   "metadata": {},
   "source": [
    "## 完成课后作业："
   ]
  },
  {
   "cell_type": "markdown",
   "metadata": {},
   "source": [
    "### 实现能输出指定长度fib数列函数"
   ]
  },
  {
   "cell_type": "code",
   "execution_count": 157,
   "metadata": {
    "ExecuteTime": {
     "end_time": "2020-02-12T14:44:27.269189Z",
     "start_time": "2020-02-12T14:44:27.262650Z"
    }
   },
   "outputs": [
    {
     "name": "stdout",
     "output_type": "stream",
     "text": [
      "Fibonacci sequence: [1, 1, 2, 3, 5, 8, 13, 21, 34, 55, 89, 144, 233, 377, 610, 987, 1597, 2584, 4181, 6765, 10946, 17711, 28657, 46368, 75025, 121393, 196418, 317811, 514229, 832040, 1346269, 2178309, 3524578, 5702887, 9227465, 14930352, 24157817, 39088169, 63245986, 102334155, 165580141, 267914296, 433494437, 701408733, 1134903170, 1836311903, 2971215073, 4807526976, 7778742049, 12586269025]\n"
     ]
    }
   ],
   "source": [
    "def Fib_fun(n):\n",
    "    Fib=[]\n",
    "    if n<=0:\n",
    "        Fib=[]\n",
    "    elif n==1:\n",
    "        Fib=[1]\n",
    "    elif n==2:\n",
    "        Fib=[1,1]\n",
    "    else:\n",
    "        Fib=[1,1]\n",
    "        for idx in range(2,n):\n",
    "            Fib.append(Fib[idx-1]+Fib[idx-2])\n",
    "    return Fib\n",
    "\n",
    "print(\"Fibonacci sequence: {}\".format(Fib_fun(50)))"
   ]
  },
  {
   "cell_type": "markdown",
   "metadata": {},
   "source": [
    "### 定义一个函数，接受任意三个数字的输入，并按顺序从小到大输出"
   ]
  },
  {
   "cell_type": "code",
   "execution_count": 175,
   "metadata": {
    "ExecuteTime": {
     "end_time": "2020-02-12T14:53:03.421356Z",
     "start_time": "2020-02-12T14:53:03.400218Z"
    }
   },
   "outputs": [
    {
     "data": {
      "text/plain": [
       "(1, 2, 3)"
      ]
     },
     "execution_count": 175,
     "metadata": {},
     "output_type": "execute_result"
    },
    {
     "data": {
      "text/plain": [
       "(1, 2, 3)"
      ]
     },
     "execution_count": 175,
     "metadata": {},
     "output_type": "execute_result"
    },
    {
     "data": {
      "text/plain": [
       "(1, 2, 3)"
      ]
     },
     "execution_count": 175,
     "metadata": {},
     "output_type": "execute_result"
    },
    {
     "data": {
      "text/plain": [
       "(1, 2, 3)"
      ]
     },
     "execution_count": 175,
     "metadata": {},
     "output_type": "execute_result"
    },
    {
     "data": {
      "text/plain": [
       "(1, 2, 3)"
      ]
     },
     "execution_count": 175,
     "metadata": {},
     "output_type": "execute_result"
    },
    {
     "data": {
      "text/plain": [
       "(1, 2, 3)"
      ]
     },
     "execution_count": 175,
     "metadata": {},
     "output_type": "execute_result"
    }
   ],
   "source": [
    "def sort3(a, b, c):\n",
    "    if a>b:\n",
    "        a,b=b,a\n",
    "    if a>c:\n",
    "        a,c=c,a\n",
    "    if b>c:\n",
    "        b,c=c,b\n",
    "    return (a,b,c)\n",
    "\n",
    "sort3(1,2,3)\n",
    "sort3(1,3,2)\n",
    "sort3(2,1,3)\n",
    "sort3(2,3,1)\n",
    "sort3(3,1,2)\n",
    "sort3(3,2,1)"
   ]
  },
  {
   "cell_type": "markdown",
   "metadata": {},
   "source": [
    "### 自己实现一个支持可变参数的函数"
   ]
  },
  {
   "cell_type": "code",
   "execution_count": 185,
   "metadata": {
    "ExecuteTime": {
     "end_time": "2020-02-12T15:07:51.736758Z",
     "start_time": "2020-02-12T15:07:51.730213Z"
    }
   },
   "outputs": [
    {
     "name": "stdout",
     "output_type": "stream",
     "text": [
      "name: yangpan\n",
      "age: 24\n",
      "sex: female\n",
      "locations: ('China', 'Beijing')\n",
      "others: {'is_student': False, 'is_marriged': '0'}\n"
     ]
    }
   ],
   "source": [
    "def user_info(name,age,*locations,sex='female',**others):\n",
    "    print(\"name: {}\".format(name))\n",
    "    print(\"age: {}\".format(age))\n",
    "    print(\"sex: {}\".format(sex))\n",
    "    print(\"locations: {}\".format(locations))\n",
    "    print(\"others: {}\".format(others))\n",
    "    \n",
    "user_info('yangpan',24,\"China\",\"Beijing\",is_student=False,sex=\"female\",is_marriged='0')"
   ]
  },
  {
   "cell_type": "markdown",
   "metadata": {},
   "source": [
    "### 要求创建一个函数，它可以接收，位置参数，不定长位置参数，不定长关键词参数，并按要求输出 。\n",
    "- 输入班级名，班级特色（如’勤奋’,’颜值高’ ）等等不同特色，班级不同同学的姓名与年龄。\n",
    "- 要求输出，班级名，班级特色，班级成员，班级成员的平均年龄。"
   ]
  },
  {
   "cell_type": "code",
   "execution_count": 190,
   "metadata": {
    "ExecuteTime": {
     "end_time": "2020-02-12T15:10:19.771372Z",
     "start_time": "2020-02-12T15:10:19.764384Z"
    }
   },
   "outputs": [
    {
     "name": "stdout",
     "output_type": "stream",
     "text": [
      "class name: pek16\n",
      "characters: ('China', '17 persons', 'Students')\n",
      "all persons: ['Carl', 'Tom', 'Perla', 'Nancy']\n",
      "the average age: 19.8\n"
     ]
    }
   ],
   "source": [
    "def class_info(name,*characters,**students):\n",
    "    print(\"class name: {}\".format(name))\n",
    "    print(\"characters: {}\".format(characters))\n",
    "    persons=[]\n",
    "    age_sum=0\n",
    "    for s_name,s_age in students.items():\n",
    "        persons.append(s_name)\n",
    "        age_sum += s_age\n",
    "    print(\"all persons: {}\".format(persons))\n",
    "    print(\"the average age: {}\".format(round(age_sum/len(students), 1)))\n",
    "\n",
    "class_info(\"pek16\",\"China\",\"17 persons\",\"Students\",Carl=19,Tom=21,Perla=20,Nancy=19)"
   ]
  },
  {
   "cell_type": "markdown",
   "metadata": {},
   "source": [
    "### 创建能根据输入计算BMI指数的函数\n",
    "\n",
    "身体质量指数（BMI）是根据人的体重和身高计算得出的一个数字，BMI是可靠的身体肥胖指标，其计算公式：BMI=Weight/High2，其中体重单位为公斤，身高单位为米。\n",
    "\n",
    "- 计算公式为：$BMI=体重（kg）÷身高^2（m）$\n",
    "\n",
    "- 提示用户输入体重（kg）和身高的数字(m)(注意单位），然后计算BMI。\n",
    "\n",
    "- 根据BMI指数范围，定义当前健康状态。BMI指数在18至25之间定义为健康的标准体重,小于该范围定义为偏瘦，超过该范围定义为偏重。\n",
    "\n",
    "- 将BMI指数和其所代表状态输出 "
   ]
  },
  {
   "cell_type": "code",
   "execution_count": 206,
   "metadata": {
    "ExecuteTime": {
     "end_time": "2020-02-12T15:23:40.868575Z",
     "start_time": "2020-02-12T15:23:26.964866Z"
    }
   },
   "outputs": [
    {
     "name": "stdout",
     "output_type": "stream",
     "text": [
      "please input your weight(kg):\n",
      "105\n",
      "please input your high(m):\n",
      "1.83\n",
      "Your BMI is 31.353578787064404, the status is fat\n"
     ]
    }
   ],
   "source": [
    "def get_BMI():\n",
    "    print(\"please input your weight(kg):\")\n",
    "    weight=float(input())\n",
    "    print(\"please input your high(m):\")\n",
    "    high=float(input())\n",
    "    \n",
    "    BMI=weight/(high**2)\n",
    "    status=\"\"\n",
    "    if BMI<18:\n",
    "        status=\"thin\"\n",
    "    elif BMI<=25:\n",
    "        status=\"normal\"\n",
    "    else:\n",
    "        status=\"fat\"\n",
    "    \n",
    "    return BMI,status\n",
    "\n",
    "res,stat=get_BMI()\n",
    "print(\"Your BMI is {}, the status is {}\".format(res, stat))"
   ]
  }
 ],
 "metadata": {
  "kernelspec": {
   "display_name": "Python 2",
   "language": "python",
   "name": "python2"
  },
  "language_info": {
   "codemirror_mode": {
    "name": "ipython",
    "version": 2
   },
   "file_extension": ".py",
   "mimetype": "text/x-python",
   "name": "python",
   "nbconvert_exporter": "python",
   "pygments_lexer": "ipython2",
   "version": "2.7.13"
  },
  "latex_envs": {
   "LaTeX_envs_menu_present": true,
   "autoclose": false,
   "autocomplete": true,
   "bibliofile": "biblio.bib",
   "cite_by": "apalike",
   "current_citInitial": 1,
   "eqLabelWithNumbers": true,
   "eqNumInitial": 1,
   "hotkeys": {
    "equation": "Ctrl-E",
    "itemize": "Ctrl-I"
   },
   "labels_anchors": false,
   "latex_user_defs": false,
   "report_style_numbering": false,
   "user_envs_cfg": false
  },
  "toc": {
   "base_numbering": 1,
   "nav_menu": {},
   "number_sections": true,
   "sideBar": true,
   "skip_h1_title": false,
   "title_cell": "Table of Contents",
   "title_sidebar": "Contents",
   "toc_cell": false,
   "toc_position": {
    "height": "calc(100% - 180px)",
    "left": "10px",
    "top": "150px",
    "width": "273px"
   },
   "toc_section_display": true,
   "toc_window_display": true
  }
 },
 "nbformat": 4,
 "nbformat_minor": 2
}
