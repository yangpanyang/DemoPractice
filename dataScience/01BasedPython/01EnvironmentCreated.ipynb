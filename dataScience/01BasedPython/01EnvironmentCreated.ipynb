{
 "cells": [
  {
   "cell_type": "markdown",
   "metadata": {},
   "source": [
    "<img src='data:image/png;base64,iVBORw0KGgoAAAANSUhEUgAAAMgAAAA3CAYAAABJnAVSAAAAGXRFWHRTb2Z0d2FyZQBBZG9iZSBJbWFnZVJlYWR5ccllPAAAA/JpVFh0WE1MOmNvbS5hZG9iZS54bXAAAAAAADw/eHBhY2tldCBiZWdpbj0i77u/IiBpZD0iVzVNME1wQ2VoaUh6cmVTek5UY3prYzlkIj8+IDx4OnhtcG1ldGEgeG1sbnM6eD0iYWRvYmU6bnM6bWV0YS8iIHg6eG1wdGs9IkFkb2JlIFhNUCBDb3JlIDUuNS1jMDIxIDc5LjE1NTc3MiwgMjAxNC8wMS8xMy0xOTo0NDowMCAgICAgICAgIj4gPHJkZjpSREYgeG1sbnM6cmRmPSJodHRwOi8vd3d3LnczLm9yZy8xOTk5LzAyLzIyLXJkZi1zeW50YXgtbnMjIj4gPHJkZjpEZXNjcmlwdGlvbiByZGY6YWJvdXQ9IiIgeG1sbnM6eG1wTU09Imh0dHA6Ly9ucy5hZG9iZS5jb20veGFwLzEuMC9tbS8iIHhtbG5zOnN0UmVmPSJodHRwOi8vbnMuYWRvYmUuY29tL3hhcC8xLjAvc1R5cGUvUmVzb3VyY2VSZWYjIiB4bWxuczp4bXA9Imh0dHA6Ly9ucy5hZG9iZS5jb20veGFwLzEuMC8iIHhtbG5zOmRjPSJodHRwOi8vcHVybC5vcmcvZGMvZWxlbWVudHMvMS4xLyIgeG1wTU06T3JpZ2luYWxEb2N1bWVudElEPSJ1dWlkOjVEMjA4OTI0OTNCRkRCMTE5MTRBODU5MEQzMTUwOEM4IiB4bXBNTTpEb2N1bWVudElEPSJ4bXAuZGlkOjQxRDMyMjk2OTM4NjExRTc4RDU1RkZFNDg4MUJGODkwIiB4bXBNTTpJbnN0YW5jZUlEPSJ4bXAuaWlkOjQxRDMyMjk1OTM4NjExRTc4RDU1RkZFNDg4MUJGODkwIiB4bXA6Q3JlYXRvclRvb2w9IkFkb2JlIFBob3Rvc2hvcCBDQyAyMDE1IChXaW5kb3dzKSI+IDx4bXBNTTpEZXJpdmVkRnJvbSBzdFJlZjppbnN0YW5jZUlEPSJ4bXAuaWlkOmE5M2Y0MTZmLTQ3NDctODU0Zi04M2RhLWMxNTA3NDczYzVmOCIgc3RSZWY6ZG9jdW1lbnRJRD0ieG1wLmRpZDpkMmEzZGQwYy00ZDA2LTQyNTYtYTM0Mi1hZTYwYzBkZDRkMDIiLz4gPGRjOnRpdGxlPiA8cmRmOkFsdD4gPHJkZjpsaSB4bWw6bGFuZz0ieC1kZWZhdWx0Ij5sb2dvPC9yZGY6bGk+IDwvcmRmOkFsdD4gPC9kYzp0aXRsZT4gPC9yZGY6RGVzY3JpcHRpb24+IDwvcmRmOlJERj4gPC94OnhtcG1ldGE+IDw/eHBhY2tldCBlbmQ9InIiPz4t6NYpAAALjUlEQVR42uxdfaxcRRWfp88CIrWvloQv22SfCYXagjz/qAT+MNxnROWb9zSUaI2mS4xNMBp3Y8QI4WMXChgihvcUBAUh3aiIHyG8jSamiR90/Y6RSBdSygMsskiqbSnt4xz3TN/07Mzcubtz797dzkl+7dt75947d2Z+55w583FHFhYWRJAgQfQyiv+MzA7uCyxsCpUYJD15SyiCIEFiLIgDiT4GuBiwEvAq4B+A7YDfAV4a5AIoFovyzwJBSj00D62MAVS7XQM0B/VlZmZmeiLIuwEPAc63pMHC+a2CPwEODGBZTQEqyu+RDJ65iRpcFtICzHrKc4URJCti7lDKCxXYpM37Vv6eVBReBJiT9wAF2aQ23MD/gTBNV4KcCXgCcGpMxqXmvYp+76WHoXX5DeD3gOeC4jWSMsroWXUPBMHGWVJ+z2ZoPbgyqSa4tmA4Hhk8iioQpWwjyDix7JQuXuQ4wHkEKS8QURBPkpXZ3UNhnQBYCnh+iMjSTKGxFSyNQ5UJZhVsBBlj1815yutkAmLWHVzgpvLuY+z4LJ2LLOVhtCDHA37cJTlMcjLgEoIUbNx/AfwZ8Ecyn88C/s2uRVfnRMAZgHWADxJWD5k1mU2oFV2klKDhd2PJJnJsPVSCFNjxokaJTCh/N2wEeQCwNoOXPpVwITv+OuC/gH1E1qWaa+8f9OBADq1XOYEGb6VAZp/WQzBrXNBY1IJCOm5payaCfBpwRZ8rawnBJPsBN4Y27Z0gtga/nf2etjTSCaXh+XAbXa1HiREiYn2NhYSk7CDIKLkylwKeAbwG+I9ywTsAywCrKAOnA9aQq7Mkw8q8g9yxINnIDHOlyjEavKI0znKPlkYXFKhbnttr369B1rGpI8gbgFsNN2nFaHzsG6wHnCvaIeHTUqos7NxfH9psZrJJdI55VDN8fsViPUoxDX6MEXtWcZ1asp/R6ziIi7xOJhjxTTo2TlGJDwMuIOvTq2DUa4pcrLxLxDqxgziYNkHWQyjatZjh8wuMnGpImY9Z1YR+3GqBpUk8+Dua0svtINxDFgZDvh8BXCbcwo5cXqLO/NM5bPwFpcNniuo0HAhS6cFNSKNjPMc8iGKMJ+FbuIWoKnmb0eTNhfC5IQi3ML8k/EC0x0GSzAH7BWmSrMc8So6Nfxhljrk2ZaGEPvtgPepKXZRY3mzEbfRab6MZvvTbAPc6kuMg4G7AI6I9Gt+TFItFtYFzzS+EfgwgiTaXfm9LaUgN1vGLE9VH9iVTrKF10ymvCj9TVHqxHpGhjqoxZdZiFsTUPmTkTQ391nDaSZYE+RLgbMe01wFu8fFQePk50dt0Dh+N3/U5vidIJtWevFPeEPbxkSysh6284gIGDeYSl7ibTMrT6BZnRRCMan01gUuVlS/O4/QqkZZn7HPnoW81Y9HAWUlL6KedVBjhVddKjpWonkKkIZ5ruzqs+LIiyM2AtzukexGwUSQb1IkTNXpxWPOD+WyRhVHNetTnxtEvwcazNaHbY7uXsLiupjpqKuVe11g27vbVmVuYROrs/8MegmwXWfZB8MWuTmDid/t8OLzwrAhikzEiR9y0+26seuRIEluUj2v+hsW1Uj2CuugcaJzk5FPHQbAvggoTjjWyJMjXhdvaCoxw/TS018yFuy4tkd0aFdegQVzUaqQXy0f9kBLhiHUmaS+5xYL/qEO6PdSJD5K9yImKZWp8pnDuiCNUDV3u4hreuCN2v6ThZmskC8iB999uIlLaFuQrjtbjJtFeM3K0a/J+DBRyd2UqJ+UxkcC1inPfIkuZl2yBiTQtCK5fv9ghHY643xkUeRBNv4gTZsGAKMZC8qDBhMFqVAUblU/Tgmx2vD9mcv8QVvIcuQ7VmE6sGsnxPVrt2knOm8hZDL5cSH7visZqTIvFafK1tAmC8682OqTD2bk/GlINKBsnRubGY8ghtVca0zkGkSBJJxY2HPsgOoWBzypieFcOKsP/ZfhdTZMguE3QCod0Nwi/Yx55EbUzWHBII0S2c53yLj7LomkhDhKjpqmrCpAEx0TqafVBPuWQ5inAT47iRqASJOzB1X0Z2tyxMWEO806LznlcHfdJgyC46vBCh3S3Aw4NcSczToMFgnRXrhhlw7GRHdTRrhgIElGayNJHnAFLYe3rpOFiXSTaM3dtgkt5HxriiizEEKTgkCbIoiKJEgYcdOHbOpWzOhHy/5MzgSQ426KcFUEuc0iDo+b/C+5VsCCW8pkiFCx9CLnDSUNRPFtF58yAqliMJtZE5wDkJmEY//FNELQckw7p7h2ASoo8EaDpcL41ROUwxiyl6/XqcoLI0HdoKKSoa8qUL/SSy4QbTBnVxeKyXd3mcjI/3gmCmzbErT//pxiMiI2vHQPjCNKr9dgq0h397qUc+PoSm+j22m0xQjRjiMlXQdrGoGoEudfwEQSRExZ9d9JdrEdNBIk89j+GcbZyjdoSrsmZFsn2AMZ07xeO01Jotvc4EaqVtot1vkOaH+a0Uqoiuy1tyh4VRl24rfprJWicdeWayT7URTcbzjUor4lXedIakCp01mvcGo/gJ9g8fWEKR8/x2yHHWdLgWo+ThMfwbvjCVJA0xaeLdVYMOaS2OxSKPcjRSJBzHNL8KhR5kKOVIO9zSPNkKPIggyQ+O+lrYs7jwODfsnw5ZUOGIEESC65X90mQM2LO/1W0N8jOi6BLiNGflwGfY+dwsdcW+nuanfss4EOAR0V7RoAquDM+foruDyJ+deCxoj1gioOr1wLmlXNlyt+DgMcMz7DJ10T7Q6uqbKH3UuUAKa3vA3Zp7tNtObgKfinsC4D3Gs7r6gZlHR1fzo7jLp4/BzysueYqKrsXqLz5LHL8Fg1ulXsM4C7ANp8WBCcovismzdM5UxD41SsM6e3UnHunMA++nUPndJ9gWE3nXLY42kfAisOZzdcp+cId7HF3yc2WZ9jkLs0xbMymDyPhnmUfEO0vfvkoB1e5D3Cl5byubnAZxa8pbzrZQI3/EXZ8rfIuqBS+zc7jN2fk7juP+u6DrHJIE77p0Sk3k1W9RixGAFEzYsgcZ6zavqKFmtK0CcI2y3UblHTHkAZHQt/Qh/c/XZMnFasMik2Sg6eXluysmOfeJo78xOB6gzLyRpCVDmmeCXzQKo2HSSteTSS5hizLbRk8H12S7yYIsgyD7CeCfYt+ozL6DuCtVB6pdNJdCLI78EErN5EGvZa04AqqvPlQNKnIY+SmXkIu1xoCfrj2PdwN9UWQkx3SvBLqRitPkb+MfZFbSIu5bP+zVnRuuYkk2xuK1CoYmPiMaH814G6yJjjV5POAx9OyIMsd0rRC3VityCeoHHHiz3OOVptPtPlyIIiT4HjcNwBfVPp982n2QWxbVWJ493LSlP2QpZS/JTmusL+LxTCr6/arTxChVLwW2r6zlJRyu8+UyBdBTtAcw9mYHxftb4Kgf9ev3Uu2kXt35YBUnGs5HSCrrGIhtHtnOehSbqMpEGQv+dJbgrkfCJHjV3tCUaRHEGmJ5sgvfjZH7yjXvqOPv045Pq5oEi4qsXmHeT39b5uVvNrS0b7HU/l0+wy1HLD+L6W/7/dcDpi/jaK9BMKUz0OGupGiu/YNS57OZnWeG4Jg3H4zRQXyZubx2+8Y67+IwMlzo+YaHPV/APBJoV8bjee/Z3nmuDDvx/QzTwTp9hm8HLDfglsw3eG5HGT+dloIgl7GjKFuhOFa7MvijjgbLHl60Ffj8bVg6kTRp3EO24IpZbIijhjjyCnfaf7FGG2DHbhlGt9/3mB5lon4iN48KRQuK0lhxeWp22ecpglUHKTgwMGY+yUtBxQcnT+JNP5Oy72PFUeOanNrYbp2BQVgeJ6eN1g1+Q7oSv7LcE9ZRnh+j8/JinkfBMTR025G8l8RycZvXiV0IztTfsauHsovaTlI6+yybHaf6G5d/ssEn++wS2tBggQJopc3BRgAwJ3rAYBh9WEAAAAASUVORK5CYII='>\n",
    "\n",
    "\n",
    "# 七月在线 《Python基础入门 第三期》 第一课 Python入门及环境搭建\n",
    "\n",
    "\n",
    "> [七月在线](https://www.julyedu.com) David@2018-12-01 "
   ]
  },
  {
   "cell_type": "markdown",
   "metadata": {},
   "source": [
    "## 《Python基础入门 第三期》课程总体介绍\n",
    "\n",
    "> 课程分集   \n",
    "> 课程时间   \n",
    "> 课程环境   "
   ]
  },
  {
   "cell_type": "markdown",
   "metadata": {},
   "source": [
    "## 本节课程目标\n",
    "### Anaconda Jupyter Lab环境配置，安装及使用\n",
    "### Python简介，解释执行，运行方式\n",
    "### Python内置及三方库的管理及使用\n",
    "### 如何更好得获得帮助\n",
    "\n",
    "### 课后作业："
   ]
  },
  {
   "cell_type": "markdown",
   "metadata": {
    "ExecuteTime": {
     "end_time": "2018-12-08T12:08:53.667987Z",
     "start_time": "2018-12-08T12:08:53.621975Z"
    }
   },
   "source": [
    "## Anaconda Jupyter Lab环境配置，安装及使用\n",
    "\n",
    "### 简单介绍 \n",
    "\n",
    "![](http://jupyter.org/assets/main-logo.svg)\n",
    "\n",
    "\n",
    "\n",
    "### 推荐:正常安装及启动\n",
    "- [清华镜像下载](https://mirrors.tuna.tsinghua.edu.cn/anaconda/archive/),安装\n",
    "- 命令行启动`jupyter notebook`或点击快捷图标方式启动\n",
    "\n",
    "\n",
    "### Google免费Notebook CoLab\n",
    "https://colab.research.google.com/notebooks/welcome.ipynb#scrollTo=-Rh3-Vt9Nev9\n",
    "\n",
    "https://research.google.com/colaboratory/faq.html\n",
    "\n",
    ">**Jupyter 和 Colaboratory 有什么区别？**   \n",
    "Jupyter 是一个开放源代码项目，而 Colaboratory 是在 Jupyter 基础之上开发的。通过 Colaboratory，您可以使用 Jupyter 笔记本并与他人共享，完全不需要在您自己的计算机上下载、安装或运行任何内容，只要有浏览器就可以使用。\n",
    "\n",
    "\n",
    "### Docker方式安装及启动\n",
    "\n",
    "- 安装Docker on Win/Mac/Linux   \n",
    "- 拉取镜像:`docker pull jupyter/datascience-notebook   `\n",
    "- 启动容器 `docker run -p 8888:8888 jupyter/datascience-notebook   `\n",
    "\n",
    "### 其它Python IDE\n",
    "VSCODE,SPYDER,PYCHARME\n",
    "\n",
    "\n",
    "### Notebook使用,and [More...](https://mybinder.org/v2/gh/ipython/ipython-in-depth/master?filepath=binder/Index.ipynb)\n",
    "- 目录\n",
    "- 文件新建及导入导出\n",
    "- 菜单\n",
    "- 快捷键 [esc+h]\n",
    "\n",
    "\n",
    "### Notebook中[Cell](https://ipython.org/ipython-doc/3/notebook/nbformat.html)详解\n",
    "\n",
    "* Python\n",
    "* Markdown\n",
    "\n"
   ]
  },
  {
   "cell_type": "markdown",
   "metadata": {},
   "source": [
    "#### Latex in markdown cell\n",
    "\n",
    "LaTeX实现的原理类似于HTML，Notebook中的Markdown格式解释器中内置Latex渲染器，可以将由\\$与\\$包裹的内容进行渲染并产生最终效果。"
   ]
  },
  {
   "cell_type": "markdown",
   "metadata": {},
   "source": [
    "$\\int_a^bf(x)dx$"
   ]
  },
  {
   "cell_type": "markdown",
   "metadata": {},
   "source": [
    "##### 希腊字母   \n",
    "|希腊字母小写/大写|LaTeX形式|希腊字母小写/大写|LaTeX形式|\n",
    "|:---|:---|:---|:---|\n",
    "|α A|\\alpha A\t|μ N|\t\\mu N|\n",
    "|β B|\\beta B|ξ Ξ|\\xi \\Xi|\n",
    "|γ Γ\t|\\gamma \\Gamma\t|o O|o O|\n",
    "|δ Δ\t|\\delta \\ Delta\t|π Π|\t\\pi \\Pi|\n",
    "|ϵ ε E\t|\\epsilon \\varepsilon E\t|ρ ϱ P\t|\\rho \\varrho P|\n",
    "|ζ Z\t|\\zeta Z\t|σ Σ|\t\\sigma \\Sigma|\n",
    "|η H\t|\\eta H\t|τ T\t|\\tau T|\n",
    "|θ ϑ Θ\t|\\theta \\vartheta \\Theta|\tυ Υ|\t\\upsilon \\Upsilon|\n",
    "|ι I\t|\\iota I\t|ϕ φ Φ|\t\\phi \\varphi \\Phi|\n",
    "|κ K\t|\\kappa K\t|χ X\t|\\chi X|\n",
    "|λ Λ\t|\\lambda \\Lambda\t|ψ Ψ|\t\\psi \\Psi|\n",
    "\n",
    "##### 不同字体\n",
    "mathbb:$\\mathbb{ABCDEFGHIJKLMNOPQRSTUVWXYZ,abcdefghijklmnopqrstuvwxyz}$   \n",
    "mathscr:$\\mathscr{ABCDEFGHIJKLMNOPQRSTUVWXYZ,abcdefghijklmnopqrstuvwxyz}$   \n",
    "mathcal:$\\mathcal{ABCDEFGHIJKLMNOPQRSTUVWXYZ,abcdefghijklmnopqrstuvwxyz}$   \n",
    "mathbf:$\\mathbf{ABCDEFGHIJKLMNOPQRSTUVWXYZ,abcdefghijklmnopqrstuvwxyz}$\n",
    "\n",
    "##### 取消默认斜体\n",
    "默认倾斜：$ x_{z}$   \n",
    "取消默认倾斜$\\rm x_{z}$\n",
    "##### 特殊符号\n",
    "$\\bigcap_{i=1}^{n} \\bigcup_{i=1}^n  \\binom{5}{3}$   \n",
    "$\\forall$- 全称量词,表示任意的，$\\exists$- 存在量词,表示存在/至少一个   \n",
    "$\\partial$ 偏导符号， $\\propto$ 正比符号，$\\mathop{\\lim}_{n \\to \\infty }f(x)$无穷符号及极限\n",
    "\n",
    "##### 简单公式\n",
    ">$y=x^2$\n",
    "\n",
    ">$e^{i\\pi} + 1 = 0$\n",
    "\n",
    ">$e^x=\\sum_{i=0}^\\infty \\frac{1}{i!}x^i$\n",
    "\n",
    ">独占一行：$$\\frac{n!}{k!(n-k)!} = {n \\choose k}$$\n",
    "\n",
    "##### 矩阵\n",
    "$A_{m,n} =\n",
    " \\begin{pmatrix}\n",
    "  a_{1,1} & a_{1,2} & \\cdots & a_{1,n} \\\\\n",
    "  a_{2,1} & a_{2,2} & \\cdots & a_{2,n} \\\\\n",
    "  \\vdots  & \\vdots  & \\ddots & \\vdots  \\\\\n",
    "  a_{m,1} & a_{m,2} & \\cdots & a_{m,n}\n",
    " \\end{pmatrix}$"
   ]
  },
  {
   "cell_type": "markdown",
   "metadata": {},
   "source": [
    "### Notebook中的Magic开关"
   ]
  },
  {
   "cell_type": "markdown",
   "metadata": {},
   "source": [
    "- 为实现一些快捷操作，提升效率。Notebook中提供了Magic开关，能极大得优化我们使用Notebook的体验。\n",
    "- Magic 开关分为两大类：%line magic & %%cell magic"
   ]
  },
  {
   "cell_type": "markdown",
   "metadata": {},
   "source": [
    "##### Magic开关总览"
   ]
  },
  {
   "cell_type": "code",
   "execution_count": 1,
   "metadata": {
    "ExecuteTime": {
     "end_time": "2018-12-01T12:56:43.666459Z",
     "start_time": "2018-12-01T12:56:43.624464Z"
    }
   },
   "outputs": [
    {
     "data": {
      "application/json": {
       "cell": {
        "!": "OSMagics",
        "HTML": "Other",
        "SVG": "Other",
        "bash": "Other",
        "capture": "ExecutionMagics",
        "debug": "ExecutionMagics",
        "file": "Other",
        "html": "DisplayMagics",
        "javascript": "DisplayMagics",
        "js": "DisplayMagics",
        "latex": "DisplayMagics",
        "markdown": "DisplayMagics",
        "perl": "Other",
        "prun": "ExecutionMagics",
        "pypy": "Other",
        "python": "Other",
        "python2": "Other",
        "python3": "Other",
        "ruby": "Other",
        "script": "ScriptMagics",
        "sh": "Other",
        "svg": "DisplayMagics",
        "sx": "OSMagics",
        "system": "OSMagics",
        "time": "ExecutionMagics",
        "timeit": "ExecutionMagics",
        "writefile": "OSMagics"
       },
       "line": {
        "alias": "OSMagics",
        "alias_magic": "BasicMagics",
        "autoawait": "AsyncMagics",
        "autocall": "AutoMagics",
        "automagic": "AutoMagics",
        "autosave": "KernelMagics",
        "bookmark": "OSMagics",
        "cat": "Other",
        "cd": "OSMagics",
        "clear": "KernelMagics",
        "colors": "BasicMagics",
        "conda": "PackagingMagics",
        "config": "ConfigMagics",
        "connect_info": "KernelMagics",
        "cp": "Other",
        "debug": "ExecutionMagics",
        "dhist": "OSMagics",
        "dirs": "OSMagics",
        "doctest_mode": "BasicMagics",
        "ed": "Other",
        "edit": "KernelMagics",
        "env": "OSMagics",
        "gui": "BasicMagics",
        "hist": "Other",
        "history": "HistoryMagics",
        "killbgscripts": "ScriptMagics",
        "ldir": "Other",
        "less": "KernelMagics",
        "lf": "Other",
        "lk": "Other",
        "ll": "Other",
        "load": "CodeMagics",
        "load_ext": "ExtensionMagics",
        "loadpy": "CodeMagics",
        "logoff": "LoggingMagics",
        "logon": "LoggingMagics",
        "logstart": "LoggingMagics",
        "logstate": "LoggingMagics",
        "logstop": "LoggingMagics",
        "ls": "Other",
        "lsmagic": "BasicMagics",
        "lx": "Other",
        "macro": "ExecutionMagics",
        "magic": "BasicMagics",
        "man": "KernelMagics",
        "matplotlib": "PylabMagics",
        "mkdir": "Other",
        "more": "KernelMagics",
        "mv": "Other",
        "notebook": "BasicMagics",
        "page": "BasicMagics",
        "pastebin": "CodeMagics",
        "pdb": "ExecutionMagics",
        "pdef": "NamespaceMagics",
        "pdoc": "NamespaceMagics",
        "pfile": "NamespaceMagics",
        "pinfo": "NamespaceMagics",
        "pinfo2": "NamespaceMagics",
        "pip": "PackagingMagics",
        "popd": "OSMagics",
        "pprint": "BasicMagics",
        "precision": "BasicMagics",
        "prun": "ExecutionMagics",
        "psearch": "NamespaceMagics",
        "psource": "NamespaceMagics",
        "pushd": "OSMagics",
        "pwd": "OSMagics",
        "pycat": "OSMagics",
        "pylab": "PylabMagics",
        "qtconsole": "KernelMagics",
        "quickref": "BasicMagics",
        "recall": "HistoryMagics",
        "rehashx": "OSMagics",
        "reload_ext": "ExtensionMagics",
        "rep": "Other",
        "rerun": "HistoryMagics",
        "reset": "NamespaceMagics",
        "reset_selective": "NamespaceMagics",
        "rm": "Other",
        "rmdir": "Other",
        "run": "ExecutionMagics",
        "save": "CodeMagics",
        "sc": "OSMagics",
        "set_env": "OSMagics",
        "store": "StoreMagics",
        "sx": "OSMagics",
        "system": "OSMagics",
        "tb": "ExecutionMagics",
        "time": "ExecutionMagics",
        "timeit": "ExecutionMagics",
        "unalias": "OSMagics",
        "unload_ext": "ExtensionMagics",
        "who": "NamespaceMagics",
        "who_ls": "NamespaceMagics",
        "whos": "NamespaceMagics",
        "xdel": "NamespaceMagics",
        "xmode": "BasicMagics"
       }
      },
      "text/plain": [
       "Available line magics:\n",
       "%alias  %alias_magic  %autoawait  %autocall  %automagic  %autosave  %bookmark  %cat  %cd  %clear  %colors  %conda  %config  %connect_info  %cp  %debug  %dhist  %dirs  %doctest_mode  %ed  %edit  %env  %gui  %hist  %history  %killbgscripts  %ldir  %less  %lf  %lk  %ll  %load  %load_ext  %loadpy  %logoff  %logon  %logstart  %logstate  %logstop  %ls  %lsmagic  %lx  %macro  %magic  %man  %matplotlib  %mkdir  %more  %mv  %notebook  %page  %pastebin  %pdb  %pdef  %pdoc  %pfile  %pinfo  %pinfo2  %pip  %popd  %pprint  %precision  %prun  %psearch  %psource  %pushd  %pwd  %pycat  %pylab  %qtconsole  %quickref  %recall  %rehashx  %reload_ext  %rep  %rerun  %reset  %reset_selective  %rm  %rmdir  %run  %save  %sc  %set_env  %store  %sx  %system  %tb  %time  %timeit  %unalias  %unload_ext  %who  %who_ls  %whos  %xdel  %xmode\n",
       "\n",
       "Available cell magics:\n",
       "%%!  %%HTML  %%SVG  %%bash  %%capture  %%debug  %%file  %%html  %%javascript  %%js  %%latex  %%markdown  %%perl  %%prun  %%pypy  %%python  %%python2  %%python3  %%ruby  %%script  %%sh  %%svg  %%sx  %%system  %%time  %%timeit  %%writefile\n",
       "\n",
       "Automagic is ON, % prefix IS NOT needed for line magics."
      ]
     },
     "execution_count": 1,
     "metadata": {},
     "output_type": "execute_result"
    }
   ],
   "source": [
    "%lsmagic"
   ]
  },
  {
   "cell_type": "code",
   "execution_count": 2,
   "metadata": {
    "ExecuteTime": {
     "end_time": "2018-12-08T12:10:18.839425Z",
     "start_time": "2018-12-08T12:10:18.834394Z"
    },
    "collapsed": true
   },
   "outputs": [],
   "source": [
    "%quickref"
   ]
  },
  {
   "cell_type": "markdown",
   "metadata": {},
   "source": [
    "##### Line Magic"
   ]
  },
  {
   "cell_type": "code",
   "execution_count": 4,
   "metadata": {
    "ExecuteTime": {
     "end_time": "2018-12-08T12:12:13.713485Z",
     "start_time": "2018-12-08T12:12:13.700489Z"
    },
    "collapsed": true
   },
   "outputs": [],
   "source": [
    "%config ZMQInteractiveShell.ast_node_interactivity='all'"
   ]
  },
  {
   "cell_type": "code",
   "execution_count": 5,
   "metadata": {
    "ExecuteTime": {
     "end_time": "2018-12-08T12:12:18.366175Z",
     "start_time": "2018-12-08T12:12:18.351192Z"
    }
   },
   "outputs": [
    {
     "data": {
      "text/plain": [
       "'julyedu.com'"
      ]
     },
     "execution_count": 5,
     "metadata": {},
     "output_type": "execute_result"
    },
    {
     "data": {
      "text/plain": [
       "5"
      ]
     },
     "execution_count": 5,
     "metadata": {},
     "output_type": "execute_result"
    }
   ],
   "source": [
    "a='julyedu.com'\n",
    "b=5\n",
    "def myfun1():\n",
    "    pass\n",
    "a\n",
    "b"
   ]
  },
  {
   "cell_type": "code",
   "execution_count": 7,
   "metadata": {
    "ExecuteTime": {
     "end_time": "2018-12-08T12:12:24.473188Z",
     "start_time": "2018-12-08T12:12:24.464189Z"
    }
   },
   "outputs": [
    {
     "name": "stdout",
     "output_type": "stream",
     "text": [
      "Interactive namespace is empty.\n"
     ]
    }
   ],
   "source": [
    "%whos"
   ]
  },
  {
   "cell_type": "code",
   "execution_count": 6,
   "metadata": {
    "ExecuteTime": {
     "end_time": "2018-12-01T13:02:05.660341Z",
     "start_time": "2018-12-01T13:02:04.094560Z"
    }
   },
   "outputs": [
    {
     "name": "stdout",
     "output_type": "stream",
     "text": [
      "Once deleted, variables cannot be recovered. Proceed (y/[n])? y\n"
     ]
    },
    {
     "name": "stderr",
     "output_type": "stream",
     "text": [
      "ERROR:root:Invalid alias: The name clear can't be aliased because it is another magic command.\n",
      "ERROR:root:Invalid alias: The name more can't be aliased because it is another magic command.\n",
      "ERROR:root:Invalid alias: The name less can't be aliased because it is another magic command.\n",
      "ERROR:root:Invalid alias: The name man can't be aliased because it is another magic command.\n"
     ]
    }
   ],
   "source": [
    "%reset"
   ]
  },
  {
   "cell_type": "markdown",
   "metadata": {},
   "source": [
    "##### Cell Magic"
   ]
  },
  {
   "cell_type": "code",
   "execution_count": 9,
   "metadata": {
    "ExecuteTime": {
     "end_time": "2018-12-01T13:03:44.957678Z",
     "start_time": "2018-12-01T13:03:42.123709Z"
    }
   },
   "outputs": [
    {
     "name": "stdout",
     "output_type": "stream",
     "text": [
      "1.95 µs ± 19.2 ns per loop (mean ± std. dev. of 7 runs, 100000 loops each)\n"
     ]
    }
   ],
   "source": [
    "%%timeit 50\n",
    "for item in range(100):\n",
    "    a=item\n",
    "    del a"
   ]
  },
  {
   "cell_type": "code",
   "execution_count": 12,
   "metadata": {
    "ExecuteTime": {
     "end_time": "2018-12-01T13:05:12.686198Z",
     "start_time": "2018-12-01T13:05:12.665199Z"
    }
   },
   "outputs": [
    {
     "name": "stdout",
     "output_type": "stream",
     "text": [
      "CPU times: user 13.4 ms, sys: 207 µs, total: 13.6 ms\n",
      "Wall time: 13.6 ms\n"
     ]
    }
   ],
   "source": [
    "%%time \n",
    "for item in range(100000):\n",
    "    a=item\n",
    "    del a"
   ]
  },
  {
   "cell_type": "code",
   "execution_count": 13,
   "metadata": {
    "ExecuteTime": {
     "end_time": "2018-12-01T13:06:15.525400Z",
     "start_time": "2018-12-01T13:06:15.519429Z"
    }
   },
   "outputs": [
    {
     "data": {
      "image/svg+xml": [
       "<svg height=\"200\" viewBox=\"0 0 450 400\" width=\"500\" xmlns=\"http://www.w3.org/2000/svg\">\n",
       "  <rect height=\"250\" rx=\"20\" style=\"fill:red; stroke:black; fill-opacity:0.7\" width=\"250\" x=\"80\" y=\"60\"/>\n",
       "  <rect height=\"250\" rx=\"40\" style=\"fill:blue; stroke:black; fill-opacity:0.5;\" width=\"250\" x=\"280\" y=\"110\"/>\n",
       "</svg>"
      ],
      "text/plain": [
       "<IPython.core.display.SVG object>"
      ]
     },
     "metadata": {},
     "output_type": "display_data"
    }
   ],
   "source": [
    "%%SVG\n",
    "<svg xmlns=\"http://www.w3.org/2000/svg\" viewBox=\"0 0 450 400\" width=\"500\" height=\"200\">\n",
    "  <rect x=\"80\" y=\"60\" width=\"250\" height=\"250\" rx=\"20\" style=\"fill:red; stroke:black; fill-opacity:0.7\" />\n",
    "  <rect x=\"280\" y=\"110\" width=\"250\" height=\"250\" rx=\"40\" style=\"fill:blue; stroke:black; fill-opacity:0.5;\" />\n",
    "</svg>"
   ]
  },
  {
   "cell_type": "code",
   "execution_count": 14,
   "metadata": {
    "ExecuteTime": {
     "end_time": "2018-12-01T13:07:10.076628Z",
     "start_time": "2018-12-01T13:07:10.069664Z"
    }
   },
   "outputs": [
    {
     "data": {
      "application/javascript": [
       "\n",
       "alert(\"hey\");\n"
      ],
      "text/plain": [
       "<IPython.core.display.Javascript object>"
      ]
     },
     "metadata": {},
     "output_type": "display_data"
    }
   ],
   "source": [
    "%%javascript\n",
    "\n",
    "alert(\"hey\");"
   ]
  },
  {
   "cell_type": "code",
   "execution_count": 15,
   "metadata": {
    "ExecuteTime": {
     "end_time": "2018-12-01T13:07:37.831311Z",
     "start_time": "2018-12-01T13:07:37.821315Z"
    }
   },
   "outputs": [
    {
     "data": {
      "text/html": [
       "<table>\n",
       "<tr>\n",
       "<th>Header 1</th>\n",
       "<th>Header 2</th>\n",
       "</tr>\n",
       "<tr>\n",
       "<td>row 1, cell 1</td>\n",
       "<td>row 1, cell 2</td>\n",
       "</tr>\n",
       "<tr>\n",
       "<td>row 2, cell 1</td>\n",
       "<td>row 2, cell 2</td>\n",
       "</tr>\n",
       "</table>\n",
       "<marquee style='width: 30%; color: blue;'><b>Hey There!!!</b></marquee>\n"
      ],
      "text/plain": [
       "<IPython.core.display.HTML object>"
      ]
     },
     "metadata": {},
     "output_type": "display_data"
    }
   ],
   "source": [
    "%%html\n",
    "<table>\n",
    "<tr>\n",
    "<th>Header 1</th>\n",
    "<th>Header 2</th>\n",
    "</tr>\n",
    "<tr>\n",
    "<td>row 1, cell 1</td>\n",
    "<td>row 1, cell 2</td>\n",
    "</tr>\n",
    "<tr>\n",
    "<td>row 2, cell 1</td>\n",
    "<td>row 2, cell 2</td>\n",
    "</tr>\n",
    "</table>\n",
    "<marquee style='width: 30%; color: blue;'><b>Hey There!!!</b></marquee>"
   ]
  },
  {
   "cell_type": "code",
   "execution_count": 16,
   "metadata": {
    "ExecuteTime": {
     "end_time": "2018-12-01T13:08:03.603954Z",
     "start_time": "2018-12-01T13:08:03.580955Z"
    }
   },
   "outputs": [
    {
     "data": {
      "text/plain": [
       "['zsh:1: command not found: dir']"
      ]
     },
     "execution_count": 16,
     "metadata": {},
     "output_type": "execute_result"
    }
   ],
   "source": [
    "%%system\n",
    "dir"
   ]
  },
  {
   "cell_type": "code",
   "execution_count": 17,
   "metadata": {
    "ExecuteTime": {
     "end_time": "2018-12-01T13:08:34.085581Z",
     "start_time": "2018-12-01T13:08:34.063611Z"
    }
   },
   "outputs": [
    {
     "name": "stdout",
     "output_type": "stream",
     "text": [
      "/bin/sh: dir: command not found\r\n"
     ]
    }
   ],
   "source": [
    "!dir"
   ]
  },
  {
   "cell_type": "code",
   "execution_count": 25,
   "metadata": {
    "ExecuteTime": {
     "end_time": "2018-12-08T12:13:10.498800Z",
     "start_time": "2018-12-08T12:13:09.671800Z"
    }
   },
   "outputs": [
    {
     "data": {
      "text/plain": [
       "[<matplotlib.lines.Line2D at 0x112e348d0>]"
      ]
     },
     "execution_count": 25,
     "metadata": {},
     "output_type": "execute_result"
    },
    {
     "data": {
      "text/plain": [
       "<matplotlib.collections.PolyCollection at 0x112f4ff90>"
      ]
     },
     "execution_count": 25,
     "metadata": {},
     "output_type": "execute_result"
    },
    {
     "data": {
      "text/plain": [
       "Text(0.5, 1.0, 'Fills and Alpha Example')"
      ]
     },
     "execution_count": 25,
     "metadata": {},
     "output_type": "execute_result"
    },
    {
     "data": {
      "image/png": "[encoded data removed]",
      "text/plain": [
       "<Figure size 432x288 with 1 Axes>"
      ]
     },
     "metadata": {
      "needs_background": "light"
     },
     "output_type": "display_data"
    }
   ],
   "source": [
    "%matplotlib inline\n",
    "import numpy as np\n",
    "from matplotlib import pyplot as plt\n",
    "\n",
    "ys = 200 + np.random.randn(100)\n",
    "x = [x for x in range(len(ys))]\n",
    "\n",
    "plt.plot(x, ys, '-')\n",
    "plt.fill_between(x, ys, 195, where=(ys > 195), facecolor='g', alpha=0.6)\n",
    "\n",
    "plt.title(\"Fills and Alpha Example\")\n",
    "plt.show()"
   ]
  },
  {
   "cell_type": "code",
   "execution_count": 26,
   "metadata": {},
   "outputs": [
    {
     "name": "stdout",
     "output_type": "stream",
     "text": [
      "Using matplotlib backend: MacOSX\n"
     ]
    }
   ],
   "source": [
    "%matplotlib"
   ]
  },
  {
   "cell_type": "markdown",
   "metadata": {},
   "source": [
    "### Jupyter notebook扩展"
   ]
  },
  {
   "cell_type": "markdown",
   "metadata": {},
   "source": [
    "##### Jupyter Lab\n",
    "\n",
    "\n",
    "##### Jupyter notebook功能扩展Nbextensions   \n",
    "`python -m pip install jupyter_contrib_nbextensions`   \n",
    "`jupyter-contrib-nbextension install --user --skip-running-check  `\n",
    "\n",
    "##### 添加对R语言的支持\n",
    "\n",
    "在安装完R后，进行`conda install -c r r-essentials`，再新建notebook测试\n",
    "\n",
    "\n",
    "##### 添加对Julia语言的支持\n",
    "\n",
    "先安装Julia,运行Julia，`using Pkg;Pkg.add('IJulia');using IJulia;notebook()`即可\n",
    "\n",
    "##### 添加对C的支持\n",
    "`conda install -c QuantStack -c conda-forge xeus-cling`   ,[Try it Online ](https://hub.mybinder.org/user/quantstack-xeus-cling-vb1jmxpx/notebooks/notebooks/xcpp.ipynb)\n"
   ]
  },
  {
   "cell_type": "code",
   "execution_count": 1,
   "metadata": {
    "ExecuteTime": {
     "end_time": "2020-02-06T16:01:33.115729Z",
     "start_time": "2020-02-06T16:01:33.108974Z"
    }
   },
   "outputs": [
    {
     "name": "stdout",
     "output_type": "stream",
     "text": [
      "Writing a.py\n"
     ]
    }
   ],
   "source": [
    "%%writefile a.py\n",
    "\n",
    "for item in range(10):\n",
    "    print(item)"
   ]
  },
  {
   "cell_type": "markdown",
   "metadata": {},
   "source": [
    "##  Python简介，解释执行，运行方式\n",
    "\n",
    "### Python简介\n",
    "<img src='data:image/jpeg;base64,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'>\n",
    "\n",
    "### Python源码目录结构\n",
    " - Include： 这个目录包括了 Python 的所有头文件。\n",
    " - Lib：这里是 Python 标准库，都是用 Python 实现的。\n",
    " - Modules：用 C 语言编写的模块，比如 cStringIO / tkinter 高性能实现\n",
    " - Objects：Python 内建对象，如 int / list 的实现\n",
    " - Parser：Python 解释器的 Scanner 和 Parser\n",
    " - Python：Python 解释器的 Compiler 和执行引擎，运行核心\n",
    " \n",
    "\n",
    " \n",
    "### Python解释与运行\n",
    "\n",
    "\n",
    "Python解释器interpreter\n",
    ">运行在系统线程上的C语言函数+超大循环。每个字节码指令均对应一个完全由C实现的逻辑。\n",
    "\n",
    "\n",
    "Python解释器在执行过程\n",
    ">先对文件中的Python源代码进行编译，编译的主要结果是产生的一组Python的字节码（byte code），pyc文件是字节码在磁盘上的表现形式，是进行import module时对py文件进行编译的文件结果（如果之前编译过，且源文件又没有变化，则直接运行该pyc文件），而编译结果就是Python中的PyCodeObject对象，然后PyCodeObject对象交给Python虚拟机（Virtual Machine），由虚拟机按照顺序一条一条地执行字节码，从而完成对Python程序的执行动作。\n",
    "\n",
    "\n",
    "> python： .py  -->(编译器)-->.pyc-->解释器(虚拟机)-->返回结果   \n",
    "\n",
    "> 在编译好的Python环境中，编译器和解释器都被封装进了python36.dll中，由python.exe调用"
   ]
  },
  {
   "cell_type": "markdown",
   "metadata": {},
   "source": [
    "#### 延伸阅读：Python解释器"
   ]
  },
  {
   "cell_type": "markdown",
   "metadata": {},
   "source": [
    "默认用到的都是用C语言实现的对Python的解释器CPython。也有用Python实现的python解释器PyPy,.Net实现的IronPython\n",
    "\n",
    "- CPython解释器中的两个栈：   \n",
    "   1. 执行栈Evaluation Stack:存储指令操作数   \n",
    "   2. 块栈Block Stack：存储循环，异常等信息   \n",
    "\n",
    "字码基于栈式虚拟机，没有寄存器概念，转译简单，没有另类优化。不能被CPU执行，每条字节码对应C实现的机器指令。   \n",
    "Python 实现了栈式虚拟机 (Stack-Based VM) 架构，通过与机器⽆关的字节码来实现跨平台执⾏能⼒。   \n",
    "这种字节码指令集没有寄存器，完全以栈 (抽象层⾯) 进⾏指令运算。"
   ]
  },
  {
   "cell_type": "markdown",
   "metadata": {},
   "source": [
    "### Python的两种运行方式\n",
    "#### 1.解释式运行：如PyCharme，或命令行下python pyname.py\n",
    "- 下方新建py文件"
   ]
  },
  {
   "cell_type": "code",
   "execution_count": 1,
   "metadata": {
    "ExecuteTime": {
     "end_time": "2018-12-01T13:24:19.172118Z",
     "start_time": "2018-12-01T13:24:19.164121Z"
    }
   },
   "outputs": [
    {
     "name": "stdout",
     "output_type": "stream",
     "text": [
      "Writing test.py\n"
     ]
    }
   ],
   "source": [
    "%%writefile test.py\n",
    "import sys\n",
    "print('the file run name ',sys.argv[0],'The time that file should run:',sys.argv[1])\n",
    "for i in range(int(sys.argv[1])):\n",
    "    print(i,'times run')"
   ]
  },
  {
   "cell_type": "code",
   "execution_count": 2,
   "metadata": {
    "ExecuteTime": {
     "end_time": "2018-12-01T13:25:32.711682Z",
     "start_time": "2018-12-01T13:25:32.562680Z"
    }
   },
   "outputs": [
    {
     "name": "stdout",
     "output_type": "stream",
     "text": [
      "('the file run name ', 'test.py', 'The time that file should run:', '2')\r\n",
      "(0, 'times run')\r\n",
      "(1, 'times run')\r\n"
     ]
    }
   ],
   "source": [
    "!python test.py 2"
   ]
  },
  {
   "cell_type": "markdown",
   "metadata": {},
   "source": [
    "#### 2.交互式运行\n",
    "- 命令行Python,bpython,ipython, notebook,"
   ]
  },
  {
   "cell_type": "markdown",
   "metadata": {},
   "source": [
    "#### 延伸阅读 PyCodeObject `<module> `\n",
    "\n",
    "对Python编译器来说，PyCodeObject对象是其真正的编译结果，而pyc文件只是对象持久化表现形式  \n",
    "\n",
    "\n",
    "Python程序的字节码在运行时以PyStringObject的形式保存在PyCodeObject的co_code域里。co_code域只含有指令而不包含别的程序数据；变量名、常量等数据均放在别的域里。"
   ]
  },
  {
   "cell_type": "code",
   "execution_count": 15,
   "metadata": {
    "ExecuteTime": {
     "end_time": "2018-12-01T13:29:47.087334Z",
     "start_time": "2018-12-01T13:29:47.015344Z"
    },
    "scrolled": true
   },
   "outputs": [
    {
     "name": "stdout",
     "output_type": "stream",
     "text": [
      "56\n"
     ]
    },
    {
     "data": {
      "text/plain": [
       "(8, None)"
      ]
     },
     "execution_count": 15,
     "metadata": {},
     "output_type": "execute_result"
    },
    {
     "data": {
      "text/plain": [
       "code"
      ]
     },
     "execution_count": 15,
     "metadata": {},
     "output_type": "execute_result"
    },
    {
     "data": {
      "text/plain": [
       "<code object <module> at 0x107d22c00, file \"test_compile8.py\", line 3>"
      ]
     },
     "execution_count": 15,
     "metadata": {},
     "output_type": "execute_result"
    },
    {
     "data": {
      "text/plain": [
       "('base_string', 'test1', 'test2')"
      ]
     },
     "execution_count": 15,
     "metadata": {},
     "output_type": "execute_result"
    },
    {
     "data": {
      "text/plain": [
       "('julyedu.com',\n",
       " <code object test1 at 0x107d22b70, file \"test_compile8.py\", line 5>,\n",
       " 'test1',\n",
       " <code object test2 at 0x107d22ae0, file \"test_compile8.py\", line 8>,\n",
       " 'test2',\n",
       " None)"
      ]
     },
     "execution_count": 15,
     "metadata": {},
     "output_type": "execute_result"
    },
    {
     "data": {
      "text/plain": [
       "b'd\\x00Z\\x00d\\x01d\\x02\\x84\\x00Z\\x01d\\x03d\\x04\\x84\\x00Z\\x02d\\x05S\\x00'"
      ]
     },
     "execution_count": 15,
     "metadata": {},
     "output_type": "execute_result"
    },
    {
     "data": {
      "text/plain": [
       "['__class__',\n",
       " '__delattr__',\n",
       " '__dir__',\n",
       " '__doc__',\n",
       " '__eq__',\n",
       " '__format__',\n",
       " '__ge__',\n",
       " '__getattribute__',\n",
       " '__gt__',\n",
       " '__hash__',\n",
       " '__init__',\n",
       " '__init_subclass__',\n",
       " '__le__',\n",
       " '__lt__',\n",
       " '__ne__',\n",
       " '__new__',\n",
       " '__reduce__',\n",
       " '__reduce_ex__',\n",
       " '__repr__',\n",
       " '__setattr__',\n",
       " '__sizeof__',\n",
       " '__str__',\n",
       " '__subclasshook__',\n",
       " 'co_argcount',\n",
       " 'co_cellvars',\n",
       " 'co_code',\n",
       " 'co_consts',\n",
       " 'co_filename',\n",
       " 'co_firstlineno',\n",
       " 'co_flags',\n",
       " 'co_freevars',\n",
       " 'co_kwonlyargcount',\n",
       " 'co_lnotab',\n",
       " 'co_name',\n",
       " 'co_names',\n",
       " 'co_nlocals',\n",
       " 'co_stacksize',\n",
       " 'co_varnames']"
      ]
     },
     "execution_count": 15,
     "metadata": {},
     "output_type": "execute_result"
    }
   ],
   "source": [
    "#内置函数compile可以编译Python代码\n",
    "#source_code为py源文件内容\n",
    "source_code=\\\n",
    "'''\n",
    "#this is documents\n",
    "base_string='julyedu.com'\n",
    "\n",
    "def test1(a,b):\n",
    " return a+b\n",
    "\n",
    "def test2(c):\n",
    " x=7\n",
    " print(c**2+x)\n",
    "'''\n",
    "co=compile(source_code,'test_compile8.py','exec')\n",
    "exec(co)#类似于import test_compile.py,即执行了这个文件到当前会话\n",
    "\n",
    "test1(2,6),test2(7)#可以看到test1,test2名称已经导入当前名字空间\n",
    "\n",
    "type(co)#code code类对象\n",
    "co#<code object <module> at 0x000001FC85732300, file \"test_compile.py\", line 3> 该对象的一些信息\n",
    "\n",
    "\n",
    "co.co_names#返回这个PyCodeobject对象内符号名集合,('base_string', 'test1', 'test2')\n",
    "co.co_consts#返回这个PyCodeobject对象内常量集合\n",
    "co.co_code\n",
    "#co_code是指令序列，是一串二进制流，co_code只含有指令而不包含其它数据，如变量名、常量，数据放在别的区域里。\n",
    "#opcode-“字节码”:指令以字节为单位，最多表示256个不同的字节码指令。\n",
    "\n",
    "dir(co)#co.__dir__() 更多PyCodeObject对象查看\n",
    "co?"
   ]
  },
  {
   "cell_type": "code",
   "execution_count": 1,
   "metadata": {
    "ExecuteTime": {
     "end_time": "2020-02-11T09:04:04.380923Z",
     "start_time": "2020-02-11T09:04:04.231918Z"
    },
    "scrolled": true
   },
   "outputs": [
    {
     "ename": "FileNotFoundError",
     "evalue": "[Errno 2] No such file or directory: 'test.py'",
     "output_type": "error",
     "traceback": [
      "\u001b[0;31m---------------------------------------------------------------------------\u001b[0m",
      "\u001b[0;31mFileNotFoundError\u001b[0m                         Traceback (most recent call last)",
      "\u001b[0;32m<ipython-input-1-8281dc998bdd>\u001b[0m in \u001b[0;36m<module>\u001b[0;34m\u001b[0m\n\u001b[1;32m      1\u001b[0m \u001b[0;31m##也可以直接从文件读源码，然后用compile编译为PyCodeObject\u001b[0m\u001b[0;34m\u001b[0m\u001b[0;34m\u001b[0m\u001b[0;34m\u001b[0m\u001b[0m\n\u001b[0;32m----> 2\u001b[0;31m \u001b[0msrc\u001b[0m\u001b[0;34m=\u001b[0m\u001b[0mopen\u001b[0m\u001b[0;34m(\u001b[0m\u001b[0;34m'test.py'\u001b[0m\u001b[0;34m)\u001b[0m\u001b[0;34m.\u001b[0m\u001b[0mread\u001b[0m\u001b[0;34m(\u001b[0m\u001b[0;34m)\u001b[0m\u001b[0;34m\u001b[0m\u001b[0;34m\u001b[0m\u001b[0m\n\u001b[0m\u001b[1;32m      3\u001b[0m \u001b[0mco1\u001b[0m\u001b[0;34m=\u001b[0m\u001b[0mcompile\u001b[0m\u001b[0;34m(\u001b[0m\u001b[0msrc\u001b[0m\u001b[0;34m,\u001b[0m\u001b[0;34m'test.py'\u001b[0m\u001b[0;34m,\u001b[0m\u001b[0;34m'exec'\u001b[0m\u001b[0;34m)\u001b[0m\u001b[0;34m\u001b[0m\u001b[0;34m\u001b[0m\u001b[0m\n\u001b[1;32m      4\u001b[0m \u001b[0mco1\u001b[0m\u001b[0;34m\u001b[0m\u001b[0;34m\u001b[0m\u001b[0m\n\u001b[1;32m      5\u001b[0m \u001b[0mdir\u001b[0m\u001b[0;34m(\u001b[0m\u001b[0mco1\u001b[0m\u001b[0;34m)\u001b[0m\u001b[0;34m\u001b[0m\u001b[0;34m\u001b[0m\u001b[0m\n",
      "\u001b[0;31mFileNotFoundError\u001b[0m: [Errno 2] No such file or directory: 'test.py'"
     ]
    }
   ],
   "source": [
    "##也可以直接从文件读源码，然后用compile编译为PyCodeObject\n",
    "src=open('test.py').read()\n",
    "co1=compile(src,'test.py','exec')\n",
    "co1\n",
    "dir(co1)\n",
    "co1.co_filename\n",
    "co1.co_filename"
   ]
  },
  {
   "cell_type": "code",
   "execution_count": 10,
   "metadata": {
    "ExecuteTime": {
     "end_time": "2018-12-01T13:28:59.978705Z",
     "start_time": "2018-12-01T13:28:59.972702Z"
    }
   },
   "outputs": [
    {
     "name": "stdout",
     "output_type": "stream",
     "text": [
      "{'POP_TOP': 1, 'ROT_TWO': 2, 'ROT_THREE': 3, 'DUP_TOP': 4, 'DUP_TOP_TWO': 5, 'NOP': 9, 'UNARY_POSITIVE': 10, 'UNARY_NEGATIVE': 11, 'UNARY_NOT': 12, 'UNARY_INVERT': 15, 'BINARY_MATRIX_MULTIPLY': 16, 'INPLACE_MATRIX_MULTIPLY': 17, 'BINARY_POWER': 19, 'BINARY_MULTIPLY': 20, 'BINARY_MODULO': 22, 'BINARY_ADD': 23, 'BINARY_SUBTRACT': 24, 'BINARY_SUBSCR': 25, 'BINARY_FLOOR_DIVIDE': 26, 'BINARY_TRUE_DIVIDE': 27, 'INPLACE_FLOOR_DIVIDE': 28, 'INPLACE_TRUE_DIVIDE': 29, 'GET_AITER': 50, 'GET_ANEXT': 51, 'BEFORE_ASYNC_WITH': 52, 'INPLACE_ADD': 55, 'INPLACE_SUBTRACT': 56, 'INPLACE_MULTIPLY': 57, 'INPLACE_MODULO': 59, 'STORE_SUBSCR': 60, 'DELETE_SUBSCR': 61, 'BINARY_LSHIFT': 62, 'BINARY_RSHIFT': 63, 'BINARY_AND': 64, 'BINARY_XOR': 65, 'BINARY_OR': 66, 'INPLACE_POWER': 67, 'GET_ITER': 68, 'GET_YIELD_FROM_ITER': 69, 'PRINT_EXPR': 70, 'LOAD_BUILD_CLASS': 71, 'YIELD_FROM': 72, 'GET_AWAITABLE': 73, 'INPLACE_LSHIFT': 75, 'INPLACE_RSHIFT': 76, 'INPLACE_AND': 77, 'INPLACE_XOR': 78, 'INPLACE_OR': 79, 'BREAK_LOOP': 80, 'WITH_CLEANUP_START': 81, 'WITH_CLEANUP_FINISH': 82, 'RETURN_VALUE': 83, 'IMPORT_STAR': 84, 'SETUP_ANNOTATIONS': 85, 'YIELD_VALUE': 86, 'POP_BLOCK': 87, 'END_FINALLY': 88, 'POP_EXCEPT': 89, 'STORE_NAME': 90, 'DELETE_NAME': 91, 'UNPACK_SEQUENCE': 92, 'FOR_ITER': 93, 'UNPACK_EX': 94, 'STORE_ATTR': 95, 'DELETE_ATTR': 96, 'STORE_GLOBAL': 97, 'DELETE_GLOBAL': 98, 'LOAD_CONST': 100, 'LOAD_NAME': 101, 'BUILD_TUPLE': 102, 'BUILD_LIST': 103, 'BUILD_SET': 104, 'BUILD_MAP': 105, 'LOAD_ATTR': 106, 'COMPARE_OP': 107, 'IMPORT_NAME': 108, 'IMPORT_FROM': 109, 'JUMP_FORWARD': 110, 'JUMP_IF_FALSE_OR_POP': 111, 'JUMP_IF_TRUE_OR_POP': 112, 'JUMP_ABSOLUTE': 113, 'POP_JUMP_IF_FALSE': 114, 'POP_JUMP_IF_TRUE': 115, 'LOAD_GLOBAL': 116, 'CONTINUE_LOOP': 119, 'SETUP_LOOP': 120, 'SETUP_EXCEPT': 121, 'SETUP_FINALLY': 122, 'LOAD_FAST': 124, 'STORE_FAST': 125, 'DELETE_FAST': 126, 'RAISE_VARARGS': 130, 'CALL_FUNCTION': 131, 'MAKE_FUNCTION': 132, 'BUILD_SLICE': 133, 'LOAD_CLOSURE': 135, 'LOAD_DEREF': 136, 'STORE_DEREF': 137, 'DELETE_DEREF': 138, 'CALL_FUNCTION_KW': 141, 'CALL_FUNCTION_EX': 142, 'SETUP_WITH': 143, 'LIST_APPEND': 145, 'SET_ADD': 146, 'MAP_ADD': 147, 'LOAD_CLASSDEREF': 148, 'EXTENDED_ARG': 144, 'BUILD_LIST_UNPACK': 149, 'BUILD_MAP_UNPACK': 150, 'BUILD_MAP_UNPACK_WITH_CALL': 151, 'BUILD_TUPLE_UNPACK': 152, 'BUILD_SET_UNPACK': 153, 'SETUP_ASYNC_WITH': 154, 'FORMAT_VALUE': 155, 'BUILD_CONST_KEY_MAP': 156, 'BUILD_STRING': 157, 'BUILD_TUPLE_UNPACK_WITH_CALL': 158, 'LOAD_METHOD': 160, 'CALL_METHOD': 161}\n"
     ]
    }
   ],
   "source": [
    "#对co_code的翻译：opcode-“字节码”:指令以字节为单位，最多表示256个不同的字节码指令。\n",
    "\n",
    "import opcode\n",
    "print(opcode.opmap)\n",
    "# dir(opcode)\n",
    "\n",
    "#更好的翻译Disassembler"
   ]
  },
  {
   "cell_type": "markdown",
   "metadata": {},
   "source": [
    "#### 延伸阅读：使用Disassembler反汇编模块\n",
    "- 文档： https://docs.python.org/3/library/dis.html\n",
    "\n",
    "\n",
    "- Disassembler格式及解读\n",
    "\n",
    "- 第一列表示以下几个指令在py文件中的行号;\n",
    "- 第二列是该指令在指令序列co_code里的偏移量;\n",
    "- 第三列是指令opcode的名称，分为有操作数和无操作数两种，opcode在指令序列中是一个字节的整数;\n",
    "- 第四列是操作数oparg，在指令序列中占两个字节，基本都是co_consts或者co_names的下标;\n",
    "- 第五列带括号的是操作数说明。\n",
    "\n",
    "|opcode|oparg|opcode|opcode|oparg|\n",
    "|:---|:---|:---|:---|:---|\n",
    "|1 byte|2 bytes|1 byte|1 byte|2 bytes|"
   ]
  },
  {
   "cell_type": "code",
   "execution_count": 13,
   "metadata": {},
   "outputs": [
    {
     "name": "stdout",
     "output_type": "stream",
     "text": [
      "Once deleted, variables cannot be recovered. Proceed (y/[n])? y\n"
     ]
    },
    {
     "name": "stderr",
     "output_type": "stream",
     "text": [
      "ERROR:root:Invalid alias: The name clear can't be aliased because it is another magic command.\n",
      "ERROR:root:Invalid alias: The name more can't be aliased because it is another magic command.\n",
      "ERROR:root:Invalid alias: The name less can't be aliased because it is another magic command.\n",
      "ERROR:root:Invalid alias: The name man can't be aliased because it is another magic command.\n"
     ]
    }
   ],
   "source": [
    "%reset"
   ]
  },
  {
   "cell_type": "code",
   "execution_count": 16,
   "metadata": {
    "ExecuteTime": {
     "end_time": "2018-12-01T13:29:54.134050Z",
     "start_time": "2018-12-01T13:29:54.129047Z"
    }
   },
   "outputs": [
    {
     "name": "stdout",
     "output_type": "stream",
     "text": [
      "  3           0 LOAD_CONST               0 ('julyedu.com')\n",
      "              2 STORE_NAME               0 (base_string)\n",
      "\n",
      "  5           4 LOAD_CONST               1 (<code object test1 at 0x107d22b70, file \"test_compile8.py\", line 5>)\n",
      "              6 LOAD_CONST               2 ('test1')\n",
      "              8 MAKE_FUNCTION            0\n",
      "             10 STORE_NAME               1 (test1)\n",
      "\n",
      "  8          12 LOAD_CONST               3 (<code object test2 at 0x107d22ae0, file \"test_compile8.py\", line 8>)\n",
      "             14 LOAD_CONST               4 ('test2')\n",
      "             16 MAKE_FUNCTION            0\n",
      "             18 STORE_NAME               2 (test2)\n",
      "             20 LOAD_CONST               5 (None)\n",
      "             22 RETURN_VALUE\n",
      "\n",
      "Disassembly of <code object test1 at 0x107d22b70, file \"test_compile8.py\", line 5>:\n",
      "  6           0 LOAD_FAST                0 (a)\n",
      "              2 LOAD_FAST                1 (b)\n",
      "              4 BINARY_ADD\n",
      "              6 RETURN_VALUE\n",
      "\n",
      "Disassembly of <code object test2 at 0x107d22ae0, file \"test_compile8.py\", line 8>:\n",
      "  9           0 LOAD_CONST               1 (7)\n",
      "              2 STORE_FAST               1 (x)\n",
      "\n",
      " 10           4 LOAD_GLOBAL              0 (print)\n",
      "              6 LOAD_FAST                0 (c)\n",
      "              8 LOAD_CONST               2 (2)\n",
      "             10 BINARY_POWER\n",
      "             12 LOAD_FAST                1 (x)\n",
      "             14 BINARY_ADD\n",
      "             16 CALL_FUNCTION            1\n",
      "             18 POP_TOP\n",
      "             20 LOAD_CONST               0 (None)\n",
      "             22 RETURN_VALUE\n"
     ]
    }
   ],
   "source": [
    "import dis\n",
    "dis.dis(co)#反汇编module test_compile\n",
    "# dis.dis(test1),dis.dis(test2)#反汇编module test_compile下的函数"
   ]
  },
  {
   "cell_type": "markdown",
   "metadata": {},
   "source": [
    "## Python内置及三方库的管理及使用"
   ]
  },
  {
   "cell_type": "markdown",
   "metadata": {},
   "source": [
    "### 模块Module与包Package\n",
    "- 模块:一个模块就是一个Python源码文件(也可能是对c语言文件编译生成的pyd文件)\n",
    "- 包:组织一堆相关功能的模块，并包含`__init__.py`文件的目录。"
   ]
  },
  {
   "cell_type": "markdown",
   "metadata": {},
   "source": [
    "### 模块的导入\n",
    "一个模块本质上是一个py文件"
   ]
  },
  {
   "cell_type": "code",
   "execution_count": 20,
   "metadata": {
    "ExecuteTime": {
     "end_time": "2018-12-08T12:19:58.438708Z",
     "start_time": "2018-12-08T12:19:58.432706Z"
    }
   },
   "outputs": [
    {
     "name": "stdout",
     "output_type": "stream",
     "text": [
      "Writing m.py\n"
     ]
    }
   ],
   "source": [
    "%%writefile m.py\n",
    "a=123\n",
    "_b='str'#\n",
    "def m_fun():\n",
    "    return globals()"
   ]
  },
  {
   "cell_type": "code",
   "execution_count": 49,
   "metadata": {},
   "outputs": [
    {
     "name": "stdout",
     "output_type": "stream",
     "text": [
      "Once deleted, variables cannot be recovered. Proceed (y/[n])? y\n"
     ]
    },
    {
     "name": "stderr",
     "output_type": "stream",
     "text": [
      "ERROR:root:Invalid alias: The name clear can't be aliased because it is another magic command.\n",
      "ERROR:root:Invalid alias: The name more can't be aliased because it is another magic command.\n",
      "ERROR:root:Invalid alias: The name less can't be aliased because it is another magic command.\n",
      "ERROR:root:Invalid alias: The name man can't be aliased because it is another magic command.\n"
     ]
    }
   ],
   "source": [
    "%reset"
   ]
  },
  {
   "cell_type": "code",
   "execution_count": 28,
   "metadata": {
    "scrolled": true
   },
   "outputs": [
    {
     "name": "stdout",
     "output_type": "stream",
     "text": [
      "Variable   Type        Data/Info\n",
      "--------------------------------\n",
      "i          int         4\n",
      "m          module      <module 'm' from '/Users/<...>thon/01CourseFiles/m.py'>\n",
      "os         module      <module 'os' from '/usr/l<...>3.7/lib/python3.7/os.py'>\n",
      "reload     function    <function reload at 0x10795a950>\n"
     ]
    }
   ],
   "source": [
    "%whos"
   ]
  },
  {
   "cell_type": "code",
   "execution_count": 50,
   "metadata": {
    "ExecuteTime": {
     "end_time": "2018-12-08T12:20:26.066425Z",
     "start_time": "2018-12-08T12:20:26.059423Z"
    }
   },
   "outputs": [
    {
     "data": {
      "text/plain": [
       "'m'"
      ]
     },
     "execution_count": 50,
     "metadata": {},
     "output_type": "execute_result"
    },
    {
     "data": {
      "text/plain": [
       "'__main__'"
      ]
     },
     "execution_count": 50,
     "metadata": {},
     "output_type": "execute_result"
    }
   ],
   "source": [
    "import m\n",
    "m.__name__\n",
    "__name__"
   ]
  },
  {
   "cell_type": "code",
   "execution_count": 53,
   "metadata": {
    "ExecuteTime": {
     "end_time": "2018-12-01T13:33:02.488151Z",
     "start_time": "2018-12-01T13:33:02.483153Z"
    }
   },
   "outputs": [
    {
     "data": {
      "text/plain": [
       "<module 'm' from '/Users/yangpan 1/works/DataScience/01BasedPython/01CourseFiles/m.py'>"
      ]
     },
     "execution_count": 53,
     "metadata": {},
     "output_type": "execute_result"
    },
    {
     "data": {
      "text/plain": [
       "123"
      ]
     },
     "execution_count": 53,
     "metadata": {},
     "output_type": "execute_result"
    }
   ],
   "source": [
    "#修改源码后不升效？试下reload\n",
    "import m\n",
    "from imp import reload\n",
    "\n",
    "reload(m)\n",
    "m.a"
   ]
  },
  {
   "cell_type": "code",
   "execution_count": 52,
   "metadata": {
    "scrolled": true
   },
   "outputs": [
    {
     "name": "stdout",
     "output_type": "stream",
     "text": [
      "4374539728\n",
      "4374539728\n",
      "4374539728\n",
      "4374539728\n",
      "4374539728\n"
     ]
    }
   ],
   "source": [
    "#一个进程只对应一个模块的实例，无论被导入多少次，每个模块在整个解释器进程仅有一个实例存在。\n",
    "#在不同的命令行窗口,不同的notebook是不同的解释器进程\n",
    "for i in range(5):\n",
    "    import os\n",
    "    print(id(os))"
   ]
  },
  {
   "cell_type": "code",
   "execution_count": 54,
   "metadata": {},
   "outputs": [
    {
     "name": "stdout",
     "output_type": "stream",
     "text": [
      "4374539728\n",
      "4374539728\n",
      "4374539728\n",
      "4374539728\n",
      "4374539728\n"
     ]
    }
   ],
   "source": [
    "#reload也是一样\n",
    "for i in range(5):\n",
    "    import os\n",
    "    print(id(reload(os)))"
   ]
  },
  {
   "cell_type": "markdown",
   "metadata": {},
   "source": [
    "#### 模块名为`__main__`???"
   ]
  },
  {
   "cell_type": "code",
   "execution_count": 55,
   "metadata": {
    "ExecuteTime": {
     "end_time": "2018-12-08T12:19:19.843809Z",
     "start_time": "2018-12-08T12:19:19.838799Z"
    }
   },
   "outputs": [
    {
     "data": {
      "text/plain": [
       "'__main__'"
      ]
     },
     "execution_count": 55,
     "metadata": {},
     "output_type": "execute_result"
    }
   ],
   "source": [
    "__name__"
   ]
  },
  {
   "cell_type": "markdown",
   "metadata": {},
   "source": [
    "正常情况下模块名__name__为对应的文件名，但当模块作为程序入口时，__name__被修改名__main__   \n",
    "因此使用if __name__=’main’:实现自适应。\n",
    "    \n",
    "```\n",
    "if __name__=='__main__':\n",
    "    dosomething\n",
    "```"
   ]
  },
  {
   "cell_type": "markdown",
   "metadata": {},
   "source": [
    "###### 扩展阅读：使用type函数自定义模块（非从文件中导入）"
   ]
  },
  {
   "cell_type": "code",
   "execution_count": 56,
   "metadata": {},
   "outputs": [
    {
     "data": {
      "text/plain": [
       "(module, module)"
      ]
     },
     "execution_count": 56,
     "metadata": {},
     "output_type": "execute_result"
    },
    {
     "data": {
      "text/plain": [
       "'MyModule'"
      ]
     },
     "execution_count": 56,
     "metadata": {},
     "output_type": "execute_result"
    }
   ],
   "source": [
    "import types\n",
    "mm=types.ModuleType('MyModule')\n",
    "type(mm),type(__builtins__)\n",
    "mm.name='f'\n",
    "mm.__name__"
   ]
  },
  {
   "cell_type": "markdown",
   "metadata": {},
   "source": [
    "###### 扩展阅读：模块与名字空间\n",
    "每个模块都有一个全局名字空间。   \n",
    ">如果直接在模块级别执行，那么当前名字空间和全局名字空间相同   \n",
    ">globals()固定指向模块的名字空间"
   ]
  },
  {
   "cell_type": "code",
   "execution_count": 47,
   "metadata": {},
   "outputs": [
    {
     "data": {
      "text/plain": [
       "True"
      ]
     },
     "execution_count": 47,
     "metadata": {},
     "output_type": "execute_result"
    }
   ],
   "source": [
    "locals() is globals() #每个模块都有一个全局名字空间。如果直接在模块级别执行，那么当前名字空间和全局名字空间相同。"
   ]
  },
  {
   "cell_type": "code",
   "execution_count": 57,
   "metadata": {},
   "outputs": [
    {
     "data": {
      "text/plain": [
       "False"
      ]
     },
     "execution_count": 57,
     "metadata": {},
     "output_type": "execute_result"
    }
   ],
   "source": [
    "import m\n",
    "globals() is m.m_fun() #globals()固定指向模块的名字空间"
   ]
  },
  {
   "cell_type": "markdown",
   "metadata": {},
   "source": [
    "### 包的导入 import 的使用"
   ]
  },
  {
   "cell_type": "code",
   "execution_count": null,
   "metadata": {
    "ExecuteTime": {
     "end_time": "2018-12-01T13:34:09.671635Z",
     "start_time": "2018-12-01T13:34:09.664634Z"
    },
    "collapsed": true,
    "scrolled": false
   },
   "outputs": [],
   "source": [
    "import this#Python之禅"
   ]
  },
  {
   "cell_type": "markdown",
   "metadata": {},
   "source": [
    "### Python内置包"
   ]
  },
  {
   "cell_type": "code",
   "execution_count": 30,
   "metadata": {
    "ExecuteTime": {
     "end_time": "2018-12-01T13:36:13.999139Z",
     "start_time": "2018-12-01T13:36:13.983136Z"
    },
    "collapsed": true
   },
   "outputs": [
    {
     "data": {
      "text/plain": [
       "['sys',\n",
       " 'builtins',\n",
       " '_frozen_importlib',\n",
       " '_imp',\n",
       " '_thread',\n",
       " '_warnings',\n",
       " '_weakref',\n",
       " 'zipimport',\n",
       " '_frozen_importlib_external',\n",
       " '_io',\n",
       " 'marshal',\n",
       " 'posix',\n",
       " 'encodings',\n",
       " 'codecs',\n",
       " '_codecs',\n",
       " 'encodings.aliases',\n",
       " 'encodings.utf_8',\n",
       " '_signal',\n",
       " '__main__',\n",
       " 'encodings.latin_1',\n",
       " 'io',\n",
       " 'abc',\n",
       " '_abc',\n",
       " '_bootlocale',\n",
       " '_locale',\n",
       " 'site',\n",
       " 'os',\n",
       " 'stat',\n",
       " '_stat',\n",
       " 'posixpath',\n",
       " 'genericpath',\n",
       " 'os.path',\n",
       " '_collections_abc',\n",
       " '_sitebuiltins',\n",
       " 'types',\n",
       " 'importlib',\n",
       " 'importlib._bootstrap',\n",
       " 'importlib._bootstrap_external',\n",
       " 'warnings',\n",
       " 'importlib.util',\n",
       " 'importlib.abc',\n",
       " 'importlib.machinery',\n",
       " 'contextlib',\n",
       " 'collections',\n",
       " 'operator',\n",
       " '_operator',\n",
       " 'keyword',\n",
       " 'heapq',\n",
       " '_heapq',\n",
       " 'itertools',\n",
       " 'reprlib',\n",
       " '_collections',\n",
       " 'functools',\n",
       " '_functools',\n",
       " 'mpl_toolkits',\n",
       " 'sitecustomize',\n",
       " 're',\n",
       " 'enum',\n",
       " 'sre_compile',\n",
       " '_sre',\n",
       " 'sre_parse',\n",
       " 'sre_constants',\n",
       " 'copyreg',\n",
       " 'runpy',\n",
       " 'pkgutil',\n",
       " 'weakref',\n",
       " '_weakrefset',\n",
       " 'ipykernel',\n",
       " 'ipykernel._version',\n",
       " 'ipykernel.connect',\n",
       " '__future__',\n",
       " 'json',\n",
       " 'json.decoder',\n",
       " 'json.scanner',\n",
       " '_json',\n",
       " 'json.encoder',\n",
       " 'subprocess',\n",
       " 'time',\n",
       " 'signal',\n",
       " 'errno',\n",
       " '_posixsubprocess',\n",
       " 'select',\n",
       " 'selectors',\n",
       " 'collections.abc',\n",
       " 'math',\n",
       " 'threading',\n",
       " 'traceback',\n",
       " 'linecache',\n",
       " 'tokenize',\n",
       " 'token',\n",
       " 'IPython',\n",
       " 'IPython.core',\n",
       " 'IPython.core.getipython',\n",
       " 'IPython.core.release',\n",
       " 'IPython.core.application',\n",
       " 'atexit',\n",
       " 'copy',\n",
       " 'glob',\n",
       " 'fnmatch',\n",
       " 'logging',\n",
       " 'string',\n",
       " '_string',\n",
       " 'shutil',\n",
       " 'zlib',\n",
       " 'bz2',\n",
       " '_compression',\n",
       " '_bz2',\n",
       " 'lzma',\n",
       " '_lzma',\n",
       " 'pwd',\n",
       " 'grp',\n",
       " 'traitlets',\n",
       " 'traitlets.traitlets',\n",
       " 'inspect',\n",
       " 'dis',\n",
       " 'opcode',\n",
       " '_opcode',\n",
       " 'six',\n",
       " 'struct',\n",
       " '_struct',\n",
       " 'traitlets.utils',\n",
       " 'traitlets.utils.getargspec',\n",
       " 'traitlets.utils.importstring',\n",
       " 'ipython_genutils',\n",
       " 'ipython_genutils._version',\n",
       " 'ipython_genutils.py3compat',\n",
       " 'ipython_genutils.encoding',\n",
       " 'locale',\n",
       " 'platform',\n",
       " 'traitlets.utils.sentinel',\n",
       " 'traitlets.utils.bunch',\n",
       " 'traitlets._version',\n",
       " 'traitlets.config',\n",
       " 'traitlets.config.application',\n",
       " 'decorator',\n",
       " 'traitlets.config.configurable',\n",
       " 'traitlets.config.loader',\n",
       " 'argparse',\n",
       " 'gettext',\n",
       " 'ast',\n",
       " '_ast',\n",
       " 'ipython_genutils.path',\n",
       " 'random',\n",
       " 'hashlib',\n",
       " '_hashlib',\n",
       " '_blake2',\n",
       " '_sha3',\n",
       " 'bisect',\n",
       " '_bisect',\n",
       " '_random',\n",
       " 'ipython_genutils.text',\n",
       " 'textwrap',\n",
       " 'ipython_genutils.importstring',\n",
       " 'IPython.core.crashhandler',\n",
       " 'pprint',\n",
       " 'IPython.core.ultratb',\n",
       " 'pydoc',\n",
       " 'urllib',\n",
       " 'urllib.parse',\n",
       " 'IPython.core.debugger',\n",
       " 'bdb',\n",
       " 'IPython.utils',\n",
       " 'IPython.utils.PyColorize',\n",
       " 'IPython.utils.coloransi',\n",
       " 'IPython.utils.ipstruct',\n",
       " 'IPython.utils.colorable',\n",
       " 'pygments',\n",
       " 'pygments.util',\n",
       " 'IPython.utils.py3compat',\n",
       " 'IPython.utils.encoding',\n",
       " 'IPython.core.excolors',\n",
       " 'IPython.testing',\n",
       " 'IPython.testing.skipdoctest',\n",
       " 'pdb',\n",
       " 'cmd',\n",
       " 'code',\n",
       " 'codeop',\n",
       " 'IPython.core.display_trap',\n",
       " 'IPython.utils.path',\n",
       " 'IPython.utils.process',\n",
       " 'IPython.utils._process_posix',\n",
       " 'pexpect',\n",
       " 'pexpect.exceptions',\n",
       " 'pexpect.utils',\n",
       " 'pexpect.expect',\n",
       " 'pexpect.pty_spawn',\n",
       " 'pty',\n",
       " 'tty',\n",
       " 'termios',\n",
       " 'ptyprocess',\n",
       " 'ptyprocess.ptyprocess',\n",
       " 'fcntl',\n",
       " 'resource',\n",
       " 'ptyprocess.util',\n",
       " 'pexpect.spawnbase',\n",
       " 'pexpect.run',\n",
       " 'IPython.utils._process_common',\n",
       " 'shlex',\n",
       " 'IPython.utils.decorators',\n",
       " 'IPython.utils.data',\n",
       " 'IPython.utils.terminal',\n",
       " 'IPython.utils.sysinfo',\n",
       " 'IPython.utils._sysinfo',\n",
       " 'IPython.core.profiledir',\n",
       " 'IPython.paths',\n",
       " 'tempfile',\n",
       " 'IPython.utils.importstring',\n",
       " 'IPython.terminal',\n",
       " 'IPython.terminal.embed',\n",
       " 'IPython.core.compilerop',\n",
       " 'IPython.core.magic_arguments',\n",
       " 'IPython.core.error',\n",
       " 'IPython.utils.text',\n",
       " 'pathlib',\n",
       " 'ntpath',\n",
       " 'IPython.core.magic',\n",
       " 'getopt',\n",
       " 'IPython.core.oinspect',\n",
       " 'IPython.core.page',\n",
       " 'IPython.core.display',\n",
       " 'binascii',\n",
       " 'mimetypes',\n",
       " 'IPython.lib',\n",
       " 'IPython.lib.security',\n",
       " 'getpass',\n",
       " 'IPython.lib.pretty',\n",
       " 'datetime',\n",
       " '_datetime',\n",
       " 'IPython.utils.openpy',\n",
       " 'IPython.utils.dir2',\n",
       " 'IPython.utils.wildcard',\n",
       " 'pygments.lexers',\n",
       " 'pygments.lexers._mapping',\n",
       " 'pygments.modeline',\n",
       " 'pygments.plugin',\n",
       " 'pygments.lexers.python',\n",
       " 'pygments.lexer',\n",
       " 'pygments.filter',\n",
       " 'pygments.filters',\n",
       " 'pygments.token',\n",
       " 'pygments.regexopt',\n",
       " 'pygments.unistring',\n",
       " 'pygments.formatters',\n",
       " 'pygments.formatters._mapping',\n",
       " 'pygments.formatters.html',\n",
       " 'pygments.formatter',\n",
       " 'pygments.styles',\n",
       " 'IPython.core.inputtransformer2',\n",
       " 'typing',\n",
       " 'typing.io',\n",
       " 'typing.re',\n",
       " 'IPython.core.interactiveshell',\n",
       " 'asyncio',\n",
       " 'asyncio.base_events',\n",
       " 'concurrent',\n",
       " 'concurrent.futures',\n",
       " 'concurrent.futures._base',\n",
       " 'socket',\n",
       " '_socket',\n",
       " 'ssl',\n",
       " '_ssl',\n",
       " 'base64',\n",
       " 'asyncio.constants',\n",
       " 'asyncio.coroutines',\n",
       " 'asyncio.base_futures',\n",
       " 'asyncio.format_helpers',\n",
       " 'asyncio.log',\n",
       " 'asyncio.events',\n",
       " 'contextvars',\n",
       " '_contextvars',\n",
       " 'asyncio.base_tasks',\n",
       " '_asyncio',\n",
       " 'asyncio.futures',\n",
       " 'asyncio.protocols',\n",
       " 'asyncio.sslproto',\n",
       " 'asyncio.transports',\n",
       " 'asyncio.tasks',\n",
       " 'asyncio.locks',\n",
       " 'asyncio.runners',\n",
       " 'asyncio.queues',\n",
       " 'asyncio.streams',\n",
       " 'asyncio.subprocess',\n",
       " 'asyncio.unix_events',\n",
       " 'asyncio.base_subprocess',\n",
       " 'asyncio.selector_events',\n",
       " 'pickleshare',\n",
       " 'pickle',\n",
       " '_compat_pickle',\n",
       " '_pickle',\n",
       " 'IPython.core.prefilter',\n",
       " 'IPython.core.autocall',\n",
       " 'IPython.core.macro',\n",
       " 'IPython.core.splitinput',\n",
       " 'IPython.core.alias',\n",
       " 'IPython.core.builtin_trap',\n",
       " 'IPython.core.events',\n",
       " 'backcall',\n",
       " 'backcall.backcall',\n",
       " 'IPython.core.displayhook',\n",
       " 'IPython.core.displaypub',\n",
       " 'IPython.core.extensions',\n",
       " 'IPython.core.formatters',\n",
       " 'IPython.utils.sentinel',\n",
       " 'IPython.core.history',\n",
       " 'sqlite3',\n",
       " 'sqlite3.dbapi2',\n",
       " '_sqlite3',\n",
       " 'IPython.core.logger',\n",
       " 'IPython.core.payload',\n",
       " 'IPython.core.usage',\n",
       " 'IPython.display',\n",
       " 'IPython.lib.display',\n",
       " 'html',\n",
       " 'html.entities',\n",
       " 'IPython.utils.io',\n",
       " 'IPython.utils.capture',\n",
       " 'IPython.utils.strdispatch',\n",
       " 'IPython.core.hooks',\n",
       " 'IPython.utils.syspathcontext',\n",
       " 'IPython.utils.tempdir',\n",
       " 'IPython.utils.contexts',\n",
       " 'IPython.core.async_helpers',\n",
       " 'IPython.terminal.interactiveshell',\n",
       " 'prompt_toolkit',\n",
       " 'prompt_toolkit.application',\n",
       " 'prompt_toolkit.application.application',\n",
       " 'prompt_toolkit.buffer',\n",
       " 'prompt_toolkit.application.current',\n",
       " 'prompt_toolkit.eventloop',\n",
       " 'prompt_toolkit.eventloop.base',\n",
       " 'prompt_toolkit.log',\n",
       " 'prompt_toolkit.eventloop.coroutine',\n",
       " 'prompt_toolkit.eventloop.defaults',\n",
       " 'prompt_toolkit.utils',\n",
       " 'six.moves',\n",
       " 'wcwidth',\n",
       " 'wcwidth.wcwidth',\n",
       " 'wcwidth.table_wide',\n",
       " 'wcwidth.table_zero',\n",
       " 'prompt_toolkit.cache',\n",
       " 'prompt_toolkit.eventloop.future',\n",
       " 'prompt_toolkit.eventloop.context',\n",
       " 'prompt_toolkit.eventloop.async_generator',\n",
       " 'queue',\n",
       " '_queue',\n",
       " 'six.moves.queue',\n",
       " 'prompt_toolkit.eventloop.event',\n",
       " 'prompt_toolkit.application.run_in_terminal',\n",
       " 'prompt_toolkit.auto_suggest',\n",
       " 'prompt_toolkit.filters',\n",
       " 'prompt_toolkit.filters.base',\n",
       " 'prompt_toolkit.filters.app',\n",
       " 'prompt_toolkit.enums',\n",
       " 'prompt_toolkit.filters.utils',\n",
       " 'prompt_toolkit.filters.cli',\n",
       " 'prompt_toolkit.clipboard',\n",
       " 'prompt_toolkit.clipboard.base',\n",
       " 'prompt_toolkit.selection',\n",
       " 'prompt_toolkit.clipboard.in_memory',\n",
       " 'prompt_toolkit.completion',\n",
       " 'prompt_toolkit.completion.base',\n",
       " 'prompt_toolkit.completion.filesystem',\n",
       " 'prompt_toolkit.completion.word_completer',\n",
       " 'prompt_toolkit.completion.fuzzy_completer',\n",
       " 'prompt_toolkit.document',\n",
       " 'prompt_toolkit.history',\n",
       " 'prompt_toolkit.search',\n",
       " 'prompt_toolkit.key_binding',\n",
       " 'prompt_toolkit.key_binding.key_bindings',\n",
       " 'prompt_toolkit.keys',\n",
       " 'prompt_toolkit.key_binding.vi_state',\n",
       " 'prompt_toolkit.validation',\n",
       " 'prompt_toolkit.input',\n",
       " 'prompt_toolkit.input.base',\n",
       " 'prompt_toolkit.input.defaults',\n",
       " 'prompt_toolkit.input.typeahead',\n",
       " 'prompt_toolkit.key_binding.bindings',\n",
       " 'prompt_toolkit.key_binding.bindings.page_navigation',\n",
       " 'prompt_toolkit.key_binding.bindings.scroll',\n",
       " 'prompt_toolkit.key_binding.defaults',\n",
       " 'prompt_toolkit.key_binding.bindings.basic',\n",
       " 'prompt_toolkit.key_binding.key_processor',\n",
       " 'prompt_toolkit.key_binding.bindings.named_commands',\n",
       " 'prompt_toolkit.key_binding.bindings.completion',\n",
       " 'prompt_toolkit.key_binding.bindings.emacs',\n",
       " 'prompt_toolkit.key_binding.bindings.vi',\n",
       " 'prompt_toolkit.input.vt100_parser',\n",
       " 'prompt_toolkit.input.ansi_escape_sequences',\n",
       " 'prompt_toolkit.key_binding.digraphs',\n",
       " 'prompt_toolkit.key_binding.bindings.mouse',\n",
       " 'prompt_toolkit.layout',\n",
       " 'prompt_toolkit.layout.containers',\n",
       " 'prompt_toolkit.layout.controls',\n",
       " 'prompt_toolkit.formatted_text',\n",
       " 'prompt_toolkit.formatted_text.base',\n",
       " 'prompt_toolkit.formatted_text.html',\n",
       " 'xml',\n",
       " 'xml.dom',\n",
       " 'xml.dom.domreg',\n",
       " 'xml.dom.minidom',\n",
       " 'xml.dom.minicompat',\n",
       " 'xml.dom.xmlbuilder',\n",
       " 'xml.dom.NodeFilter',\n",
       " 'prompt_toolkit.formatted_text.ansi',\n",
       " 'prompt_toolkit.output',\n",
       " 'prompt_toolkit.output.base',\n",
       " 'prompt_toolkit.layout.screen',\n",
       " 'prompt_toolkit.output.defaults',\n",
       " 'prompt_toolkit.output.color_depth',\n",
       " 'prompt_toolkit.output.vt100',\n",
       " 'prompt_toolkit.styles',\n",
       " 'prompt_toolkit.styles.base',\n",
       " 'prompt_toolkit.styles.defaults',\n",
       " 'prompt_toolkit.styles.style',\n",
       " 'prompt_toolkit.styles.named_colors',\n",
       " 'prompt_toolkit.styles.pygments',\n",
       " 'prompt_toolkit.styles.style_transformation',\n",
       " 'colorsys',\n",
       " 'array',\n",
       " 'prompt_toolkit.formatted_text.pygments',\n",
       " 'prompt_toolkit.formatted_text.utils',\n",
       " 'prompt_toolkit.lexers',\n",
       " 'prompt_toolkit.lexers.base',\n",
       " 'prompt_toolkit.lexers.pygments',\n",
       " 'prompt_toolkit.mouse_events',\n",
       " 'prompt_toolkit.layout.processors',\n",
       " 'prompt_toolkit.layout.utils',\n",
       " 'prompt_toolkit.layout.dimension',\n",
       " 'prompt_toolkit.layout.margins',\n",
       " 'prompt_toolkit.layout.layout',\n",
       " 'prompt_toolkit.layout.menus',\n",
       " 'prompt_toolkit.renderer',\n",
       " 'prompt_toolkit.layout.mouse_handlers',\n",
       " 'prompt_toolkit.key_binding.bindings.cpr',\n",
       " 'prompt_toolkit.key_binding.emacs_state',\n",
       " 'prompt_toolkit.layout.dummy',\n",
       " 'prompt_toolkit.application.dummy',\n",
       " 'prompt_toolkit.shortcuts',\n",
       " 'prompt_toolkit.shortcuts.dialogs',\n",
       " 'prompt_toolkit.key_binding.bindings.focus',\n",
       " 'prompt_toolkit.widgets',\n",
       " 'prompt_toolkit.widgets.base',\n",
       " 'prompt_toolkit.widgets.toolbars',\n",
       " 'prompt_toolkit.widgets.dialogs',\n",
       " 'prompt_toolkit.widgets.menus',\n",
       " 'prompt_toolkit.shortcuts.prompt',\n",
       " 'prompt_toolkit.key_binding.bindings.auto_suggest',\n",
       " 'prompt_toolkit.key_binding.bindings.open_in_editor',\n",
       " 'prompt_toolkit.shortcuts.utils',\n",
       " 'prompt_toolkit.shortcuts.progress_bar',\n",
       " 'prompt_toolkit.shortcuts.progress_bar.base',\n",
       " 'prompt_toolkit.shortcuts.progress_bar.formatters',\n",
       " 'prompt_toolkit.patch_stdout',\n",
       " 'pygments.style',\n",
       " 'IPython.terminal.debugger',\n",
       " 'IPython.core.completer',\n",
       " 'unicodedata',\n",
       " 'IPython.core.latex_symbols',\n",
       " 'IPython.utils.generics',\n",
       " 'jedi',\n",
       " 'jedi.api',\n",
       " 'parso',\n",
       " 'parso.parser',\n",
       " 'parso.tree',\n",
       " 'parso._compatibility',\n",
       " 'parso.utils',\n",
       " 'parso.pgen2',\n",
       " 'parso.pgen2.generator',\n",
       " 'parso.pgen2.grammar_parser',\n",
       " 'parso.python',\n",
       " 'parso.python.tokenize',\n",
       " 'parso.python.token',\n",
       " 'parso.grammar',\n",
       " 'parso.python.diff',\n",
       " 'difflib',\n",
       " 'parso.python.parser',\n",
       " 'parso.python.tree',\n",
       " 'parso.python.prefix',\n",
       " 'parso.cache',\n",
       " 'gc',\n",
       " 'parso.python.errors',\n",
       " 'parso.normalizer',\n",
       " 'parso.python.pep8',\n",
       " 'parso.file_io',\n",
       " 'jedi._compatibility',\n",
       " 'jedi.parser_utils',\n",
       " 'jedi.debug',\n",
       " 'colorama',\n",
       " 'colorama.initialise',\n",
       " 'colorama.ansitowin32',\n",
       " 'colorama.ansi',\n",
       " 'colorama.winterm',\n",
       " 'colorama.win32',\n",
       " 'ctypes',\n",
       " '_ctypes',\n",
       " 'ctypes._endian',\n",
       " 'jedi.settings',\n",
       " 'jedi.cache',\n",
       " 'jedi.api.classes',\n",
       " 'jedi.evaluate',\n",
       " 'jedi.evaluate.utils',\n",
       " 'jedi.evaluate.imports',\n",
       " 'jedi.evaluate.sys_path',\n",
       " 'jedi.evaluate.cache',\n",
       " 'jedi.evaluate.base_context',\n",
       " 'jedi.common',\n",
       " 'jedi.common.context',\n",
       " 'jedi.evaluate.helpers',\n",
       " 'jedi.common.utils',\n",
       " 'jedi.evaluate.compiled',\n",
       " 'jedi.evaluate.compiled.context',\n",
       " 'jedi.evaluate.filters',\n",
       " 'jedi.evaluate.flow_analysis',\n",
       " 'jedi.evaluate.recursion',\n",
       " 'jedi.evaluate.lazy_context',\n",
       " 'jedi.evaluate.compiled.access',\n",
       " 'jedi.evaluate.compiled.getattr_static',\n",
       " 'jedi.evaluate.compiled.fake',\n",
       " 'jedi.evaluate.analysis',\n",
       " 'jedi.evaluate.context',\n",
       " 'jedi.evaluate.context.module',\n",
       " 'jedi.evaluate.context.klass',\n",
       " 'jedi.evaluate.context.function',\n",
       " 'jedi.evaluate.docstrings',\n",
       " 'jedi.evaluate.pep0484',\n",
       " 'jedi.evaluate.arguments',\n",
       " 'jedi.evaluate.context.iterable',\n",
       " 'jedi.evaluate.param',\n",
       " 'jedi.evaluate.context.asynchronous',\n",
       " 'jedi.evaluate.parser_cache',\n",
       " 'jedi.evaluate.context.instance',\n",
       " 'jedi.evaluate.syntax_tree',\n",
       " 'jedi.evaluate.finder',\n",
       " 'jedi.api.keywords',\n",
       " 'pydoc_data',\n",
       " 'pydoc_data.topics',\n",
       " 'jedi.api.interpreter',\n",
       " 'jedi.evaluate.compiled.mixed',\n",
       " 'jedi.api.helpers',\n",
       " 'jedi.api.completion',\n",
       " 'jedi.api.environment',\n",
       " 'filecmp',\n",
       " 'jedi.evaluate.compiled.subprocess',\n",
       " 'jedi.evaluate.compiled.subprocess.functions',\n",
       " 'jedi.api.exceptions',\n",
       " 'jedi.api.project',\n",
       " 'jedi.evaluate.usages',\n",
       " 'IPython.terminal.ptutils',\n",
       " 'IPython.terminal.shortcuts',\n",
       " 'IPython.terminal.magics',\n",
       " 'IPython.lib.clipboard',\n",
       " 'IPython.terminal.pt_inputhooks',\n",
       " 'IPython.terminal.prompts',\n",
       " 'IPython.terminal.ipapp',\n",
       " 'IPython.core.magics',\n",
       " 'IPython.core.magics.auto',\n",
       " 'IPython.core.magics.basic',\n",
       " 'IPython.core.magics.code',\n",
       " 'urllib.request',\n",
       " 'email',\n",
       " 'http',\n",
       " 'http.client',\n",
       " 'email.parser',\n",
       " 'email.feedparser',\n",
       " 'email.errors',\n",
       " 'email._policybase',\n",
       " 'email.header',\n",
       " 'email.quoprimime',\n",
       " 'email.base64mime',\n",
       " 'email.charset',\n",
       " 'email.encoders',\n",
       " 'quopri',\n",
       " 'email.utils',\n",
       " 'email._parseaddr',\n",
       " 'calendar',\n",
       " 'email.message',\n",
       " 'uu',\n",
       " 'email._encoded_words',\n",
       " 'email.iterators',\n",
       " 'urllib.error',\n",
       " 'urllib.response',\n",
       " '_scproxy',\n",
       " 'IPython.core.magics.config',\n",
       " 'IPython.core.magics.display',\n",
       " 'IPython.core.magics.execution',\n",
       " 'timeit',\n",
       " 'cProfile',\n",
       " '_lsprof',\n",
       " 'profile',\n",
       " 'pstats',\n",
       " 'IPython.utils.module_paths',\n",
       " 'IPython.utils.timing',\n",
       " 'IPython.core.magics.extension',\n",
       " 'IPython.core.magics.history',\n",
       " 'IPython.core.magics.logging',\n",
       " 'IPython.core.magics.namespace',\n",
       " 'IPython.core.magics.osm',\n",
       " 'IPython.core.magics.packaging',\n",
       " 'IPython.core.magics.pylab',\n",
       " 'IPython.core.pylabtools',\n",
       " 'IPython.core.magics.script',\n",
       " 'IPython.lib.backgroundjobs',\n",
       " 'IPython.core.shellapp',\n",
       " 'IPython.extensions',\n",
       " 'IPython.extensions.storemagic',\n",
       " 'IPython.utils.frame',\n",
       " 'jupyter_client',\n",
       " 'jupyter_client._version',\n",
       " 'jupyter_client.connect',\n",
       " 'zmq',\n",
       " 'zmq.backend',\n",
       " 'zmq.backend.select',\n",
       " 'zmq.backend.cython',\n",
       " 'zmq.backend.cython.constants',\n",
       " 'cython_runtime',\n",
       " 'zmq.backend.cython.error',\n",
       " '_cython_0_29_6',\n",
       " 'zmq.backend.cython.message',\n",
       " 'zmq.error',\n",
       " 'zmq.backend.cython.context',\n",
       " 'zmq.backend.cython.socket',\n",
       " 'zmq.backend.cython.utils',\n",
       " 'zmq.backend.cython._poll',\n",
       " 'zmq.backend.cython._version',\n",
       " 'zmq.backend.cython._device',\n",
       " 'zmq.backend.cython._proxy_steerable',\n",
       " 'zmq.sugar',\n",
       " 'zmq.sugar.constants',\n",
       " 'zmq.utils',\n",
       " 'zmq.utils.constant_names',\n",
       " 'zmq.sugar.context',\n",
       " 'zmq.sugar.attrsettr',\n",
       " 'zmq.sugar.socket',\n",
       " 'zmq.sugar.poll',\n",
       " 'zmq.utils.jsonapi',\n",
       " 'zmq.utils.strtypes',\n",
       " 'zmq.sugar.frame',\n",
       " 'zmq.sugar.tracker',\n",
       " 'zmq.sugar.version',\n",
       " 'zmq.sugar.stopwatch',\n",
       " 'jupyter_client.localinterfaces',\n",
       " 'jupyter_core',\n",
       " 'jupyter_core.version',\n",
       " 'jupyter_core.paths',\n",
       " 'jupyter_client.launcher',\n",
       " 'traitlets.log',\n",
       " 'jupyter_client.client',\n",
       " 'jupyter_client.channels',\n",
       " 'jupyter_client.channelsabc',\n",
       " 'jupyter_client.clientabc',\n",
       " 'jupyter_client.manager',\n",
       " 'jupyter_client.kernelspec',\n",
       " 'jupyter_client.managerabc',\n",
       " 'jupyter_client.blocking',\n",
       " 'jupyter_client.blocking.client',\n",
       " 'jupyter_client.blocking.channels',\n",
       " 'jupyter_client.multikernelmanager',\n",
       " 'uuid',\n",
       " '_uuid',\n",
       " 'ipykernel.kernelapp',\n",
       " 'tornado',\n",
       " 'tornado.ioloop',\n",
       " 'numbers',\n",
       " 'tornado.concurrent',\n",
       " 'tornado.log',\n",
       " 'logging.handlers',\n",
       " 'tornado.escape',\n",
       " 'tornado.util',\n",
       " 'tornado.speedups',\n",
       " 'curses',\n",
       " '_curses',\n",
       " 'zmq.eventloop',\n",
       " 'zmq.eventloop.ioloop',\n",
       " 'tornado.platform',\n",
       " 'tornado.platform.asyncio',\n",
       " 'tornado.gen',\n",
       " 'zmq.eventloop.zmqstream',\n",
       " 'ipykernel.iostream',\n",
       " 'imp',\n",
       " 'jupyter_client.session',\n",
       " 'hmac',\n",
       " 'jupyter_client.jsonutil',\n",
       " 'dateutil',\n",
       " 'dateutil._version',\n",
       " 'dateutil.parser',\n",
       " 'dateutil.parser._parser',\n",
       " 'decimal',\n",
       " '_decimal',\n",
       " 'dateutil.relativedelta',\n",
       " 'dateutil._common',\n",
       " 'dateutil.tz',\n",
       " 'dateutil.tz.tz',\n",
       " 'dateutil.tz._common',\n",
       " 'dateutil.tz._factories',\n",
       " 'dateutil.parser.isoparser',\n",
       " '_strptime',\n",
       " 'jupyter_client.adapter',\n",
       " 'ipykernel.heartbeat',\n",
       " 'ipykernel.ipkernel',\n",
       " 'IPython.utils.tokenutil',\n",
       " 'ipykernel.comm',\n",
       " 'ipykernel.comm.manager',\n",
       " 'ipykernel.comm.comm',\n",
       " 'ipykernel.kernelbase',\n",
       " 'tornado.queues',\n",
       " 'tornado.locks',\n",
       " 'ipykernel.jsonutil',\n",
       " 'ipykernel.zmqshell',\n",
       " 'IPython.core.payloadpage',\n",
       " 'ipykernel.displayhook',\n",
       " 'ipykernel.parentpoller',\n",
       " 'faulthandler',\n",
       " 'ipykernel.datapub',\n",
       " 'ipykernel.serialize',\n",
       " 'ipykernel.pickleutil',\n",
       " 'ipykernel.codeutil',\n",
       " 'IPython.core.completerlib',\n",
       " 'storemagic',\n",
       " 'ipywidgets',\n",
       " 'ipywidgets._version',\n",
       " 'ipywidgets.widgets',\n",
       " 'ipywidgets.widgets.widget',\n",
       " 'ipywidgets.widgets.domwidget',\n",
       " 'ipywidgets.widgets.trait_types',\n",
       " 'ipywidgets.widgets.widget_layout',\n",
       " 'ipywidgets.widgets.widget_style',\n",
       " 'ipywidgets.widgets.valuewidget',\n",
       " 'ipywidgets.widgets.widget_core',\n",
       " 'ipywidgets.widgets.widget_bool',\n",
       " 'ipywidgets.widgets.widget_description',\n",
       " 'ipywidgets.widgets.widget_button',\n",
       " 'ipywidgets.widgets.widget_box',\n",
       " 'ipywidgets.widgets.docutils',\n",
       " 'ipywidgets.widgets.widget_float',\n",
       " 'ipywidgets.widgets.widget_int',\n",
       " 'ipywidgets.widgets.widget_image',\n",
       " 'ipywidgets.widgets.widget_color',\n",
       " 'ipywidgets.widgets.widget_date',\n",
       " 'ipywidgets.widgets.widget_output',\n",
       " 'ipywidgets.widgets.widget_selection',\n",
       " 'ipywidgets.widgets.widget_selectioncontainer',\n",
       " 'ipywidgets.widgets.widget_string',\n",
       " 'ipywidgets.widgets.widget_controller',\n",
       " 'ipywidgets.widgets.interaction',\n",
       " 'ipywidgets.widgets.widget_link',\n",
       " 'm']"
      ]
     },
     "execution_count": 30,
     "metadata": {},
     "output_type": "execute_result"
    }
   ],
   "source": [
    "import sys\n",
    "list(sys.modules.keys())"
   ]
  },
  {
   "cell_type": "code",
   "execution_count": 34,
   "metadata": {
    "ExecuteTime": {
     "end_time": "2018-12-01T13:37:12.613199Z",
     "start_time": "2018-12-01T13:37:12.343208Z"
    },
    "collapsed": true
   },
   "outputs": [
    {
     "data": {
      "text/plain": [
       "'<!DOCTYPE html>\\r\\n<!--STATUS OK--><html> <head><meta http-equiv=content-type content=text/html;charset=utf-8><meta http-equiv=X-UA-Compatible content=IE=Edge><meta content=always name=referrer><link rel=stylesheet type=text/css href=http://s1.bdstatic.com/r/www/cache/bdorz/baidu.min.css><title>ç\\x99¾åº¦ä¸\\x80ä¸\\x8bï¼\\x8cä½\\xa0å°±ç\\x9f¥é\\x81\\x93</title></head> <body link=#0000cc> <div id=wrapper> <div id=head> <div class=head_wrapper> <div class=s_form> <div class=s_form_wrapper> <div id=lg> <img hidefocus=true src=//www.baidu.com/img/bd_logo1.png width=270 height=129> </div> <form id=form name=f action=//www.baidu.com/s class=fm> <input type=hidden name=bdorz_come value=1> <input type=hidden name=ie value=utf-8> <input type=hidden name=f value=8> <input type=hidden name=rsv_bp value=1> <input type=hidden name=rsv_idx value=1> <input type=hidden name=tn value=baidu><span class=\"bg s_ipt_wr\"><input id=kw name=wd class=s_ipt value maxlength=255 autocomplete=off autofocus></span><span class=\"bg s_btn_wr\"><input type=submit id=su value=ç\\x99¾åº¦ä¸\\x80ä¸\\x8b class=\"bg s_btn\"></span> </form> </div> </div> <div id=u1> <a href=http://news.baidu.com name=tj_trnews class=mnav>æ\\x96°é\\x97»</a> <a href=http://www.hao123.com name=tj_trhao123 class=mnav>hao123</a> <a href=http://map.baidu.com name=tj_trmap class=mnav>å\\x9c°å\\x9b¾</a> <a href=http://v.baidu.com name=tj_trvideo class=mnav>è§\\x86é¢\\x91</a> <a href=http://tieba.baidu.com name=tj_trtieba class=mnav>è´´å\\x90§</a> <noscript> <a href=http://www.baidu.com/bdorz/login.gif?login&amp;tpl=mn&amp;u=http%3A%2F%2Fwww.baidu.com%2f%3fbdorz_come%3d1 name=tj_login class=lb>ç\\x99»å½\\x95</a> </noscript> <script>document.write(\\'<a href=\"http://www.baidu.com/bdorz/login.gif?login&tpl=mn&u=\\'+ encodeURIComponent(window.location.href+ (window.location.search === \"\" ? \"?\" : \"&\")+ \"bdorz_come=1\")+ \\'\" name=\"tj_login\" class=\"lb\">ç\\x99»å½\\x95</a>\\');</script> <a href=//www.baidu.com/more/ name=tj_briicon class=bri style=\"display: block;\">æ\\x9b´å¤\\x9aäº§å\\x93\\x81</a> </div> </div> </div> <div id=ftCon> <div id=ftConw> <p id=lh> <a href=http://home.baidu.com>å\\x85³äº\\x8eç\\x99¾åº¦</a> <a href=http://ir.baidu.com>About Baidu</a> </p> <p id=cp>&copy;2017&nbsp;Baidu&nbsp;<a href=http://www.baidu.com/duty/>ä½¿ç\\x94¨ç\\x99¾åº¦å\\x89\\x8då¿\\x85è¯»</a>&nbsp; <a href=http://jianyi.baidu.com/ class=cp-feedback>æ\\x84\\x8fè§\\x81å\\x8f\\x8dé¦\\x88</a>&nbsp;äº¬ICPè¯\\x81030173å\\x8f·&nbsp; <img src=//www.baidu.com/img/gs.gif> </p> </div> </div> </div> </body> </html>\\r\\n'"
      ]
     },
     "execution_count": 34,
     "metadata": {},
     "output_type": "execute_result"
    }
   ],
   "source": [
    "import requests\n",
    "r=requests.get('http://www.baidu.com')\n",
    "html_code=r.text\n",
    "html_code"
   ]
  },
  {
   "cell_type": "code",
   "execution_count": 36,
   "metadata": {
    "collapsed": true
   },
   "outputs": [
    {
     "data": {
      "text/html": [
       "'<!DOCTYPE html>\\r\\n<!--STATUS OK--><html> <head><meta http-equiv=content-type content=text/html;charset=utf-8><meta http-equiv=X-UA-Compatible content=IE=Edge><meta content=always name=referrer><link rel=stylesheet type=text/css href=http://s1.bdstatic.com/r/www/cache/bdorz/baidu.min.css><title>ç\\x99¾åº¦ä¸\\x80ä¸\\x8bï¼\\x8cä½\\xa0å°±ç\\x9f¥é\\x81\\x93</title></head> <body link=#0000cc> <div id=wrapper> <div id=head> <div class=head_wrapper> <div class=s_form> <div class=s_form_wrapper> <div id=lg> <img hidefocus=true src=//www.baidu.com/img/bd_logo1.png width=270 height=129> </div> <form id=form name=f action=//www.baidu.com/s class=fm> <input type=hidden name=bdorz_come value=1> <input type=hidden name=ie value=utf-8> <input type=hidden name=f value=8> <input type=hidden name=rsv_bp value=1> <input type=hidden name=rsv_idx value=1> <input type=hidden name=tn value=baidu><span class=\"bg s_ipt_wr\"><input id=kw name=wd class=s_ipt value maxlength=255 autocomplete=off autofocus></span><span class=\"bg s_btn_wr\"><input type=submit id=su value=ç\\x99¾åº¦ä¸\\x80ä¸\\x8b class=\"bg s_btn\"></span> </form> </div> </div> <div id=u1> <a href=http://news.baidu.com name=tj_trnews class=mnav>æ\\x96°é\\x97»</a> <a href=http://www.hao123.com name=tj_trhao123 class=mnav>hao123</a> <a href=http://map.baidu.com name=tj_trmap class=mnav>å\\x9c°å\\x9b¾</a> <a href=http://v.baidu.com name=tj_trvideo class=mnav>è§\\x86é¢\\x91</a> <a href=http://tieba.baidu.com name=tj_trtieba class=mnav>è´´å\\x90§</a> <noscript> <a href=http://www.baidu.com/bdorz/login.gif?login&amp;tpl=mn&amp;u=http%3A%2F%2Fwww.baidu.com%2f%3fbdorz_come%3d1 name=tj_login class=lb>ç\\x99»å½\\x95</a> </noscript> <script>document.write(\\'<a href=\"http://www.baidu.com/bdorz/login.gif?login&tpl=mn&u=\\'+ encodeURIComponent(window.location.href+ (window.location.search === \"\" ? \"?\" : \"&\")+ \"bdorz_come=1\")+ \\'\" name=\"tj_login\" class=\"lb\">ç\\x99»å½\\x95</a>\\');</script> <a href=//www.baidu.com/more/ name=tj_briicon class=bri style=\"display: block;\">æ\\x9b´å¤\\x9aäº§å\\x93\\x81</a> </div> </div> </div> <div id=ftCon> <div id=ftConw> <p id=lh> <a href=http://home.baidu.com>å\\x85³äº\\x8eç\\x99¾åº¦</a> <a href=http://ir.baidu.com>About Baidu</a> </p> <p id=cp>&copy;2017&nbsp;Baidu&nbsp;<a href=http://www.baidu.com/duty/>ä½¿ç\\x94¨ç\\x99¾åº¦å\\x89\\x8då¿\\x85è¯»</a>&nbsp; <a href=http://jianyi.baidu.com/ class=cp-feedback>æ\\x84\\x8fè§\\x81å\\x8f\\x8dé¦\\x88</a>&nbsp;äº¬ICPè¯\\x81030173å\\x8f·&nbsp; <img src=//www.baidu.com/img/gs.gif> </p> </div> </div> </div> </body> </html>\\r\\n'\n"
      ],
      "text/plain": [
       "<IPython.core.display.HTML object>"
      ]
     },
     "metadata": {},
     "output_type": "display_data"
    }
   ],
   "source": [
    "%%html\n",
    "'<!DOCTYPE html>\\r\\n<!--STATUS OK--><html> <head><meta http-equiv=content-type content=text/html;charset=utf-8><meta http-equiv=X-UA-Compatible content=IE=Edge><meta content=always name=referrer><link rel=stylesheet type=text/css href=http://s1.bdstatic.com/r/www/cache/bdorz/baidu.min.css><title>ç\\x99¾åº¦ä¸\\x80ä¸\\x8bï¼\\x8cä½\\xa0å°±ç\\x9f¥é\\x81\\x93</title></head> <body link=#0000cc> <div id=wrapper> <div id=head> <div class=head_wrapper> <div class=s_form> <div class=s_form_wrapper> <div id=lg> <img hidefocus=true src=//www.baidu.com/img/bd_logo1.png width=270 height=129> </div> <form id=form name=f action=//www.baidu.com/s class=fm> <input type=hidden name=bdorz_come value=1> <input type=hidden name=ie value=utf-8> <input type=hidden name=f value=8> <input type=hidden name=rsv_bp value=1> <input type=hidden name=rsv_idx value=1> <input type=hidden name=tn value=baidu><span class=\"bg s_ipt_wr\"><input id=kw name=wd class=s_ipt value maxlength=255 autocomplete=off autofocus></span><span class=\"bg s_btn_wr\"><input type=submit id=su value=ç\\x99¾åº¦ä¸\\x80ä¸\\x8b class=\"bg s_btn\"></span> </form> </div> </div> <div id=u1> <a href=http://news.baidu.com name=tj_trnews class=mnav>æ\\x96°é\\x97»</a> <a href=http://www.hao123.com name=tj_trhao123 class=mnav>hao123</a> <a href=http://map.baidu.com name=tj_trmap class=mnav>å\\x9c°å\\x9b¾</a> <a href=http://v.baidu.com name=tj_trvideo class=mnav>è§\\x86é¢\\x91</a> <a href=http://tieba.baidu.com name=tj_trtieba class=mnav>è´´å\\x90§</a> <noscript> <a href=http://www.baidu.com/bdorz/login.gif?login&amp;tpl=mn&amp;u=http%3A%2F%2Fwww.baidu.com%2f%3fbdorz_come%3d1 name=tj_login class=lb>ç\\x99»å½\\x95</a> </noscript> <script>document.write(\\'<a href=\"http://www.baidu.com/bdorz/login.gif?login&tpl=mn&u=\\'+ encodeURIComponent(window.location.href+ (window.location.search === \"\" ? \"?\" : \"&\")+ \"bdorz_come=1\")+ \\'\" name=\"tj_login\" class=\"lb\">ç\\x99»å½\\x95</a>\\');</script> <a href=//www.baidu.com/more/ name=tj_briicon class=bri style=\"display: block;\">æ\\x9b´å¤\\x9aäº§å\\x93\\x81</a> </div> </div> </div> <div id=ftCon> <div id=ftConw> <p id=lh> <a href=http://home.baidu.com>å\\x85³äº\\x8eç\\x99¾åº¦</a> <a href=http://ir.baidu.com>About Baidu</a> </p> <p id=cp>&copy;2017&nbsp;Baidu&nbsp;<a href=http://www.baidu.com/duty/>ä½¿ç\\x94¨ç\\x99¾åº¦å\\x89\\x8då¿\\x85è¯»</a>&nbsp; <a href=http://jianyi.baidu.com/ class=cp-feedback>æ\\x84\\x8fè§\\x81å\\x8f\\x8dé¦\\x88</a>&nbsp;äº¬ICPè¯\\x81030173å\\x8f·&nbsp; <img src=//www.baidu.com/img/gs.gif> </p> </div> </div> </div> </body> </html>\\r\\n'"
   ]
  },
  {
   "cell_type": "code",
   "execution_count": 35,
   "metadata": {
    "ExecuteTime": {
     "end_time": "2018-12-01T13:37:45.290590Z",
     "start_time": "2018-12-01T13:37:45.248589Z"
    }
   },
   "outputs": [
    {
     "data": {
      "text/plain": [
       "0"
      ]
     },
     "execution_count": 35,
     "metadata": {},
     "output_type": "execute_result"
    }
   ],
   "source": [
    "import os\n",
    "os.system('mkdir os_test')"
   ]
  },
  {
   "cell_type": "markdown",
   "metadata": {},
   "source": [
    "##### 使用浏览器查看内置包"
   ]
  },
  {
   "cell_type": "markdown",
   "metadata": {},
   "source": [
    "cmd命令行下运行，`python -m pydoc -p 1234 `"
   ]
  },
  {
   "cell_type": "markdown",
   "metadata": {},
   "source": [
    "#### 三方包的管理"
   ]
  },
  {
   "cell_type": "code",
   "execution_count": 38,
   "metadata": {
    "ExecuteTime": {
     "end_time": "2018-12-01T13:38:39.172373Z",
     "start_time": "2018-12-01T13:38:39.123374Z"
    },
    "collapsed": true
   },
   "outputs": [
    {
     "name": "stdout",
     "output_type": "stream",
     "text": [
      "Package                            Version   \r\n",
      "---------------------------------- ----------\r\n",
      "appnope                            0.1.0     \r\n",
      "backcall                           0.1.0     \r\n",
      "backports.shutil-get-terminal-size 1.0.0     \r\n",
      "bleach                             2.1.3     \r\n",
      "certifi                            2019.11.28\r\n",
      "chardet                            3.0.4     \r\n",
      "colorama                           0.4.0     \r\n",
      "cycler                             0.10.0    \r\n",
      "decorator                          4.4.0     \r\n",
      "entrypoints                        0.2.3     \r\n",
      "html5lib                           1.0.1     \r\n",
      "idna                               2.8       \r\n",
      "ipykernel                          5.1.0     \r\n",
      "ipython                            7.5.0     \r\n",
      "ipython-genutils                   0.2.0     \r\n",
      "ipywidgets                         7.2.1     \r\n",
      "jedi                               0.13.3    \r\n",
      "Jinja2                             2.10      \r\n",
      "jsonschema                         2.6.0     \r\n",
      "jupyter                            1.0.0     \r\n",
      "jupyter-client                     5.2.4     \r\n",
      "jupyter-console                    5.2.0     \r\n",
      "jupyter-contrib-core               0.3.3     \r\n",
      "jupyter-contrib-nbextensions       0.5.1     \r\n",
      "jupyter-core                       4.4.0     \r\n",
      "jupyter-highlight-selected-word    0.2.0     \r\n",
      "jupyter-latex-envs                 1.4.6     \r\n",
      "jupyter-nbextensions-configurator  0.4.1     \r\n",
      "kiwisolver                         1.1.0     \r\n",
      "lxml                               4.5.0     \r\n",
      "MarkupSafe                         1.0       \r\n",
      "matplotlib                         3.1.3     \r\n",
      "mistune                            0.8.3     \r\n",
      "nbconvert                          5.3.1     \r\n",
      "nbformat                           4.4.0     \r\n",
      "notebook                           5.5.0     \r\n",
      "numpy                              1.15.3    \r\n",
      "pandas                             1.0.0     \r\n",
      "pandocfilters                      1.4.2     \r\n",
      "parso                              0.4.0     \r\n",
      "pexpect                            4.7.0     \r\n",
      "pickleshare                        0.7.5     \r\n",
      "pip                                19.1.1    \r\n",
      "prompt-toolkit                     2.0.9     \r\n",
      "ptyprocess                         0.6.0     \r\n",
      "Pygments                           2.3.1     \r\n",
      "pyparsing                          2.4.6     \r\n",
      "python-dateutil                    2.8.0     \r\n",
      "pytz                               2019.3    \r\n",
      "PyYAML                             5.3       \r\n",
      "pyzmq                              18.0.1    \r\n",
      "qtconsole                          4.3.1     \r\n",
      "RBTools                            1.0.1     \r\n",
      "requests                           2.22.0    \r\n",
      "scipy                              1.4.1     \r\n",
      "seaborn                            0.10.0    \r\n",
      "Send2Trash                         1.5.0     \r\n",
      "setuptools                         41.0.1    \r\n",
      "simplegeneric                      0.8.1     \r\n",
      "six                                1.12.0    \r\n",
      "terminado                          0.8.1     \r\n",
      "testpath                           0.3.1     \r\n",
      "texttable                          1.4.0     \r\n",
      "tornado                            6.0.2     \r\n",
      "tqdm                               4.28.1    \r\n",
      "traitlets                          4.3.2     \r\n",
      "urllib3                            1.25.8    \r\n",
      "virtualenv                         16.5.0    \r\n",
      "wcwidth                            0.1.7     \r\n",
      "webencodings                       0.5.1     \r\n",
      "wheel                              0.33.4    \r\n",
      "widgetsnbextension                 3.2.1     \r\n"
     ]
    }
   ],
   "source": [
    "!pip3 list #列出所有的package"
   ]
  },
  {
   "cell_type": "markdown",
   "metadata": {},
   "source": [
    "#### 批量安装Package   \n",
    "创建requirements.txt文件，将所需安装的包的名字都分行放在里\n",
    "\n",
    "pip install -r ./requirements.txt"
   ]
  },
  {
   "cell_type": "markdown",
   "metadata": {},
   "source": [
    "## 如何高效得使用帮助"
   ]
  },
  {
   "cell_type": "markdown",
   "metadata": {},
   "source": [
    "- 官网文档 https://docs.python.org/3/\n",
    "- dir与tab的使用\n",
    "- help, ?,shift-tab的使用"
   ]
  },
  {
   "cell_type": "code",
   "execution_count": 44,
   "metadata": {
    "ExecuteTime": {
     "end_time": "2018-12-01T13:42:19.124272Z",
     "start_time": "2018-12-01T13:42:19.118275Z"
    }
   },
   "outputs": [
    {
     "data": {
      "text/plain": [
       "'                   julyEdu.com'"
      ]
     },
     "execution_count": 44,
     "metadata": {},
     "output_type": "execute_result"
    }
   ],
   "source": [
    "str1='julyEdu.com'\n",
    "str1.rjust?\n",
    "str1.rjust(30)"
   ]
  },
  {
   "cell_type": "code",
   "execution_count": 45,
   "metadata": {
    "scrolled": true
   },
   "outputs": [
    {
     "name": "stdout",
     "output_type": "stream",
     "text": [
      "Help on built-in function exec in module builtins:\n",
      "\n",
      "exec(source, globals=None, locals=None, /)\n",
      "    Execute the given source in the context of globals and locals.\n",
      "    \n",
      "    The source may be a string representing one or more Python statements\n",
      "    or a code object as returned by compile().\n",
      "    The globals must be a dictionary and locals can be any mapping,\n",
      "    defaulting to the current globals and locals.\n",
      "    If only globals is given, locals defaults to it.\n",
      "\n"
     ]
    }
   ],
   "source": [
    "help(exec)"
   ]
  },
  {
   "cell_type": "code",
   "execution_count": 46,
   "metadata": {
    "collapsed": true
   },
   "outputs": [],
   "source": [
    "?exec"
   ]
  },
  {
   "cell_type": "markdown",
   "metadata": {},
   "source": [
    "#### 延伸阅读： PEP- Python增强建议书\n",
    "https://blog.csdn.net/ratsniper/article/details/78954852\n",
    " \n",
    "PEP是Python Enhancement Proposals的缩写。一个PEP是一份为Python社区提供各种增强功能的技术规格，也是提交新特性，以便让社区指出问题，精确化技术文档的提案。\n",
    "\n",
    "https://www.python.org/dev/peps/\n",
    "\n",
    "https://www.python.org/dev/peps/pep-3104/\n",
    "https://blog.csdn.net/ratsniper/article/details/78954852\n"
   ]
  },
  {
   "cell_type": "markdown",
   "metadata": {},
   "source": [
    "## 作业"
   ]
  },
  {
   "cell_type": "markdown",
   "metadata": {},
   "source": [
    "### 安装配置好Anaconda工作环境\n",
    "### 完成Notebook文件的创建，保存，下载，导入等文件操作\n",
    "### 在Cell的Markdown模式下，使用Latex编写标准正态分布的概率密度函数\n",
    "$f(x)=\\frac{1}{\\sqrt{2\\pi}\\delta}exp(-\\frac{(x-\\mu)^2}{2\\delta^2})$\n",
    "### 熟悉Notebook的魔法开关，尝试至少三种不同Notebook魔法命令\n",
    "### 在Notebook中，以使用命令行方式解析Python文件，并传递系统参数\n",
    "### 使用pip尝试安装Python三方包：Pillow，并完成导入"
   ]
  },
  {
   "cell_type": "code",
   "execution_count": 15,
   "metadata": {
    "ExecuteTime": {
     "end_time": "2018-12-08T12:22:31.650399Z",
     "start_time": "2018-12-08T12:22:31.611402Z"
    },
    "collapsed": true
   },
   "outputs": [],
   "source": [
    "!pip3 install pillow"
   ]
  }
 ],
 "metadata": {
  "kernelspec": {
   "display_name": "Python 2",
   "language": "python",
   "name": "python2"
  },
  "language_info": {
   "codemirror_mode": {
    "name": "ipython",
    "version": 2
   },
   "file_extension": ".py",
   "mimetype": "text/x-python",
   "name": "python",
   "nbconvert_exporter": "python",
   "pygments_lexer": "ipython2",
   "version": "2.7.13"
  },
  "latex_envs": {
   "LaTeX_envs_menu_present": true,
   "autoclose": false,
   "autocomplete": true,
   "bibliofile": "biblio.bib",
   "cite_by": "apalike",
   "current_citInitial": 1,
   "eqLabelWithNumbers": true,
   "eqNumInitial": 1,
   "hotkeys": {
    "equation": "Ctrl-E",
    "itemize": "Ctrl-I"
   },
   "labels_anchors": false,
   "latex_user_defs": false,
   "report_style_numbering": false,
   "user_envs_cfg": false
  },
  "toc": {
   "base_numbering": 1,
   "nav_menu": {},
   "number_sections": true,
   "sideBar": true,
   "skip_h1_title": false,
   "title_cell": "Table of Contents",
   "title_sidebar": "Contents",
   "toc_cell": false,
   "toc_position": {
    "height": "calc(100% - 180px)",
    "left": "10px",
    "top": "150px",
    "width": "326px"
   },
   "toc_section_display": true,
   "toc_window_display": true
  }
 },
 "nbformat": 4,
 "nbformat_minor": 2
}
