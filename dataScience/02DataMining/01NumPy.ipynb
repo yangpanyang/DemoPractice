{
 "cells": [
  {
   "cell_type": "markdown",
   "metadata": {},
   "source": [
    "NumPy是Python的科学计算的一个核心库。它提供了一个高性能的多维数组(矩阵)对象，可以完成在其之上的很多操作。很多机器学习中的计算问题，把数据vectorize之后可以进行非常高效的运算。"
   ]
  },
  {
   "cell_type": "markdown",
   "metadata": {},
   "source": [
    "## Numpy数组的创建\n",
    "### 初始化\n",
    "#### 使用List\n",
    "* 一个NumPy数组是一些类型相同的元素组成的类矩阵数据。用list或者层叠的list可以初始化："
   ]
  },
  {
   "cell_type": "code",
   "execution_count": 67,
   "metadata": {
    "ExecuteTime": {
     "end_time": "2020-02-12T03:22:47.292543Z",
     "start_time": "2020-02-12T03:22:47.281377Z"
    },
    "collapsed": true
   },
   "outputs": [
    {
     "name": "stdout",
     "output_type": "stream",
     "text": [
      "numpy.array type: <class 'numpy.ndarray'>\n",
      "shape of array: (3,)\n",
      "values in array: \n",
      "[1 2 3]\n",
      "a[0]=1, a[1]=2, a[2]=3\n",
      "*** changed the value with a[0]=5, values in array: [5 2 3]\n",
      "\n",
      "shape of new array: (2, 3)\n",
      "values in array:\n",
      "[[1 2 3]\n",
      " [4 5 6]]\n",
      "b[0,0]=1, b[0,1]=2, b[1,0]=4\n"
     ]
    }
   ],
   "source": [
    "import numpy as np\n",
    "\n",
    "a = np.array([1, 2, 3])  # 一维Numpy数组\n",
    "print(\"numpy.array type: {}\".format(type(a)))            # Prints \"<type 'numpy.ndarray'>\"\n",
    "print(\"shape of array: {}\".format(a.shape))          # Prints \"(3,)\"\n",
    "print(\"values in array: \\n{}\\na[0]={}, a[1]={}, a[2]={}\".format(a, a[0], a[1], a[2]))   # Prints \"1 2 3\"\n",
    "a[0] = 5                 # 重赋值\n",
    "print(\"*** changed the value with a[0]=5, values in array: {}\".format(a))                  # Prints \"[5, 2, 3]\"\n",
    "\n",
    "b = np.array([[1,2,3],[4,5,6]])   # 二维Numpy数组\n",
    "print(\"\\nshape of new array: {}\".format(b.shape))                    # Prints \"(2, 3)\"\n",
    "print(\"values in array:\\n{}\\nb[0,0]={}, b[0,1]={}, b[1,0]={}\".format(b, b[0,0], b[0,1], b[1,0]))   # Prints \"1 2 4\""
   ]
  },
  {
   "cell_type": "markdown",
   "metadata": {},
   "source": [
    "#### 使用特殊函数\n",
    "* 生成一些特殊的Numpy数组(矩阵)时，我们有特定的函数可以调用："
   ]
  },
  {
   "cell_type": "code",
   "execution_count": 23,
   "metadata": {
    "ExecuteTime": {
     "end_time": "2020-02-12T02:30:19.873399Z",
     "start_time": "2020-02-12T02:30:19.863671Z"
    },
    "collapsed": true
   },
   "outputs": [
    {
     "name": "stdout",
     "output_type": "stream",
     "text": [
      "array with zeros:\n",
      "[[0. 0.]\n",
      " [0. 0.]]\n",
      "\n",
      "array with ones:\n",
      "[[1. 1.]]\n",
      "\n",
      "array with a constant:\n",
      "[[7 7]\n",
      " [7 7]]\n",
      "\n",
      "array with eye:\n",
      "[[1. 0.]\n",
      " [0. 1.]]\n",
      "\n",
      "array with a randam:\n",
      "[[0.22607625 0.79457681]\n",
      " [0.24368967 0.69382384]]\n"
     ]
    }
   ],
   "source": [
    "a = np.zeros((2,2))  # 全0的2*2 Numpy数组\n",
    "print(\"array with zeros:\\n{}\".format(a))       # Prints \"[[ 0.  0.]\n",
    "                                              #          [ 0.  0.]]\"\n",
    "b = np.ones((1,2))   # 全1 Numpy数组\n",
    "print(\"\\narray with ones:\\n{}\".format(b))        # Prints \"[[ 1.  1.]]\"\n",
    "\n",
    "c = np.full((2,2), 7) # 固定值Numpy数组\n",
    "print(\"\\narray with a constant:\\n{}\".format(c))  # Prints \"[[ 7.  7.]\n",
    "                                              #          [ 7.  7.]]\"\n",
    "d = np.eye(2)        # 2*2 对角Numpy数组\n",
    "print(\"\\narray with eye:\\n{}\".format(d))         # Prints \"[[ 1.  0.]\n",
    "                                              #          [ 0.  1.]]\"\n",
    "e = np.random.random((2,2)) # 2*2 的随机Numpy数组\n",
    "print(\"\\narray with a randam:\\n{}\".format(e))  # 随机输出"
   ]
  },
  {
   "cell_type": "markdown",
   "metadata": {},
   "source": [
    "### 索引与取值\n",
    "#### 切片法\n",
    "* 可以通过像list一样的分片/slicing操作取出需要的数值部分。"
   ]
  },
  {
   "cell_type": "code",
   "execution_count": 84,
   "metadata": {
    "ExecuteTime": {
     "end_time": "2020-02-12T03:40:38.186128Z",
     "start_time": "2020-02-12T03:40:38.178136Z"
    },
    "collapsed": true
   },
   "outputs": [
    {
     "name": "stdout",
     "output_type": "stream",
     "text": [
      "shape of array a: (3, 4)\n",
      "values in array:\n",
      "[[ 1  2  3  4]\n",
      " [ 5  6  7  8]\n",
      " [ 9 10 11 12]]\n",
      "\n",
      "values in array b=a[:2, 1:3]:\n",
      "[[2 3]\n",
      " [6 7]]\n",
      "\n",
      "value of a[0,1]=2\n",
      "*** changed the value with b[0,0]=77 ***\n",
      "value of a[0,1]=77\n"
     ]
    }
   ],
   "source": [
    "# 创建如下的3*4 Numpy数组\n",
    "# [[ 1  2  3  4]\n",
    "#  [ 5  6  7  8]\n",
    "#  [ 9 10 11 12]]\n",
    "a=np.array([[1,2,3,4], [5,6,7,8], [9,10,11,12]])\n",
    "print(\"shape of array a: {}\".format(a.shape))\n",
    "print(\"values in array:\\n{}\".format(a))\n",
    "\n",
    "# 通过slicing取出前两行的2到3列:\n",
    "# [[2 3]\n",
    "#  [6 7]]\n",
    "b=a[:2, 1:3]\n",
    "print(\"\\nvalues in array b=a[:2, 1:3]:\\n{}\".format(b))\n",
    "\n",
    "# 需要注意的是取出的b中的数据实际上和a的这部分数据是同一份数据.\n",
    "print(\"\\nvalue of a[0,1]={}\".format(a[0,1]))   # Prints \"2\"\n",
    "b[0,0]=77    # b[0, 0] 和 a[0, 1] 是同一份数据\n",
    "print(\"*** changed the value with b[0,0]=77 ***\")\n",
    "print(\"value of a[0,1]={}\".format(a[0,1]))   # a也被修改了，Prints \"77\""
   ]
  },
  {
   "cell_type": "markdown",
   "metadata": {},
   "source": [
    "* 提取 行向量 / 列向量"
   ]
  },
  {
   "cell_type": "code",
   "execution_count": 86,
   "metadata": {
    "ExecuteTime": {
     "end_time": "2020-02-12T03:43:28.099906Z",
     "start_time": "2020-02-12T03:43:28.090814Z"
    },
    "collapsed": true
   },
   "outputs": [
    {
     "name": "stdout",
     "output_type": "stream",
     "text": [
      "shape of array a: (3, 4)\n",
      "values in array:\n",
      "[[ 1 77  3  4]\n",
      " [ 5  6  7  8]\n",
      " [ 9 10 11 12]]\n",
      "\n",
      "shape with a[1,:]: (4,)\n",
      "values in array:\n",
      "[5 6 7 8]\n",
      "\n",
      "shape with a[1:2,:]: (1, 4)\n",
      "values in array:\n",
      "[[5 6 7 8]]\n",
      "\n",
      "shape with a[:,1]: (3,)\n",
      "values in array:\n",
      "[77  6 10]\n",
      "\n",
      "shape with a[:,1:2]: (3, 1)\n",
      "values in array:\n",
      "[[77]\n",
      " [ 6]\n",
      " [10]]\n"
     ]
    }
   ],
   "source": [
    "print(\"shape of array a: {}\".format(a.shape))\n",
    "print(\"values in array:\\n{}\".format(a))\n",
    "\n",
    "row_r1 = a[1, :]    # a 的第二行  \n",
    "print(\"\\nshape with a[1,:]: {}\".format(row_r1.shape))\n",
    "print(\"values in array:\\n{}\".format(row_r1))   # Prints \"[5 6 7 8] (4,)\"\n",
    "\n",
    "row_r2 = a[1:2, :]  # 同上\n",
    "print(\"\\nshape with a[1:2,:]: {}\".format(row_r2.shape))\n",
    "print(\"values in array:\\n{}\".format(row_r2)) # Prints \"[[5 6 7 8]] (1, 4)\"\n",
    "\n",
    "col_r1 = a[:, 1]\n",
    "print(\"\\nshape with a[:,1]: {}\".format(col_r1.shape))\n",
    "print(\"values in array:\\n{}\".format(col_r1))   # Prints \"[ 2  6 10] (3,)\"\n",
    "\n",
    "col_r2 = a[:, 1:2]\n",
    "print(\"\\nshape with a[:,1:2]: {}\".format(col_r2.shape))\n",
    "print(\"values in array:\\n{}\".format(col_r2))"
   ]
  },
  {
   "cell_type": "markdown",
   "metadata": {},
   "source": [
    "* 提取子矩阵"
   ]
  },
  {
   "cell_type": "code",
   "execution_count": 61,
   "metadata": {
    "ExecuteTime": {
     "end_time": "2020-02-12T03:13:23.048352Z",
     "start_time": "2020-02-12T03:13:23.034503Z"
    },
    "collapsed": true
   },
   "outputs": [
    {
     "name": "stdout",
     "output_type": "stream",
     "text": [
      "shape with a: (3, 2)\n",
      "values in array a:\n",
      "[[1 2]\n",
      " [3 4]\n",
      " [5 6]]\n",
      "\n",
      "a[[0,1,2], [0,1,0]]:\n",
      "type: <class 'numpy.ndarray'>\n",
      "shape: (3,)\n",
      "values: [1 4 5]\n",
      "\n",
      "np.array([a[0,0], a[1,1], a[2,0]]):\n",
      "type: <class 'numpy.ndarray'>\n",
      "shape: (3,)\n",
      "values: [1 4 5]\n",
      "\n",
      "a[[0,0], [1,1]]:\n",
      "type: <class 'numpy.ndarray'>\n",
      "shape: (2,)\n",
      "values: [2 2]\n",
      "\n",
      "np.array([a[0,1], a[0,1]]):\n",
      "type: <class 'numpy.ndarray'>\n",
      "shape: (2,)\n",
      "values: [2 2]\n",
      "\n",
      "np.array([a[0,1], a[0,1]]):\n",
      "type with a[0,1]: <class 'numpy.int64'>\n",
      "type with [a[0,1], a[0,1]]: <class 'list'>\n",
      "type with np.array([a[0,1], a[0,1]]): <class 'numpy.ndarray'>\n"
     ]
    }
   ],
   "source": [
    "a = np.array([[1,2], [3, 4], [5, 6]])\n",
    "print(\"shape with a: {}\\nvalues in array a:\\n{}\".format(a.shape,a))\n",
    "\n",
    "# 取出(0,0) (1,1) (2,0)三个位置的值\n",
    "a1=a[[0,1,2], [0,1,0]]\n",
    "print(\"\\na[[0,1,2], [0,1,0]]:\\ntype: {}\\nshape: {}\\nvalues: {}\".format(type(a1), a1.shape, a1))  # Prints \"[1 4 5]\"\n",
    "\n",
    "# 和上面一样\n",
    "a2=np.array([a[0,0], a[1,1], a[2,0]])\n",
    "print(\"\\nnp.array([a[0,0], a[1,1], a[2,0]]):\\ntype: {}\\nshape: {}\\nvalues: {}\".format(type(a2), a2.shape, a2))  # Prints \"[1 4 5]\"\n",
    "\n",
    "# 取出(0,1) (0,1) 两个位置的值\n",
    "a3=a[[0,0], [1,1]]\n",
    "print(\"\\na[[0,0], [1,1]]:\\ntype: {}\\nshape: {}\\nvalues: {}\".format(type(a3), a3.shape, a3))  # Prints \"[2 2]\"\n",
    "\n",
    "# 同上\n",
    "a4=np.array([a[0,1], a[0,1]])\n",
    "print(\"\\nnp.array([a[0,1], a[0,1]]):\\ntype: {}\\nshape: {}\\nvalues: {}\".format(type(a4), a4.shape, a4))  # Prints \"[2 2]\"\n",
    "\n",
    "\n",
    "print(\"\\nnp.array([a[0,1], a[0,1]]):\")\n",
    "print(\"type with a[0,1]: {}\".format( type(a[0,1]) ) )\n",
    "print(\"type with [a[0,1], a[0,1]]: {}\".format(type([a[0,1], a[0,1]])))\n",
    "print(\"type with np.array([a[0,1], a[0,1]]): {}\".format(type(np.array([a[0,1], a[0,1]]))))\n"
   ]
  },
  {
   "cell_type": "markdown",
   "metadata": {},
   "source": [
    "#### 条件过滤法——布尔类型\n",
    "* 通过条件得到bool型的Numpy数组结果，再通过这个数组取出符合条件的值，如下："
   ]
  },
  {
   "cell_type": "code",
   "execution_count": 90,
   "metadata": {
    "ExecuteTime": {
     "end_time": "2020-02-12T03:53:03.248630Z",
     "start_time": "2020-02-12T03:53:03.237201Z"
    },
    "collapsed": true
   },
   "outputs": [
    {
     "name": "stdout",
     "output_type": "stream",
     "text": [
      "shape of a: (3, 2)\n",
      "values:\n",
      "[[1 2]\n",
      " [3 4]\n",
      " [5 6]]\n",
      "\n",
      "values by bool with bool_idx=(a>2):\n",
      "[[False False]\n",
      " [ True  True]\n",
      " [ True  True]]\n",
      "\n",
      "get the values by bool array a[bool_idx]:\n",
      "type: <class 'numpy.ndarray'>\n",
      "shape: (4,)\n",
      "values:\n",
      "[3 4 5 6]\n",
      "\n",
      "get the values by condition with a[a>2]:\n",
      "type: <class 'numpy.ndarray'>\n",
      "shape: (4,)\n",
      "values:\n",
      "[3 4 5 6]\n"
     ]
    }
   ],
   "source": [
    "a = np.array([[1,2], [3, 4], [5, 6]])\n",
    "print(\"shape of a: {}\".format(a.shape))\n",
    "print(\"values:\\n{}\".format(a))\n",
    "\n",
    "bool_idx = (a > 2)  # 判定a大于2的结果矩阵\n",
    "print(\"\\nvalues by bool with bool_idx=(a>2):\\n{}\".format(bool_idx))\n",
    "\n",
    "# 再通过bool_idx取出我们要的值\n",
    "a1=a[bool_idx]\n",
    "print(\"\\nget the values by bool array a[bool_idx]:\")\n",
    "print(\"type: {}\".format(type(a1)))\n",
    "print(\"shape: {}\".format(a1.shape))\n",
    "print(\"values:\\n{}\".format(a1))  # Prints \"[3 4 5 6]\"\n",
    "\n",
    "# 放在一起我们可以这么写\n",
    "a2=a[a>2]\n",
    "print(\"\\nget the values by condition with a[a>2]:\")\n",
    "print(\"type: {}\".format(type(a2)))\n",
    "print(\"shape: {}\".format(a2.shape))\n",
    "print(\"values:\\n{}\".format(a2))  # Prints \"[3 4 5 6]\"\n"
   ]
  },
  {
   "cell_type": "markdown",
   "metadata": {},
   "source": [
    "### 数据类型"
   ]
  },
  {
   "cell_type": "code",
   "execution_count": 96,
   "metadata": {
    "ExecuteTime": {
     "end_time": "2020-02-12T03:58:14.143533Z",
     "start_time": "2020-02-12T03:58:14.135954Z"
    },
    "collapsed": true
   },
   "outputs": [
    {
     "name": "stdout",
     "output_type": "stream",
     "text": [
      "np.array([1, 2])\n",
      "the value type with x.dtype: int64\n",
      "\n",
      "np.array([1.0, 2.0])\n",
      "the value type with x.dtype: float64\n",
      "\n",
      "np.array([1, 2], dtype=np.int64)\n",
      "the value type with x.dtype: int64\n"
     ]
    }
   ],
   "source": [
    "x = np.array([1, 2])  \n",
    "print(\"np.array([1, 2])\")\n",
    "print(\"the value type with x.dtype: {}\".format(x.dtype))         # Prints \"int64\"\n",
    "\n",
    "x = np.array([1.0, 2.0])\n",
    "print(\"\\nnp.array([1.0, 2.0])\")\n",
    "print(\"the value type with x.dtype: {}\".format(x.dtype))         # Prints \"float64\"\n",
    "\n",
    "x = np.array([1, 2], dtype=np.int64)  # 强制使用某个type\n",
    "print(\"\\nnp.array([1, 2], dtype=np.int64)\")\n",
    "print(\"the value type with x.dtype: {}\".format(x.dtype))         # Prints \"int64\""
   ]
  },
  {
   "cell_type": "markdown",
   "metadata": {},
   "source": [
    "## Numpy数组的运算\n",
    "### 基本运算\n",
    "* np.add、np.subtract、np.multiply、np.divide、np.sqrt"
   ]
  },
  {
   "cell_type": "code",
   "execution_count": 103,
   "metadata": {
    "ExecuteTime": {
     "end_time": "2020-02-12T04:06:50.951128Z",
     "start_time": "2020-02-12T04:06:50.937704Z"
    },
    "collapsed": true
   },
   "outputs": [
    {
     "name": "stdout",
     "output_type": "stream",
     "text": [
      "values in x:\n",
      "[[1. 2.]\n",
      " [3. 4.]]\n",
      "values in y:\n",
      "[[5. 6.]\n",
      " [7. 8.]]\n",
      "\n",
      "values with x+y:\n",
      "[[ 6.  8.]\n",
      " [10. 12.]]\n",
      "\n",
      "values with np.add(x,y):\n",
      "[[ 6.  8.]\n",
      " [10. 12.]]\n",
      "\n",
      "values with x-y:\n",
      "[[-4. -4.]\n",
      " [-4. -4.]]\n",
      "\n",
      "values with np.subtract(x,y):\n",
      "[[-4. -4.]\n",
      " [-4. -4.]]\n",
      "\n",
      "values with x*y:\n",
      "[[ 5. 12.]\n",
      " [21. 32.]]\n",
      "\n",
      "values with np.multiply(x,y):\n",
      "[[ 5. 12.]\n",
      " [21. 32.]]\n",
      "\n",
      "values with x/y:\n",
      "[[0.2        0.33333333]\n",
      " [0.42857143 0.5       ]]\n",
      "\n",
      "values with np.divide(x,y):\n",
      "[[0.2        0.33333333]\n",
      " [0.42857143 0.5       ]]\n",
      "\n",
      "values with np.sqrt(x):\n",
      "[[1.         1.41421356]\n",
      " [1.73205081 2.        ]]\n"
     ]
    }
   ],
   "source": [
    "x = np.array([[1,2],[3,4]], dtype=np.float64)\n",
    "y = np.array([[5,6],[7,8]], dtype=np.float64)\n",
    "print(\"values in x:\\n{}\".format(x))\n",
    "print(\"values in y:\\n{}\".format(y))\n",
    "\n",
    "print(\"\\nvalues with x+y:\\n{}\".format(x+y))\n",
    "print(\"\\nvalues with np.add(x,y):\\n{}\".format(np.add(x,y)))\n",
    "\n",
    "print(\"\\nvalues with x-y:\\n{}\".format(x-y))\n",
    "print(\"\\nvalues with np.subtract(x,y):\\n{}\".format(np.subtract(x,y)))\n",
    "\n",
    "# 元素对元素，点对点的乘积\n",
    "print(\"\\nvalues with x*y:\\n{}\".format(x*y))\n",
    "print(\"\\nvalues with np.multiply(x,y):\\n{}\".format(np.multiply(x,y)))\n",
    "\n",
    "# 元素对元素，点对点的除法\n",
    "print(\"\\nvalues with x/y:\\n{}\".format(x/y))\n",
    "print(\"\\nvalues with np.divide(x,y):\\n{}\".format(np.divide(x,y)))\n",
    "\n",
    "# 开方\n",
    "print(\"\\nvalues with np.sqrt(x):\\n{}\".format(np.sqrt(x)))"
   ]
  },
  {
   "cell_type": "markdown",
   "metadata": {},
   "source": [
    "### 内积\n",
    "* np.dot"
   ]
  },
  {
   "cell_type": "code",
   "execution_count": 106,
   "metadata": {
    "ExecuteTime": {
     "end_time": "2020-02-12T04:11:35.555392Z",
     "start_time": "2020-02-12T04:11:35.540326Z"
    },
    "collapsed": true
   },
   "outputs": [
    {
     "name": "stdout",
     "output_type": "stream",
     "text": [
      "values in x:\n",
      "[[1 2]\n",
      " [3 4]]\n",
      "values in y:\n",
      "[[5 6]\n",
      " [7 8]]\n",
      "values in v:\n",
      "[ 9 10]\n",
      "values in w:\n",
      "[11 12]\n",
      "\n",
      "values with v.dot(w):\n",
      "219\n",
      "values with np.dot(v,w):\n",
      "219\n",
      "\n",
      "values with x.dot(v):\n",
      "[29 67]\n",
      "values with np.dot(x,v):\n",
      "[29 67]\n",
      "\n",
      "values with x.dot(y):\n",
      "[[19 22]\n",
      " [43 50]]\n",
      "values with np.dot(x,y):\n",
      "[[19 22]\n",
      " [43 50]]\n"
     ]
    }
   ],
   "source": [
    "x = np.array([[1,2],[3,4]])\n",
    "y = np.array([[5,6],[7,8]])\n",
    "v = np.array([9,10])\n",
    "w = np.array([11, 12])\n",
    "print(\"values in x:\\n{}\".format(x))\n",
    "print(\"values in y:\\n{}\".format(y))\n",
    "print(\"values in v:\\n{}\".format(v))\n",
    "print(\"values in w:\\n{}\".format(w))\n",
    "\n",
    "# 向量内积，得到 219\n",
    "print(\"\\nvalues with v.dot(w):\\n{}\".format(v.dot(w)))\n",
    "print(\"values with np.dot(v,w):\\n{}\".format(np.dot(v,w)))\n",
    "\n",
    "# 矩阵乘法，得到 [29 67]\n",
    "print(\"\\nvalues with x.dot(v):\\n{}\".format(x.dot(v)))\n",
    "print(\"values with np.dot(x,v):\\n{}\".format(np.dot(x,v)))\n",
    "\n",
    "# 矩阵乘法\n",
    "# [[19 22]\n",
    "#  [43 50]]\n",
    "print(\"\\nvalues with x.dot(y):\\n{}\".format(x.dot(y)))\n",
    "print(\"values with np.dot(x,y):\\n{}\".format(np.dot(x,y)))"
   ]
  },
  {
   "cell_type": "markdown",
   "metadata": {},
   "source": [
    "### 求和\n",
    "* 特别特别有用的一个操作是，np.sum/求和(对某个维度)："
   ]
  },
  {
   "cell_type": "code",
   "execution_count": 110,
   "metadata": {
    "ExecuteTime": {
     "end_time": "2020-02-12T04:18:56.045440Z",
     "start_time": "2020-02-12T04:18:56.037784Z"
    },
    "collapsed": true
   },
   "outputs": [
    {
     "name": "stdout",
     "output_type": "stream",
     "text": [
      "values in x:\n",
      "[[1 2]\n",
      " [3 4]]\n",
      "*** ALL ***\n",
      "np.sum(x): 10\n",
      "*** COLUMNS ***\n",
      "np.sum(x, axis=0): [4 6]\n",
      "*** ROWS ***\n",
      "np.sum(x, axis=1): [3 7]\n"
     ]
    }
   ],
   "source": [
    "x = np.array([[1,2],[3,4]])\n",
    "print(\"values in x:\\n{}\".format(x))\n",
    "\n",
    "print(\"*** ALL ***\")\n",
    "print(\"np.sum(x): {}\".format(np.sum(x))) # 整个矩阵的和，得到 \"10\"\n",
    "print(\"*** COLUMNS ***\")\n",
    "print(\"np.sum(x, axis=0): {}\".format(np.sum(x, axis=0))) # 每一列的和 得到 \"[4 6]\"\n",
    "print(\"*** ROWS ***\")\n",
    "print(\"np.sum(x, axis=1): {}\".format(np.sum(x, axis=1))) # 每一行的和 得到 \"[3 7]\""
   ]
  },
  {
   "cell_type": "markdown",
   "metadata": {},
   "source": [
    "### 转置\n",
    "*  还有一个经常会用到操作是矩阵的转置，在Numpy数组里用.T实现："
   ]
  },
  {
   "cell_type": "code",
   "execution_count": 111,
   "metadata": {
    "ExecuteTime": {
     "end_time": "2020-02-12T04:21:22.713254Z",
     "start_time": "2020-02-12T04:21:22.706993Z"
    },
    "collapsed": true
   },
   "outputs": [
    {
     "name": "stdout",
     "output_type": "stream",
     "text": [
      "values in x:\n",
      "[[1 2]\n",
      " [3 4]]\n",
      "values with x.T:\n",
      "[[1 3]\n",
      " [2 4]]\n",
      "\n",
      "values in v:\n",
      "[1 2 3]\n",
      "values with v.T:\n",
      "[1 2 3]\n"
     ]
    }
   ],
   "source": [
    "x = np.array([[1,2], [3,4]])\n",
    "print(\"values in x:\\n{}\".format(x))\n",
    "print(\"values with x.T:\\n{}\".format(x.T))\n",
    "\n",
    "# 1*n的Numpy数组，用.T之后其实啥也没做:\n",
    "v = np.array([1,2,3])\n",
    "print(\"\\nvalues in v:\\n{}\".format(v))\n",
    "print(\"values with v.T:\\n{}\".format(v.T))"
   ]
  },
  {
   "cell_type": "markdown",
   "metadata": {},
   "source": [
    "##  Broadcasting\n",
    "Numpy还有一个非常牛逼的机制，你想想，如果你现在有一大一小俩矩阵，你想使用小矩阵在大矩阵上做多次操作。额，举个例子好了，假如你想将一个1*n的矩阵，加到m*n的矩阵的每一行上："
   ]
  },
  {
   "cell_type": "markdown",
   "metadata": {},
   "source": [
    "* 使用for循环"
   ]
  },
  {
   "cell_type": "code",
   "execution_count": 127,
   "metadata": {
    "ExecuteTime": {
     "end_time": "2020-02-12T04:33:26.163540Z",
     "start_time": "2020-02-12T04:33:26.155836Z"
    },
    "collapsed": true
   },
   "outputs": [
    {
     "name": "stdout",
     "output_type": "stream",
     "text": [
      "values in x:\n",
      "[[ 1  2  3]\n",
      " [ 4  5  6]\n",
      " [ 7  8  9]\n",
      " [10 11 12]]\n",
      "values in v:\n",
      "[1 0 1]\n",
      "\n",
      "values in y:\n",
      "[[ 1  2  3]\n",
      " [ 4  5  6]\n",
      " [ 7  8  9]\n",
      " [10 11 12]]\n",
      "values with x+v by for in each row:\n",
      "[[ 2  2  4]\n",
      " [ 5  5  7]\n",
      " [ 8  8 10]\n",
      " [11 11 13]]\n"
     ]
    }
   ],
   "source": [
    "x = np.array([[1,2,3], [4,5,6], [7,8,9], [10, 11, 12]])\n",
    "v = np.array([1, 0, 1])\n",
    "print(\"values in x:\\n{}\".format(x))\n",
    "print(\"values in v:\\n{}\".format(v))\n",
    "\n",
    "# 逐行相加\n",
    "#for循环(下面用y的原因是，你不想改变原来的x)\n",
    "#如果for的次数非常多，会很慢\n",
    "y = np.empty_like(x)   # 设置一个和x一样维度的Numpy数组y\n",
    "print(\"\\nvalues in y:\\n{}\".format(y))\n",
    "for i in range(4):\n",
    "    y[i, :] = x[i, :] + v\n",
    "print(\"values with x+v by for in each row:\\n{}\".format(y))"
   ]
  },
  {
   "cell_type": "markdown",
   "metadata": {},
   "source": [
    "* 变形"
   ]
  },
  {
   "cell_type": "code",
   "execution_count": 128,
   "metadata": {
    "ExecuteTime": {
     "end_time": "2020-02-12T04:33:56.728362Z",
     "start_time": "2020-02-12T04:33:56.721433Z"
    },
    "collapsed": true
   },
   "outputs": [
    {
     "name": "stdout",
     "output_type": "stream",
     "text": [
      "values in x:\n",
      "[[ 1  2  3]\n",
      " [ 4  5  6]\n",
      " [ 7  8  9]\n",
      " [10 11 12]]\n",
      "values in v:\n",
      "[1 0 1]\n",
      "\n",
      "values in v with np.tile(v, (4,1)):\n",
      "[[1 0 1]\n",
      " [1 0 1]\n",
      " [1 0 1]\n",
      " [1 0 1]]\n",
      "values with x+v:\n",
      "[[ 2  2  4]\n",
      " [ 5  5  7]\n",
      " [ 8  8 10]\n",
      " [11 11 13]]\n"
     ]
    }
   ],
   "source": [
    "x = np.array([[1,2,3], [4,5,6], [7,8,9], [10, 11, 12]])\n",
    "v = np.array([1, 0, 1])\n",
    "print(\"values in x:\\n{}\".format(x))\n",
    "print(\"values in v:\\n{}\".format(v))\n",
    "\n",
    "# 变形，重复然后叠起来\n",
    "vv=np.tile(v, (4,1))\n",
    "print(\"\\nvalues in v with np.tile(v, (4,1)):\\n{}\".format(vv))\n",
    "y=x+vv\n",
    "print(\"values with x+v:\\n{}\".format(y))"
   ]
  },
  {
   "cell_type": "markdown",
   "metadata": {},
   "source": [
    "* Broadcasting"
   ]
  },
  {
   "cell_type": "code",
   "execution_count": 130,
   "metadata": {
    "ExecuteTime": {
     "end_time": "2020-02-12T04:36:01.420697Z",
     "start_time": "2020-02-12T04:36:01.414616Z"
    },
    "collapsed": true
   },
   "outputs": [
    {
     "name": "stdout",
     "output_type": "stream",
     "text": [
      "values in x:\n",
      "[[ 1  2  3]\n",
      " [ 4  5  6]\n",
      " [ 7  8  9]\n",
      " [10 11 12]]\n",
      "values in v:\n",
      "[1 0 1]\n",
      "\n",
      "values with x+v:\n",
      "[[ 2  2  4]\n",
      " [ 5  5  7]\n",
      " [ 8  8 10]\n",
      " [11 11 13]]\n"
     ]
    }
   ],
   "source": [
    "#其实因为Numpy的Broadcasting，你可以直接酱紫操作\n",
    "x = np.array([[1,2,3], [4,5,6], [7,8,9], [10, 11, 12]])\n",
    "v = np.array([1, 0, 1])\n",
    "print(\"values in x:\\n{}\".format(x))\n",
    "print(\"values in v:\\n{}\".format(v))\n",
    "\n",
    "y=x+v\n",
    "print(\"\\nvalues with x+v:\\n{}\".format(y))"
   ]
  },
  {
   "cell_type": "code",
   "execution_count": 139,
   "metadata": {
    "ExecuteTime": {
     "end_time": "2020-02-12T04:40:13.283099Z",
     "start_time": "2020-02-12T04:40:13.276643Z"
    },
    "collapsed": true
   },
   "outputs": [
    {
     "name": "stdout",
     "output_type": "stream",
     "text": [
      "shape: (3,), values in v:\n",
      "[1 2 3]\n",
      "shape: (2,), values in w:\n",
      "[4 5]\n",
      "\n",
      "reshape v with np.reshape(v, (3, 1)):\n",
      "[[1]\n",
      " [2]\n",
      " [3]]\n",
      "np.reshape(v, (3,1)) * w:\n",
      "[[ 4  5]\n",
      " [ 8 10]\n",
      " [12 15]]\n"
     ]
    }
   ],
   "source": [
    "#更多Broadcasting的例子请看下面：\n",
    "v = np.array([1,2,3])  # v has shape (3,)\n",
    "w = np.array([4,5])    # w has shape (2,)\n",
    "print(\"shape: {}, values in v:\\n{}\".format(v.shape, v))\n",
    "print(\"shape: {}, values in w:\\n{}\".format(w.shape, w))\n",
    "\n",
    "# 首先把v变成一个列向量\n",
    "# v现在的形状是(3, 1);\n",
    "# 作用在w上得到的结果形状是(3, 2)，如下\n",
    "# [[ 4  5]\n",
    "#  [ 8 10]\n",
    "#  [12 15]]\n",
    "print(\"\\nreshape v with np.reshape(v, (3, 1)):\")\n",
    "print(np.reshape(v, (3, 1)))\n",
    "\n",
    "print(\"np.reshape(v, (3,1)) * w:\")\n",
    "print(np.reshape(v, (3, 1)) * w)"
   ]
  },
  {
   "cell_type": "code",
   "execution_count": 4,
   "metadata": {
    "ExecuteTime": {
     "end_time": "2020-02-12T09:55:28.362236Z",
     "start_time": "2020-02-12T09:55:28.352807Z"
    }
   },
   "outputs": [
    {
     "name": "stdout",
     "output_type": "stream",
     "text": [
      "shape: (2, 3), values in x:\n",
      "[[1 2 3]\n",
      " [4 5 6]]\n",
      "shape: (3,), values in v:\n",
      "[1 2 3]\n",
      "shape: (2,), values in w:\n",
      "[4 5]\n",
      "\n",
      "values with x+v:\n",
      "[[2 4 6]\n",
      " [5 7 9]]\n",
      "\n",
      "values with (x.T + w).T:\n",
      "[[ 5  6  7]\n",
      " [ 9 10 11]]\n",
      "\n",
      "values with x + np.reshape(w, (2, 1)):\n",
      "[[ 5  6  7]\n",
      " [ 9 10 11]]\n"
     ]
    }
   ],
   "source": [
    "import numpy as np\n",
    "x = np.array([[1,2,3], [4,5,6]])\n",
    "v = np.array([1,2,3])  # v has shape (3,)\n",
    "w = np.array([4,5])    # w has shape (2,)\n",
    "print(\"shape: {}, values in x:\\n{}\".format(x.shape, x))\n",
    "print(\"shape: {}, values in v:\\n{}\".format(v.shape, v))\n",
    "print(\"shape: {}, values in w:\\n{}\".format(w.shape, w))\n",
    "# 逐行相加，得到如下结果:\n",
    "# [[2 4 6]\n",
    "#  [5 7 9]]\n",
    "print(\"\\nvalues with x+v:\\n{}\".format(x+v))\n",
    "\n",
    "# 先逐行相加再转置，得到以下结果:\n",
    "# [[ 5  6  7]\n",
    "#  [ 9 10 11]]\n",
    "print(\"\\nvalues with (x.T + w).T:\\n{}\".format((x.T + w).T))\n",
    "print(\"\\nvalues with x + np.reshape(w, (2, 1)):\\n{}\".format(x + np.reshape(w, (2, 1))))"
   ]
  },
  {
   "cell_type": "code",
   "execution_count": null,
   "metadata": {},
   "outputs": [],
   "source": []
  }
 ],
 "metadata": {
  "kernelspec": {
   "display_name": "Python 3",
   "language": "python",
   "name": "python3"
  },
  "language_info": {
   "codemirror_mode": {
    "name": "ipython",
    "version": 3
   },
   "file_extension": ".py",
   "mimetype": "text/x-python",
   "name": "python",
   "nbconvert_exporter": "python",
   "pygments_lexer": "ipython3",
   "version": "3.7.4"
  },
  "toc": {
   "base_numbering": 1,
   "nav_menu": {},
   "number_sections": true,
   "sideBar": true,
   "skip_h1_title": false,
   "title_cell": "Table of Contents",
   "title_sidebar": "Contents",
   "toc_cell": false,
   "toc_position": {},
   "toc_section_display": true,
   "toc_window_display": false
  }
 },
 "nbformat": 4,
 "nbformat_minor": 1
}
